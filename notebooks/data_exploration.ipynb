{
 "cells": [
  {
   "cell_type": "code",
   "execution_count": 1,
   "metadata": {},
   "outputs": [
    {
     "name": "stderr",
     "output_type": "stream",
     "text": [
      "2024-11-28 12:06:51.398 WARNING streamlit.runtime.scriptrunner_utils.script_run_context: Thread 'MainThread': missing ScriptRunContext! This warning can be ignored when running in bare mode.\n"
     ]
    }
   ],
   "source": [
    "import os\n",
    "import pandas as pd\n",
    "import numpy as np \n",
    "from scipy.stats import zscore\n",
    "import plotly.express as px\n",
    "import plotly.graph_objects as go\n",
    "import streamlit as st\n",
    "import plotly.io as pio\n",
    "import folium\n",
    "from folium.plugins import FastMarkerCluster\n",
    "from folium.plugins import MarkerCluster\n",
    "import inflection\n",
    "from streamlit_folium import folium_static, st_folium\n",
    "from haversine import haversine, Unit\n",
    "from datetime import datetime\n",
    "from PIL import Image\n",
    "import currencyapicom"
   ]
  },
  {
   "cell_type": "code",
   "execution_count": 2,
   "metadata": {},
   "outputs": [],
   "source": [
    "# Reset plotly theme after import streamlit (streamlit import is causing the charts to go b&w)\n",
    "pio.templates.default = 'plotly'"
   ]
  },
  {
   "cell_type": "code",
   "execution_count": 3,
   "metadata": {},
   "outputs": [],
   "source": [
    "# Import dataset\n",
    "dataframe = pd.read_csv('..\\dataset\\zomato.csv')"
   ]
  },
  {
   "cell_type": "code",
   "execution_count": 29,
   "metadata": {},
   "outputs": [],
   "source": [
    "pd.set_option('display.max_columns', None)"
   ]
  },
  {
   "cell_type": "code",
   "execution_count": 95,
   "metadata": {},
   "outputs": [],
   "source": [
    "client = currencyapicom.Client('cur_live_P53YtMICIpcE3WTeG82IwC6QOdZlNuGuSwAz0ioW')\n",
    "result = client.latest('USD',currencies=['BWP','BRL','AED','INR','IDR','NZD','GBP','QAR','ZAR','LKR','TRY','USD'])"
   ]
  },
  {
   "cell_type": "code",
   "execution_count": null,
   "metadata": {},
   "outputs": [],
   "source": [
    "exchange = result['data']"
   ]
  },
  {
   "cell_type": "markdown",
   "metadata": {},
   "source": [
    "# Limpeza de dados"
   ]
  },
  {
   "cell_type": "code",
   "execution_count": 5,
   "metadata": {},
   "outputs": [],
   "source": [
    "# Rename columns\n",
    "\n",
    "def rename_columns(dataframe):\n",
    "    df = dataframe.copy()\n",
    "    title = lambda x: inflection.titleize(x)\n",
    "    snakecase = lambda x: inflection.underscore(x)\n",
    "    spaces = lambda x: x.replace(' ', '')\n",
    "    cols_old = list(df.columns)\n",
    "    cols_old = list(map(title, cols_old))\n",
    "    cols_old = list(map(spaces, cols_old))\n",
    "    cols_new = list(map(snakecase, cols_old))\n",
    "    df.columns = cols_new\n",
    "\n",
    "    return df\n"
   ]
  },
  {
   "cell_type": "code",
   "execution_count": 6,
   "metadata": {},
   "outputs": [],
   "source": [
    "# Country code to country name dict \n",
    "\n",
    "COUNTRIES = {\n",
    "1: \"India\",\n",
    "14: \"Australia\",\n",
    "30: \"Brazil\",\n",
    "37: \"Canada\",\n",
    "94: \"Indonesia\",\n",
    "148: \"New Zeland\",\n",
    "162: \"Philippines\",\n",
    "166: \"Qatar\",\n",
    "184: \"Singapure\",\n",
    "189: \"South Africa\",\n",
    "191: \"Sri Lanka\",\n",
    "208: \"Turkey\",\n",
    "214: \"United Arab Emirates\",\n",
    "215: \"England\",\n",
    "216: \"United States of America\",\n",
    "}\n",
    "def country_name(country_id):\n",
    "    return COUNTRIES[country_id]"
   ]
  },
  {
   "cell_type": "code",
   "execution_count": 7,
   "metadata": {},
   "outputs": [],
   "source": [
    "# Color code to color name dict\n",
    "\n",
    "COLORS = {\n",
    "\"3F7E00\": \"darkgreen\",\n",
    "\"5BA829\": \"green\",\n",
    "\"9ACD32\": \"lightgreen\",\n",
    "\"CDD614\": \"orange\",\n",
    "\"FFBA00\": \"red\",\n",
    "\"CBCBC8\": \"darkred\",\n",
    "\"FF7800\": \"darkred\",\n",
    "}\n",
    "def color_name(color_code):\n",
    "    return COLORS[color_code]\n"
   ]
  },
  {
   "cell_type": "code",
   "execution_count": 8,
   "metadata": {},
   "outputs": [],
   "source": [
    "# Creating price tags\n",
    "\n",
    "def categorize_prices(price_range):\n",
    "    if price_range == 1:\n",
    "        return \"cheap\"\n",
    "    elif price_range == 2:\n",
    "        return \"normal\"\n",
    "    elif price_range == 3:\n",
    "        return \"expensive\"\n",
    "    else:\n",
    "        return \"gourmet\""
   ]
  },
  {
   "cell_type": "code",
   "execution_count": 9,
   "metadata": {},
   "outputs": [],
   "source": [
    "# Creating option tags\n",
    "\n",
    "def categorize_options(column_name):\n",
    "    if column_name == 1:\n",
    "        return 'Yes'\n",
    "    else:\n",
    "        return 'No'"
   ]
  },
  {
   "cell_type": "code",
   "execution_count": 10,
   "metadata": {},
   "outputs": [],
   "source": [
    "df = rename_columns(dataframe)"
   ]
  },
  {
   "cell_type": "code",
   "execution_count": 11,
   "metadata": {},
   "outputs": [],
   "source": [
    "# Applying the functions defined early\n",
    "\n",
    "df['country_code'] = df['country_code'].apply(lambda x: country_name(x))\n",
    "df['rating_color'] = df['rating_color'].apply(lambda x: color_name(x))\n",
    "df['price_range'] = df['price_range'].apply(lambda x: categorize_prices(x))\n",
    "df['has_table_booking'] = df['has_table_booking'].apply(lambda x: categorize_options(x))\n",
    "df['has_online_delivery'] = df['has_online_delivery'].apply(lambda x: categorize_options(x))\n",
    "df['is_delivering_now'] = df['is_delivering_now'].apply(lambda x: categorize_options(x))\n",
    "\n"
   ]
  },
  {
   "cell_type": "code",
   "execution_count": 12,
   "metadata": {},
   "outputs": [],
   "source": [
    "df.rename(columns={'country_code': 'country'}, inplace=True)"
   ]
  },
  {
   "cell_type": "code",
   "execution_count": 13,
   "metadata": {},
   "outputs": [],
   "source": [
    "# Drop switch_to_order_menu column for have 0 value in all lines\n",
    "\n",
    "df = df.drop('switch_to_order_menu', axis=1)"
   ]
  },
  {
   "cell_type": "code",
   "execution_count": 14,
   "metadata": {},
   "outputs": [],
   "source": [
    "# Fill NaN values in cuisines column (affected: 15 lines)\n",
    "\n",
    "df['cuisines'] = df['cuisines'].fillna('Not informed')"
   ]
  },
  {
   "cell_type": "code",
   "execution_count": 15,
   "metadata": {},
   "outputs": [],
   "source": [
    "# Choosing only the first cuisine for multiple cuisine restaurants, CEO request\n",
    " \n",
    "df['cuisines'] = df['cuisines'].apply(lambda x: x.split(\",\")[0])"
   ]
  },
  {
   "cell_type": "code",
   "execution_count": 16,
   "metadata": {},
   "outputs": [
    {
     "data": {
      "text/html": [
       "<div>\n",
       "<style scoped>\n",
       "    .dataframe tbody tr th:only-of-type {\n",
       "        vertical-align: middle;\n",
       "    }\n",
       "\n",
       "    .dataframe tbody tr th {\n",
       "        vertical-align: top;\n",
       "    }\n",
       "\n",
       "    .dataframe thead th {\n",
       "        text-align: right;\n",
       "    }\n",
       "</style>\n",
       "<table border=\"1\" class=\"dataframe\">\n",
       "  <thead>\n",
       "    <tr style=\"text-align: right;\">\n",
       "      <th></th>\n",
       "      <th>restaurant_id</th>\n",
       "      <th>restaurant_name</th>\n",
       "      <th>country</th>\n",
       "      <th>city</th>\n",
       "      <th>address</th>\n",
       "      <th>locality</th>\n",
       "      <th>locality_verbose</th>\n",
       "      <th>longitude</th>\n",
       "      <th>latitude</th>\n",
       "      <th>cuisines</th>\n",
       "      <th>average_cost_for_two</th>\n",
       "      <th>currency</th>\n",
       "      <th>has_table_booking</th>\n",
       "      <th>has_online_delivery</th>\n",
       "      <th>is_delivering_now</th>\n",
       "      <th>price_range</th>\n",
       "      <th>aggregate_rating</th>\n",
       "      <th>rating_color</th>\n",
       "      <th>rating_text</th>\n",
       "      <th>votes</th>\n",
       "    </tr>\n",
       "  </thead>\n",
       "  <tbody>\n",
       "    <tr>\n",
       "      <th>0</th>\n",
       "      <td>6310675</td>\n",
       "      <td>Mama Lou's Italian Kitchen</td>\n",
       "      <td>Philippines</td>\n",
       "      <td>Las Piñas City</td>\n",
       "      <td>Block 1, Lot 36, Tropical Avenue Corner Tropic...</td>\n",
       "      <td>BF International</td>\n",
       "      <td>BF International, Las Piñas City</td>\n",
       "      <td>121.009787</td>\n",
       "      <td>14.447615</td>\n",
       "      <td>Italian</td>\n",
       "      <td>1100</td>\n",
       "      <td>Botswana Pula(P)</td>\n",
       "      <td>Yes</td>\n",
       "      <td>No</td>\n",
       "      <td>No</td>\n",
       "      <td>expensive</td>\n",
       "      <td>4.6</td>\n",
       "      <td>darkgreen</td>\n",
       "      <td>Excellent</td>\n",
       "      <td>619</td>\n",
       "    </tr>\n",
       "    <tr>\n",
       "      <th>1</th>\n",
       "      <td>6310675</td>\n",
       "      <td>Mama Lou's Italian Kitchen</td>\n",
       "      <td>Philippines</td>\n",
       "      <td>Las Piñas City</td>\n",
       "      <td>Block 1, Lot 36, Tropical Avenue Corner Tropic...</td>\n",
       "      <td>BF International</td>\n",
       "      <td>BF International, Las Piñas City</td>\n",
       "      <td>121.009787</td>\n",
       "      <td>14.447615</td>\n",
       "      <td>Italian</td>\n",
       "      <td>1100</td>\n",
       "      <td>Botswana Pula(P)</td>\n",
       "      <td>Yes</td>\n",
       "      <td>No</td>\n",
       "      <td>No</td>\n",
       "      <td>expensive</td>\n",
       "      <td>4.6</td>\n",
       "      <td>darkgreen</td>\n",
       "      <td>Excellent</td>\n",
       "      <td>619</td>\n",
       "    </tr>\n",
       "    <tr>\n",
       "      <th>35</th>\n",
       "      <td>18442143</td>\n",
       "      <td>Mama Lou's Italian Kitchen</td>\n",
       "      <td>Philippines</td>\n",
       "      <td>Pasig City</td>\n",
       "      <td>Second Floor, Ayala Malls The 30th, Meralco Av...</td>\n",
       "      <td>Ayala Malls The 30th, Ugong, Pasig City</td>\n",
       "      <td>Ayala Malls The 30th, Ugong, Pasig City, Pasig...</td>\n",
       "      <td>121.064292</td>\n",
       "      <td>14.580981</td>\n",
       "      <td>Italian</td>\n",
       "      <td>1100</td>\n",
       "      <td>Botswana Pula(P)</td>\n",
       "      <td>Yes</td>\n",
       "      <td>No</td>\n",
       "      <td>No</td>\n",
       "      <td>expensive</td>\n",
       "      <td>4.5</td>\n",
       "      <td>darkgreen</td>\n",
       "      <td>Excellent</td>\n",
       "      <td>287</td>\n",
       "    </tr>\n",
       "    <tr>\n",
       "      <th>36</th>\n",
       "      <td>18442143</td>\n",
       "      <td>Mama Lou's Italian Kitchen</td>\n",
       "      <td>Philippines</td>\n",
       "      <td>Pasig City</td>\n",
       "      <td>Second Floor, Ayala Malls The 30th, Meralco Av...</td>\n",
       "      <td>Ayala Malls The 30th, Ugong, Pasig City</td>\n",
       "      <td>Ayala Malls The 30th, Ugong, Pasig City, Pasig...</td>\n",
       "      <td>121.064292</td>\n",
       "      <td>14.580981</td>\n",
       "      <td>Italian</td>\n",
       "      <td>1100</td>\n",
       "      <td>Botswana Pula(P)</td>\n",
       "      <td>Yes</td>\n",
       "      <td>No</td>\n",
       "      <td>No</td>\n",
       "      <td>expensive</td>\n",
       "      <td>4.5</td>\n",
       "      <td>darkgreen</td>\n",
       "      <td>Excellent</td>\n",
       "      <td>287</td>\n",
       "    </tr>\n",
       "    <tr>\n",
       "      <th>38</th>\n",
       "      <td>6309635</td>\n",
       "      <td>Frankie's New York Buffalo Wings</td>\n",
       "      <td>Philippines</td>\n",
       "      <td>Pasig City</td>\n",
       "      <td>Ground Floor, City Golf Plaza, Julia Vargas Av...</td>\n",
       "      <td>City Golf Plaza, Ugong, Pasig City</td>\n",
       "      <td>City Golf Plaza, Ugong, Pasig City, Pasig City</td>\n",
       "      <td>121.067810</td>\n",
       "      <td>14.584646</td>\n",
       "      <td>American</td>\n",
       "      <td>850</td>\n",
       "      <td>Botswana Pula(P)</td>\n",
       "      <td>No</td>\n",
       "      <td>No</td>\n",
       "      <td>No</td>\n",
       "      <td>expensive</td>\n",
       "      <td>4.5</td>\n",
       "      <td>darkgreen</td>\n",
       "      <td>Excelente</td>\n",
       "      <td>606</td>\n",
       "    </tr>\n",
       "    <tr>\n",
       "      <th>...</th>\n",
       "      <td>...</td>\n",
       "      <td>...</td>\n",
       "      <td>...</td>\n",
       "      <td>...</td>\n",
       "      <td>...</td>\n",
       "      <td>...</td>\n",
       "      <td>...</td>\n",
       "      <td>...</td>\n",
       "      <td>...</td>\n",
       "      <td>...</td>\n",
       "      <td>...</td>\n",
       "      <td>...</td>\n",
       "      <td>...</td>\n",
       "      <td>...</td>\n",
       "      <td>...</td>\n",
       "      <td>...</td>\n",
       "      <td>...</td>\n",
       "      <td>...</td>\n",
       "      <td>...</td>\n",
       "      <td>...</td>\n",
       "    </tr>\n",
       "    <tr>\n",
       "      <th>7495</th>\n",
       "      <td>5927402</td>\n",
       "      <td>Walter's Coffee Roastery</td>\n",
       "      <td>Turkey</td>\n",
       "      <td>İstanbul</td>\n",
       "      <td>Cafeağa Mahallesi, Bademaltı Sokak, No 21/B, K...</td>\n",
       "      <td>Moda</td>\n",
       "      <td>Moda, İstanbul</td>\n",
       "      <td>29.026046</td>\n",
       "      <td>40.984729</td>\n",
       "      <td>Cafe</td>\n",
       "      <td>60</td>\n",
       "      <td>Turkish Lira(TL)</td>\n",
       "      <td>No</td>\n",
       "      <td>No</td>\n",
       "      <td>No</td>\n",
       "      <td>expensive</td>\n",
       "      <td>4.2</td>\n",
       "      <td>green</td>\n",
       "      <td>Very Good</td>\n",
       "      <td>967</td>\n",
       "    </tr>\n",
       "    <tr>\n",
       "      <th>7496</th>\n",
       "      <td>18232014</td>\n",
       "      <td>Paul's Homemade Pasta &amp; Lasagna</td>\n",
       "      <td>Turkey</td>\n",
       "      <td>İstanbul</td>\n",
       "      <td>Caferağa Mahallesi, Dr. Esat Işık Caddesi, No ...</td>\n",
       "      <td>Moda</td>\n",
       "      <td>Moda, İstanbul</td>\n",
       "      <td>29.028463</td>\n",
       "      <td>40.983702</td>\n",
       "      <td>Italian</td>\n",
       "      <td>90</td>\n",
       "      <td>Turkish Lira(TL)</td>\n",
       "      <td>Yes</td>\n",
       "      <td>No</td>\n",
       "      <td>No</td>\n",
       "      <td>expensive</td>\n",
       "      <td>4.4</td>\n",
       "      <td>green</td>\n",
       "      <td>Çok iyi</td>\n",
       "      <td>706</td>\n",
       "    </tr>\n",
       "    <tr>\n",
       "      <th>7497</th>\n",
       "      <td>18232014</td>\n",
       "      <td>Paul's Homemade Pasta &amp; Lasagna</td>\n",
       "      <td>Turkey</td>\n",
       "      <td>İstanbul</td>\n",
       "      <td>Caferağa Mahallesi, Dr. Esat Işık Caddesi, No ...</td>\n",
       "      <td>Moda</td>\n",
       "      <td>Moda, İstanbul</td>\n",
       "      <td>29.028463</td>\n",
       "      <td>40.983702</td>\n",
       "      <td>Italian</td>\n",
       "      <td>90</td>\n",
       "      <td>Turkish Lira(TL)</td>\n",
       "      <td>Yes</td>\n",
       "      <td>No</td>\n",
       "      <td>No</td>\n",
       "      <td>expensive</td>\n",
       "      <td>4.4</td>\n",
       "      <td>green</td>\n",
       "      <td>Çok iyi</td>\n",
       "      <td>706</td>\n",
       "    </tr>\n",
       "    <tr>\n",
       "      <th>7517</th>\n",
       "      <td>18384475</td>\n",
       "      <td>Happy Moon's</td>\n",
       "      <td>Turkey</td>\n",
       "      <td>İstanbul</td>\n",
       "      <td>Watergarden Yaşam Merkezi, Barbaros Mahallesi,...</td>\n",
       "      <td>Watergarden, Batı Ataşehir, Ataşehir</td>\n",
       "      <td>Watergarden, Batı Ataşehir, Ataşehir, İstanbul</td>\n",
       "      <td>29.099755</td>\n",
       "      <td>40.998032</td>\n",
       "      <td>World Cuisine</td>\n",
       "      <td>200</td>\n",
       "      <td>Turkish Lira(TL)</td>\n",
       "      <td>No</td>\n",
       "      <td>No</td>\n",
       "      <td>No</td>\n",
       "      <td>gourmet</td>\n",
       "      <td>4.4</td>\n",
       "      <td>green</td>\n",
       "      <td>Very Good</td>\n",
       "      <td>503</td>\n",
       "    </tr>\n",
       "    <tr>\n",
       "      <th>7518</th>\n",
       "      <td>18384475</td>\n",
       "      <td>Happy Moon's</td>\n",
       "      <td>Turkey</td>\n",
       "      <td>İstanbul</td>\n",
       "      <td>Watergarden Yaşam Merkezi, Barbaros Mahallesi,...</td>\n",
       "      <td>Watergarden, Batı Ataşehir, Ataşehir</td>\n",
       "      <td>Watergarden, Batı Ataşehir, Ataşehir, İstanbul</td>\n",
       "      <td>29.099755</td>\n",
       "      <td>40.998032</td>\n",
       "      <td>World Cuisine</td>\n",
       "      <td>200</td>\n",
       "      <td>Turkish Lira(TL)</td>\n",
       "      <td>No</td>\n",
       "      <td>No</td>\n",
       "      <td>No</td>\n",
       "      <td>gourmet</td>\n",
       "      <td>4.4</td>\n",
       "      <td>green</td>\n",
       "      <td>Very Good</td>\n",
       "      <td>503</td>\n",
       "    </tr>\n",
       "  </tbody>\n",
       "</table>\n",
       "<p>1168 rows × 20 columns</p>\n",
       "</div>"
      ],
      "text/plain": [
       "      restaurant_id                   restaurant_name      country  \\\n",
       "0           6310675        Mama Lou's Italian Kitchen  Philippines   \n",
       "1           6310675        Mama Lou's Italian Kitchen  Philippines   \n",
       "35         18442143        Mama Lou's Italian Kitchen  Philippines   \n",
       "36         18442143        Mama Lou's Italian Kitchen  Philippines   \n",
       "38          6309635  Frankie's New York Buffalo Wings  Philippines   \n",
       "...             ...                               ...          ...   \n",
       "7495        5927402          Walter's Coffee Roastery       Turkey   \n",
       "7496       18232014   Paul's Homemade Pasta & Lasagna       Turkey   \n",
       "7497       18232014   Paul's Homemade Pasta & Lasagna       Turkey   \n",
       "7517       18384475                      Happy Moon's       Turkey   \n",
       "7518       18384475                      Happy Moon's       Turkey   \n",
       "\n",
       "                city                                            address  \\\n",
       "0     Las Piñas City  Block 1, Lot 36, Tropical Avenue Corner Tropic...   \n",
       "1     Las Piñas City  Block 1, Lot 36, Tropical Avenue Corner Tropic...   \n",
       "35        Pasig City  Second Floor, Ayala Malls The 30th, Meralco Av...   \n",
       "36        Pasig City  Second Floor, Ayala Malls The 30th, Meralco Av...   \n",
       "38        Pasig City  Ground Floor, City Golf Plaza, Julia Vargas Av...   \n",
       "...              ...                                                ...   \n",
       "7495        İstanbul  Cafeağa Mahallesi, Bademaltı Sokak, No 21/B, K...   \n",
       "7496        İstanbul  Caferağa Mahallesi, Dr. Esat Işık Caddesi, No ...   \n",
       "7497        İstanbul  Caferağa Mahallesi, Dr. Esat Işık Caddesi, No ...   \n",
       "7517        İstanbul  Watergarden Yaşam Merkezi, Barbaros Mahallesi,...   \n",
       "7518        İstanbul  Watergarden Yaşam Merkezi, Barbaros Mahallesi,...   \n",
       "\n",
       "                                     locality  \\\n",
       "0                            BF International   \n",
       "1                            BF International   \n",
       "35    Ayala Malls The 30th, Ugong, Pasig City   \n",
       "36    Ayala Malls The 30th, Ugong, Pasig City   \n",
       "38         City Golf Plaza, Ugong, Pasig City   \n",
       "...                                       ...   \n",
       "7495                                     Moda   \n",
       "7496                                     Moda   \n",
       "7497                                     Moda   \n",
       "7517     Watergarden, Batı Ataşehir, Ataşehir   \n",
       "7518     Watergarden, Batı Ataşehir, Ataşehir   \n",
       "\n",
       "                                       locality_verbose   longitude  \\\n",
       "0                      BF International, Las Piñas City  121.009787   \n",
       "1                      BF International, Las Piñas City  121.009787   \n",
       "35    Ayala Malls The 30th, Ugong, Pasig City, Pasig...  121.064292   \n",
       "36    Ayala Malls The 30th, Ugong, Pasig City, Pasig...  121.064292   \n",
       "38       City Golf Plaza, Ugong, Pasig City, Pasig City  121.067810   \n",
       "...                                                 ...         ...   \n",
       "7495                                     Moda, İstanbul   29.026046   \n",
       "7496                                     Moda, İstanbul   29.028463   \n",
       "7497                                     Moda, İstanbul   29.028463   \n",
       "7517     Watergarden, Batı Ataşehir, Ataşehir, İstanbul   29.099755   \n",
       "7518     Watergarden, Batı Ataşehir, Ataşehir, İstanbul   29.099755   \n",
       "\n",
       "       latitude       cuisines  average_cost_for_two          currency  \\\n",
       "0     14.447615        Italian                  1100  Botswana Pula(P)   \n",
       "1     14.447615        Italian                  1100  Botswana Pula(P)   \n",
       "35    14.580981        Italian                  1100  Botswana Pula(P)   \n",
       "36    14.580981        Italian                  1100  Botswana Pula(P)   \n",
       "38    14.584646       American                   850  Botswana Pula(P)   \n",
       "...         ...            ...                   ...               ...   \n",
       "7495  40.984729           Cafe                    60  Turkish Lira(TL)   \n",
       "7496  40.983702        Italian                    90  Turkish Lira(TL)   \n",
       "7497  40.983702        Italian                    90  Turkish Lira(TL)   \n",
       "7517  40.998032  World Cuisine                   200  Turkish Lira(TL)   \n",
       "7518  40.998032  World Cuisine                   200  Turkish Lira(TL)   \n",
       "\n",
       "     has_table_booking has_online_delivery is_delivering_now price_range  \\\n",
       "0                  Yes                  No                No   expensive   \n",
       "1                  Yes                  No                No   expensive   \n",
       "35                 Yes                  No                No   expensive   \n",
       "36                 Yes                  No                No   expensive   \n",
       "38                  No                  No                No   expensive   \n",
       "...                ...                 ...               ...         ...   \n",
       "7495                No                  No                No   expensive   \n",
       "7496               Yes                  No                No   expensive   \n",
       "7497               Yes                  No                No   expensive   \n",
       "7517                No                  No                No     gourmet   \n",
       "7518                No                  No                No     gourmet   \n",
       "\n",
       "      aggregate_rating rating_color rating_text  votes  \n",
       "0                  4.6    darkgreen   Excellent    619  \n",
       "1                  4.6    darkgreen   Excellent    619  \n",
       "35                 4.5    darkgreen   Excellent    287  \n",
       "36                 4.5    darkgreen   Excellent    287  \n",
       "38                 4.5    darkgreen   Excelente    606  \n",
       "...                ...          ...         ...    ...  \n",
       "7495               4.2        green   Very Good    967  \n",
       "7496               4.4        green     Çok iyi    706  \n",
       "7497               4.4        green     Çok iyi    706  \n",
       "7517               4.4        green   Very Good    503  \n",
       "7518               4.4        green   Very Good    503  \n",
       "\n",
       "[1168 rows x 20 columns]"
      ]
     },
     "execution_count": 16,
     "metadata": {},
     "output_type": "execute_result"
    }
   ],
   "source": [
    "# Verifying duplicated ids\n",
    "\n",
    "df[df.duplicated(subset=['restaurant_id'], keep=False)]"
   ]
  },
  {
   "cell_type": "code",
   "execution_count": 17,
   "metadata": {},
   "outputs": [],
   "source": [
    "# Droping duplicated ids\n",
    "\n",
    "df.drop_duplicates(subset='restaurant_id', keep='first', inplace=True)"
   ]
  },
  {
   "cell_type": "code",
   "execution_count": 18,
   "metadata": {},
   "outputs": [],
   "source": [
    "# Droping outliner value from column 'average_cost_for_two' for Australia country\n",
    "\n",
    "df = df.loc[df['average_cost_for_two'] != 25000017, :]"
   ]
  },
  {
   "cell_type": "code",
   "execution_count": 19,
   "metadata": {},
   "outputs": [],
   "source": [
    "# Currency names to currency code dict \n",
    "\n",
    "CODES = {\n",
    "'Botswana Pula(P)' : 'BWP',\n",
    "'Brazilian Real(R$)' : 'BRL',\n",
    "'Dollar($)' : 'USD',\n",
    "'Emirati Diram(AED)' : 'AED',\n",
    "'Indian Rupees(Rs.)' : 'INR',\n",
    "'Indonesian Rupiah(IDR)' : 'IDR',\n",
    "'NewZealand($)' : 'NZD',\n",
    "'Pounds(£)' : 'GBP',\n",
    "'Qatari Rial(QR)' : 'QAR',\n",
    "'Rand(R)' : 'ZAR',\n",
    "'Sri Lankan Rupee(LKR)' : 'LKR',\n",
    "'Turkish Lira(TL)' : 'TRY'\n",
    "}       \n",
    "\n",
    "def currency_code(currency):\n",
    "    return CODES[currency]"
   ]
  },
  {
   "cell_type": "code",
   "execution_count": 20,
   "metadata": {},
   "outputs": [],
   "source": [
    "VALUES = {    \n",
    "'BWP' : 0.07346,\n",
    "'BRL' : 0.17196,\n",
    "'USD' : 1.0,\n",
    "'AED' : 0.27229,\n",
    "'INR' : 0.01182,\n",
    "'IDR' : 0.000062795,\n",
    "'NZD' : 0.58599,\n",
    "'GBP' : 1.25916,\n",
    "'QAR' : 0.27472,\n",
    "'ZAR' : 0.05520,\n",
    "'LKR' : 0.00343,\n",
    "'TRY' : 0.02894   \n",
    "}\n",
    "\n",
    "def usd_value(currency_value):\n",
    "    return VALUES[currency_value]"
   ]
  },
  {
   "cell_type": "code",
   "execution_count": 21,
   "metadata": {},
   "outputs": [],
   "source": [
    "#Creating the currency code tag by applying a lambda function within the dict CODES\n",
    "\n",
    "df['currency'] = df['currency'].apply(lambda x: currency_code(x))\n",
    "df.rename(columns= {'currency' : 'currency_codes'}, inplace=True)"
   ]
  },
  {
   "cell_type": "code",
   "execution_count": 22,
   "metadata": {},
   "outputs": [],
   "source": [
    "df['currency_values'] = df['currency_codes'].apply(lambda x: usd_value(x))"
   ]
  },
  {
   "cell_type": "code",
   "execution_count": 23,
   "metadata": {},
   "outputs": [],
   "source": [
    "# Defining the lambda function to convert local currency to usd\n",
    "\n",
    "to_usd = lambda x: (x['average_cost_for_two'] * x['currency_values'])\n",
    "df['currency_in_usd'] = df.apply(to_usd, axis = 1)"
   ]
  },
  {
   "cell_type": "code",
   "execution_count": 24,
   "metadata": {},
   "outputs": [],
   "source": [
    "# Changing the column order for clarity\n",
    "\n",
    "df = df.reindex(['restaurant_id', 'restaurant_name', 'country', 'city', 'address',\n",
    "       'locality', 'locality_verbose', 'longitude', 'latitude', 'cuisines',\n",
    "       'average_cost_for_two', 'currency_codes', 'currency_in_usd', \n",
    "       'has_table_booking', 'has_online_delivery', 'is_delivering_now', 'price_range',\n",
    "       'aggregate_rating', 'rating_color', 'rating_text', 'votes'], axis=1)"
   ]
  },
  {
   "cell_type": "code",
   "execution_count": 25,
   "metadata": {},
   "outputs": [
    {
     "data": {
      "text/html": [
       "<div>\n",
       "<style scoped>\n",
       "    .dataframe tbody tr th:only-of-type {\n",
       "        vertical-align: middle;\n",
       "    }\n",
       "\n",
       "    .dataframe tbody tr th {\n",
       "        vertical-align: top;\n",
       "    }\n",
       "\n",
       "    .dataframe thead th {\n",
       "        text-align: right;\n",
       "    }\n",
       "</style>\n",
       "<table border=\"1\" class=\"dataframe\">\n",
       "  <thead>\n",
       "    <tr style=\"text-align: right;\">\n",
       "      <th></th>\n",
       "      <th>restaurant_id</th>\n",
       "      <th>restaurant_name</th>\n",
       "      <th>country</th>\n",
       "      <th>city</th>\n",
       "      <th>address</th>\n",
       "      <th>locality</th>\n",
       "      <th>locality_verbose</th>\n",
       "      <th>longitude</th>\n",
       "      <th>latitude</th>\n",
       "      <th>cuisines</th>\n",
       "      <th>average_cost_for_two</th>\n",
       "      <th>currency_codes</th>\n",
       "      <th>currency_in_usd</th>\n",
       "      <th>has_table_booking</th>\n",
       "      <th>has_online_delivery</th>\n",
       "      <th>is_delivering_now</th>\n",
       "      <th>price_range</th>\n",
       "      <th>aggregate_rating</th>\n",
       "      <th>rating_color</th>\n",
       "      <th>rating_text</th>\n",
       "      <th>votes</th>\n",
       "    </tr>\n",
       "  </thead>\n",
       "  <tbody>\n",
       "    <tr>\n",
       "      <th>0</th>\n",
       "      <td>6310675</td>\n",
       "      <td>Mama Lou's Italian Kitchen</td>\n",
       "      <td>Philippines</td>\n",
       "      <td>Las Piñas City</td>\n",
       "      <td>Block 1, Lot 36, Tropical Avenue Corner Tropic...</td>\n",
       "      <td>BF International</td>\n",
       "      <td>BF International, Las Piñas City</td>\n",
       "      <td>121.009787</td>\n",
       "      <td>14.447615</td>\n",
       "      <td>Italian</td>\n",
       "      <td>1100</td>\n",
       "      <td>BWP</td>\n",
       "      <td>80.806</td>\n",
       "      <td>Yes</td>\n",
       "      <td>No</td>\n",
       "      <td>No</td>\n",
       "      <td>expensive</td>\n",
       "      <td>4.6</td>\n",
       "      <td>darkgreen</td>\n",
       "      <td>Excellent</td>\n",
       "      <td>619</td>\n",
       "    </tr>\n",
       "    <tr>\n",
       "      <th>2</th>\n",
       "      <td>6314542</td>\n",
       "      <td>Blackbird</td>\n",
       "      <td>Philippines</td>\n",
       "      <td>Makati City</td>\n",
       "      <td>Nielson Tower, Ayala Triangle Gardens, Salcedo...</td>\n",
       "      <td>Ayala Triangle Gardens, Salcedo Village, Makat...</td>\n",
       "      <td>Ayala Triangle Gardens, Salcedo Village, Makat...</td>\n",
       "      <td>121.024562</td>\n",
       "      <td>14.556042</td>\n",
       "      <td>European</td>\n",
       "      <td>3100</td>\n",
       "      <td>BWP</td>\n",
       "      <td>227.726</td>\n",
       "      <td>No</td>\n",
       "      <td>No</td>\n",
       "      <td>No</td>\n",
       "      <td>gourmet</td>\n",
       "      <td>4.7</td>\n",
       "      <td>darkgreen</td>\n",
       "      <td>Excellent</td>\n",
       "      <td>469</td>\n",
       "    </tr>\n",
       "  </tbody>\n",
       "</table>\n",
       "</div>"
      ],
      "text/plain": [
       "   restaurant_id             restaurant_name      country            city  \\\n",
       "0        6310675  Mama Lou's Italian Kitchen  Philippines  Las Piñas City   \n",
       "2        6314542                   Blackbird  Philippines     Makati City   \n",
       "\n",
       "                                             address  \\\n",
       "0  Block 1, Lot 36, Tropical Avenue Corner Tropic...   \n",
       "2  Nielson Tower, Ayala Triangle Gardens, Salcedo...   \n",
       "\n",
       "                                            locality  \\\n",
       "0                                   BF International   \n",
       "2  Ayala Triangle Gardens, Salcedo Village, Makat...   \n",
       "\n",
       "                                    locality_verbose   longitude   latitude  \\\n",
       "0                   BF International, Las Piñas City  121.009787  14.447615   \n",
       "2  Ayala Triangle Gardens, Salcedo Village, Makat...  121.024562  14.556042   \n",
       "\n",
       "   cuisines  average_cost_for_two currency_codes  currency_in_usd  \\\n",
       "0   Italian                  1100            BWP           80.806   \n",
       "2  European                  3100            BWP          227.726   \n",
       "\n",
       "  has_table_booking has_online_delivery is_delivering_now price_range  \\\n",
       "0               Yes                  No                No   expensive   \n",
       "2                No                  No                No     gourmet   \n",
       "\n",
       "   aggregate_rating rating_color rating_text  votes  \n",
       "0               4.6    darkgreen   Excellent    619  \n",
       "2               4.7    darkgreen   Excellent    469  "
      ]
     },
     "execution_count": 25,
     "metadata": {},
     "output_type": "execute_result"
    }
   ],
   "source": [
    "df.head(2)"
   ]
  },
  {
   "cell_type": "markdown",
   "metadata": {},
   "source": [
    "# 1.0. General insights:"
   ]
  },
  {
   "cell_type": "markdown",
   "metadata": {},
   "source": [
    "## 1. Quantos restaurantes únicos estão registrados?\n"
   ]
  },
  {
   "cell_type": "code",
   "execution_count": 42,
   "metadata": {},
   "outputs": [
    {
     "data": {
      "text/plain": [
       "6941"
      ]
     },
     "execution_count": 42,
     "metadata": {},
     "output_type": "execute_result"
    }
   ],
   "source": [
    "unique_restaurants = df['restaurant_id'].count()\n",
    "unique_restaurants"
   ]
  },
  {
   "cell_type": "markdown",
   "metadata": {},
   "source": [
    "## 2. Quantos países únicos estão registrados? "
   ]
  },
  {
   "cell_type": "code",
   "execution_count": 43,
   "metadata": {},
   "outputs": [
    {
     "data": {
      "text/plain": [
       "15"
      ]
     },
     "execution_count": 43,
     "metadata": {},
     "output_type": "execute_result"
    }
   ],
   "source": [
    "unique_countries = df['country'].nunique()\n",
    "unique_countries"
   ]
  },
  {
   "cell_type": "markdown",
   "metadata": {},
   "source": [
    "## 3. Quantas cidades únicas estão registradas?\n"
   ]
  },
  {
   "cell_type": "code",
   "execution_count": 44,
   "metadata": {},
   "outputs": [
    {
     "data": {
      "text/plain": [
       "125"
      ]
     },
     "execution_count": 44,
     "metadata": {},
     "output_type": "execute_result"
    }
   ],
   "source": [
    "city_unique = df['city'].nunique()\n",
    "city_unique"
   ]
  },
  {
   "cell_type": "markdown",
   "metadata": {},
   "source": [
    "## 4. Qual o total de avaliações feitas?\n"
   ]
  },
  {
   "cell_type": "code",
   "execution_count": 45,
   "metadata": {},
   "outputs": [
    {
     "data": {
      "text/plain": [
       "4195431"
      ]
     },
     "execution_count": 45,
     "metadata": {},
     "output_type": "execute_result"
    }
   ],
   "source": [
    "total_votes = df['votes'].sum()\n",
    "total_votes"
   ]
  },
  {
   "cell_type": "markdown",
   "metadata": {},
   "source": [
    "## 5. Qual o total de tipos de culinária registrados?"
   ]
  },
  {
   "cell_type": "code",
   "execution_count": 46,
   "metadata": {},
   "outputs": [
    {
     "data": {
      "text/plain": [
       "166"
      ]
     },
     "execution_count": 46,
     "metadata": {},
     "output_type": "execute_result"
    }
   ],
   "source": [
    "cuisines_count = df['cuisines'].nunique()\n",
    "cuisines_count"
   ]
  },
  {
   "cell_type": "markdown",
   "metadata": {},
   "source": [
    "# 2.0. Country insights:"
   ]
  },
  {
   "cell_type": "markdown",
   "metadata": {},
   "source": [
    "## 1. Qual o nome do país que possui mais cidades registradas?\n"
   ]
  },
  {
   "cell_type": "code",
   "execution_count": 49,
   "metadata": {},
   "outputs": [
    {
     "data": {
      "text/html": [
       "<div>\n",
       "<style scoped>\n",
       "    .dataframe tbody tr th:only-of-type {\n",
       "        vertical-align: middle;\n",
       "    }\n",
       "\n",
       "    .dataframe tbody tr th {\n",
       "        vertical-align: top;\n",
       "    }\n",
       "\n",
       "    .dataframe thead th {\n",
       "        text-align: right;\n",
       "    }\n",
       "</style>\n",
       "<table border=\"1\" class=\"dataframe\">\n",
       "  <thead>\n",
       "    <tr style=\"text-align: right;\">\n",
       "      <th></th>\n",
       "      <th>country</th>\n",
       "      <th>city</th>\n",
       "    </tr>\n",
       "  </thead>\n",
       "  <tbody>\n",
       "    <tr>\n",
       "      <th>0</th>\n",
       "      <td>India</td>\n",
       "      <td>49</td>\n",
       "    </tr>\n",
       "    <tr>\n",
       "      <th>1</th>\n",
       "      <td>United States of America</td>\n",
       "      <td>22</td>\n",
       "    </tr>\n",
       "    <tr>\n",
       "      <th>2</th>\n",
       "      <td>Philippines</td>\n",
       "      <td>12</td>\n",
       "    </tr>\n",
       "    <tr>\n",
       "      <th>3</th>\n",
       "      <td>South Africa</td>\n",
       "      <td>12</td>\n",
       "    </tr>\n",
       "    <tr>\n",
       "      <th>4</th>\n",
       "      <td>England</td>\n",
       "      <td>5</td>\n",
       "    </tr>\n",
       "    <tr>\n",
       "      <th>5</th>\n",
       "      <td>New Zeland</td>\n",
       "      <td>4</td>\n",
       "    </tr>\n",
       "    <tr>\n",
       "      <th>6</th>\n",
       "      <td>United Arab Emirates</td>\n",
       "      <td>4</td>\n",
       "    </tr>\n",
       "    <tr>\n",
       "      <th>7</th>\n",
       "      <td>Australia</td>\n",
       "      <td>3</td>\n",
       "    </tr>\n",
       "    <tr>\n",
       "      <th>8</th>\n",
       "      <td>Brazil</td>\n",
       "      <td>3</td>\n",
       "    </tr>\n",
       "    <tr>\n",
       "      <th>9</th>\n",
       "      <td>Canada</td>\n",
       "      <td>3</td>\n",
       "    </tr>\n",
       "    <tr>\n",
       "      <th>10</th>\n",
       "      <td>Indonesia</td>\n",
       "      <td>3</td>\n",
       "    </tr>\n",
       "    <tr>\n",
       "      <th>11</th>\n",
       "      <td>Turkey</td>\n",
       "      <td>2</td>\n",
       "    </tr>\n",
       "    <tr>\n",
       "      <th>12</th>\n",
       "      <td>Qatar</td>\n",
       "      <td>1</td>\n",
       "    </tr>\n",
       "    <tr>\n",
       "      <th>13</th>\n",
       "      <td>Singapure</td>\n",
       "      <td>1</td>\n",
       "    </tr>\n",
       "    <tr>\n",
       "      <th>14</th>\n",
       "      <td>Sri Lanka</td>\n",
       "      <td>1</td>\n",
       "    </tr>\n",
       "  </tbody>\n",
       "</table>\n",
       "</div>"
      ],
      "text/plain": [
       "                     country  city\n",
       "0                      India    49\n",
       "1   United States of America    22\n",
       "2                Philippines    12\n",
       "3               South Africa    12\n",
       "4                    England     5\n",
       "5                 New Zeland     4\n",
       "6       United Arab Emirates     4\n",
       "7                  Australia     3\n",
       "8                     Brazil     3\n",
       "9                     Canada     3\n",
       "10                 Indonesia     3\n",
       "11                    Turkey     2\n",
       "12                     Qatar     1\n",
       "13                 Singapure     1\n",
       "14                 Sri Lanka     1"
      ]
     },
     "execution_count": 49,
     "metadata": {},
     "output_type": "execute_result"
    }
   ],
   "source": [
    "city_by_country = df.loc[:, ['country','city']].groupby(['country']).nunique().sort_values('city', ascending=False).reset_index()\n",
    "city_by_country"
   ]
  },
  {
   "cell_type": "markdown",
   "metadata": {},
   "source": [
    "## 2. Qual o nome do país que possui mais restaurantes registrados?\n"
   ]
  },
  {
   "cell_type": "code",
   "execution_count": 50,
   "metadata": {},
   "outputs": [
    {
     "data": {
      "text/html": [
       "<div>\n",
       "<style scoped>\n",
       "    .dataframe tbody tr th:only-of-type {\n",
       "        vertical-align: middle;\n",
       "    }\n",
       "\n",
       "    .dataframe tbody tr th {\n",
       "        vertical-align: top;\n",
       "    }\n",
       "\n",
       "    .dataframe thead th {\n",
       "        text-align: right;\n",
       "    }\n",
       "</style>\n",
       "<table border=\"1\" class=\"dataframe\">\n",
       "  <thead>\n",
       "    <tr style=\"text-align: right;\">\n",
       "      <th></th>\n",
       "      <th>country</th>\n",
       "      <th>restaurant_id</th>\n",
       "    </tr>\n",
       "  </thead>\n",
       "  <tbody>\n",
       "    <tr>\n",
       "      <th>0</th>\n",
       "      <td>India</td>\n",
       "      <td>3120</td>\n",
       "    </tr>\n",
       "    <tr>\n",
       "      <th>1</th>\n",
       "      <td>United States of America</td>\n",
       "      <td>1378</td>\n",
       "    </tr>\n",
       "    <tr>\n",
       "      <th>2</th>\n",
       "      <td>England</td>\n",
       "      <td>400</td>\n",
       "    </tr>\n",
       "    <tr>\n",
       "      <th>3</th>\n",
       "      <td>South Africa</td>\n",
       "      <td>346</td>\n",
       "    </tr>\n",
       "    <tr>\n",
       "      <th>4</th>\n",
       "      <td>United Arab Emirates</td>\n",
       "      <td>300</td>\n",
       "    </tr>\n",
       "    <tr>\n",
       "      <th>5</th>\n",
       "      <td>Brazil</td>\n",
       "      <td>240</td>\n",
       "    </tr>\n",
       "    <tr>\n",
       "      <th>6</th>\n",
       "      <td>New Zeland</td>\n",
       "      <td>239</td>\n",
       "    </tr>\n",
       "    <tr>\n",
       "      <th>7</th>\n",
       "      <td>Canada</td>\n",
       "      <td>180</td>\n",
       "    </tr>\n",
       "    <tr>\n",
       "      <th>8</th>\n",
       "      <td>Australia</td>\n",
       "      <td>179</td>\n",
       "    </tr>\n",
       "    <tr>\n",
       "      <th>9</th>\n",
       "      <td>Turkey</td>\n",
       "      <td>159</td>\n",
       "    </tr>\n",
       "    <tr>\n",
       "      <th>10</th>\n",
       "      <td>Indonesia</td>\n",
       "      <td>80</td>\n",
       "    </tr>\n",
       "    <tr>\n",
       "      <th>11</th>\n",
       "      <td>Philippines</td>\n",
       "      <td>80</td>\n",
       "    </tr>\n",
       "    <tr>\n",
       "      <th>12</th>\n",
       "      <td>Qatar</td>\n",
       "      <td>80</td>\n",
       "    </tr>\n",
       "    <tr>\n",
       "      <th>13</th>\n",
       "      <td>Singapure</td>\n",
       "      <td>80</td>\n",
       "    </tr>\n",
       "    <tr>\n",
       "      <th>14</th>\n",
       "      <td>Sri Lanka</td>\n",
       "      <td>80</td>\n",
       "    </tr>\n",
       "  </tbody>\n",
       "</table>\n",
       "</div>"
      ],
      "text/plain": [
       "                     country  restaurant_id\n",
       "0                      India           3120\n",
       "1   United States of America           1378\n",
       "2                    England            400\n",
       "3               South Africa            346\n",
       "4       United Arab Emirates            300\n",
       "5                     Brazil            240\n",
       "6                 New Zeland            239\n",
       "7                     Canada            180\n",
       "8                  Australia            179\n",
       "9                     Turkey            159\n",
       "10                 Indonesia             80\n",
       "11               Philippines             80\n",
       "12                     Qatar             80\n",
       "13                 Singapure             80\n",
       "14                 Sri Lanka             80"
      ]
     },
     "execution_count": 50,
     "metadata": {},
     "output_type": "execute_result"
    }
   ],
   "source": [
    "restaurants_by_country = df.loc[:, ['country','restaurant_id']].groupby(['country']).count().sort_values('restaurant_id', ascending=False).reset_index()\n",
    "restaurants_by_country"
   ]
  },
  {
   "cell_type": "markdown",
   "metadata": {},
   "source": [
    "## 3. Qual o nome do país que possui mais restaurantes com o nível de preço igual a 4 registrados?\n",
    "\n"
   ]
  },
  {
   "cell_type": "code",
   "execution_count": 52,
   "metadata": {},
   "outputs": [
    {
     "data": {
      "text/html": [
       "<div>\n",
       "<style scoped>\n",
       "    .dataframe tbody tr th:only-of-type {\n",
       "        vertical-align: middle;\n",
       "    }\n",
       "\n",
       "    .dataframe tbody tr th {\n",
       "        vertical-align: top;\n",
       "    }\n",
       "\n",
       "    .dataframe thead th {\n",
       "        text-align: right;\n",
       "    }\n",
       "</style>\n",
       "<table border=\"1\" class=\"dataframe\">\n",
       "  <thead>\n",
       "    <tr style=\"text-align: right;\">\n",
       "      <th></th>\n",
       "      <th>country</th>\n",
       "      <th>restaurant_id</th>\n",
       "    </tr>\n",
       "  </thead>\n",
       "  <tbody>\n",
       "    <tr>\n",
       "      <th>0</th>\n",
       "      <td>United States of America</td>\n",
       "      <td>417</td>\n",
       "    </tr>\n",
       "    <tr>\n",
       "      <th>1</th>\n",
       "      <td>South Africa</td>\n",
       "      <td>221</td>\n",
       "    </tr>\n",
       "    <tr>\n",
       "      <th>2</th>\n",
       "      <td>India</td>\n",
       "      <td>195</td>\n",
       "    </tr>\n",
       "    <tr>\n",
       "      <th>3</th>\n",
       "      <td>Brazil</td>\n",
       "      <td>148</td>\n",
       "    </tr>\n",
       "    <tr>\n",
       "      <th>4</th>\n",
       "      <td>United Arab Emirates</td>\n",
       "      <td>102</td>\n",
       "    </tr>\n",
       "    <tr>\n",
       "      <th>5</th>\n",
       "      <td>England</td>\n",
       "      <td>79</td>\n",
       "    </tr>\n",
       "    <tr>\n",
       "      <th>6</th>\n",
       "      <td>New Zeland</td>\n",
       "      <td>79</td>\n",
       "    </tr>\n",
       "    <tr>\n",
       "      <th>7</th>\n",
       "      <td>Turkey</td>\n",
       "      <td>59</td>\n",
       "    </tr>\n",
       "    <tr>\n",
       "      <th>8</th>\n",
       "      <td>Singapure</td>\n",
       "      <td>58</td>\n",
       "    </tr>\n",
       "    <tr>\n",
       "      <th>9</th>\n",
       "      <td>Canada</td>\n",
       "      <td>54</td>\n",
       "    </tr>\n",
       "    <tr>\n",
       "      <th>10</th>\n",
       "      <td>Qatar</td>\n",
       "      <td>50</td>\n",
       "    </tr>\n",
       "    <tr>\n",
       "      <th>11</th>\n",
       "      <td>Australia</td>\n",
       "      <td>33</td>\n",
       "    </tr>\n",
       "    <tr>\n",
       "      <th>12</th>\n",
       "      <td>Philippines</td>\n",
       "      <td>23</td>\n",
       "    </tr>\n",
       "    <tr>\n",
       "      <th>13</th>\n",
       "      <td>Indonesia</td>\n",
       "      <td>17</td>\n",
       "    </tr>\n",
       "    <tr>\n",
       "      <th>14</th>\n",
       "      <td>Sri Lanka</td>\n",
       "      <td>16</td>\n",
       "    </tr>\n",
       "  </tbody>\n",
       "</table>\n",
       "</div>"
      ],
      "text/plain": [
       "                     country  restaurant_id\n",
       "0   United States of America            417\n",
       "1               South Africa            221\n",
       "2                      India            195\n",
       "3                     Brazil            148\n",
       "4       United Arab Emirates            102\n",
       "5                    England             79\n",
       "6                 New Zeland             79\n",
       "7                     Turkey             59\n",
       "8                  Singapure             58\n",
       "9                     Canada             54\n",
       "10                     Qatar             50\n",
       "11                 Australia             33\n",
       "12               Philippines             23\n",
       "13                 Indonesia             17\n",
       "14                 Sri Lanka             16"
      ]
     },
     "execution_count": 52,
     "metadata": {},
     "output_type": "execute_result"
    }
   ],
   "source": [
    "price_range_4 = df.loc[df['price_range'] == 'gourmet', ['country', 'restaurant_id']].groupby('country').count().sort_values('restaurant_id', ascending=False).reset_index()\n",
    "price_range_4"
   ]
  },
  {
   "cell_type": "markdown",
   "metadata": {},
   "source": [
    "## 4. Qual o nome do país que possui a maior quantidade de tipos de culinária distintos?\n"
   ]
  },
  {
   "cell_type": "code",
   "execution_count": 53,
   "metadata": {},
   "outputs": [
    {
     "data": {
      "text/html": [
       "<div>\n",
       "<style scoped>\n",
       "    .dataframe tbody tr th:only-of-type {\n",
       "        vertical-align: middle;\n",
       "    }\n",
       "\n",
       "    .dataframe tbody tr th {\n",
       "        vertical-align: top;\n",
       "    }\n",
       "\n",
       "    .dataframe thead th {\n",
       "        text-align: right;\n",
       "    }\n",
       "</style>\n",
       "<table border=\"1\" class=\"dataframe\">\n",
       "  <thead>\n",
       "    <tr style=\"text-align: right;\">\n",
       "      <th></th>\n",
       "      <th>country</th>\n",
       "      <th>cuisines</th>\n",
       "    </tr>\n",
       "  </thead>\n",
       "  <tbody>\n",
       "    <tr>\n",
       "      <th>0</th>\n",
       "      <td>India</td>\n",
       "      <td>78</td>\n",
       "    </tr>\n",
       "    <tr>\n",
       "      <th>1</th>\n",
       "      <td>United States of America</td>\n",
       "      <td>75</td>\n",
       "    </tr>\n",
       "    <tr>\n",
       "      <th>2</th>\n",
       "      <td>England</td>\n",
       "      <td>52</td>\n",
       "    </tr>\n",
       "    <tr>\n",
       "      <th>3</th>\n",
       "      <td>United Arab Emirates</td>\n",
       "      <td>46</td>\n",
       "    </tr>\n",
       "    <tr>\n",
       "      <th>4</th>\n",
       "      <td>Australia</td>\n",
       "      <td>43</td>\n",
       "    </tr>\n",
       "    <tr>\n",
       "      <th>5</th>\n",
       "      <td>Brazil</td>\n",
       "      <td>43</td>\n",
       "    </tr>\n",
       "    <tr>\n",
       "      <th>6</th>\n",
       "      <td>Canada</td>\n",
       "      <td>42</td>\n",
       "    </tr>\n",
       "    <tr>\n",
       "      <th>7</th>\n",
       "      <td>South Africa</td>\n",
       "      <td>42</td>\n",
       "    </tr>\n",
       "    <tr>\n",
       "      <th>8</th>\n",
       "      <td>New Zeland</td>\n",
       "      <td>37</td>\n",
       "    </tr>\n",
       "    <tr>\n",
       "      <th>9</th>\n",
       "      <td>Qatar</td>\n",
       "      <td>31</td>\n",
       "    </tr>\n",
       "    <tr>\n",
       "      <th>10</th>\n",
       "      <td>Turkey</td>\n",
       "      <td>28</td>\n",
       "    </tr>\n",
       "    <tr>\n",
       "      <th>11</th>\n",
       "      <td>Sri Lanka</td>\n",
       "      <td>26</td>\n",
       "    </tr>\n",
       "    <tr>\n",
       "      <th>12</th>\n",
       "      <td>Indonesia</td>\n",
       "      <td>21</td>\n",
       "    </tr>\n",
       "    <tr>\n",
       "      <th>13</th>\n",
       "      <td>Singapure</td>\n",
       "      <td>21</td>\n",
       "    </tr>\n",
       "    <tr>\n",
       "      <th>14</th>\n",
       "      <td>Philippines</td>\n",
       "      <td>14</td>\n",
       "    </tr>\n",
       "  </tbody>\n",
       "</table>\n",
       "</div>"
      ],
      "text/plain": [
       "                     country  cuisines\n",
       "0                      India        78\n",
       "1   United States of America        75\n",
       "2                    England        52\n",
       "3       United Arab Emirates        46\n",
       "4                  Australia        43\n",
       "5                     Brazil        43\n",
       "6                     Canada        42\n",
       "7               South Africa        42\n",
       "8                 New Zeland        37\n",
       "9                      Qatar        31\n",
       "10                    Turkey        28\n",
       "11                 Sri Lanka        26\n",
       "12                 Indonesia        21\n",
       "13                 Singapure        21\n",
       "14               Philippines        14"
      ]
     },
     "execution_count": 53,
     "metadata": {},
     "output_type": "execute_result"
    }
   ],
   "source": [
    "unique_cuisines_country = df.loc[:, ['country','cuisines']].groupby('country').nunique().sort_values('cuisines', ascending=False).reset_index()\n",
    "unique_cuisines_country"
   ]
  },
  {
   "cell_type": "markdown",
   "metadata": {},
   "source": [
    "## 5. Qual o nome do país que possui a maior quantidade de avaliações feitas?\n"
   ]
  },
  {
   "cell_type": "code",
   "execution_count": 54,
   "metadata": {},
   "outputs": [
    {
     "data": {
      "text/html": [
       "<div>\n",
       "<style scoped>\n",
       "    .dataframe tbody tr th:only-of-type {\n",
       "        vertical-align: middle;\n",
       "    }\n",
       "\n",
       "    .dataframe tbody tr th {\n",
       "        vertical-align: top;\n",
       "    }\n",
       "\n",
       "    .dataframe thead th {\n",
       "        text-align: right;\n",
       "    }\n",
       "</style>\n",
       "<table border=\"1\" class=\"dataframe\">\n",
       "  <thead>\n",
       "    <tr style=\"text-align: right;\">\n",
       "      <th></th>\n",
       "      <th>country</th>\n",
       "      <th>votes</th>\n",
       "    </tr>\n",
       "  </thead>\n",
       "  <tbody>\n",
       "    <tr>\n",
       "      <th>0</th>\n",
       "      <td>India</td>\n",
       "      <td>2800199</td>\n",
       "    </tr>\n",
       "    <tr>\n",
       "      <th>1</th>\n",
       "      <td>United States of America</td>\n",
       "      <td>523414</td>\n",
       "    </tr>\n",
       "    <tr>\n",
       "      <th>2</th>\n",
       "      <td>United Arab Emirates</td>\n",
       "      <td>177564</td>\n",
       "    </tr>\n",
       "    <tr>\n",
       "      <th>3</th>\n",
       "      <td>Australia</td>\n",
       "      <td>130154</td>\n",
       "    </tr>\n",
       "    <tr>\n",
       "      <th>4</th>\n",
       "      <td>Canada</td>\n",
       "      <td>105018</td>\n",
       "    </tr>\n",
       "    <tr>\n",
       "      <th>5</th>\n",
       "      <td>Turkey</td>\n",
       "      <td>100193</td>\n",
       "    </tr>\n",
       "    <tr>\n",
       "      <th>6</th>\n",
       "      <td>Indonesia</td>\n",
       "      <td>89026</td>\n",
       "    </tr>\n",
       "    <tr>\n",
       "      <th>7</th>\n",
       "      <td>South Africa</td>\n",
       "      <td>81939</td>\n",
       "    </tr>\n",
       "    <tr>\n",
       "      <th>8</th>\n",
       "      <td>New Zeland</td>\n",
       "      <td>52532</td>\n",
       "    </tr>\n",
       "    <tr>\n",
       "      <th>9</th>\n",
       "      <td>Philippines</td>\n",
       "      <td>48398</td>\n",
       "    </tr>\n",
       "    <tr>\n",
       "      <th>10</th>\n",
       "      <td>England</td>\n",
       "      <td>39956</td>\n",
       "    </tr>\n",
       "    <tr>\n",
       "      <th>11</th>\n",
       "      <td>Qatar</td>\n",
       "      <td>30106</td>\n",
       "    </tr>\n",
       "    <tr>\n",
       "      <th>12</th>\n",
       "      <td>Sri Lanka</td>\n",
       "      <td>12133</td>\n",
       "    </tr>\n",
       "    <tr>\n",
       "      <th>13</th>\n",
       "      <td>Brazil</td>\n",
       "      <td>2977</td>\n",
       "    </tr>\n",
       "    <tr>\n",
       "      <th>14</th>\n",
       "      <td>Singapure</td>\n",
       "      <td>1822</td>\n",
       "    </tr>\n",
       "  </tbody>\n",
       "</table>\n",
       "</div>"
      ],
      "text/plain": [
       "                     country    votes\n",
       "0                      India  2800199\n",
       "1   United States of America   523414\n",
       "2       United Arab Emirates   177564\n",
       "3                  Australia   130154\n",
       "4                     Canada   105018\n",
       "5                     Turkey   100193\n",
       "6                  Indonesia    89026\n",
       "7               South Africa    81939\n",
       "8                 New Zeland    52532\n",
       "9                Philippines    48398\n",
       "10                   England    39956\n",
       "11                     Qatar    30106\n",
       "12                 Sri Lanka    12133\n",
       "13                    Brazil     2977\n",
       "14                 Singapure     1822"
      ]
     },
     "execution_count": 54,
     "metadata": {},
     "output_type": "execute_result"
    }
   ],
   "source": [
    "votes_by_country = df.loc[:, ['country','votes']].groupby('country').sum().sort_values('votes', ascending=False).reset_index()\n",
    "votes_by_country"
   ]
  },
  {
   "cell_type": "markdown",
   "metadata": {},
   "source": [
    "## 6. Qual o nome do país que possui a maior quantidade de restaurantes que fazem entrega?\n"
   ]
  },
  {
   "cell_type": "code",
   "execution_count": 91,
   "metadata": {},
   "outputs": [
    {
     "data": {
      "text/html": [
       "<div>\n",
       "<style scoped>\n",
       "    .dataframe tbody tr th:only-of-type {\n",
       "        vertical-align: middle;\n",
       "    }\n",
       "\n",
       "    .dataframe tbody tr th {\n",
       "        vertical-align: top;\n",
       "    }\n",
       "\n",
       "    .dataframe thead th {\n",
       "        text-align: right;\n",
       "    }\n",
       "</style>\n",
       "<table border=\"1\" class=\"dataframe\">\n",
       "  <thead>\n",
       "    <tr style=\"text-align: right;\">\n",
       "      <th></th>\n",
       "      <th>country</th>\n",
       "      <th>restaurant_id</th>\n",
       "    </tr>\n",
       "  </thead>\n",
       "  <tbody>\n",
       "    <tr>\n",
       "      <th>0</th>\n",
       "      <td>India</td>\n",
       "      <td>1150</td>\n",
       "    </tr>\n",
       "    <tr>\n",
       "      <th>1</th>\n",
       "      <td>United Arab Emirates</td>\n",
       "      <td>52</td>\n",
       "    </tr>\n",
       "    <tr>\n",
       "      <th>2</th>\n",
       "      <td>Philippines</td>\n",
       "      <td>7</td>\n",
       "    </tr>\n",
       "    <tr>\n",
       "      <th>3</th>\n",
       "      <td>Qatar</td>\n",
       "      <td>3</td>\n",
       "    </tr>\n",
       "  </tbody>\n",
       "</table>\n",
       "</div>"
      ],
      "text/plain": [
       "                country  restaurant_id\n",
       "0                 India           1150\n",
       "1  United Arab Emirates             52\n",
       "2           Philippines              7\n",
       "3                 Qatar              3"
      ]
     },
     "execution_count": 91,
     "metadata": {},
     "output_type": "execute_result"
    }
   ],
   "source": [
    "most_restaurant_delivery = df.loc[df['is_delivering_now'] == 'Yes', ['restaurant_id','country']].groupby('country').count().sort_values('restaurant_id', ascending=False).reset_index()\n",
    "most_restaurant_delivery"
   ]
  },
  {
   "cell_type": "markdown",
   "metadata": {},
   "source": [
    "## 7. Qual o nome do país que possui a maior quantidade de restaurantes que aceitam reservas?\n"
   ]
  },
  {
   "cell_type": "code",
   "execution_count": 57,
   "metadata": {},
   "outputs": [
    {
     "data": {
      "text/html": [
       "<div>\n",
       "<style scoped>\n",
       "    .dataframe tbody tr th:only-of-type {\n",
       "        vertical-align: middle;\n",
       "    }\n",
       "\n",
       "    .dataframe tbody tr th {\n",
       "        vertical-align: top;\n",
       "    }\n",
       "\n",
       "    .dataframe thead th {\n",
       "        text-align: right;\n",
       "    }\n",
       "</style>\n",
       "<table border=\"1\" class=\"dataframe\">\n",
       "  <thead>\n",
       "    <tr style=\"text-align: right;\">\n",
       "      <th></th>\n",
       "      <th>country</th>\n",
       "      <th>restaurant_id</th>\n",
       "    </tr>\n",
       "  </thead>\n",
       "  <tbody>\n",
       "    <tr>\n",
       "      <th>0</th>\n",
       "      <td>India</td>\n",
       "      <td>256</td>\n",
       "    </tr>\n",
       "    <tr>\n",
       "      <th>1</th>\n",
       "      <td>England</td>\n",
       "      <td>55</td>\n",
       "    </tr>\n",
       "    <tr>\n",
       "      <th>2</th>\n",
       "      <td>Australia</td>\n",
       "      <td>28</td>\n",
       "    </tr>\n",
       "    <tr>\n",
       "      <th>3</th>\n",
       "      <td>Philippines</td>\n",
       "      <td>22</td>\n",
       "    </tr>\n",
       "    <tr>\n",
       "      <th>4</th>\n",
       "      <td>New Zeland</td>\n",
       "      <td>19</td>\n",
       "    </tr>\n",
       "    <tr>\n",
       "      <th>5</th>\n",
       "      <td>Indonesia</td>\n",
       "      <td>14</td>\n",
       "    </tr>\n",
       "    <tr>\n",
       "      <th>6</th>\n",
       "      <td>United Arab Emirates</td>\n",
       "      <td>10</td>\n",
       "    </tr>\n",
       "    <tr>\n",
       "      <th>7</th>\n",
       "      <td>Qatar</td>\n",
       "      <td>4</td>\n",
       "    </tr>\n",
       "    <tr>\n",
       "      <th>8</th>\n",
       "      <td>Turkey</td>\n",
       "      <td>4</td>\n",
       "    </tr>\n",
       "    <tr>\n",
       "      <th>9</th>\n",
       "      <td>South Africa</td>\n",
       "      <td>3</td>\n",
       "    </tr>\n",
       "    <tr>\n",
       "      <th>10</th>\n",
       "      <td>United States of America</td>\n",
       "      <td>3</td>\n",
       "    </tr>\n",
       "    <tr>\n",
       "      <th>11</th>\n",
       "      <td>Sri Lanka</td>\n",
       "      <td>1</td>\n",
       "    </tr>\n",
       "  </tbody>\n",
       "</table>\n",
       "</div>"
      ],
      "text/plain": [
       "                     country  restaurant_id\n",
       "0                      India            256\n",
       "1                    England             55\n",
       "2                  Australia             28\n",
       "3                Philippines             22\n",
       "4                 New Zeland             19\n",
       "5                  Indonesia             14\n",
       "6       United Arab Emirates             10\n",
       "7                      Qatar              4\n",
       "8                     Turkey              4\n",
       "9               South Africa              3\n",
       "10  United States of America              3\n",
       "11                 Sri Lanka              1"
      ]
     },
     "execution_count": 57,
     "metadata": {},
     "output_type": "execute_result"
    }
   ],
   "source": [
    "most_booking_restaurants = df.loc[df['has_table_booking'] == 'Yes', ['restaurant_id','country']].groupby('country').count().sort_values('restaurant_id', ascending=False).reset_index()\n",
    "most_booking_restaurants"
   ]
  },
  {
   "cell_type": "markdown",
   "metadata": {},
   "source": [
    "## 8. Qual o nome do país que possui, na média, a maior quantidade de avaliações registrada?\n"
   ]
  },
  {
   "cell_type": "code",
   "execution_count": 58,
   "metadata": {},
   "outputs": [
    {
     "data": {
      "text/html": [
       "<div>\n",
       "<style scoped>\n",
       "    .dataframe tbody tr th:only-of-type {\n",
       "        vertical-align: middle;\n",
       "    }\n",
       "\n",
       "    .dataframe tbody tr th {\n",
       "        vertical-align: top;\n",
       "    }\n",
       "\n",
       "    .dataframe thead th {\n",
       "        text-align: right;\n",
       "    }\n",
       "</style>\n",
       "<table border=\"1\" class=\"dataframe\">\n",
       "  <thead>\n",
       "    <tr style=\"text-align: right;\">\n",
       "      <th></th>\n",
       "      <th>country</th>\n",
       "      <th>votes</th>\n",
       "    </tr>\n",
       "  </thead>\n",
       "  <tbody>\n",
       "    <tr>\n",
       "      <th>0</th>\n",
       "      <td>Indonesia</td>\n",
       "      <td>1112.82</td>\n",
       "    </tr>\n",
       "    <tr>\n",
       "      <th>1</th>\n",
       "      <td>India</td>\n",
       "      <td>897.50</td>\n",
       "    </tr>\n",
       "    <tr>\n",
       "      <th>2</th>\n",
       "      <td>Australia</td>\n",
       "      <td>727.12</td>\n",
       "    </tr>\n",
       "    <tr>\n",
       "      <th>3</th>\n",
       "      <td>Turkey</td>\n",
       "      <td>630.14</td>\n",
       "    </tr>\n",
       "    <tr>\n",
       "      <th>4</th>\n",
       "      <td>Philippines</td>\n",
       "      <td>604.98</td>\n",
       "    </tr>\n",
       "    <tr>\n",
       "      <th>5</th>\n",
       "      <td>United Arab Emirates</td>\n",
       "      <td>591.88</td>\n",
       "    </tr>\n",
       "    <tr>\n",
       "      <th>6</th>\n",
       "      <td>Canada</td>\n",
       "      <td>583.43</td>\n",
       "    </tr>\n",
       "    <tr>\n",
       "      <th>7</th>\n",
       "      <td>United States of America</td>\n",
       "      <td>379.84</td>\n",
       "    </tr>\n",
       "    <tr>\n",
       "      <th>8</th>\n",
       "      <td>Qatar</td>\n",
       "      <td>376.32</td>\n",
       "    </tr>\n",
       "    <tr>\n",
       "      <th>9</th>\n",
       "      <td>South Africa</td>\n",
       "      <td>236.82</td>\n",
       "    </tr>\n",
       "    <tr>\n",
       "      <th>10</th>\n",
       "      <td>New Zeland</td>\n",
       "      <td>219.80</td>\n",
       "    </tr>\n",
       "    <tr>\n",
       "      <th>11</th>\n",
       "      <td>Sri Lanka</td>\n",
       "      <td>151.66</td>\n",
       "    </tr>\n",
       "    <tr>\n",
       "      <th>12</th>\n",
       "      <td>England</td>\n",
       "      <td>99.89</td>\n",
       "    </tr>\n",
       "    <tr>\n",
       "      <th>13</th>\n",
       "      <td>Singapure</td>\n",
       "      <td>22.78</td>\n",
       "    </tr>\n",
       "    <tr>\n",
       "      <th>14</th>\n",
       "      <td>Brazil</td>\n",
       "      <td>12.40</td>\n",
       "    </tr>\n",
       "  </tbody>\n",
       "</table>\n",
       "</div>"
      ],
      "text/plain": [
       "                     country    votes\n",
       "0                  Indonesia  1112.82\n",
       "1                      India   897.50\n",
       "2                  Australia   727.12\n",
       "3                     Turkey   630.14\n",
       "4                Philippines   604.98\n",
       "5       United Arab Emirates   591.88\n",
       "6                     Canada   583.43\n",
       "7   United States of America   379.84\n",
       "8                      Qatar   376.32\n",
       "9               South Africa   236.82\n",
       "10                New Zeland   219.80\n",
       "11                 Sri Lanka   151.66\n",
       "12                   England    99.89\n",
       "13                 Singapure    22.78\n",
       "14                    Brazil    12.40"
      ]
     },
     "execution_count": 58,
     "metadata": {},
     "output_type": "execute_result"
    }
   ],
   "source": [
    "avg_votes = df.loc[:,['votes', 'country']].groupby('country').mean().sort_values('votes', ascending=False).reset_index()\n",
    "np.round(avg_votes, 2)"
   ]
  },
  {
   "cell_type": "markdown",
   "metadata": {},
   "source": [
    "## 9. Qual o nome do país que possui, na média, a maior nota média registrada?\n"
   ]
  },
  {
   "cell_type": "code",
   "execution_count": 59,
   "metadata": {},
   "outputs": [
    {
     "data": {
      "text/html": [
       "<div>\n",
       "<style scoped>\n",
       "    .dataframe tbody tr th:only-of-type {\n",
       "        vertical-align: middle;\n",
       "    }\n",
       "\n",
       "    .dataframe tbody tr th {\n",
       "        vertical-align: top;\n",
       "    }\n",
       "\n",
       "    .dataframe thead th {\n",
       "        text-align: right;\n",
       "    }\n",
       "</style>\n",
       "<table border=\"1\" class=\"dataframe\">\n",
       "  <thead>\n",
       "    <tr style=\"text-align: right;\">\n",
       "      <th></th>\n",
       "      <th>country</th>\n",
       "      <th>aggregate_rating</th>\n",
       "    </tr>\n",
       "  </thead>\n",
       "  <tbody>\n",
       "    <tr>\n",
       "      <th>0</th>\n",
       "      <td>Indonesia</td>\n",
       "      <td>4.60</td>\n",
       "    </tr>\n",
       "    <tr>\n",
       "      <th>1</th>\n",
       "      <td>Philippines</td>\n",
       "      <td>4.46</td>\n",
       "    </tr>\n",
       "    <tr>\n",
       "      <th>2</th>\n",
       "      <td>Singapure</td>\n",
       "      <td>4.44</td>\n",
       "    </tr>\n",
       "    <tr>\n",
       "      <th>3</th>\n",
       "      <td>United States of America</td>\n",
       "      <td>4.40</td>\n",
       "    </tr>\n",
       "    <tr>\n",
       "      <th>4</th>\n",
       "      <td>Australia</td>\n",
       "      <td>4.37</td>\n",
       "    </tr>\n",
       "    <tr>\n",
       "      <th>5</th>\n",
       "      <td>Canada</td>\n",
       "      <td>4.32</td>\n",
       "    </tr>\n",
       "    <tr>\n",
       "      <th>6</th>\n",
       "      <td>Turkey</td>\n",
       "      <td>4.31</td>\n",
       "    </tr>\n",
       "    <tr>\n",
       "      <th>7</th>\n",
       "      <td>Qatar</td>\n",
       "      <td>4.24</td>\n",
       "    </tr>\n",
       "    <tr>\n",
       "      <th>8</th>\n",
       "      <td>New Zeland</td>\n",
       "      <td>4.16</td>\n",
       "    </tr>\n",
       "    <tr>\n",
       "      <th>9</th>\n",
       "      <td>South Africa</td>\n",
       "      <td>4.06</td>\n",
       "    </tr>\n",
       "    <tr>\n",
       "      <th>10</th>\n",
       "      <td>Sri Lanka</td>\n",
       "      <td>4.06</td>\n",
       "    </tr>\n",
       "    <tr>\n",
       "      <th>11</th>\n",
       "      <td>England</td>\n",
       "      <td>4.04</td>\n",
       "    </tr>\n",
       "    <tr>\n",
       "      <th>12</th>\n",
       "      <td>India</td>\n",
       "      <td>4.03</td>\n",
       "    </tr>\n",
       "    <tr>\n",
       "      <th>13</th>\n",
       "      <td>United Arab Emirates</td>\n",
       "      <td>4.02</td>\n",
       "    </tr>\n",
       "    <tr>\n",
       "      <th>14</th>\n",
       "      <td>Brazil</td>\n",
       "      <td>3.32</td>\n",
       "    </tr>\n",
       "  </tbody>\n",
       "</table>\n",
       "</div>"
      ],
      "text/plain": [
       "                     country  aggregate_rating\n",
       "0                  Indonesia              4.60\n",
       "1                Philippines              4.46\n",
       "2                  Singapure              4.44\n",
       "3   United States of America              4.40\n",
       "4                  Australia              4.37\n",
       "5                     Canada              4.32\n",
       "6                     Turkey              4.31\n",
       "7                      Qatar              4.24\n",
       "8                 New Zeland              4.16\n",
       "9               South Africa              4.06\n",
       "10                 Sri Lanka              4.06\n",
       "11                   England              4.04\n",
       "12                     India              4.03\n",
       "13      United Arab Emirates              4.02\n",
       "14                    Brazil              3.32"
      ]
     },
     "execution_count": 59,
     "metadata": {},
     "output_type": "execute_result"
    }
   ],
   "source": [
    "avg_rating = df.loc[:,['aggregate_rating', 'country']].groupby('country').mean().sort_values('aggregate_rating', ascending=False).reset_index()\n",
    "np.round(avg_rating, 2)"
   ]
  },
  {
   "cell_type": "markdown",
   "metadata": {},
   "source": [
    "## 10. Qual o nome do país que possui, na média, a menor nota média registrada?\n"
   ]
  },
  {
   "cell_type": "code",
   "execution_count": 60,
   "metadata": {},
   "outputs": [
    {
     "data": {
      "text/html": [
       "<div>\n",
       "<style scoped>\n",
       "    .dataframe tbody tr th:only-of-type {\n",
       "        vertical-align: middle;\n",
       "    }\n",
       "\n",
       "    .dataframe tbody tr th {\n",
       "        vertical-align: top;\n",
       "    }\n",
       "\n",
       "    .dataframe thead th {\n",
       "        text-align: right;\n",
       "    }\n",
       "</style>\n",
       "<table border=\"1\" class=\"dataframe\">\n",
       "  <thead>\n",
       "    <tr style=\"text-align: right;\">\n",
       "      <th></th>\n",
       "      <th>country</th>\n",
       "      <th>aggregate_rating</th>\n",
       "    </tr>\n",
       "  </thead>\n",
       "  <tbody>\n",
       "    <tr>\n",
       "      <th>0</th>\n",
       "      <td>Brazil</td>\n",
       "      <td>3.32</td>\n",
       "    </tr>\n",
       "    <tr>\n",
       "      <th>1</th>\n",
       "      <td>United Arab Emirates</td>\n",
       "      <td>4.02</td>\n",
       "    </tr>\n",
       "    <tr>\n",
       "      <th>2</th>\n",
       "      <td>India</td>\n",
       "      <td>4.03</td>\n",
       "    </tr>\n",
       "    <tr>\n",
       "      <th>3</th>\n",
       "      <td>England</td>\n",
       "      <td>4.04</td>\n",
       "    </tr>\n",
       "    <tr>\n",
       "      <th>4</th>\n",
       "      <td>Sri Lanka</td>\n",
       "      <td>4.06</td>\n",
       "    </tr>\n",
       "    <tr>\n",
       "      <th>5</th>\n",
       "      <td>South Africa</td>\n",
       "      <td>4.06</td>\n",
       "    </tr>\n",
       "    <tr>\n",
       "      <th>6</th>\n",
       "      <td>New Zeland</td>\n",
       "      <td>4.16</td>\n",
       "    </tr>\n",
       "    <tr>\n",
       "      <th>7</th>\n",
       "      <td>Qatar</td>\n",
       "      <td>4.24</td>\n",
       "    </tr>\n",
       "    <tr>\n",
       "      <th>8</th>\n",
       "      <td>Turkey</td>\n",
       "      <td>4.31</td>\n",
       "    </tr>\n",
       "    <tr>\n",
       "      <th>9</th>\n",
       "      <td>Canada</td>\n",
       "      <td>4.32</td>\n",
       "    </tr>\n",
       "    <tr>\n",
       "      <th>10</th>\n",
       "      <td>Australia</td>\n",
       "      <td>4.37</td>\n",
       "    </tr>\n",
       "    <tr>\n",
       "      <th>11</th>\n",
       "      <td>United States of America</td>\n",
       "      <td>4.40</td>\n",
       "    </tr>\n",
       "    <tr>\n",
       "      <th>12</th>\n",
       "      <td>Singapure</td>\n",
       "      <td>4.44</td>\n",
       "    </tr>\n",
       "    <tr>\n",
       "      <th>13</th>\n",
       "      <td>Philippines</td>\n",
       "      <td>4.46</td>\n",
       "    </tr>\n",
       "    <tr>\n",
       "      <th>14</th>\n",
       "      <td>Indonesia</td>\n",
       "      <td>4.60</td>\n",
       "    </tr>\n",
       "  </tbody>\n",
       "</table>\n",
       "</div>"
      ],
      "text/plain": [
       "                     country  aggregate_rating\n",
       "0                     Brazil              3.32\n",
       "1       United Arab Emirates              4.02\n",
       "2                      India              4.03\n",
       "3                    England              4.04\n",
       "4                  Sri Lanka              4.06\n",
       "5               South Africa              4.06\n",
       "6                 New Zeland              4.16\n",
       "7                      Qatar              4.24\n",
       "8                     Turkey              4.31\n",
       "9                     Canada              4.32\n",
       "10                 Australia              4.37\n",
       "11  United States of America              4.40\n",
       "12                 Singapure              4.44\n",
       "13               Philippines              4.46\n",
       "14                 Indonesia              4.60"
      ]
     },
     "execution_count": 60,
     "metadata": {},
     "output_type": "execute_result"
    }
   ],
   "source": [
    "avg_rating = df.loc[:,['aggregate_rating', 'country']].groupby('country').mean().sort_values('aggregate_rating', ascending=True).reset_index()\n",
    "np.round(avg_rating, 2)"
   ]
  },
  {
   "cell_type": "markdown",
   "metadata": {},
   "source": [
    "## 11. Qual a média de preço de um prato para dois por país?"
   ]
  },
  {
   "cell_type": "code",
   "execution_count": 92,
   "metadata": {},
   "outputs": [
    {
     "data": {
      "text/html": [
       "<div>\n",
       "<style scoped>\n",
       "    .dataframe tbody tr th:only-of-type {\n",
       "        vertical-align: middle;\n",
       "    }\n",
       "\n",
       "    .dataframe tbody tr th {\n",
       "        vertical-align: top;\n",
       "    }\n",
       "\n",
       "    .dataframe thead th {\n",
       "        text-align: right;\n",
       "    }\n",
       "</style>\n",
       "<table border=\"1\" class=\"dataframe\">\n",
       "  <thead>\n",
       "    <tr style=\"text-align: right;\">\n",
       "      <th></th>\n",
       "      <th>restaurant_id</th>\n",
       "      <th>restaurant_name</th>\n",
       "      <th>country</th>\n",
       "      <th>city</th>\n",
       "      <th>address</th>\n",
       "      <th>locality</th>\n",
       "      <th>locality_verbose</th>\n",
       "      <th>longitude</th>\n",
       "      <th>latitude</th>\n",
       "      <th>cuisines</th>\n",
       "      <th>average_cost_for_two</th>\n",
       "      <th>currency_codes</th>\n",
       "      <th>currency_in_usd</th>\n",
       "      <th>has_table_booking</th>\n",
       "      <th>has_online_delivery</th>\n",
       "      <th>is_delivering_now</th>\n",
       "      <th>price_range</th>\n",
       "      <th>aggregate_rating</th>\n",
       "      <th>rating_color</th>\n",
       "      <th>rating_text</th>\n",
       "      <th>votes</th>\n",
       "    </tr>\n",
       "  </thead>\n",
       "  <tbody>\n",
       "    <tr>\n",
       "      <th>0</th>\n",
       "      <td>6310675</td>\n",
       "      <td>Mama Lou's Italian Kitchen</td>\n",
       "      <td>Philippines</td>\n",
       "      <td>Las Piñas City</td>\n",
       "      <td>Block 1, Lot 36, Tropical Avenue Corner Tropic...</td>\n",
       "      <td>BF International</td>\n",
       "      <td>BF International, Las Piñas City</td>\n",
       "      <td>121.009787</td>\n",
       "      <td>14.447615</td>\n",
       "      <td>Italian</td>\n",
       "      <td>1100</td>\n",
       "      <td>BWP</td>\n",
       "      <td>81.082661</td>\n",
       "      <td>Yes</td>\n",
       "      <td>No</td>\n",
       "      <td>No</td>\n",
       "      <td>expensive</td>\n",
       "      <td>4.6</td>\n",
       "      <td>darkgreen</td>\n",
       "      <td>Excellent</td>\n",
       "      <td>619</td>\n",
       "    </tr>\n",
       "  </tbody>\n",
       "</table>\n",
       "</div>"
      ],
      "text/plain": [
       "   restaurant_id             restaurant_name      country            city  \\\n",
       "0        6310675  Mama Lou's Italian Kitchen  Philippines  Las Piñas City   \n",
       "\n",
       "                                             address          locality  \\\n",
       "0  Block 1, Lot 36, Tropical Avenue Corner Tropic...  BF International   \n",
       "\n",
       "                   locality_verbose   longitude   latitude cuisines  \\\n",
       "0  BF International, Las Piñas City  121.009787  14.447615  Italian   \n",
       "\n",
       "   average_cost_for_two currency_codes  currency_in_usd has_table_booking  \\\n",
       "0                  1100            BWP        81.082661               Yes   \n",
       "\n",
       "  has_online_delivery is_delivering_now price_range  aggregate_rating  \\\n",
       "0                  No                No   expensive               4.6   \n",
       "\n",
       "  rating_color rating_text  votes  \n",
       "0    darkgreen   Excellent    619  "
      ]
     },
     "execution_count": 92,
     "metadata": {},
     "output_type": "execute_result"
    }
   ],
   "source": [
    "df.head(1)"
   ]
  },
  {
   "cell_type": "code",
   "execution_count": 93,
   "metadata": {},
   "outputs": [
    {
     "data": {
      "text/html": [
       "<div>\n",
       "<style scoped>\n",
       "    .dataframe tbody tr th:only-of-type {\n",
       "        vertical-align: middle;\n",
       "    }\n",
       "\n",
       "    .dataframe tbody tr th {\n",
       "        vertical-align: top;\n",
       "    }\n",
       "\n",
       "    .dataframe thead th {\n",
       "        text-align: right;\n",
       "    }\n",
       "</style>\n",
       "<table border=\"1\" class=\"dataframe\">\n",
       "  <thead>\n",
       "    <tr style=\"text-align: right;\">\n",
       "      <th></th>\n",
       "      <th>country</th>\n",
       "      <th>currency_codes</th>\n",
       "      <th>currency_in_usd</th>\n",
       "    </tr>\n",
       "  </thead>\n",
       "  <tbody>\n",
       "    <tr>\n",
       "      <th>0</th>\n",
       "      <td>Australia</td>\n",
       "      <td>USD</td>\n",
       "      <td>71.195531</td>\n",
       "    </tr>\n",
       "    <tr>\n",
       "      <th>1</th>\n",
       "      <td>Brazil</td>\n",
       "      <td>BRL</td>\n",
       "      <td>24.078905</td>\n",
       "    </tr>\n",
       "    <tr>\n",
       "      <th>2</th>\n",
       "      <td>Canada</td>\n",
       "      <td>USD</td>\n",
       "      <td>41.861111</td>\n",
       "    </tr>\n",
       "    <tr>\n",
       "      <th>3</th>\n",
       "      <td>England</td>\n",
       "      <td>GBP</td>\n",
       "      <td>55.419684</td>\n",
       "    </tr>\n",
       "    <tr>\n",
       "      <th>4</th>\n",
       "      <td>India</td>\n",
       "      <td>INR</td>\n",
       "      <td>8.338071</td>\n",
       "    </tr>\n",
       "    <tr>\n",
       "      <th>5</th>\n",
       "      <td>Indonesia</td>\n",
       "      <td>IDR</td>\n",
       "      <td>19.206775</td>\n",
       "    </tr>\n",
       "    <tr>\n",
       "      <th>6</th>\n",
       "      <td>New Zeland</td>\n",
       "      <td>NZD</td>\n",
       "      <td>36.813496</td>\n",
       "    </tr>\n",
       "    <tr>\n",
       "      <th>7</th>\n",
       "      <td>Philippines</td>\n",
       "      <td>BWP</td>\n",
       "      <td>90.504834</td>\n",
       "    </tr>\n",
       "    <tr>\n",
       "      <th>8</th>\n",
       "      <td>Qatar</td>\n",
       "      <td>QAR</td>\n",
       "      <td>47.752600</td>\n",
       "    </tr>\n",
       "    <tr>\n",
       "      <th>9</th>\n",
       "      <td>Singapure</td>\n",
       "      <td>USD</td>\n",
       "      <td>141.437500</td>\n",
       "    </tr>\n",
       "    <tr>\n",
       "      <th>10</th>\n",
       "      <td>South Africa</td>\n",
       "      <td>ZAR</td>\n",
       "      <td>18.726892</td>\n",
       "    </tr>\n",
       "    <tr>\n",
       "      <th>11</th>\n",
       "      <td>Sri Lanka</td>\n",
       "      <td>LKR</td>\n",
       "      <td>8.781231</td>\n",
       "    </tr>\n",
       "    <tr>\n",
       "      <th>12</th>\n",
       "      <td>Turkey</td>\n",
       "      <td>TRY</td>\n",
       "      <td>3.742123</td>\n",
       "    </tr>\n",
       "    <tr>\n",
       "      <th>13</th>\n",
       "      <td>United Arab Emirates</td>\n",
       "      <td>AED</td>\n",
       "      <td>41.850777</td>\n",
       "    </tr>\n",
       "    <tr>\n",
       "      <th>14</th>\n",
       "      <td>United States of America</td>\n",
       "      <td>USD</td>\n",
       "      <td>55.018868</td>\n",
       "    </tr>\n",
       "  </tbody>\n",
       "</table>\n",
       "</div>"
      ],
      "text/plain": [
       "                     country currency_codes  currency_in_usd\n",
       "0                  Australia            USD        71.195531\n",
       "1                     Brazil            BRL        24.078905\n",
       "2                     Canada            USD        41.861111\n",
       "3                    England            GBP        55.419684\n",
       "4                      India            INR         8.338071\n",
       "5                  Indonesia            IDR        19.206775\n",
       "6                 New Zeland            NZD        36.813496\n",
       "7                Philippines            BWP        90.504834\n",
       "8                      Qatar            QAR        47.752600\n",
       "9                  Singapure            USD       141.437500\n",
       "10              South Africa            ZAR        18.726892\n",
       "11                 Sri Lanka            LKR         8.781231\n",
       "12                    Turkey            TRY         3.742123\n",
       "13      United Arab Emirates            AED        41.850777\n",
       "14  United States of America            USD        55.018868"
      ]
     },
     "execution_count": 93,
     "metadata": {},
     "output_type": "execute_result"
    }
   ],
   "source": [
    "avg_cost_for_two = df.loc[:, ['currency_in_usd','country', 'currency_codes']].groupby(['country','currency_codes']).mean().reset_index()\n",
    "avg_cost_for_two"
   ]
  },
  {
   "cell_type": "markdown",
   "metadata": {},
   "source": [
    "# 3.0. City insights"
   ]
  },
  {
   "cell_type": "code",
   "execution_count": 44,
   "metadata": {},
   "outputs": [
    {
     "data": {
      "text/html": [
       "<div>\n",
       "<style scoped>\n",
       "    .dataframe tbody tr th:only-of-type {\n",
       "        vertical-align: middle;\n",
       "    }\n",
       "\n",
       "    .dataframe tbody tr th {\n",
       "        vertical-align: top;\n",
       "    }\n",
       "\n",
       "    .dataframe thead th {\n",
       "        text-align: right;\n",
       "    }\n",
       "</style>\n",
       "<table border=\"1\" class=\"dataframe\">\n",
       "  <thead>\n",
       "    <tr style=\"text-align: right;\">\n",
       "      <th></th>\n",
       "      <th>city</th>\n",
       "      <th>price_range</th>\n",
       "    </tr>\n",
       "  </thead>\n",
       "  <tbody>\n",
       "    <tr>\n",
       "      <th>0</th>\n",
       "      <td>Ludhiana</td>\n",
       "      <td>38</td>\n",
       "    </tr>\n",
       "    <tr>\n",
       "      <th>1</th>\n",
       "      <td>Bhubaneshwar</td>\n",
       "      <td>35</td>\n",
       "    </tr>\n",
       "    <tr>\n",
       "      <th>2</th>\n",
       "      <td>Gangtok</td>\n",
       "      <td>32</td>\n",
       "    </tr>\n",
       "    <tr>\n",
       "      <th>3</th>\n",
       "      <td>Ooty</td>\n",
       "      <td>32</td>\n",
       "    </tr>\n",
       "    <tr>\n",
       "      <th>4</th>\n",
       "      <td>Ranchi</td>\n",
       "      <td>32</td>\n",
       "    </tr>\n",
       "    <tr>\n",
       "      <th>...</th>\n",
       "      <td>...</td>\n",
       "      <td>...</td>\n",
       "    </tr>\n",
       "    <tr>\n",
       "      <th>80</th>\n",
       "      <td>Portland</td>\n",
       "      <td>1</td>\n",
       "    </tr>\n",
       "    <tr>\n",
       "      <th>81</th>\n",
       "      <td>Sandton</td>\n",
       "      <td>1</td>\n",
       "    </tr>\n",
       "    <tr>\n",
       "      <th>82</th>\n",
       "      <td>Ahmedabad</td>\n",
       "      <td>1</td>\n",
       "    </tr>\n",
       "    <tr>\n",
       "      <th>83</th>\n",
       "      <td>Brisbane</td>\n",
       "      <td>1</td>\n",
       "    </tr>\n",
       "    <tr>\n",
       "      <th>84</th>\n",
       "      <td>Clarens</td>\n",
       "      <td>1</td>\n",
       "    </tr>\n",
       "  </tbody>\n",
       "</table>\n",
       "<p>85 rows × 2 columns</p>\n",
       "</div>"
      ],
      "text/plain": [
       "            city  price_range\n",
       "0       Ludhiana           38\n",
       "1   Bhubaneshwar           35\n",
       "2        Gangtok           32\n",
       "3           Ooty           32\n",
       "4         Ranchi           32\n",
       "..           ...          ...\n",
       "80      Portland            1\n",
       "81       Sandton            1\n",
       "82     Ahmedabad            1\n",
       "83      Brisbane            1\n",
       "84       Clarens            1\n",
       "\n",
       "[85 rows x 2 columns]"
      ]
     },
     "execution_count": 44,
     "metadata": {},
     "output_type": "execute_result"
    }
   ],
   "source": [
    "price_range_city = df.loc[df['price_range'] == 'cheap', ['price_range','city']].groupby('city').count().sort_values('price_range', ascending= False).reset_index()\n",
    "price_range_city\n",
    "# price_range_top = price_range_city.loc[0,'price_range']\n",
    "# price_range_top"
   ]
  },
  {
   "cell_type": "markdown",
   "metadata": {},
   "source": [
    "## 1. Qual o nome da cidade que possui mais restaurantes registrados?"
   ]
  },
  {
   "cell_type": "code",
   "execution_count": 45,
   "metadata": {},
   "outputs": [
    {
     "data": {
      "text/html": [
       "<div>\n",
       "<style scoped>\n",
       "    .dataframe tbody tr th:only-of-type {\n",
       "        vertical-align: middle;\n",
       "    }\n",
       "\n",
       "    .dataframe tbody tr th {\n",
       "        vertical-align: top;\n",
       "    }\n",
       "\n",
       "    .dataframe thead th {\n",
       "        text-align: right;\n",
       "    }\n",
       "</style>\n",
       "<table border=\"1\" class=\"dataframe\">\n",
       "  <thead>\n",
       "    <tr style=\"text-align: right;\">\n",
       "      <th></th>\n",
       "      <th>city</th>\n",
       "      <th>rest_count</th>\n",
       "    </tr>\n",
       "  </thead>\n",
       "  <tbody>\n",
       "    <tr>\n",
       "      <th>0</th>\n",
       "      <td>Abu Dhabi</td>\n",
       "      <td>80</td>\n",
       "    </tr>\n",
       "    <tr>\n",
       "      <th>1</th>\n",
       "      <td>Kanpur</td>\n",
       "      <td>80</td>\n",
       "    </tr>\n",
       "    <tr>\n",
       "      <th>2</th>\n",
       "      <td>Mangalore</td>\n",
       "      <td>80</td>\n",
       "    </tr>\n",
       "    <tr>\n",
       "      <th>3</th>\n",
       "      <td>Manchester</td>\n",
       "      <td>80</td>\n",
       "    </tr>\n",
       "    <tr>\n",
       "      <th>4</th>\n",
       "      <td>Lucknow</td>\n",
       "      <td>80</td>\n",
       "    </tr>\n",
       "    <tr>\n",
       "      <th>...</th>\n",
       "      <td>...</td>\n",
       "      <td>...</td>\n",
       "    </tr>\n",
       "    <tr>\n",
       "      <th>120</th>\n",
       "      <td>Marikina City</td>\n",
       "      <td>1</td>\n",
       "    </tr>\n",
       "    <tr>\n",
       "      <th>121</th>\n",
       "      <td>Ghaziabad</td>\n",
       "      <td>1</td>\n",
       "    </tr>\n",
       "    <tr>\n",
       "      <th>122</th>\n",
       "      <td>Gandhinagar</td>\n",
       "      <td>1</td>\n",
       "    </tr>\n",
       "    <tr>\n",
       "      <th>123</th>\n",
       "      <td>Muntinlupa City</td>\n",
       "      <td>1</td>\n",
       "    </tr>\n",
       "    <tr>\n",
       "      <th>124</th>\n",
       "      <td>Zirakpur</td>\n",
       "      <td>1</td>\n",
       "    </tr>\n",
       "  </tbody>\n",
       "</table>\n",
       "<p>125 rows × 2 columns</p>\n",
       "</div>"
      ],
      "text/plain": [
       "                city  rest_count\n",
       "0          Abu Dhabi          80\n",
       "1             Kanpur          80\n",
       "2          Mangalore          80\n",
       "3         Manchester          80\n",
       "4            Lucknow          80\n",
       "..               ...         ...\n",
       "120    Marikina City           1\n",
       "121        Ghaziabad           1\n",
       "122      Gandhinagar           1\n",
       "123  Muntinlupa City           1\n",
       "124         Zirakpur           1\n",
       "\n",
       "[125 rows x 2 columns]"
      ]
     },
     "execution_count": 45,
     "metadata": {},
     "output_type": "execute_result"
    }
   ],
   "source": [
    "city_rest_count = df.loc[:,['restaurant_id','city']].groupby('city').count().sort_values('restaurant_id', ascending=False)\n",
    "city_rest_count.columns = ['rest_count']\n",
    "city_rest_count.reset_index()"
   ]
  },
  {
   "cell_type": "code",
   "execution_count": 46,
   "metadata": {},
   "outputs": [
    {
     "data": {
      "text/html": [
       "<div>\n",
       "<style scoped>\n",
       "    .dataframe tbody tr th:only-of-type {\n",
       "        vertical-align: middle;\n",
       "    }\n",
       "\n",
       "    .dataframe tbody tr th {\n",
       "        vertical-align: top;\n",
       "    }\n",
       "\n",
       "    .dataframe thead th {\n",
       "        text-align: right;\n",
       "    }\n",
       "</style>\n",
       "<table border=\"1\" class=\"dataframe\">\n",
       "  <thead>\n",
       "    <tr style=\"text-align: right;\">\n",
       "      <th></th>\n",
       "      <th>city</th>\n",
       "      <th>rest_count</th>\n",
       "    </tr>\n",
       "  </thead>\n",
       "  <tbody>\n",
       "    <tr>\n",
       "      <th>0</th>\n",
       "      <td>Abu Dhabi</td>\n",
       "      <td>80</td>\n",
       "    </tr>\n",
       "    <tr>\n",
       "      <th>1</th>\n",
       "      <td>Kanpur</td>\n",
       "      <td>80</td>\n",
       "    </tr>\n",
       "    <tr>\n",
       "      <th>2</th>\n",
       "      <td>Mangalore</td>\n",
       "      <td>80</td>\n",
       "    </tr>\n",
       "  </tbody>\n",
       "</table>\n",
       "</div>"
      ],
      "text/plain": [
       "        city  rest_count\n",
       "0  Abu Dhabi          80\n",
       "1     Kanpur          80\n",
       "2  Mangalore          80"
      ]
     },
     "execution_count": 46,
     "metadata": {},
     "output_type": "execute_result"
    }
   ],
   "source": [
    "filtered_cities = city_rest_count.loc[city_rest_count['rest_count'] == 80,:].reset_index()\n",
    "filtered_cities.head(3)"
   ]
  },
  {
   "cell_type": "code",
   "execution_count": 47,
   "metadata": {},
   "outputs": [
    {
     "data": {
      "text/html": [
       "<div>\n",
       "<style scoped>\n",
       "    .dataframe tbody tr th:only-of-type {\n",
       "        vertical-align: middle;\n",
       "    }\n",
       "\n",
       "    .dataframe tbody tr th {\n",
       "        vertical-align: top;\n",
       "    }\n",
       "\n",
       "    .dataframe thead th {\n",
       "        text-align: right;\n",
       "    }\n",
       "</style>\n",
       "<table border=\"1\" class=\"dataframe\">\n",
       "  <thead>\n",
       "    <tr style=\"text-align: right;\">\n",
       "      <th></th>\n",
       "      <th>city</th>\n",
       "      <th>restaurant_id</th>\n",
       "    </tr>\n",
       "  </thead>\n",
       "  <tbody>\n",
       "    <tr>\n",
       "      <th>0</th>\n",
       "      <td>Abu Dhabi</td>\n",
       "      <td>5700005</td>\n",
       "    </tr>\n",
       "    <tr>\n",
       "      <th>1</th>\n",
       "      <td>Agra</td>\n",
       "      <td>3400005</td>\n",
       "    </tr>\n",
       "    <tr>\n",
       "      <th>2</th>\n",
       "      <td>Allahabad</td>\n",
       "      <td>2400005</td>\n",
       "    </tr>\n",
       "    <tr>\n",
       "      <th>3</th>\n",
       "      <td>Amritsar</td>\n",
       "      <td>2200000</td>\n",
       "    </tr>\n",
       "    <tr>\n",
       "      <th>4</th>\n",
       "      <td>Ankara</td>\n",
       "      <td>6000019</td>\n",
       "    </tr>\n",
       "    <tr>\n",
       "      <th>5</th>\n",
       "      <td>Aurangabad</td>\n",
       "      <td>2500005</td>\n",
       "    </tr>\n",
       "    <tr>\n",
       "      <th>6</th>\n",
       "      <td>Austin</td>\n",
       "      <td>16911952</td>\n",
       "    </tr>\n",
       "    <tr>\n",
       "      <th>7</th>\n",
       "      <td>Bangalore</td>\n",
       "      <td>50066</td>\n",
       "    </tr>\n",
       "    <tr>\n",
       "      <th>8</th>\n",
       "      <td>Bhopal</td>\n",
       "      <td>2600003</td>\n",
       "    </tr>\n",
       "    <tr>\n",
       "      <th>9</th>\n",
       "      <td>Bhubaneshwar</td>\n",
       "      <td>2900004</td>\n",
       "    </tr>\n",
       "    <tr>\n",
       "      <th>10</th>\n",
       "      <td>Birmingham</td>\n",
       "      <td>6900018</td>\n",
       "    </tr>\n",
       "    <tr>\n",
       "      <th>11</th>\n",
       "      <td>Brasília</td>\n",
       "      <td>6600061</td>\n",
       "    </tr>\n",
       "    <tr>\n",
       "      <th>12</th>\n",
       "      <td>Cape Town</td>\n",
       "      <td>6400062</td>\n",
       "    </tr>\n",
       "    <tr>\n",
       "      <th>13</th>\n",
       "      <td>Chennai</td>\n",
       "      <td>65055</td>\n",
       "    </tr>\n",
       "    <tr>\n",
       "      <th>14</th>\n",
       "      <td>Coimbatore</td>\n",
       "      <td>3000001</td>\n",
       "    </tr>\n",
       "    <tr>\n",
       "      <th>15</th>\n",
       "      <td>Colombo</td>\n",
       "      <td>5800008</td>\n",
       "    </tr>\n",
       "    <tr>\n",
       "      <th>16</th>\n",
       "      <td>Dallas</td>\n",
       "      <td>16939069</td>\n",
       "    </tr>\n",
       "    <tr>\n",
       "      <th>17</th>\n",
       "      <td>Dehradun</td>\n",
       "      <td>3500007</td>\n",
       "    </tr>\n",
       "    <tr>\n",
       "      <th>18</th>\n",
       "      <td>Doha</td>\n",
       "      <td>6200110</td>\n",
       "    </tr>\n",
       "    <tr>\n",
       "      <th>19</th>\n",
       "      <td>Dubai</td>\n",
       "      <td>200376</td>\n",
       "    </tr>\n",
       "    <tr>\n",
       "      <th>20</th>\n",
       "      <td>Durban</td>\n",
       "      <td>7800019</td>\n",
       "    </tr>\n",
       "    <tr>\n",
       "      <th>21</th>\n",
       "      <td>Edinburgh</td>\n",
       "      <td>7600015</td>\n",
       "    </tr>\n",
       "    <tr>\n",
       "      <th>22</th>\n",
       "      <td>Gangtok</td>\n",
       "      <td>16500295</td>\n",
       "    </tr>\n",
       "    <tr>\n",
       "      <th>23</th>\n",
       "      <td>Glasgow</td>\n",
       "      <td>7700012</td>\n",
       "    </tr>\n",
       "    <tr>\n",
       "      <th>24</th>\n",
       "      <td>Goa</td>\n",
       "      <td>130008</td>\n",
       "    </tr>\n",
       "    <tr>\n",
       "      <th>25</th>\n",
       "      <td>Guwahati</td>\n",
       "      <td>2100012</td>\n",
       "    </tr>\n",
       "    <tr>\n",
       "      <th>26</th>\n",
       "      <td>Hamilton</td>\n",
       "      <td>7900011</td>\n",
       "    </tr>\n",
       "    <tr>\n",
       "      <th>27</th>\n",
       "      <td>Houston</td>\n",
       "      <td>16879264</td>\n",
       "    </tr>\n",
       "    <tr>\n",
       "      <th>28</th>\n",
       "      <td>Indore</td>\n",
       "      <td>1400038</td>\n",
       "    </tr>\n",
       "    <tr>\n",
       "      <th>29</th>\n",
       "      <td>Jaipur</td>\n",
       "      <td>100080</td>\n",
       "    </tr>\n",
       "    <tr>\n",
       "      <th>30</th>\n",
       "      <td>Kanpur</td>\n",
       "      <td>2300003</td>\n",
       "    </tr>\n",
       "    <tr>\n",
       "      <th>31</th>\n",
       "      <td>Kochi</td>\n",
       "      <td>95016</td>\n",
       "    </tr>\n",
       "    <tr>\n",
       "      <th>32</th>\n",
       "      <td>Kolkata</td>\n",
       "      <td>20350</td>\n",
       "    </tr>\n",
       "    <tr>\n",
       "      <th>33</th>\n",
       "      <td>London</td>\n",
       "      <td>6100054</td>\n",
       "    </tr>\n",
       "    <tr>\n",
       "      <th>34</th>\n",
       "      <td>Lucknow</td>\n",
       "      <td>800089</td>\n",
       "    </tr>\n",
       "    <tr>\n",
       "      <th>35</th>\n",
       "      <td>Ludhiana</td>\n",
       "      <td>15008</td>\n",
       "    </tr>\n",
       "    <tr>\n",
       "      <th>36</th>\n",
       "      <td>Manchester</td>\n",
       "      <td>6800078</td>\n",
       "    </tr>\n",
       "    <tr>\n",
       "      <th>37</th>\n",
       "      <td>Mangalore</td>\n",
       "      <td>3100000</td>\n",
       "    </tr>\n",
       "    <tr>\n",
       "      <th>38</th>\n",
       "      <td>Mysore</td>\n",
       "      <td>3600008</td>\n",
       "    </tr>\n",
       "    <tr>\n",
       "      <th>39</th>\n",
       "      <td>Nagpur</td>\n",
       "      <td>3300011</td>\n",
       "    </tr>\n",
       "    <tr>\n",
       "      <th>40</th>\n",
       "      <td>Ooty</td>\n",
       "      <td>18698376</td>\n",
       "    </tr>\n",
       "    <tr>\n",
       "      <th>41</th>\n",
       "      <td>Patna</td>\n",
       "      <td>4000001</td>\n",
       "    </tr>\n",
       "    <tr>\n",
       "      <th>42</th>\n",
       "      <td>Pretoria</td>\n",
       "      <td>75010</td>\n",
       "    </tr>\n",
       "    <tr>\n",
       "      <th>43</th>\n",
       "      <td>Puducherry</td>\n",
       "      <td>3700002</td>\n",
       "    </tr>\n",
       "    <tr>\n",
       "      <th>44</th>\n",
       "      <td>Pune</td>\n",
       "      <td>10011</td>\n",
       "    </tr>\n",
       "    <tr>\n",
       "      <th>45</th>\n",
       "      <td>Ranchi</td>\n",
       "      <td>2700001</td>\n",
       "    </tr>\n",
       "    <tr>\n",
       "      <th>46</th>\n",
       "      <td>Rio de Janeiro</td>\n",
       "      <td>7300004</td>\n",
       "    </tr>\n",
       "    <tr>\n",
       "      <th>47</th>\n",
       "      <td>Sharjah</td>\n",
       "      <td>5600026</td>\n",
       "    </tr>\n",
       "    <tr>\n",
       "      <th>48</th>\n",
       "      <td>Shimla</td>\n",
       "      <td>18703879</td>\n",
       "    </tr>\n",
       "    <tr>\n",
       "      <th>49</th>\n",
       "      <td>Singapore</td>\n",
       "      <td>18479504</td>\n",
       "    </tr>\n",
       "    <tr>\n",
       "      <th>50</th>\n",
       "      <td>Surat</td>\n",
       "      <td>3800002</td>\n",
       "    </tr>\n",
       "    <tr>\n",
       "      <th>51</th>\n",
       "      <td>São Paulo</td>\n",
       "      <td>6700060</td>\n",
       "    </tr>\n",
       "    <tr>\n",
       "      <th>52</th>\n",
       "      <td>Vadodara</td>\n",
       "      <td>3200004</td>\n",
       "    </tr>\n",
       "    <tr>\n",
       "      <th>53</th>\n",
       "      <td>Varanasi</td>\n",
       "      <td>3900010</td>\n",
       "    </tr>\n",
       "    <tr>\n",
       "      <th>54</th>\n",
       "      <td>Vizag</td>\n",
       "      <td>2800001</td>\n",
       "    </tr>\n",
       "  </tbody>\n",
       "</table>\n",
       "</div>"
      ],
      "text/plain": [
       "              city  restaurant_id\n",
       "0        Abu Dhabi        5700005\n",
       "1             Agra        3400005\n",
       "2        Allahabad        2400005\n",
       "3         Amritsar        2200000\n",
       "4           Ankara        6000019\n",
       "5       Aurangabad        2500005\n",
       "6           Austin       16911952\n",
       "7        Bangalore          50066\n",
       "8           Bhopal        2600003\n",
       "9     Bhubaneshwar        2900004\n",
       "10      Birmingham        6900018\n",
       "11        Brasília        6600061\n",
       "12       Cape Town        6400062\n",
       "13         Chennai          65055\n",
       "14      Coimbatore        3000001\n",
       "15         Colombo        5800008\n",
       "16          Dallas       16939069\n",
       "17        Dehradun        3500007\n",
       "18            Doha        6200110\n",
       "19           Dubai         200376\n",
       "20          Durban        7800019\n",
       "21       Edinburgh        7600015\n",
       "22         Gangtok       16500295\n",
       "23         Glasgow        7700012\n",
       "24             Goa         130008\n",
       "25        Guwahati        2100012\n",
       "26        Hamilton        7900011\n",
       "27         Houston       16879264\n",
       "28          Indore        1400038\n",
       "29          Jaipur         100080\n",
       "30          Kanpur        2300003\n",
       "31           Kochi          95016\n",
       "32         Kolkata          20350\n",
       "33          London        6100054\n",
       "34         Lucknow         800089\n",
       "35        Ludhiana          15008\n",
       "36      Manchester        6800078\n",
       "37       Mangalore        3100000\n",
       "38          Mysore        3600008\n",
       "39          Nagpur        3300011\n",
       "40            Ooty       18698376\n",
       "41           Patna        4000001\n",
       "42        Pretoria          75010\n",
       "43      Puducherry        3700002\n",
       "44            Pune          10011\n",
       "45          Ranchi        2700001\n",
       "46  Rio de Janeiro        7300004\n",
       "47         Sharjah        5600026\n",
       "48          Shimla       18703879\n",
       "49       Singapore       18479504\n",
       "50           Surat        3800002\n",
       "51       São Paulo        6700060\n",
       "52        Vadodara        3200004\n",
       "53        Varanasi        3900010\n",
       "54           Vizag        2800001"
      ]
     },
     "execution_count": 47,
     "metadata": {},
     "output_type": "execute_result"
    }
   ],
   "source": [
    "min_ids = df.loc[df['city'].isin(filtered_cities['city']), ['restaurant_id', 'city']].groupby('city').min().reset_index()\n",
    "min_ids.sort_values('restaurant_id', ascending=True)\n",
    "\n",
    "min_ids\n",
    "# top_reg_rest = min_ids.loc[44,['city']]\n",
    "# top_reg_rest"
   ]
  },
  {
   "cell_type": "markdown",
   "metadata": {},
   "source": [
    "## 2. Qual o nome da cidade que possui mais restaurantes com nota média acima de 4?"
   ]
  },
  {
   "cell_type": "code",
   "execution_count": 103,
   "metadata": {},
   "outputs": [
    {
     "data": {
      "text/html": [
       "<div>\n",
       "<style scoped>\n",
       "    .dataframe tbody tr th:only-of-type {\n",
       "        vertical-align: middle;\n",
       "    }\n",
       "\n",
       "    .dataframe tbody tr th {\n",
       "        vertical-align: top;\n",
       "    }\n",
       "\n",
       "    .dataframe thead th {\n",
       "        text-align: right;\n",
       "    }\n",
       "</style>\n",
       "<table border=\"1\" class=\"dataframe\">\n",
       "  <thead>\n",
       "    <tr style=\"text-align: right;\">\n",
       "      <th></th>\n",
       "      <th>city</th>\n",
       "      <th>restaurant_id</th>\n",
       "    </tr>\n",
       "  </thead>\n",
       "  <tbody>\n",
       "    <tr>\n",
       "      <th>0</th>\n",
       "      <td>Bangalore</td>\n",
       "      <td>79</td>\n",
       "    </tr>\n",
       "    <tr>\n",
       "      <th>1</th>\n",
       "      <td>London</td>\n",
       "      <td>78</td>\n",
       "    </tr>\n",
       "    <tr>\n",
       "      <th>2</th>\n",
       "      <td>Houston</td>\n",
       "      <td>75</td>\n",
       "    </tr>\n",
       "    <tr>\n",
       "      <th>3</th>\n",
       "      <td>Jakarta</td>\n",
       "      <td>74</td>\n",
       "    </tr>\n",
       "    <tr>\n",
       "      <th>4</th>\n",
       "      <td>Chennai</td>\n",
       "      <td>72</td>\n",
       "    </tr>\n",
       "    <tr>\n",
       "      <th>...</th>\n",
       "      <td>...</td>\n",
       "      <td>...</td>\n",
       "    </tr>\n",
       "    <tr>\n",
       "      <th>116</th>\n",
       "      <td>Ghaziabad</td>\n",
       "      <td>1</td>\n",
       "    </tr>\n",
       "    <tr>\n",
       "      <th>117</th>\n",
       "      <td>San Juan City</td>\n",
       "      <td>1</td>\n",
       "    </tr>\n",
       "    <tr>\n",
       "      <th>118</th>\n",
       "      <td>Roodepoort</td>\n",
       "      <td>1</td>\n",
       "    </tr>\n",
       "    <tr>\n",
       "      <th>119</th>\n",
       "      <td>Zirakpur</td>\n",
       "      <td>1</td>\n",
       "    </tr>\n",
       "    <tr>\n",
       "      <th>120</th>\n",
       "      <td>Muntinlupa City</td>\n",
       "      <td>1</td>\n",
       "    </tr>\n",
       "  </tbody>\n",
       "</table>\n",
       "<p>121 rows × 2 columns</p>\n",
       "</div>"
      ],
      "text/plain": [
       "                city  restaurant_id\n",
       "0          Bangalore             79\n",
       "1             London             78\n",
       "2            Houston             75\n",
       "3            Jakarta             74\n",
       "4            Chennai             72\n",
       "..               ...            ...\n",
       "116        Ghaziabad              1\n",
       "117    San Juan City              1\n",
       "118       Roodepoort              1\n",
       "119         Zirakpur              1\n",
       "120  Muntinlupa City              1\n",
       "\n",
       "[121 rows x 2 columns]"
      ]
     },
     "execution_count": 103,
     "metadata": {},
     "output_type": "execute_result"
    }
   ],
   "source": [
    "city_rating_above = df.loc[df['aggregate_rating'] > 4.0 , ['city', 'restaurant_id']].groupby('city').count().sort_values('restaurant_id', ascending=False).reset_index()\n",
    "# city_best_rating = city_rating_above.loc[0, ['city']]\n",
    "# city_best_rating\n",
    "city_rating_above"
   ]
  },
  {
   "cell_type": "markdown",
   "metadata": {},
   "source": [
    "## 3. Qual o nome da cidade que possui mais restaurantes com nota média abaixo de 2.5?\n"
   ]
  },
  {
   "cell_type": "code",
   "execution_count": 157,
   "metadata": {},
   "outputs": [
    {
     "data": {
      "text/plain": [
       "city    Gangtok\n",
       "Name: 0, dtype: object"
      ]
     },
     "execution_count": 157,
     "metadata": {},
     "output_type": "execute_result"
    }
   ],
   "source": [
    "city_rating_below = df.loc[df['aggregate_rating'] < 2.5 , ['city', 'restaurant_id']].groupby('city').count().sort_values('restaurant_id', ascending=False).reset_index()\n",
    "city_worst_rating = city_rating_below.loc[0, ['city']]\n",
    "city_worst_rating\n"
   ]
  },
  {
   "cell_type": "markdown",
   "metadata": {},
   "source": [
    "## 4. Qual o nome da cidade que possui o maior valor médio de um prato para dois?\n"
   ]
  },
  {
   "cell_type": "code",
   "execution_count": 160,
   "metadata": {},
   "outputs": [
    {
     "data": {
      "text/plain": [
       "city    Jakarta\n",
       "Name: 0, dtype: object"
      ]
     },
     "execution_count": 160,
     "metadata": {},
     "output_type": "execute_result"
    }
   ],
   "source": [
    "cost_city = np.round(df.loc[:, ['average_cost_for_two', 'city']].groupby('city').mean().sort_values('average_cost_for_two', ascending=False).reset_index(), 3)\n",
    "expensive_cost_city = cost_city.loc[0, ['city']]\n",
    "expensive_cost_city"
   ]
  },
  {
   "cell_type": "markdown",
   "metadata": {},
   "source": [
    "## 5. Qual o nome da cidade que possui a maior quantidade de tipos de culinária distintas?\n"
   ]
  },
  {
   "cell_type": "code",
   "execution_count": 169,
   "metadata": {},
   "outputs": [
    {
     "data": {
      "text/plain": [
       "city    Birmingham\n",
       "Name: 0, dtype: object"
      ]
     },
     "execution_count": 169,
     "metadata": {},
     "output_type": "execute_result"
    }
   ],
   "source": [
    "cuisines_city = df.loc[:, ['cuisines', 'city']].groupby('city').nunique().sort_values('cuisines', ascending=False).reset_index()\n",
    "most_cuisines_city = cuisines_city.loc[0, ['city']]\n",
    "most_cuisines_city"
   ]
  },
  {
   "cell_type": "markdown",
   "metadata": {},
   "source": [
    "## 6. Qual o nome da cidade que possui a maior quantidade de restaurantes que fazem reservas?\n"
   ]
  },
  {
   "cell_type": "code",
   "execution_count": null,
   "metadata": {},
   "outputs": [
    {
     "data": {
      "text/plain": [
       "city    Bangalore\n",
       "Name: 0, dtype: object"
      ]
     },
     "execution_count": 171,
     "metadata": {},
     "output_type": "execute_result"
    }
   ],
   "source": [
    "booking_city = df.loc[df['has_table_booking'] == 'Yes', ['restaurant_id', 'city']].groupby('city').count().sort_values('restaurant_id', ascending=False).reset_index()\n",
    "most_booking_city = booking_city.loc[0, ['city']]\n",
    "most_booking_city"
   ]
  },
  {
   "cell_type": "markdown",
   "metadata": {},
   "source": [
    "## 7. Qual o nome da cidade que possui a maior quantidade de restaurantes que fazem entregas?\n"
   ]
  },
  {
   "cell_type": "code",
   "execution_count": null,
   "metadata": {},
   "outputs": [],
   "source": [
    "delivery_city = df.loc[df['is_delivering_now'] == 'Yes', ['restaurant_id', 'city']].groupby('city').count().sort_values('restaurant_id', ascending=False).reset_index()\n",
    "delivery_city.columns = ['city', 'rest_count']\n",
    "delivery_city.head(5)\n"
   ]
  },
  {
   "cell_type": "code",
   "execution_count": null,
   "metadata": {},
   "outputs": [],
   "source": [
    "filter = delivery_city.loc[delivery_city['rest_count'] == 48,:]\n",
    "filter"
   ]
  },
  {
   "cell_type": "code",
   "execution_count": 187,
   "metadata": {},
   "outputs": [
    {
     "data": {
      "text/plain": [
       "city    Amritsar\n",
       "Name: 0, dtype: object"
      ]
     },
     "execution_count": 187,
     "metadata": {},
     "output_type": "execute_result"
    }
   ],
   "source": [
    "older_id_result = df.loc[ df['city'].isin(filter['city']) ,  ['restaurant_id', 'city']].groupby('city').min().sort_values('restaurant_id', ascending=True).reset_index()\n",
    "most_delivery_city = older_id_result.loc[0, ['city']]\n",
    "most_delivery_city"
   ]
  },
  {
   "cell_type": "markdown",
   "metadata": {},
   "source": [
    "## 8. Qual o nome da cidade que possui a maior quantidade de restaurantes que aceitam pedidos online?"
   ]
  },
  {
   "cell_type": "code",
   "execution_count": 189,
   "metadata": {},
   "outputs": [
    {
     "data": {
      "text/plain": [
       "city    Bhopal\n",
       "Name: 0, dtype: object"
      ]
     },
     "execution_count": 189,
     "metadata": {},
     "output_type": "execute_result"
    }
   ],
   "source": [
    "online_delivery_city = df.loc[df['has_online_delivery'] == 'Yes', ['restaurant_id', 'city']].groupby('city').count().sort_values('restaurant_id', ascending=False).reset_index()\n",
    "most_online_delivery_city = online_delivery_city.loc[0, ['city']]\n",
    "most_online_delivery_city"
   ]
  },
  {
   "cell_type": "markdown",
   "metadata": {},
   "source": [
    "# 4.0. Restaurant insights"
   ]
  },
  {
   "cell_type": "markdown",
   "metadata": {},
   "source": [
    "## 1. Qual o nome do restaurante que possui a maior quantidade de avaliações?"
   ]
  },
  {
   "cell_type": "code",
   "execution_count": 195,
   "metadata": {},
   "outputs": [
    {
     "data": {
      "text/html": [
       "<div>\n",
       "<style scoped>\n",
       "    .dataframe tbody tr th:only-of-type {\n",
       "        vertical-align: middle;\n",
       "    }\n",
       "\n",
       "    .dataframe tbody tr th {\n",
       "        vertical-align: top;\n",
       "    }\n",
       "\n",
       "    .dataframe thead th {\n",
       "        text-align: right;\n",
       "    }\n",
       "</style>\n",
       "<table border=\"1\" class=\"dataframe\">\n",
       "  <thead>\n",
       "    <tr style=\"text-align: right;\">\n",
       "      <th></th>\n",
       "      <th>restaurant_name</th>\n",
       "      <th>votes</th>\n",
       "    </tr>\n",
       "  </thead>\n",
       "  <tbody>\n",
       "    <tr>\n",
       "      <th>3928</th>\n",
       "      <td>Bawarchi</td>\n",
       "      <td>41333</td>\n",
       "    </tr>\n",
       "    <tr>\n",
       "      <th>3038</th>\n",
       "      <td>Byg Brewski Brewing Company</td>\n",
       "      <td>17394</td>\n",
       "    </tr>\n",
       "    <tr>\n",
       "      <th>2986</th>\n",
       "      <td>Toit</td>\n",
       "      <td>15270</td>\n",
       "    </tr>\n",
       "    <tr>\n",
       "      <th>3002</th>\n",
       "      <td>Truffles</td>\n",
       "      <td>14984</td>\n",
       "    </tr>\n",
       "    <tr>\n",
       "      <th>5076</th>\n",
       "      <td>Hauz Khas Social</td>\n",
       "      <td>13627</td>\n",
       "    </tr>\n",
       "    <tr>\n",
       "      <th>...</th>\n",
       "      <td>...</td>\n",
       "      <td>...</td>\n",
       "    </tr>\n",
       "    <tr>\n",
       "      <th>333</th>\n",
       "      <td>Barbosa</td>\n",
       "      <td>0</td>\n",
       "    </tr>\n",
       "    <tr>\n",
       "      <th>285</th>\n",
       "      <td>Cantinho da Gula</td>\n",
       "      <td>0</td>\n",
       "    </tr>\n",
       "    <tr>\n",
       "      <th>165</th>\n",
       "      <td>Capricho Mineiro</td>\n",
       "      <td>0</td>\n",
       "    </tr>\n",
       "    <tr>\n",
       "      <th>5165</th>\n",
       "      <td>Kabab Corner</td>\n",
       "      <td>0</td>\n",
       "    </tr>\n",
       "    <tr>\n",
       "      <th>335</th>\n",
       "      <td>Tempero das Gerais</td>\n",
       "      <td>0</td>\n",
       "    </tr>\n",
       "  </tbody>\n",
       "</table>\n",
       "<p>6941 rows × 2 columns</p>\n",
       "</div>"
      ],
      "text/plain": [
       "                  restaurant_name  votes\n",
       "3928                     Bawarchi  41333\n",
       "3038  Byg Brewski Brewing Company  17394\n",
       "2986                         Toit  15270\n",
       "3002                     Truffles  14984\n",
       "5076             Hauz Khas Social  13627\n",
       "...                           ...    ...\n",
       "333                       Barbosa      0\n",
       "285              Cantinho da Gula      0\n",
       "165              Capricho Mineiro      0\n",
       "5165                 Kabab Corner      0\n",
       "335            Tempero das Gerais      0\n",
       "\n",
       "[6941 rows x 2 columns]"
      ]
     },
     "execution_count": 195,
     "metadata": {},
     "output_type": "execute_result"
    }
   ],
   "source": [
    "df.loc[:, ['restaurant_name','votes']].sort_values(['votes'], ascending=False)"
   ]
  },
  {
   "cell_type": "markdown",
   "metadata": {},
   "source": [
    "## 2. Qual o nome do restaurante com a maior nota média?"
   ]
  },
  {
   "cell_type": "code",
   "execution_count": 196,
   "metadata": {},
   "outputs": [
    {
     "data": {
      "text/html": [
       "<div>\n",
       "<style scoped>\n",
       "    .dataframe tbody tr th:only-of-type {\n",
       "        vertical-align: middle;\n",
       "    }\n",
       "\n",
       "    .dataframe tbody tr th {\n",
       "        vertical-align: top;\n",
       "    }\n",
       "\n",
       "    .dataframe thead th {\n",
       "        text-align: right;\n",
       "    }\n",
       "</style>\n",
       "<table border=\"1\" class=\"dataframe\">\n",
       "  <thead>\n",
       "    <tr style=\"text-align: right;\">\n",
       "      <th></th>\n",
       "      <th>restaurant_name</th>\n",
       "      <th>aggregate_rating</th>\n",
       "    </tr>\n",
       "  </thead>\n",
       "  <tbody>\n",
       "    <tr>\n",
       "      <th>792</th>\n",
       "      <td>Kuma's Corner - Belmont</td>\n",
       "      <td>4.9</td>\n",
       "    </tr>\n",
       "    <tr>\n",
       "      <th>4940</th>\n",
       "      <td>Barbeque Nation</td>\n",
       "      <td>4.9</td>\n",
       "    </tr>\n",
       "    <tr>\n",
       "      <th>1697</th>\n",
       "      <td>The Parlor Pizzeria</td>\n",
       "      <td>4.9</td>\n",
       "    </tr>\n",
       "    <tr>\n",
       "      <th>825</th>\n",
       "      <td>Xoco</td>\n",
       "      <td>4.9</td>\n",
       "    </tr>\n",
       "    <tr>\n",
       "      <th>822</th>\n",
       "      <td>Portillo's Hot Dogs</td>\n",
       "      <td>4.9</td>\n",
       "    </tr>\n",
       "    <tr>\n",
       "      <th>...</th>\n",
       "      <td>...</td>\n",
       "      <td>...</td>\n",
       "    </tr>\n",
       "    <tr>\n",
       "      <th>6751</th>\n",
       "      <td>Alston Bar &amp; Beef</td>\n",
       "      <td>0.0</td>\n",
       "    </tr>\n",
       "    <tr>\n",
       "      <th>151</th>\n",
       "      <td>Galeteria Beira Lago</td>\n",
       "      <td>0.0</td>\n",
       "    </tr>\n",
       "    <tr>\n",
       "      <th>6749</th>\n",
       "      <td>Ziya Asian Grill</td>\n",
       "      <td>0.0</td>\n",
       "    </tr>\n",
       "    <tr>\n",
       "      <th>6748</th>\n",
       "      <td>Veeno</td>\n",
       "      <td>0.0</td>\n",
       "    </tr>\n",
       "    <tr>\n",
       "      <th>127</th>\n",
       "      <td>Nippon</td>\n",
       "      <td>0.0</td>\n",
       "    </tr>\n",
       "  </tbody>\n",
       "</table>\n",
       "<p>6941 rows × 2 columns</p>\n",
       "</div>"
      ],
      "text/plain": [
       "              restaurant_name  aggregate_rating\n",
       "792   Kuma's Corner - Belmont               4.9\n",
       "4940          Barbeque Nation               4.9\n",
       "1697      The Parlor Pizzeria               4.9\n",
       "825                      Xoco               4.9\n",
       "822       Portillo's Hot Dogs               4.9\n",
       "...                       ...               ...\n",
       "6751        Alston Bar & Beef               0.0\n",
       "151      Galeteria Beira Lago               0.0\n",
       "6749         Ziya Asian Grill               0.0\n",
       "6748                    Veeno               0.0\n",
       "127                    Nippon               0.0\n",
       "\n",
       "[6941 rows x 2 columns]"
      ]
     },
     "execution_count": 196,
     "metadata": {},
     "output_type": "execute_result"
    }
   ],
   "source": [
    "df.loc[:, ['restaurant_name','aggregate_rating']].sort_values(['aggregate_rating'], ascending=False)"
   ]
  },
  {
   "cell_type": "markdown",
   "metadata": {},
   "source": [
    "## 3. Qual o nome do restaurante que possui o maior valor de um prato para duas pessoas?"
   ]
  },
  {
   "cell_type": "code",
   "execution_count": 95,
   "metadata": {},
   "outputs": [
    {
     "data": {
      "text/html": [
       "<div>\n",
       "<style scoped>\n",
       "    .dataframe tbody tr th:only-of-type {\n",
       "        vertical-align: middle;\n",
       "    }\n",
       "\n",
       "    .dataframe tbody tr th {\n",
       "        vertical-align: top;\n",
       "    }\n",
       "\n",
       "    .dataframe thead th {\n",
       "        text-align: right;\n",
       "    }\n",
       "</style>\n",
       "<table border=\"1\" class=\"dataframe\">\n",
       "  <thead>\n",
       "    <tr style=\"text-align: right;\">\n",
       "      <th></th>\n",
       "      <th>restaurant_name</th>\n",
       "      <th>currency_in_usd</th>\n",
       "    </tr>\n",
       "  </thead>\n",
       "  <tbody>\n",
       "    <tr>\n",
       "      <th>2121</th>\n",
       "      <td>Corner House</td>\n",
       "      <td>755.0</td>\n",
       "    </tr>\n",
       "    <tr>\n",
       "      <th>1468</th>\n",
       "      <td>Eleven Madison Park</td>\n",
       "      <td>650.0</td>\n",
       "    </tr>\n",
       "    <tr>\n",
       "      <th>798</th>\n",
       "      <td>Alinea</td>\n",
       "      <td>600.0</td>\n",
       "    </tr>\n",
       "    <tr>\n",
       "      <th>1450</th>\n",
       "      <td>Per Se</td>\n",
       "      <td>600.0</td>\n",
       "    </tr>\n",
       "    <tr>\n",
       "      <th>2050</th>\n",
       "      <td>Raffles Grill</td>\n",
       "      <td>500.0</td>\n",
       "    </tr>\n",
       "    <tr>\n",
       "      <th>...</th>\n",
       "      <td>...</td>\n",
       "      <td>...</td>\n",
       "    </tr>\n",
       "    <tr>\n",
       "      <th>1112</th>\n",
       "      <td>Shiva Indian</td>\n",
       "      <td>0.0</td>\n",
       "    </tr>\n",
       "    <tr>\n",
       "      <th>1135</th>\n",
       "      <td>Tiny Boxwood's</td>\n",
       "      <td>0.0</td>\n",
       "    </tr>\n",
       "    <tr>\n",
       "      <th>1240</th>\n",
       "      <td>Eggslut</td>\n",
       "      <td>0.0</td>\n",
       "    </tr>\n",
       "    <tr>\n",
       "      <th>1517</th>\n",
       "      <td>The Albion Rooms</td>\n",
       "      <td>0.0</td>\n",
       "    </tr>\n",
       "    <tr>\n",
       "      <th>6389</th>\n",
       "      <td>Rofuto</td>\n",
       "      <td>0.0</td>\n",
       "    </tr>\n",
       "  </tbody>\n",
       "</table>\n",
       "<p>6941 rows × 2 columns</p>\n",
       "</div>"
      ],
      "text/plain": [
       "          restaurant_name  currency_in_usd\n",
       "2121         Corner House            755.0\n",
       "1468  Eleven Madison Park            650.0\n",
       "798                Alinea            600.0\n",
       "1450               Per Se            600.0\n",
       "2050        Raffles Grill            500.0\n",
       "...                   ...              ...\n",
       "1112         Shiva Indian              0.0\n",
       "1135       Tiny Boxwood's              0.0\n",
       "1240              Eggslut              0.0\n",
       "1517     The Albion Rooms              0.0\n",
       "6389               Rofuto              0.0\n",
       "\n",
       "[6941 rows x 2 columns]"
      ]
     },
     "execution_count": 95,
     "metadata": {},
     "output_type": "execute_result"
    }
   ],
   "source": [
    "df.loc[:, ['restaurant_name','currency_in_usd']].sort_values(['currency_in_usd'], ascending=False)"
   ]
  },
  {
   "cell_type": "markdown",
   "metadata": {},
   "source": [
    "## 4. Qual o nome do restaurante de tipo de culinária brasileira que possui a menor média de avaliação?"
   ]
  },
  {
   "cell_type": "code",
   "execution_count": 211,
   "metadata": {},
   "outputs": [
    {
     "data": {
      "text/html": [
       "<div>\n",
       "<style scoped>\n",
       "    .dataframe tbody tr th:only-of-type {\n",
       "        vertical-align: middle;\n",
       "    }\n",
       "\n",
       "    .dataframe tbody tr th {\n",
       "        vertical-align: top;\n",
       "    }\n",
       "\n",
       "    .dataframe thead th {\n",
       "        text-align: right;\n",
       "    }\n",
       "</style>\n",
       "<table border=\"1\" class=\"dataframe\">\n",
       "  <thead>\n",
       "    <tr style=\"text-align: right;\">\n",
       "      <th></th>\n",
       "      <th>restaurant_name</th>\n",
       "      <th>aggregate_rating</th>\n",
       "    </tr>\n",
       "  </thead>\n",
       "  <tbody>\n",
       "    <tr>\n",
       "      <th>166</th>\n",
       "      <td>NAVE MÃE FAST FOOD GOURMET</td>\n",
       "      <td>0.0</td>\n",
       "    </tr>\n",
       "    <tr>\n",
       "      <th>335</th>\n",
       "      <td>Tempero das Gerais</td>\n",
       "      <td>0.0</td>\n",
       "    </tr>\n",
       "    <tr>\n",
       "      <th>318</th>\n",
       "      <td>Bar do Luiz Fernandes</td>\n",
       "      <td>0.0</td>\n",
       "    </tr>\n",
       "    <tr>\n",
       "      <th>285</th>\n",
       "      <td>Cantinho da Gula</td>\n",
       "      <td>0.0</td>\n",
       "    </tr>\n",
       "    <tr>\n",
       "      <th>220</th>\n",
       "      <td>Quitéria</td>\n",
       "      <td>0.0</td>\n",
       "    </tr>\n",
       "    <tr>\n",
       "      <th>186</th>\n",
       "      <td>Rancho Inn</td>\n",
       "      <td>0.0</td>\n",
       "    </tr>\n",
       "    <tr>\n",
       "      <th>167</th>\n",
       "      <td>Restaurante dos Amigos</td>\n",
       "      <td>0.0</td>\n",
       "    </tr>\n",
       "    <tr>\n",
       "      <th>333</th>\n",
       "      <td>Barbosa</td>\n",
       "      <td>0.0</td>\n",
       "    </tr>\n",
       "    <tr>\n",
       "      <th>165</th>\n",
       "      <td>Capricho Mineiro</td>\n",
       "      <td>0.0</td>\n",
       "    </tr>\n",
       "    <tr>\n",
       "      <th>319</th>\n",
       "      <td>Famiglia Rivitti</td>\n",
       "      <td>0.0</td>\n",
       "    </tr>\n",
       "  </tbody>\n",
       "</table>\n",
       "</div>"
      ],
      "text/plain": [
       "                restaurant_name  aggregate_rating\n",
       "166  NAVE MÃE FAST FOOD GOURMET               0.0\n",
       "335          Tempero das Gerais               0.0\n",
       "318       Bar do Luiz Fernandes               0.0\n",
       "285            Cantinho da Gula               0.0\n",
       "220                    Quitéria               0.0\n",
       "186                  Rancho Inn               0.0\n",
       "167      Restaurante dos Amigos               0.0\n",
       "333                     Barbosa               0.0\n",
       "165            Capricho Mineiro               0.0\n",
       "319            Famiglia Rivitti               0.0"
      ]
     },
     "execution_count": 211,
     "metadata": {},
     "output_type": "execute_result"
    }
   ],
   "source": [
    "df.loc[df['cuisines'] == 'Brazilian', ['restaurant_name', 'aggregate_rating']].sort_values(['aggregate_rating'],ascending=True).head(10)"
   ]
  },
  {
   "cell_type": "markdown",
   "metadata": {},
   "source": [
    "## 5. Qual o nome do restaurante de tipo de culinária brasileira, e que é do Brasil, que possui a maior média de avaliação?"
   ]
  },
  {
   "cell_type": "code",
   "execution_count": 210,
   "metadata": {},
   "outputs": [
    {
     "data": {
      "text/html": [
       "<div>\n",
       "<style scoped>\n",
       "    .dataframe tbody tr th:only-of-type {\n",
       "        vertical-align: middle;\n",
       "    }\n",
       "\n",
       "    .dataframe tbody tr th {\n",
       "        vertical-align: top;\n",
       "    }\n",
       "\n",
       "    .dataframe thead th {\n",
       "        text-align: right;\n",
       "    }\n",
       "</style>\n",
       "<table border=\"1\" class=\"dataframe\">\n",
       "  <thead>\n",
       "    <tr style=\"text-align: right;\">\n",
       "      <th></th>\n",
       "      <th>restaurant_name</th>\n",
       "      <th>aggregate_rating</th>\n",
       "    </tr>\n",
       "  </thead>\n",
       "  <tbody>\n",
       "    <tr>\n",
       "      <th>207</th>\n",
       "      <td>Braseiro da Gávea</td>\n",
       "      <td>4.9</td>\n",
       "    </tr>\n",
       "    <tr>\n",
       "      <th>254</th>\n",
       "      <td>Aprazível</td>\n",
       "      <td>4.9</td>\n",
       "    </tr>\n",
       "    <tr>\n",
       "      <th>346</th>\n",
       "      <td>Mocotó</td>\n",
       "      <td>4.8</td>\n",
       "    </tr>\n",
       "    <tr>\n",
       "      <th>215</th>\n",
       "      <td>Garota de Ipanema</td>\n",
       "      <td>4.8</td>\n",
       "    </tr>\n",
       "    <tr>\n",
       "      <th>179</th>\n",
       "      <td>Fogo de Chão</td>\n",
       "      <td>4.8</td>\n",
       "    </tr>\n",
       "    <tr>\n",
       "      <th>261</th>\n",
       "      <td>Aconchego Carioca</td>\n",
       "      <td>4.7</td>\n",
       "    </tr>\n",
       "    <tr>\n",
       "      <th>217</th>\n",
       "      <td>Zazá Bistrô Tropical</td>\n",
       "      <td>4.7</td>\n",
       "    </tr>\n",
       "    <tr>\n",
       "      <th>347</th>\n",
       "      <td>Veloso</td>\n",
       "      <td>4.6</td>\n",
       "    </tr>\n",
       "    <tr>\n",
       "      <th>213</th>\n",
       "      <td>Balada Mix</td>\n",
       "      <td>4.6</td>\n",
       "    </tr>\n",
       "    <tr>\n",
       "      <th>235</th>\n",
       "      <td>Giuseppe Grill Mar</td>\n",
       "      <td>4.5</td>\n",
       "    </tr>\n",
       "  </tbody>\n",
       "</table>\n",
       "</div>"
      ],
      "text/plain": [
       "          restaurant_name  aggregate_rating\n",
       "207     Braseiro da Gávea               4.9\n",
       "254             Aprazível               4.9\n",
       "346                Mocotó               4.8\n",
       "215     Garota de Ipanema               4.8\n",
       "179          Fogo de Chão               4.8\n",
       "261     Aconchego Carioca               4.7\n",
       "217  Zazá Bistrô Tropical               4.7\n",
       "347                Veloso               4.6\n",
       "213            Balada Mix               4.6\n",
       "235    Giuseppe Grill Mar               4.5"
      ]
     },
     "execution_count": 210,
     "metadata": {},
     "output_type": "execute_result"
    }
   ],
   "source": [
    "df.loc[(df['cuisines'] == 'Brazilian') & (df['country'] == 'Brazil'), ['restaurant_name', 'aggregate_rating']].sort_values(['aggregate_rating'],ascending=False).head(10)"
   ]
  },
  {
   "cell_type": "markdown",
   "metadata": {},
   "source": [
    "## 6. Os restaurantes que aceitam pedido online são também, na média, os restaurantes que mais possuem avaliações registradas?"
   ]
  },
  {
   "cell_type": "code",
   "execution_count": 263,
   "metadata": {},
   "outputs": [
    {
     "data": {
      "text/plain": [
       "838.8216639209226"
      ]
     },
     "execution_count": 263,
     "metadata": {},
     "output_type": "execute_result"
    }
   ],
   "source": [
    "yes_delivery = df.loc[df['has_online_delivery'] == 'Yes', ['restaurant_name', 'votes']].sort_values(['votes'], ascending=False)\n",
    "yes_delivery['votes'].mean()\n"
   ]
  },
  {
   "cell_type": "code",
   "execution_count": 264,
   "metadata": {},
   "outputs": [
    {
     "data": {
      "text/plain": [
       "478.3452249058276"
      ]
     },
     "execution_count": 264,
     "metadata": {},
     "output_type": "execute_result"
    }
   ],
   "source": [
    "no_delivery = df.loc[df['has_online_delivery'] == 'No', ['restaurant_name', 'votes']].sort_values(['votes'], ascending=False)\n",
    "no_delivery['votes'].mean()"
   ]
  },
  {
   "cell_type": "markdown",
   "metadata": {},
   "source": [
    "## 7. Os restaurantes que fazem reservas são também, na média, os restaurantes que possuem o maior valor médio de um prato para duas pessoas?"
   ]
  },
  {
   "cell_type": "code",
   "execution_count": 96,
   "metadata": {},
   "outputs": [
    {
     "data": {
      "text/html": [
       "<div>\n",
       "<style scoped>\n",
       "    .dataframe tbody tr th:only-of-type {\n",
       "        vertical-align: middle;\n",
       "    }\n",
       "\n",
       "    .dataframe tbody tr th {\n",
       "        vertical-align: top;\n",
       "    }\n",
       "\n",
       "    .dataframe thead th {\n",
       "        text-align: right;\n",
       "    }\n",
       "</style>\n",
       "<table border=\"1\" class=\"dataframe\">\n",
       "  <thead>\n",
       "    <tr style=\"text-align: right;\">\n",
       "      <th></th>\n",
       "      <th>restaurant_id</th>\n",
       "      <th>restaurant_name</th>\n",
       "      <th>country</th>\n",
       "      <th>city</th>\n",
       "      <th>address</th>\n",
       "      <th>locality</th>\n",
       "      <th>locality_verbose</th>\n",
       "      <th>longitude</th>\n",
       "      <th>latitude</th>\n",
       "      <th>cuisines</th>\n",
       "      <th>average_cost_for_two</th>\n",
       "      <th>currency_codes</th>\n",
       "      <th>currency_in_usd</th>\n",
       "      <th>has_table_booking</th>\n",
       "      <th>has_online_delivery</th>\n",
       "      <th>is_delivering_now</th>\n",
       "      <th>price_range</th>\n",
       "      <th>aggregate_rating</th>\n",
       "      <th>rating_color</th>\n",
       "      <th>rating_text</th>\n",
       "      <th>votes</th>\n",
       "    </tr>\n",
       "  </thead>\n",
       "  <tbody>\n",
       "    <tr>\n",
       "      <th>0</th>\n",
       "      <td>6310675</td>\n",
       "      <td>Mama Lou's Italian Kitchen</td>\n",
       "      <td>Philippines</td>\n",
       "      <td>Las Piñas City</td>\n",
       "      <td>Block 1, Lot 36, Tropical Avenue Corner Tropic...</td>\n",
       "      <td>BF International</td>\n",
       "      <td>BF International, Las Piñas City</td>\n",
       "      <td>121.009787</td>\n",
       "      <td>14.447615</td>\n",
       "      <td>Italian</td>\n",
       "      <td>1100</td>\n",
       "      <td>BWP</td>\n",
       "      <td>81.082661</td>\n",
       "      <td>Yes</td>\n",
       "      <td>No</td>\n",
       "      <td>No</td>\n",
       "      <td>expensive</td>\n",
       "      <td>4.6</td>\n",
       "      <td>darkgreen</td>\n",
       "      <td>Excellent</td>\n",
       "      <td>619</td>\n",
       "    </tr>\n",
       "  </tbody>\n",
       "</table>\n",
       "</div>"
      ],
      "text/plain": [
       "   restaurant_id             restaurant_name      country            city  \\\n",
       "0        6310675  Mama Lou's Italian Kitchen  Philippines  Las Piñas City   \n",
       "\n",
       "                                             address          locality  \\\n",
       "0  Block 1, Lot 36, Tropical Avenue Corner Tropic...  BF International   \n",
       "\n",
       "                   locality_verbose   longitude   latitude cuisines  \\\n",
       "0  BF International, Las Piñas City  121.009787  14.447615  Italian   \n",
       "\n",
       "   average_cost_for_two currency_codes  currency_in_usd has_table_booking  \\\n",
       "0                  1100            BWP        81.082661               Yes   \n",
       "\n",
       "  has_online_delivery is_delivering_now price_range  aggregate_rating  \\\n",
       "0                  No                No   expensive               4.6   \n",
       "\n",
       "  rating_color rating_text  votes  \n",
       "0    darkgreen   Excellent    619  "
      ]
     },
     "execution_count": 96,
     "metadata": {},
     "output_type": "execute_result"
    }
   ],
   "source": [
    "df.head(1)"
   ]
  },
  {
   "cell_type": "code",
   "execution_count": 98,
   "metadata": {},
   "outputs": [
    {
     "data": {
      "text/plain": [
       "35.66111836184717"
      ]
     },
     "execution_count": 98,
     "metadata": {},
     "output_type": "execute_result"
    }
   ],
   "source": [
    "yes_booking = df.loc[df['has_table_booking'] == 'Yes', ['restaurant_name','currency_in_usd']].sort_values(['currency_in_usd'], ascending=False)\n",
    "yes_booking['currency_in_usd'].mean()"
   ]
  },
  {
   "cell_type": "code",
   "execution_count": 99,
   "metadata": {},
   "outputs": [
    {
     "data": {
      "text/plain": [
       "28.849644167680076"
      ]
     },
     "execution_count": 99,
     "metadata": {},
     "output_type": "execute_result"
    }
   ],
   "source": [
    "yes_booking = df.loc[df['has_table_booking'] == 'No', ['restaurant_name','currency_in_usd']].sort_values(['currency_in_usd'], ascending=False)\n",
    "yes_booking['currency_in_usd'].mean()"
   ]
  },
  {
   "cell_type": "markdown",
   "metadata": {},
   "source": [
    "## 8. Os restaurantes do tipo de culinária japonesa dos Estados Unidos da América possuem um valor médio de prato para duas pessoas maior que as churrascarias americanas (BBQ)?"
   ]
  },
  {
   "cell_type": "code",
   "execution_count": 100,
   "metadata": {},
   "outputs": [
    {
     "data": {
      "text/plain": [
       "56.40625"
      ]
     },
     "execution_count": 100,
     "metadata": {},
     "output_type": "execute_result"
    }
   ],
   "source": [
    "jp_usa = df.loc[(df['cuisines'] == 'Japanese') & (df['country'] == 'United States of America'), ['restaurant_name','currency_in_usd']].sort_values(['currency_in_usd'], ascending=False)\n",
    "jp_usa['currency_in_usd'].mean()"
   ]
  },
  {
   "cell_type": "code",
   "execution_count": 101,
   "metadata": {},
   "outputs": [
    {
     "data": {
      "text/plain": [
       "39.642857142857146"
      ]
     },
     "execution_count": 101,
     "metadata": {},
     "output_type": "execute_result"
    }
   ],
   "source": [
    "bbq_usa = df.loc[(df['cuisines'] == 'BBQ') & (df['country'] == 'United States of America'), ['restaurant_name','currency_in_usd']].sort_values(['currency_in_usd'], ascending=False)\n",
    "bbq_usa['currency_in_usd'].mean()\n"
   ]
  },
  {
   "cell_type": "markdown",
   "metadata": {},
   "source": [
    "# 5.0. Cuisines insight"
   ]
  },
  {
   "cell_type": "markdown",
   "metadata": {},
   "source": [
    "## 1. Dos restaurantes que possuem o tipo de culinária italiana, qual o nome do restaurante com a maior média de avaliação?"
   ]
  },
  {
   "cell_type": "code",
   "execution_count": 21,
   "metadata": {},
   "outputs": [
    {
     "data": {
      "text/html": [
       "<div>\n",
       "<style scoped>\n",
       "    .dataframe tbody tr th:only-of-type {\n",
       "        vertical-align: middle;\n",
       "    }\n",
       "\n",
       "    .dataframe tbody tr th {\n",
       "        vertical-align: top;\n",
       "    }\n",
       "\n",
       "    .dataframe thead th {\n",
       "        text-align: right;\n",
       "    }\n",
       "</style>\n",
       "<table border=\"1\" class=\"dataframe\">\n",
       "  <thead>\n",
       "    <tr style=\"text-align: right;\">\n",
       "      <th></th>\n",
       "      <th>restaurant_name</th>\n",
       "      <th>aggregate_rating</th>\n",
       "    </tr>\n",
       "  </thead>\n",
       "  <tbody>\n",
       "    <tr>\n",
       "      <th>366</th>\n",
       "      <td>Andre's Cucina &amp; Polenta Bar</td>\n",
       "      <td>4.9</td>\n",
       "    </tr>\n",
       "    <tr>\n",
       "      <th>6305</th>\n",
       "      <td>Ombra</td>\n",
       "      <td>4.9</td>\n",
       "    </tr>\n",
       "    <tr>\n",
       "      <th>1280</th>\n",
       "      <td>Perricone's Marketplace &amp; Café</td>\n",
       "      <td>4.9</td>\n",
       "    </tr>\n",
       "    <tr>\n",
       "      <th>5408</th>\n",
       "      <td>Darshan</td>\n",
       "      <td>4.9</td>\n",
       "    </tr>\n",
       "    <tr>\n",
       "      <th>4056</th>\n",
       "      <td>Zolocrust - Hotel Clarks Amer</td>\n",
       "      <td>4.9</td>\n",
       "    </tr>\n",
       "    <tr>\n",
       "      <th>...</th>\n",
       "      <td>...</td>\n",
       "      <td>...</td>\n",
       "    </tr>\n",
       "    <tr>\n",
       "      <th>6723</th>\n",
       "      <td>Le Delicatezze Di Bruno</td>\n",
       "      <td>0.0</td>\n",
       "    </tr>\n",
       "    <tr>\n",
       "      <th>6748</th>\n",
       "      <td>Veeno</td>\n",
       "      <td>0.0</td>\n",
       "    </tr>\n",
       "    <tr>\n",
       "      <th>242</th>\n",
       "      <td>Bene - Sheraton Rio Hotel</td>\n",
       "      <td>0.0</td>\n",
       "    </tr>\n",
       "    <tr>\n",
       "      <th>6752</th>\n",
       "      <td>The Pasta Factory</td>\n",
       "      <td>0.0</td>\n",
       "    </tr>\n",
       "    <tr>\n",
       "      <th>305</th>\n",
       "      <td>Ristorantino</td>\n",
       "      <td>0.0</td>\n",
       "    </tr>\n",
       "  </tbody>\n",
       "</table>\n",
       "<p>390 rows × 2 columns</p>\n",
       "</div>"
      ],
      "text/plain": [
       "                     restaurant_name  aggregate_rating\n",
       "366     Andre's Cucina & Polenta Bar               4.9\n",
       "6305                           Ombra               4.9\n",
       "1280  Perricone's Marketplace & Café               4.9\n",
       "5408                         Darshan               4.9\n",
       "4056   Zolocrust - Hotel Clarks Amer               4.9\n",
       "...                              ...               ...\n",
       "6723         Le Delicatezze Di Bruno               0.0\n",
       "6748                           Veeno               0.0\n",
       "242        Bene - Sheraton Rio Hotel               0.0\n",
       "6752               The Pasta Factory               0.0\n",
       "305                     Ristorantino               0.0\n",
       "\n",
       "[390 rows x 2 columns]"
      ]
     },
     "execution_count": 21,
     "metadata": {},
     "output_type": "execute_result"
    }
   ],
   "source": [
    "df.loc[df['cuisines'] == 'Italian',['restaurant_name', 'aggregate_rating']].sort_values('aggregate_rating', ascending=False)"
   ]
  },
  {
   "cell_type": "markdown",
   "metadata": {},
   "source": [
    "## 2. Dos restaurantes que possuem o tipo de culinária italiana, qual o nome do restaurante com a menor média de avaliação?\n"
   ]
  },
  {
   "cell_type": "code",
   "execution_count": 22,
   "metadata": {},
   "outputs": [
    {
     "data": {
      "text/html": [
       "<div>\n",
       "<style scoped>\n",
       "    .dataframe tbody tr th:only-of-type {\n",
       "        vertical-align: middle;\n",
       "    }\n",
       "\n",
       "    .dataframe tbody tr th {\n",
       "        vertical-align: top;\n",
       "    }\n",
       "\n",
       "    .dataframe thead th {\n",
       "        text-align: right;\n",
       "    }\n",
       "</style>\n",
       "<table border=\"1\" class=\"dataframe\">\n",
       "  <thead>\n",
       "    <tr style=\"text-align: right;\">\n",
       "      <th></th>\n",
       "      <th>restaurant_name</th>\n",
       "      <th>aggregate_rating</th>\n",
       "    </tr>\n",
       "  </thead>\n",
       "  <tbody>\n",
       "    <tr>\n",
       "      <th>6723</th>\n",
       "      <td>Le Delicatezze Di Bruno</td>\n",
       "      <td>0.0</td>\n",
       "    </tr>\n",
       "    <tr>\n",
       "      <th>324</th>\n",
       "      <td>Più</td>\n",
       "      <td>0.0</td>\n",
       "    </tr>\n",
       "    <tr>\n",
       "      <th>305</th>\n",
       "      <td>Ristorantino</td>\n",
       "      <td>0.0</td>\n",
       "    </tr>\n",
       "    <tr>\n",
       "      <th>242</th>\n",
       "      <td>Bene - Sheraton Rio Hotel</td>\n",
       "      <td>0.0</td>\n",
       "    </tr>\n",
       "    <tr>\n",
       "      <th>184</th>\n",
       "      <td>La Bocca Bar e Trattoria</td>\n",
       "      <td>0.0</td>\n",
       "    </tr>\n",
       "    <tr>\n",
       "      <th>...</th>\n",
       "      <td>...</td>\n",
       "      <td>...</td>\n",
       "    </tr>\n",
       "    <tr>\n",
       "      <th>1805</th>\n",
       "      <td>Cerroni's Purple Garlic</td>\n",
       "      <td>4.9</td>\n",
       "    </tr>\n",
       "    <tr>\n",
       "      <th>800</th>\n",
       "      <td>Chicago Pizza &amp; Oven Grinder Company</td>\n",
       "      <td>4.9</td>\n",
       "    </tr>\n",
       "    <tr>\n",
       "      <th>6574</th>\n",
       "      <td>Celino's</td>\n",
       "      <td>4.9</td>\n",
       "    </tr>\n",
       "    <tr>\n",
       "      <th>7233</th>\n",
       "      <td>Cafe Del Sol Classico</td>\n",
       "      <td>4.9</td>\n",
       "    </tr>\n",
       "    <tr>\n",
       "      <th>946</th>\n",
       "      <td>Big Bill's</td>\n",
       "      <td>4.9</td>\n",
       "    </tr>\n",
       "  </tbody>\n",
       "</table>\n",
       "<p>390 rows × 2 columns</p>\n",
       "</div>"
      ],
      "text/plain": [
       "                           restaurant_name  aggregate_rating\n",
       "6723               Le Delicatezze Di Bruno               0.0\n",
       "324                                    Più               0.0\n",
       "305                           Ristorantino               0.0\n",
       "242              Bene - Sheraton Rio Hotel               0.0\n",
       "184               La Bocca Bar e Trattoria               0.0\n",
       "...                                    ...               ...\n",
       "1805               Cerroni's Purple Garlic               4.9\n",
       "800   Chicago Pizza & Oven Grinder Company               4.9\n",
       "6574                              Celino's               4.9\n",
       "7233                 Cafe Del Sol Classico               4.9\n",
       "946                             Big Bill's               4.9\n",
       "\n",
       "[390 rows x 2 columns]"
      ]
     },
     "execution_count": 22,
     "metadata": {},
     "output_type": "execute_result"
    }
   ],
   "source": [
    "df.loc[df['cuisines'] == 'Italian',['restaurant_name', 'aggregate_rating']].sort_values('aggregate_rating', ascending=True)"
   ]
  },
  {
   "cell_type": "markdown",
   "metadata": {},
   "source": [
    "## 3. Dos restaurantes que possuem o tipo de culinária americana, qual o nome do restaurante com a maior média de avaliação?\n"
   ]
  },
  {
   "cell_type": "code",
   "execution_count": 23,
   "metadata": {},
   "outputs": [
    {
     "data": {
      "text/html": [
       "<div>\n",
       "<style scoped>\n",
       "    .dataframe tbody tr th:only-of-type {\n",
       "        vertical-align: middle;\n",
       "    }\n",
       "\n",
       "    .dataframe tbody tr th {\n",
       "        vertical-align: top;\n",
       "    }\n",
       "\n",
       "    .dataframe thead th {\n",
       "        text-align: right;\n",
       "    }\n",
       "</style>\n",
       "<table border=\"1\" class=\"dataframe\">\n",
       "  <thead>\n",
       "    <tr style=\"text-align: right;\">\n",
       "      <th></th>\n",
       "      <th>restaurant_name</th>\n",
       "      <th>aggregate_rating</th>\n",
       "    </tr>\n",
       "  </thead>\n",
       "  <tbody>\n",
       "    <tr>\n",
       "      <th>726</th>\n",
       "      <td>OEB Breakfast Co.</td>\n",
       "      <td>4.9</td>\n",
       "    </tr>\n",
       "    <tr>\n",
       "      <th>1135</th>\n",
       "      <td>Tiny Boxwood's</td>\n",
       "      <td>4.9</td>\n",
       "    </tr>\n",
       "    <tr>\n",
       "      <th>939</th>\n",
       "      <td>Tocabe, An American Indian Eatery</td>\n",
       "      <td>4.9</td>\n",
       "    </tr>\n",
       "    <tr>\n",
       "      <th>422</th>\n",
       "      <td>Brick Store Pub</td>\n",
       "      <td>4.9</td>\n",
       "    </tr>\n",
       "    <tr>\n",
       "      <th>1019</th>\n",
       "      <td>Union Woodshop</td>\n",
       "      <td>4.9</td>\n",
       "    </tr>\n",
       "    <tr>\n",
       "      <th>...</th>\n",
       "      <td>...</td>\n",
       "      <td>...</td>\n",
       "    </tr>\n",
       "    <tr>\n",
       "      <th>6348</th>\n",
       "      <td>Thunderbird Cafe</td>\n",
       "      <td>3.2</td>\n",
       "    </tr>\n",
       "    <tr>\n",
       "      <th>7261</th>\n",
       "      <td>Hard Rock Cafe</td>\n",
       "      <td>2.8</td>\n",
       "    </tr>\n",
       "    <tr>\n",
       "      <th>251</th>\n",
       "      <td>Bob's</td>\n",
       "      <td>2.6</td>\n",
       "    </tr>\n",
       "    <tr>\n",
       "      <th>7204</th>\n",
       "      <td>Guy Fieri's Kitchen &amp; Bar</td>\n",
       "      <td>2.2</td>\n",
       "    </tr>\n",
       "    <tr>\n",
       "      <th>6751</th>\n",
       "      <td>Alston Bar &amp; Beef</td>\n",
       "      <td>0.0</td>\n",
       "    </tr>\n",
       "  </tbody>\n",
       "</table>\n",
       "<p>520 rows × 2 columns</p>\n",
       "</div>"
      ],
      "text/plain": [
       "                        restaurant_name  aggregate_rating\n",
       "726                   OEB Breakfast Co.               4.9\n",
       "1135                     Tiny Boxwood's               4.9\n",
       "939   Tocabe, An American Indian Eatery               4.9\n",
       "422                     Brick Store Pub               4.9\n",
       "1019                     Union Woodshop               4.9\n",
       "...                                 ...               ...\n",
       "6348                   Thunderbird Cafe               3.2\n",
       "7261                     Hard Rock Cafe               2.8\n",
       "251                               Bob's               2.6\n",
       "7204          Guy Fieri's Kitchen & Bar               2.2\n",
       "6751                  Alston Bar & Beef               0.0\n",
       "\n",
       "[520 rows x 2 columns]"
      ]
     },
     "execution_count": 23,
     "metadata": {},
     "output_type": "execute_result"
    }
   ],
   "source": [
    "df.loc[df['cuisines'] == 'American',['restaurant_name', 'aggregate_rating']].sort_values('aggregate_rating', ascending=False)"
   ]
  },
  {
   "cell_type": "markdown",
   "metadata": {},
   "source": [
    "## 4. Dos restaurantes que possuem o tipo de culinária americana, qual o nome do restaurante com a menor média de avaliação?\n"
   ]
  },
  {
   "cell_type": "code",
   "execution_count": 24,
   "metadata": {},
   "outputs": [
    {
     "data": {
      "text/html": [
       "<div>\n",
       "<style scoped>\n",
       "    .dataframe tbody tr th:only-of-type {\n",
       "        vertical-align: middle;\n",
       "    }\n",
       "\n",
       "    .dataframe tbody tr th {\n",
       "        vertical-align: top;\n",
       "    }\n",
       "\n",
       "    .dataframe thead th {\n",
       "        text-align: right;\n",
       "    }\n",
       "</style>\n",
       "<table border=\"1\" class=\"dataframe\">\n",
       "  <thead>\n",
       "    <tr style=\"text-align: right;\">\n",
       "      <th></th>\n",
       "      <th>restaurant_name</th>\n",
       "      <th>aggregate_rating</th>\n",
       "    </tr>\n",
       "  </thead>\n",
       "  <tbody>\n",
       "    <tr>\n",
       "      <th>6751</th>\n",
       "      <td>Alston Bar &amp; Beef</td>\n",
       "      <td>0.0</td>\n",
       "    </tr>\n",
       "    <tr>\n",
       "      <th>7204</th>\n",
       "      <td>Guy Fieri's Kitchen &amp; Bar</td>\n",
       "      <td>2.2</td>\n",
       "    </tr>\n",
       "    <tr>\n",
       "      <th>251</th>\n",
       "      <td>Bob's</td>\n",
       "      <td>2.6</td>\n",
       "    </tr>\n",
       "    <tr>\n",
       "      <th>7261</th>\n",
       "      <td>Hard Rock Cafe</td>\n",
       "      <td>2.8</td>\n",
       "    </tr>\n",
       "    <tr>\n",
       "      <th>6348</th>\n",
       "      <td>Thunderbird Cafe</td>\n",
       "      <td>3.2</td>\n",
       "    </tr>\n",
       "    <tr>\n",
       "      <th>...</th>\n",
       "      <td>...</td>\n",
       "      <td>...</td>\n",
       "    </tr>\n",
       "    <tr>\n",
       "      <th>822</th>\n",
       "      <td>Portillo's Hot Dogs</td>\n",
       "      <td>4.9</td>\n",
       "    </tr>\n",
       "    <tr>\n",
       "      <th>726</th>\n",
       "      <td>OEB Breakfast Co.</td>\n",
       "      <td>4.9</td>\n",
       "    </tr>\n",
       "    <tr>\n",
       "      <th>599</th>\n",
       "      <td>Fat Cat</td>\n",
       "      <td>4.9</td>\n",
       "    </tr>\n",
       "    <tr>\n",
       "      <th>1918</th>\n",
       "      <td>Kono's Surf Club Cafe</td>\n",
       "      <td>4.9</td>\n",
       "    </tr>\n",
       "    <tr>\n",
       "      <th>987</th>\n",
       "      <td>Park Burger</td>\n",
       "      <td>4.9</td>\n",
       "    </tr>\n",
       "  </tbody>\n",
       "</table>\n",
       "<p>520 rows × 2 columns</p>\n",
       "</div>"
      ],
      "text/plain": [
       "                restaurant_name  aggregate_rating\n",
       "6751          Alston Bar & Beef               0.0\n",
       "7204  Guy Fieri's Kitchen & Bar               2.2\n",
       "251                       Bob's               2.6\n",
       "7261             Hard Rock Cafe               2.8\n",
       "6348           Thunderbird Cafe               3.2\n",
       "...                         ...               ...\n",
       "822         Portillo's Hot Dogs               4.9\n",
       "726           OEB Breakfast Co.               4.9\n",
       "599                     Fat Cat               4.9\n",
       "1918      Kono's Surf Club Cafe               4.9\n",
       "987                 Park Burger               4.9\n",
       "\n",
       "[520 rows x 2 columns]"
      ]
     },
     "execution_count": 24,
     "metadata": {},
     "output_type": "execute_result"
    }
   ],
   "source": [
    "df.loc[df['cuisines'] == 'American',['restaurant_name', 'aggregate_rating']].sort_values('aggregate_rating', ascending=True)"
   ]
  },
  {
   "cell_type": "markdown",
   "metadata": {},
   "source": [
    "## 5. Dos restaurantes que possuem o tipo de culinária árabe, qual o nome do restaurante com a maior média de avaliação?"
   ]
  },
  {
   "cell_type": "code",
   "execution_count": 29,
   "metadata": {},
   "outputs": [
    {
     "data": {
      "text/html": [
       "<div>\n",
       "<style scoped>\n",
       "    .dataframe tbody tr th:only-of-type {\n",
       "        vertical-align: middle;\n",
       "    }\n",
       "\n",
       "    .dataframe tbody tr th {\n",
       "        vertical-align: top;\n",
       "    }\n",
       "\n",
       "    .dataframe thead th {\n",
       "        text-align: right;\n",
       "    }\n",
       "</style>\n",
       "<table border=\"1\" class=\"dataframe\">\n",
       "  <thead>\n",
       "    <tr style=\"text-align: right;\">\n",
       "      <th></th>\n",
       "      <th>restaurant_name</th>\n",
       "      <th>aggregate_rating</th>\n",
       "    </tr>\n",
       "  </thead>\n",
       "  <tbody>\n",
       "    <tr>\n",
       "      <th>3896</th>\n",
       "      <td>Mandi@36</td>\n",
       "      <td>4.7</td>\n",
       "    </tr>\n",
       "    <tr>\n",
       "      <th>6883</th>\n",
       "      <td>Wok of Fame</td>\n",
       "      <td>4.5</td>\n",
       "    </tr>\n",
       "    <tr>\n",
       "      <th>3184</th>\n",
       "      <td>Three Kings</td>\n",
       "      <td>4.5</td>\n",
       "    </tr>\n",
       "    <tr>\n",
       "      <th>2452</th>\n",
       "      <td>Madfoon Al Khaimah</td>\n",
       "      <td>4.5</td>\n",
       "    </tr>\n",
       "    <tr>\n",
       "      <th>2303</th>\n",
       "      <td>Aroos Damascus</td>\n",
       "      <td>4.4</td>\n",
       "    </tr>\n",
       "  </tbody>\n",
       "</table>\n",
       "</div>"
      ],
      "text/plain": [
       "         restaurant_name  aggregate_rating\n",
       "3896            Mandi@36               4.7\n",
       "6883         Wok of Fame               4.5\n",
       "3184         Three Kings               4.5\n",
       "2452  Madfoon Al Khaimah               4.5\n",
       "2303      Aroos Damascus               4.4"
      ]
     },
     "execution_count": 29,
     "metadata": {},
     "output_type": "execute_result"
    }
   ],
   "source": [
    "df.loc[df['cuisines'] == 'Arabian',['restaurant_name', 'aggregate_rating']].sort_values('aggregate_rating', ascending=False).head(5)"
   ]
  },
  {
   "cell_type": "markdown",
   "metadata": {},
   "source": [
    "## 6. Dos restaurantes que possuem o tipo de culinária árabe, qual o nome do restaurante com a menor média de avaliação?\n"
   ]
  },
  {
   "cell_type": "code",
   "execution_count": 30,
   "metadata": {},
   "outputs": [
    {
     "data": {
      "text/html": [
       "<div>\n",
       "<style scoped>\n",
       "    .dataframe tbody tr th:only-of-type {\n",
       "        vertical-align: middle;\n",
       "    }\n",
       "\n",
       "    .dataframe tbody tr th {\n",
       "        vertical-align: top;\n",
       "    }\n",
       "\n",
       "    .dataframe thead th {\n",
       "        text-align: right;\n",
       "    }\n",
       "</style>\n",
       "<table border=\"1\" class=\"dataframe\">\n",
       "  <thead>\n",
       "    <tr style=\"text-align: right;\">\n",
       "      <th></th>\n",
       "      <th>restaurant_name</th>\n",
       "      <th>aggregate_rating</th>\n",
       "    </tr>\n",
       "  </thead>\n",
       "  <tbody>\n",
       "    <tr>\n",
       "      <th>337</th>\n",
       "      <td>Raful</td>\n",
       "      <td>0.0</td>\n",
       "    </tr>\n",
       "    <tr>\n",
       "      <th>169</th>\n",
       "      <td>Empório Árabe</td>\n",
       "      <td>2.7</td>\n",
       "    </tr>\n",
       "    <tr>\n",
       "      <th>147</th>\n",
       "      <td>Salim Sou Eu</td>\n",
       "      <td>3.1</td>\n",
       "    </tr>\n",
       "    <tr>\n",
       "      <th>5118</th>\n",
       "      <td>Abad Hot Chicken</td>\n",
       "      <td>3.2</td>\n",
       "    </tr>\n",
       "    <tr>\n",
       "      <th>5155</th>\n",
       "      <td>V Empire</td>\n",
       "      <td>3.2</td>\n",
       "    </tr>\n",
       "  </tbody>\n",
       "</table>\n",
       "</div>"
      ],
      "text/plain": [
       "       restaurant_name  aggregate_rating\n",
       "337              Raful               0.0\n",
       "169      Empório Árabe               2.7\n",
       "147       Salim Sou Eu               3.1\n",
       "5118  Abad Hot Chicken               3.2\n",
       "5155         V Empire                3.2"
      ]
     },
     "execution_count": 30,
     "metadata": {},
     "output_type": "execute_result"
    }
   ],
   "source": [
    "df.loc[df['cuisines'] == 'Arabian',['restaurant_name', 'aggregate_rating']].sort_values('aggregate_rating', ascending=True).head(5)"
   ]
  },
  {
   "cell_type": "markdown",
   "metadata": {},
   "source": [
    "## 7. Dos restaurantes que possuem o tipo de culinária japonesa, qual o nome do restaurante com a maior média de avaliação?\n"
   ]
  },
  {
   "cell_type": "code",
   "execution_count": 31,
   "metadata": {},
   "outputs": [
    {
     "data": {
      "text/html": [
       "<div>\n",
       "<style scoped>\n",
       "    .dataframe tbody tr th:only-of-type {\n",
       "        vertical-align: middle;\n",
       "    }\n",
       "\n",
       "    .dataframe tbody tr th {\n",
       "        vertical-align: top;\n",
       "    }\n",
       "\n",
       "    .dataframe thead th {\n",
       "        text-align: right;\n",
       "    }\n",
       "</style>\n",
       "<table border=\"1\" class=\"dataframe\">\n",
       "  <thead>\n",
       "    <tr style=\"text-align: right;\">\n",
       "      <th></th>\n",
       "      <th>restaurant_name</th>\n",
       "      <th>aggregate_rating</th>\n",
       "    </tr>\n",
       "  </thead>\n",
       "  <tbody>\n",
       "    <tr>\n",
       "      <th>240</th>\n",
       "      <td>Sushi Leblon</td>\n",
       "      <td>4.9</td>\n",
       "    </tr>\n",
       "    <tr>\n",
       "      <th>75</th>\n",
       "      <td>Mendokoro Ramenba</td>\n",
       "      <td>4.9</td>\n",
       "    </tr>\n",
       "    <tr>\n",
       "      <th>1297</th>\n",
       "      <td>Samurai</td>\n",
       "      <td>4.9</td>\n",
       "    </tr>\n",
       "    <tr>\n",
       "      <th>1567</th>\n",
       "      <td>Nobu Perth</td>\n",
       "      <td>4.9</td>\n",
       "    </tr>\n",
       "    <tr>\n",
       "      <th>6034</th>\n",
       "      <td>Gyu - Kaku Japanese BBQ</td>\n",
       "      <td>4.9</td>\n",
       "    </tr>\n",
       "  </tbody>\n",
       "</table>\n",
       "</div>"
      ],
      "text/plain": [
       "              restaurant_name  aggregate_rating\n",
       "240              Sushi Leblon               4.9\n",
       "75          Mendokoro Ramenba               4.9\n",
       "1297                  Samurai               4.9\n",
       "1567               Nobu Perth               4.9\n",
       "6034  Gyu - Kaku Japanese BBQ               4.9"
      ]
     },
     "execution_count": 31,
     "metadata": {},
     "output_type": "execute_result"
    }
   ],
   "source": [
    "df.loc[df['cuisines'] == 'Japanese',['restaurant_name', 'aggregate_rating']].sort_values('aggregate_rating', ascending=False).head(5)"
   ]
  },
  {
   "cell_type": "markdown",
   "metadata": {},
   "source": [
    "## 8. Dos restaurantes que possuem o tipo de culinária japonesa, qual o nome do restaurante com a menor média de avaliação?\n"
   ]
  },
  {
   "cell_type": "code",
   "execution_count": 32,
   "metadata": {},
   "outputs": [
    {
     "data": {
      "text/html": [
       "<div>\n",
       "<style scoped>\n",
       "    .dataframe tbody tr th:only-of-type {\n",
       "        vertical-align: middle;\n",
       "    }\n",
       "\n",
       "    .dataframe tbody tr th {\n",
       "        vertical-align: top;\n",
       "    }\n",
       "\n",
       "    .dataframe thead th {\n",
       "        text-align: right;\n",
       "    }\n",
       "</style>\n",
       "<table border=\"1\" class=\"dataframe\">\n",
       "  <thead>\n",
       "    <tr style=\"text-align: right;\">\n",
       "      <th></th>\n",
       "      <th>restaurant_name</th>\n",
       "      <th>aggregate_rating</th>\n",
       "    </tr>\n",
       "  </thead>\n",
       "  <tbody>\n",
       "    <tr>\n",
       "      <th>123</th>\n",
       "      <td>Banzai Sushi</td>\n",
       "      <td>0.0</td>\n",
       "    </tr>\n",
       "    <tr>\n",
       "      <th>181</th>\n",
       "      <td>Orienthai</td>\n",
       "      <td>2.4</td>\n",
       "    </tr>\n",
       "    <tr>\n",
       "      <th>182</th>\n",
       "      <td>Hachiko</td>\n",
       "      <td>2.5</td>\n",
       "    </tr>\n",
       "    <tr>\n",
       "      <th>112</th>\n",
       "      <td>Haná</td>\n",
       "      <td>2.7</td>\n",
       "    </tr>\n",
       "    <tr>\n",
       "      <th>116</th>\n",
       "      <td>Sushi Loko</td>\n",
       "      <td>2.9</td>\n",
       "    </tr>\n",
       "  </tbody>\n",
       "</table>\n",
       "</div>"
      ],
      "text/plain": [
       "    restaurant_name  aggregate_rating\n",
       "123    Banzai Sushi               0.0\n",
       "181       Orienthai               2.4\n",
       "182         Hachiko               2.5\n",
       "112            Haná               2.7\n",
       "116      Sushi Loko               2.9"
      ]
     },
     "execution_count": 32,
     "metadata": {},
     "output_type": "execute_result"
    }
   ],
   "source": [
    "df.loc[df['cuisines'] == 'Japanese',['restaurant_name', 'aggregate_rating']].sort_values('aggregate_rating', ascending=True).head(5)"
   ]
  },
  {
   "cell_type": "markdown",
   "metadata": {},
   "source": [
    "## 9. Dos restaurantes que possuem o tipo de culinária caseira, qual o nome do restaurante com a maior média de avaliação?\n"
   ]
  },
  {
   "cell_type": "code",
   "execution_count": 35,
   "metadata": {},
   "outputs": [
    {
     "data": {
      "text/html": [
       "<div>\n",
       "<style scoped>\n",
       "    .dataframe tbody tr th:only-of-type {\n",
       "        vertical-align: middle;\n",
       "    }\n",
       "\n",
       "    .dataframe tbody tr th {\n",
       "        vertical-align: top;\n",
       "    }\n",
       "\n",
       "    .dataframe thead th {\n",
       "        text-align: right;\n",
       "    }\n",
       "</style>\n",
       "<table border=\"1\" class=\"dataframe\">\n",
       "  <thead>\n",
       "    <tr style=\"text-align: right;\">\n",
       "      <th></th>\n",
       "      <th>restaurant_name</th>\n",
       "      <th>aggregate_rating</th>\n",
       "    </tr>\n",
       "  </thead>\n",
       "  <tbody>\n",
       "    <tr>\n",
       "      <th>7525</th>\n",
       "      <td>Kanaat Lokantası</td>\n",
       "      <td>4.0</td>\n",
       "    </tr>\n",
       "    <tr>\n",
       "      <th>7373</th>\n",
       "      <td>GurMekan Restaurant</td>\n",
       "      <td>3.7</td>\n",
       "    </tr>\n",
       "  </tbody>\n",
       "</table>\n",
       "</div>"
      ],
      "text/plain": [
       "          restaurant_name  aggregate_rating\n",
       "7525     Kanaat Lokantası               4.0\n",
       "7373  GurMekan Restaurant               3.7"
      ]
     },
     "execution_count": 35,
     "metadata": {},
     "output_type": "execute_result"
    }
   ],
   "source": [
    "df.loc[df['cuisines'] == 'Home-made',['restaurant_name', 'aggregate_rating']].sort_values('aggregate_rating', ascending=False)\n"
   ]
  },
  {
   "cell_type": "markdown",
   "metadata": {},
   "source": [
    "## 10. Dos restaurantes que possuem o tipo de culinária caseira, qual o nome do restaurante com a menor média de avaliação?\n"
   ]
  },
  {
   "cell_type": "code",
   "execution_count": 36,
   "metadata": {},
   "outputs": [
    {
     "data": {
      "text/html": [
       "<div>\n",
       "<style scoped>\n",
       "    .dataframe tbody tr th:only-of-type {\n",
       "        vertical-align: middle;\n",
       "    }\n",
       "\n",
       "    .dataframe tbody tr th {\n",
       "        vertical-align: top;\n",
       "    }\n",
       "\n",
       "    .dataframe thead th {\n",
       "        text-align: right;\n",
       "    }\n",
       "</style>\n",
       "<table border=\"1\" class=\"dataframe\">\n",
       "  <thead>\n",
       "    <tr style=\"text-align: right;\">\n",
       "      <th></th>\n",
       "      <th>restaurant_name</th>\n",
       "      <th>aggregate_rating</th>\n",
       "    </tr>\n",
       "  </thead>\n",
       "  <tbody>\n",
       "    <tr>\n",
       "      <th>7373</th>\n",
       "      <td>GurMekan Restaurant</td>\n",
       "      <td>3.7</td>\n",
       "    </tr>\n",
       "    <tr>\n",
       "      <th>7525</th>\n",
       "      <td>Kanaat Lokantası</td>\n",
       "      <td>4.0</td>\n",
       "    </tr>\n",
       "  </tbody>\n",
       "</table>\n",
       "</div>"
      ],
      "text/plain": [
       "          restaurant_name  aggregate_rating\n",
       "7373  GurMekan Restaurant               3.7\n",
       "7525     Kanaat Lokantası               4.0"
      ]
     },
     "execution_count": 36,
     "metadata": {},
     "output_type": "execute_result"
    }
   ],
   "source": [
    "df.loc[df['cuisines'] == 'Home-made',['restaurant_name', 'aggregate_rating']].sort_values('aggregate_rating', ascending=True)\n"
   ]
  },
  {
   "cell_type": "markdown",
   "metadata": {},
   "source": [
    "## 11. Qual o tipo de culinária que possui o maior valor médio de um prato para duas pessoas?\n"
   ]
  },
  {
   "cell_type": "code",
   "execution_count": 102,
   "metadata": {},
   "outputs": [
    {
     "data": {
      "text/html": [
       "<div>\n",
       "<style scoped>\n",
       "    .dataframe tbody tr th:only-of-type {\n",
       "        vertical-align: middle;\n",
       "    }\n",
       "\n",
       "    .dataframe tbody tr th {\n",
       "        vertical-align: top;\n",
       "    }\n",
       "\n",
       "    .dataframe thead th {\n",
       "        text-align: right;\n",
       "    }\n",
       "</style>\n",
       "<table border=\"1\" class=\"dataframe\">\n",
       "  <thead>\n",
       "    <tr style=\"text-align: right;\">\n",
       "      <th></th>\n",
       "      <th>cuisines</th>\n",
       "      <th>currency_in_usd</th>\n",
       "    </tr>\n",
       "  </thead>\n",
       "  <tbody>\n",
       "    <tr>\n",
       "      <th>2121</th>\n",
       "      <td>Continental</td>\n",
       "      <td>755.0</td>\n",
       "    </tr>\n",
       "    <tr>\n",
       "      <th>1468</th>\n",
       "      <td>New American</td>\n",
       "      <td>650.0</td>\n",
       "    </tr>\n",
       "    <tr>\n",
       "      <th>798</th>\n",
       "      <td>New American</td>\n",
       "      <td>600.0</td>\n",
       "    </tr>\n",
       "    <tr>\n",
       "      <th>1450</th>\n",
       "      <td>French</td>\n",
       "      <td>600.0</td>\n",
       "    </tr>\n",
       "    <tr>\n",
       "      <th>2050</th>\n",
       "      <td>French</td>\n",
       "      <td>500.0</td>\n",
       "    </tr>\n",
       "  </tbody>\n",
       "</table>\n",
       "</div>"
      ],
      "text/plain": [
       "          cuisines  currency_in_usd\n",
       "2121   Continental            755.0\n",
       "1468  New American            650.0\n",
       "798   New American            600.0\n",
       "1450        French            600.0\n",
       "2050        French            500.0"
      ]
     },
     "execution_count": 102,
     "metadata": {},
     "output_type": "execute_result"
    }
   ],
   "source": [
    "df.loc[:, ['cuisines','currency_in_usd']].sort_values('currency_in_usd', ascending=False).head(5)"
   ]
  },
  {
   "cell_type": "markdown",
   "metadata": {},
   "source": [
    "## 12. Qual o tipo de culinária que possui a maior nota média?\n"
   ]
  },
  {
   "cell_type": "code",
   "execution_count": 40,
   "metadata": {},
   "outputs": [
    {
     "data": {
      "text/html": [
       "<div>\n",
       "<style scoped>\n",
       "    .dataframe tbody tr th:only-of-type {\n",
       "        vertical-align: middle;\n",
       "    }\n",
       "\n",
       "    .dataframe tbody tr th {\n",
       "        vertical-align: top;\n",
       "    }\n",
       "\n",
       "    .dataframe thead th {\n",
       "        text-align: right;\n",
       "    }\n",
       "</style>\n",
       "<table border=\"1\" class=\"dataframe\">\n",
       "  <thead>\n",
       "    <tr style=\"text-align: right;\">\n",
       "      <th></th>\n",
       "      <th>cuisines</th>\n",
       "      <th>aggregate_rating</th>\n",
       "    </tr>\n",
       "  </thead>\n",
       "  <tbody>\n",
       "    <tr>\n",
       "      <th>792</th>\n",
       "      <td>Burger</td>\n",
       "      <td>4.9</td>\n",
       "    </tr>\n",
       "    <tr>\n",
       "      <th>4940</th>\n",
       "      <td>North Indian</td>\n",
       "      <td>4.9</td>\n",
       "    </tr>\n",
       "    <tr>\n",
       "      <th>1697</th>\n",
       "      <td>Italian</td>\n",
       "      <td>4.9</td>\n",
       "    </tr>\n",
       "    <tr>\n",
       "      <th>825</th>\n",
       "      <td>Mexican</td>\n",
       "      <td>4.9</td>\n",
       "    </tr>\n",
       "    <tr>\n",
       "      <th>822</th>\n",
       "      <td>American</td>\n",
       "      <td>4.9</td>\n",
       "    </tr>\n",
       "  </tbody>\n",
       "</table>\n",
       "</div>"
      ],
      "text/plain": [
       "          cuisines  aggregate_rating\n",
       "792         Burger               4.9\n",
       "4940  North Indian               4.9\n",
       "1697       Italian               4.9\n",
       "825        Mexican               4.9\n",
       "822       American               4.9"
      ]
     },
     "execution_count": 40,
     "metadata": {},
     "output_type": "execute_result"
    }
   ],
   "source": [
    "df.loc[:, ['cuisines','aggregate_rating']].sort_values('aggregate_rating', ascending=False).head(5)"
   ]
  },
  {
   "cell_type": "markdown",
   "metadata": {},
   "source": [
    "## 13. Qual o tipo de culinária que possui mais restaurantes que aceitam pedidos online e fazem entregas?"
   ]
  },
  {
   "cell_type": "code",
   "execution_count": 43,
   "metadata": {},
   "outputs": [
    {
     "data": {
      "text/html": [
       "<div>\n",
       "<style scoped>\n",
       "    .dataframe tbody tr th:only-of-type {\n",
       "        vertical-align: middle;\n",
       "    }\n",
       "\n",
       "    .dataframe tbody tr th {\n",
       "        vertical-align: top;\n",
       "    }\n",
       "\n",
       "    .dataframe thead th {\n",
       "        text-align: right;\n",
       "    }\n",
       "</style>\n",
       "<table border=\"1\" class=\"dataframe\">\n",
       "  <thead>\n",
       "    <tr style=\"text-align: right;\">\n",
       "      <th></th>\n",
       "      <th>cuisines</th>\n",
       "      <th>restaurant_id</th>\n",
       "    </tr>\n",
       "  </thead>\n",
       "  <tbody>\n",
       "    <tr>\n",
       "      <th>0</th>\n",
       "      <td>North Indian</td>\n",
       "      <td>317</td>\n",
       "    </tr>\n",
       "    <tr>\n",
       "      <th>1</th>\n",
       "      <td>Cafe</td>\n",
       "      <td>131</td>\n",
       "    </tr>\n",
       "    <tr>\n",
       "      <th>2</th>\n",
       "      <td>South Indian</td>\n",
       "      <td>79</td>\n",
       "    </tr>\n",
       "    <tr>\n",
       "      <th>3</th>\n",
       "      <td>Burger</td>\n",
       "      <td>76</td>\n",
       "    </tr>\n",
       "    <tr>\n",
       "      <th>4</th>\n",
       "      <td>Fast Food</td>\n",
       "      <td>72</td>\n",
       "    </tr>\n",
       "    <tr>\n",
       "      <th>5</th>\n",
       "      <td>Pizza</td>\n",
       "      <td>55</td>\n",
       "    </tr>\n",
       "    <tr>\n",
       "      <th>6</th>\n",
       "      <td>Chinese</td>\n",
       "      <td>49</td>\n",
       "    </tr>\n",
       "    <tr>\n",
       "      <th>7</th>\n",
       "      <td>Biryani</td>\n",
       "      <td>38</td>\n",
       "    </tr>\n",
       "    <tr>\n",
       "      <th>8</th>\n",
       "      <td>Italian</td>\n",
       "      <td>35</td>\n",
       "    </tr>\n",
       "    <tr>\n",
       "      <th>9</th>\n",
       "      <td>Continental</td>\n",
       "      <td>34</td>\n",
       "    </tr>\n",
       "  </tbody>\n",
       "</table>\n",
       "</div>"
      ],
      "text/plain": [
       "       cuisines  restaurant_id\n",
       "0  North Indian            317\n",
       "1          Cafe            131\n",
       "2  South Indian             79\n",
       "3        Burger             76\n",
       "4     Fast Food             72\n",
       "5         Pizza             55\n",
       "6       Chinese             49\n",
       "7       Biryani             38\n",
       "8       Italian             35\n",
       "9   Continental             34"
      ]
     },
     "execution_count": 43,
     "metadata": {},
     "output_type": "execute_result"
    }
   ],
   "source": [
    "df.loc[(df['is_delivering_now'] == 'Yes') & (df['has_online_delivery'] == 'Yes') , ['restaurant_id','cuisines']].groupby('cuisines').count().sort_values('restaurant_id', ascending=False).reset_index().head(10)\n"
   ]
  },
  {
   "cell_type": "markdown",
   "metadata": {},
   "source": [
    "# Gráficos"
   ]
  },
  {
   "cell_type": "markdown",
   "metadata": {},
   "source": [
    "## 1. Mapa"
   ]
  },
  {
   "cell_type": "code",
   "execution_count": null,
   "metadata": {},
   "outputs": [],
   "source": [
    "df_aux = df.loc[:,['longitude','latitude', 'city', 'restaurant_name', 'rating_color']]\n",
    "\n",
    "m = folium.Map()\n",
    "\n",
    "mark_cluster = MarkerCluster().add_to(m)\n",
    "\n",
    "for index, row in df_aux.iterrows():\n",
    "    folium.Marker(location = [row['latitude'], \n",
    "                              row['longitude']],\n",
    "                              popup = row[['city','restaurant_name']],\n",
    "                              icon=folium.Icon(color=row['rating_color']),\n",
    "                              ).add_to(mark_cluster)\n",
    "    \n",
    "folium.LayerControl().add_to(m)\n",
    "\n",
    "m"
   ]
  },
  {
   "cell_type": "code",
   "execution_count": null,
   "metadata": {},
   "outputs": [],
   "source": [
    "df_aux = df.loc[:,['longitude','latitude', 'city', 'restaurant_name', 'rating_color', 'country']]\n",
    "\n",
    "m = folium.Map()\n",
    "\n",
    "mark_cluster = MarkerCluster().add_to(m)\n",
    "\n",
    "df_aux.apply(lambda x: folium.Marker(location = [x['latitude'], \n",
    "                              x['longitude']],\n",
    "                              popup = x[['city','restaurant_name']],\n",
    "                              icon=folium.Icon(color=x['rating_color']),\n",
    "                              ).add_to(mark_cluster), axis= 1)\n",
    "   \n",
    "folium.LayerControl().add_to(m)\n",
    "\n",
    "m\n"
   ]
  },
  {
   "cell_type": "code",
   "execution_count": 94,
   "metadata": {},
   "outputs": [
    {
     "data": {
      "text/html": [
       "<div style=\"width:100%;\"><div style=\"position:relative;width:100%;height:0;padding-bottom:60%;\"><span style=\"color:#565656\">Make this Notebook Trusted to load map: File -> Trust Notebook</span><iframe srcdoc=\"&lt;!DOCTYPE html&gt;\n",
       "&lt;html&gt;\n",
       "&lt;head&gt;\n",
       "    \n",
       "    &lt;meta http-equiv=&quot;content-type&quot; content=&quot;text/html; charset=UTF-8&quot; /&gt;\n",
       "    \n",
       "        &lt;script&gt;\n",
       "            L_NO_TOUCH = false;\n",
       "            L_DISABLE_3D = false;\n",
       "        &lt;/script&gt;\n",
       "    \n",
       "    &lt;style&gt;html, body {width: 100%;height: 100%;margin: 0;padding: 0;}&lt;/style&gt;\n",
       "    &lt;style&gt;#map {position:absolute;top:0;bottom:0;right:0;left:0;}&lt;/style&gt;\n",
       "    &lt;script src=&quot;https://cdn.jsdelivr.net/npm/leaflet@1.9.3/dist/leaflet.js&quot;&gt;&lt;/script&gt;\n",
       "    &lt;script src=&quot;https://code.jquery.com/jquery-3.7.1.min.js&quot;&gt;&lt;/script&gt;\n",
       "    &lt;script src=&quot;https://cdn.jsdelivr.net/npm/bootstrap@5.2.2/dist/js/bootstrap.bundle.min.js&quot;&gt;&lt;/script&gt;\n",
       "    &lt;script src=&quot;https://cdnjs.cloudflare.com/ajax/libs/Leaflet.awesome-markers/2.0.2/leaflet.awesome-markers.js&quot;&gt;&lt;/script&gt;\n",
       "    &lt;link rel=&quot;stylesheet&quot; href=&quot;https://cdn.jsdelivr.net/npm/leaflet@1.9.3/dist/leaflet.css&quot;/&gt;\n",
       "    &lt;link rel=&quot;stylesheet&quot; href=&quot;https://cdn.jsdelivr.net/npm/bootstrap@5.2.2/dist/css/bootstrap.min.css&quot;/&gt;\n",
       "    &lt;link rel=&quot;stylesheet&quot; href=&quot;https://netdna.bootstrapcdn.com/bootstrap/3.0.0/css/bootstrap-glyphicons.css&quot;/&gt;\n",
       "    &lt;link rel=&quot;stylesheet&quot; href=&quot;https://cdn.jsdelivr.net/npm/@fortawesome/fontawesome-free@6.2.0/css/all.min.css&quot;/&gt;\n",
       "    &lt;link rel=&quot;stylesheet&quot; href=&quot;https://cdnjs.cloudflare.com/ajax/libs/Leaflet.awesome-markers/2.0.2/leaflet.awesome-markers.css&quot;/&gt;\n",
       "    &lt;link rel=&quot;stylesheet&quot; href=&quot;https://cdn.jsdelivr.net/gh/python-visualization/folium/folium/templates/leaflet.awesome.rotate.min.css&quot;/&gt;\n",
       "    \n",
       "            &lt;meta name=&quot;viewport&quot; content=&quot;width=device-width,\n",
       "                initial-scale=1.0, maximum-scale=1.0, user-scalable=no&quot; /&gt;\n",
       "            &lt;style&gt;\n",
       "                #map_b9d1cd50adc2dcb0596a6c4adc36364e {\n",
       "                    position: relative;\n",
       "                    width: 100.0%;\n",
       "                    height: 100.0%;\n",
       "                    left: 0.0%;\n",
       "                    top: 0.0%;\n",
       "                }\n",
       "                .leaflet-container { font-size: 1rem; }\n",
       "            &lt;/style&gt;\n",
       "        \n",
       "    &lt;script src=&quot;https://cdnjs.cloudflare.com/ajax/libs/leaflet.markercluster/1.1.0/leaflet.markercluster.js&quot;&gt;&lt;/script&gt;\n",
       "    &lt;link rel=&quot;stylesheet&quot; href=&quot;https://cdnjs.cloudflare.com/ajax/libs/leaflet.markercluster/1.1.0/MarkerCluster.css&quot;/&gt;\n",
       "    &lt;link rel=&quot;stylesheet&quot; href=&quot;https://cdnjs.cloudflare.com/ajax/libs/leaflet.markercluster/1.1.0/MarkerCluster.Default.css&quot;/&gt;\n",
       "&lt;/head&gt;\n",
       "&lt;body&gt;\n",
       "    \n",
       "    \n",
       "            &lt;div class=&quot;folium-map&quot; id=&quot;map_b9d1cd50adc2dcb0596a6c4adc36364e&quot; &gt;&lt;/div&gt;\n",
       "        \n",
       "&lt;/body&gt;\n",
       "&lt;script&gt;\n",
       "    \n",
       "    \n",
       "            var map_b9d1cd50adc2dcb0596a6c4adc36364e = L.map(\n",
       "                &quot;map_b9d1cd50adc2dcb0596a6c4adc36364e&quot;,\n",
       "                {\n",
       "                    center: [0.0, 0.0],\n",
       "                    crs: L.CRS.EPSG3857,\n",
       "                    zoom: 1,\n",
       "                    zoomControl: true,\n",
       "                    preferCanvas: false,\n",
       "                }\n",
       "            );\n",
       "\n",
       "            \n",
       "\n",
       "        \n",
       "    \n",
       "            var tile_layer_0053fa5a4e0c86d25e08a899d487c29a = L.tileLayer(\n",
       "                &quot;https://tile.openstreetmap.org/{z}/{x}/{y}.png&quot;,\n",
       "                {&quot;attribution&quot;: &quot;\\u0026copy; \\u003ca href=\\&quot;https://www.openstreetmap.org/copyright\\&quot;\\u003eOpenStreetMap\\u003c/a\\u003e contributors&quot;, &quot;detectRetina&quot;: false, &quot;maxNativeZoom&quot;: 19, &quot;maxZoom&quot;: 19, &quot;minZoom&quot;: 0, &quot;noWrap&quot;: false, &quot;opacity&quot;: 1, &quot;subdomains&quot;: &quot;abc&quot;, &quot;tms&quot;: false}\n",
       "            );\n",
       "        \n",
       "    \n",
       "            tile_layer_0053fa5a4e0c86d25e08a899d487c29a.addTo(map_b9d1cd50adc2dcb0596a6c4adc36364e);\n",
       "        \n",
       "    \n",
       "            var fast_marker_cluster_9a934595ad392d6a5a072c58d934843c = (function(){\n",
       "                var callback =     function (row) {\n",
       "    var icon, marker;\n",
       "    icon = L.AwesomeMarkers.icon({\n",
       "    icon: &quot;map-marker&quot;, markerColor: &#x27;red&#x27;});\n",
       "    marker = L.marker(new L.LatLng(row[0], row[1]));\n",
       "    marker.setIcon(icon);\n",
       "    return marker;\n",
       "};\n",
       ";\n",
       "\n",
       "                var data = [[14.4476149305, 121.0097868741], [14.5560423293, 121.0245618224], [14.5561964736, 121.023171097], [14.5658989133, 121.0277083889], [14.5523509457, 121.020379588], [14.5522477483, 121.0213877633], [14.5520439496, 121.0213736817], [14.5518745499, 121.0217716545], [14.5521890101, 121.0216529667], [14.5557840155, 121.0181084275], [14.5536214376, 121.0138923302], [14.5675392548, 121.0290313885], [14.5635469245, 121.0297240689], [14.5660212497, 121.0357519984], [14.56327856, 121.0377502441], [14.5656685181, 121.0357127711], [14.5602269044, 121.0246630758], [14.5602278779, 121.024822332], [14.5831048555, 121.0563476756], [14.5836184983, 121.0560814664], [14.583758671, 121.0561009124], [14.5843891226, 121.0570152104], [14.5841431721, 121.0567650944], [14.5839316155, 121.0562296584], [14.5836532171, 121.0559533909], [14.5845107999, 121.0591240972], [14.5848690173, 121.0589373484], [14.5852389152, 121.0593309626], [14.6019222853, 120.9760963172], [14.5756460295, 120.9846361354], [14.6292523213, 121.0958777368], [14.4247476568, 121.0269469768], [14.5403891406, 120.9791587293], [14.5528565472, 120.9816655889], [14.5809805095, 121.0642923787], [14.5807796576, 121.0642913729], [14.5846461049, 121.0678097606], [14.571657091, 121.056371145], [14.5676755438, 121.0578601062], [14.5715000371, 121.0606304929], [14.6518713781, 121.0361489654], [14.6271193376, 121.0053588823], [14.6317589967, 120.9994942322], [14.610405436, 121.0793221369], [14.6344216794, 121.0339079797], [14.6362230594, 121.0352665186], [14.6319503943, 121.0258905217], [14.6419310622, 121.0610988736], [14.6554816213, 121.032101512], [14.6468772723, 121.0579841584], [14.6372851303, 121.0310507566], [14.6297590438, 121.0323529691], [14.6318287433, 121.0332116112], [14.6338604685, 121.0350881517], [14.6312094575, 121.0348125547], [14.6489747068, 121.0751291737], [14.6495070095, 121.0754399747], [14.6520274015, 121.0748857632], [14.5966142692, 121.0383306071], [14.1025584457, 120.9511869773], [14.0884592334, 120.8985006809], [14.1017201526, 120.949469693], [14.5540832264, 121.0459249467], [14.5513543426, 121.0489176214], [14.5513121548, 121.0490990058], [14.5517096933, 121.0485243425], [14.5514932378, 121.0492894426], [14.5488730379, 121.0483744741], [14.5528085183, 121.050289236], [14.5507429434, 121.0505024716], [14.5526397682, 121.0440879688], [14.5487393335, 121.0557220504], [14.5487250544, 121.0469049588], [14.5515578175, 121.0465535894], [14.5498333055, 121.0542066023], [14.5455330007, 121.0538730025], [14.5464540148, 121.0546558723], [14.5459526175, 121.0538599268], [14.5564755557, 121.0540369526], [14.5570402092, 121.0542304069], [-15.7711666667, -47.8843333333], [-15.7808333333, -47.886], [-15.7641416667, -47.8817888889], [-15.777, -47.8838333333], [-15.760372, -47.887958], [-15.7651666667, -47.8863333333], [-15.7526666667, -47.8901666667], [-15.7448805556, -47.8866472222], [-15.7653333333, -47.8863333333], [-15.7775, -47.8826666667], [-15.779875, -47.8752666667], [-15.7574722222, -47.8821361111], [-15.759, -47.8875], [-15.7588333333, -47.8881666667], [-15.7625, -47.8886666667], [-15.7831666667, -47.883], [-15.74, -47.8933333333], [-15.7773055556, -47.8782916667], [-15.7621666667, -47.8888333333], [-15.7805055556, -47.8757666667], [-15.7450333333, -47.8875083333], [-15.8345, -47.9216666667], [-15.8135, -47.8908333333], [-15.8228333333, -47.9008333333], [-15.8188333333, -47.8953333333], [-15.8226666667, -47.9013333333], [-15.8153333333, -47.8941666667], [-15.831, -47.9156666667], [-15.82, -47.9075], [-15.8308333333, -47.9245], [-15.7928333333, -47.8925], [-15.8138333333, -47.8905], [-15.8311666667, -47.9156666667], [-15.8233333333, -47.905], [-15.8116666667, -47.8973333333], [-15.8141666667, -47.89], [-15.807, -47.893], [-15.812, -47.9013333333], [-15.8085, -47.8861666667], [-15.8088333333, -47.8853333333], [-15.8046666667, -47.8851666667], [-15.8273333333, -47.9101666667], [-15.8313333333, -47.9236666667], [-15.7873333333, -47.889], [-15.7865, -47.889], [-15.718507, -47.881767], [-15.8356666667, -47.868], [-15.8605, -47.872], [-15.8605, -47.872], [-15.860621, -47.872359], [-15.8345138889, -47.9562833333], [-15.8256666667, -47.8728333333], [-15.8248333333, -47.874], [-15.8256666667, -47.8713333333], [-15.7853694444, -47.849525], [-15.8175, -47.8671666667], [-15.8178333333, -47.837], [-15.8181666667, -47.8365], [-15.8193333333, -47.8338333333], [-15.817, -47.8733333333], [-15.8354305556, -48.0571166667], [-15.720118, -47.885812], [-15.720118, -47.885812], [-15.794649, -47.893317], [-15.8336666667, -48.0375], [-15.8336666667, -48.0373333333], [-15.8095, -47.9431666667], [-15.8025888889, -47.9278444444], [-15.7966666667, -47.9326666667], [-15.7975305556, -47.9210277778], [-15.8331666667, -48.0525], [-15.8065, -48.0663333333], [-15.8395368082, -48.0528417718], [-15.8348333333, -48.051], [-15.8383055556, -48.0325], [-15.8345, -48.0158333333], [-15.839, -48.019], [-15.8371666667, -48.019], [-15.8348333333, -48.0166666667], [-15.839775, -48.0190916667], [-23.0135, -43.3056666667], [-23.0101666667, -43.3078333333], [-23.0115, -43.377], [-23.0116666667, -43.3178333333], [-22.9975, -43.358], [-22.9488333333, -43.1801666667], [-22.9535, -43.1956666667], [-22.9521416667, -43.1824194444], [-22.904315, -43.173718], [-22.905293, -43.178826], [-22.915356, -43.186781], [-22.900597, -43.180284], [-22.902249, -43.176895], [-22.908594, -43.183697], [-22.9720722222, -43.1866916667], [-22.9701666667, -43.1838333333], [-22.9621666667, -43.1758333333], [-22.9666666667, -43.1786666667], [-22.968, -43.1798333333], [-22.9621666667, -43.1665], [-22.9759694444, -43.1888805556], [-22.9661666667, -43.1815], [-22.9730194444, -43.1884083333], [-22.9770472222, -43.1902194444], [-22.9675, -43.1786666667], [-22.99657, -43.259555], [-22.936384, -43.174293], [-22.933, -43.1756666667], [-22.92988, -43.178869], [-22.985737, -43.186692], [-22.9868333333, -43.191], [-22.973507, -43.227042], [-22.9219861111, -43.1876805556], [-22.8186666667, -43.2256666667], [-22.987, -43.1973333333], [-22.9852083333, -43.211425], [-22.9846666667, -43.1985], [-22.9853333333, -43.203], [-22.9828333333, -43.209], [-22.9853194444, -43.2052083333], [-22.984188, -43.213722], [-22.98, -43.21], [-22.9848333333, -43.1986666667], [-22.9858333333, -43.1965], [-22.9865, -43.2033333333], [-22.9618333333, -43.2078333333], [-22.965625, -43.2181444444], [-22.9637916667, -43.2165083333], [-22.9639, -43.217966], [-22.9606666667, -43.2063333333], [-22.966647, -43.219563], [-22.9613333333, -43.2068333333], [-22.961, -43.2066666667], [-22.9763333333, -43.2191666667], [-22.984, -43.2215], [-22.981429, -43.224402], [-22.986, -43.2261666667], [-22.9841666667, -43.2275], [-22.9841666667, -43.227], [-22.9841666667, -43.2273333333], [-22.992728, -43.234037], [-22.9808333333, -43.2226666667], [-22.985834, -43.227128], [-22.9623333333, -43.1685], [-22.962221, -43.168384], [-22.963925, -43.1727916667], [-22.8865, -43.2768333333], [-23.0145, -43.4633333333], [-23.0216666667, -43.4883333333], [-23.0016611111, -43.3861666667], [-22.9248138889, -43.1873694444], [-22.9212333333, -43.1868583333], [-22.9214805556, -43.1860611111], [-22.8955222222, -43.2234083333], [-22.904, -43.2185], [-22.9137083333, -43.2155111111], [-22.917271, -43.224875], [-22.921458, -43.22164], [-22.9435, -43.1601666667], [-22.9478333333, -43.1626666667], [-23.5506666667, -46.6451666667], [-23.559, -46.6463333333], [-23.626419, -46.669925], [-23.512731, -46.653775], [-23.5561666667, -46.6586666667], [-23.546482, -46.658793], [-23.544534, -46.651874], [-23.5560011508, -46.6582972143], [-23.5643333333, -46.6698333333], [-23.581688, -46.666851], [-23.580987, -46.676856], [-23.582135, -46.67511], [-23.58127, -46.680345], [-23.584382, -46.679002], [-23.58036, -46.683609], [-23.6008333333, -46.6826666667], [-23.585045, -46.67572], [-23.6241666667, -46.6883333333], [-23.581, -46.6756666667], [-23.582366, -46.680883], [-23.5963333333, -46.6896666667], [-23.585227, -46.67044], [-23.5835, -46.6738333333], [-23.5816666667, -46.6825], [-23.583288, -46.6803], [-23.5943333333, -46.683], [-23.583, -46.676], [-23.5641666667, -46.6701666667], [-23.56783, -46.663835], [-23.5655, -46.6698333333], [-23.5611666667, -46.6668333333], [-23.565856, -46.667243], [-23.563038, -46.670834], [-23.563073, -46.667079], [-23.560348, -46.662651], [-23.569561, -46.658139], [-23.582931, -46.66973], [-23.5591666667, -46.6628333333], [-23.562217, -46.671878], [-23.5558333333, -46.6601666667], [-23.56338, -46.6658], [-23.566352, -46.666899], [-23.5728333333, -46.66], [-23.5618333333, -46.6681666667], [-23.5658333333, -46.664], [-23.568459, -46.664872], [-23.561568, -46.666041], [-23.56027, -46.671577], [-23.554192, -46.634305], [-23.5553333333, -46.6361666667], [-23.5578333333, -46.6356666667], [-23.488328, -46.63294], [-23.5418916667, -46.6294333333], [-23.598577, -46.663164], [-23.5923333333, -46.6713333333], [-23.556, -46.5935], [-23.561784, -46.679733], [-23.560418, -46.697959], [-23.565, -46.6806666667], [-23.5648333333, -46.6813333333], [-23.55968, -46.696468], [-23.545163, -46.643425], [-23.544905, -46.64471], [-23.5461722222, -46.6451944444], [-23.5485, -46.6426666667], [-23.5466416667, -46.6415944444], [-23.5308333333, -46.6493333333], [-23.503509, -46.642024], [-23.6531666667, -46.7155], [-23.633025, -46.702434], [-23.5431666667, -46.632], [-23.5478333333, -46.639], [-23.546887, -46.556028], [-23.551913, -46.567596], [-23.628, -46.733], [-23.556, -46.6915], [-23.486535, -46.581672], [-23.486254, -46.581691], [-23.5851666667, -46.6356666667], [-23.609207, -46.746958], [-34.8569588868, 138.5290316865], [-34.922517543, 138.5974917188], [-34.9226277778, 138.5976416667], [-34.997852, 138.624649], [-34.9227765002, 138.6085843295], [-34.9220829219, 138.6080254242], [-34.9219444444, 138.5993638889], [-34.9237361111, 138.6050111111], [-34.9211416667, 138.5980222222], [-34.8758456, 138.5663751], [-34.9213621221, 138.6107294261], [-34.9211055556, 138.6103833333], [-34.9227869465, 138.6092327535], [-34.9689916667, 138.5997166667], [-34.8969057, 138.5652629], [-34.930855, 138.596176], [-34.906173, 138.575496], [-34.9244652001, 138.6078929901], [-34.918725, 138.5762638889], [-34.9236305556, 138.5987861111], [-34.9481416667, 138.6283555556], [-34.9531027778, 138.5896138889], [-34.9303694444, 138.5982666667], [-34.9305083333, 138.5947111111], [-34.9302427, 138.5984447], [-34.9303194388, 138.5951199755], [-34.9289089, 138.5959297], [-34.9237361111, 138.5674583333], [-34.9342547412, 138.563765958], [-34.9307777778, 138.6123972222], [-34.9303138889, 138.6120305556], [-34.921799496, 138.5991449654], [-34.9323361111, 138.6000222222], [-34.877431421, 138.6023096368], [-35.0310333333, 138.8111722222], [-35.0315388889, 138.8115833333], [-34.9071055556, 138.607375], [-34.9058944444, 138.6096027778], [-34.9303638889, 138.5959777778], [-34.9082416667, 138.5967111111], [-34.9039084214, 138.5950995237], [-34.9035805556, 138.5951833333], [-34.9078321, 138.5968021], [-34.9040111111, 138.5950916667], [-34.9235027778, 138.5981305556], [-34.9233805556, 138.5979472222], [-34.92575, 138.6025555556], [-34.8871638889, 138.5939944444], [-34.9223314342, 138.6079905555], [-34.9800351665, 138.5138128325], [-34.9212583333, 138.6376944444], [-34.9212333333, 138.633575], [-34.9213361111, 138.6353444444], [-34.920898, 138.639328], [-34.9061083333, 138.5948194444], [-34.94782, 138.60774], [-34.948908, 138.6074381], [-34.925949347, 138.5982229561], [-34.87827, 138.537057], [34.0657303, -84.6777644], [34.0725579, -84.2981943], [33.816032, -84.390138], [33.8421514, -84.3710145], [33.831564, -84.3850846], [33.8413, -84.36951], [33.84869, -84.36691], [33.8366897, -84.3787457], [33.839351, -84.368728], [33.846004, -84.35827], [34.1169643, -84.0098412], [33.74783, -84.36787], [33.804592, -84.367141], [33.775158, -84.295887], [33.7926599, -84.3049071], [33.7754262, -84.3029152], [33.7753934, -84.2951317], [33.7759559, -84.3021179], [33.774389, -84.296003], [33.8010371, -84.3274693], [33.9247373, -84.33579], [33.926461, -84.339813], [33.4486, -84.49471], [33.7465009, -84.3737385], [33.74615, -84.37296], [33.7586154, -84.3638599], [33.76672, -84.35296], [33.7561718, -84.3647818], [34.0357831, -84.6057476], [33.8316781, -84.3620698], [33.760978, -84.34737], [33.76534, -84.349827], [33.7662727, -84.3493438], [33.764672, -84.3331937], [33.9445485, -84.5178376], [33.90323, -84.47053], [33.7728589, -84.379878], [33.786, -84.38456], [33.7818203, -84.4048848], [33.7833663, -84.3831882], [33.77875, -84.38627], [33.782, -84.38015], [33.7715099, -84.3893109], [33.7609783, -84.365742], [33.7727469, -84.3803795], [33.7693998, -84.3616748], [34.0245611, -84.361625], [33.8986039, -84.4471218], [33.8598066, -84.4554615], [33.7820473, -84.3547183], [33.8487728, -84.4295037], [33.784655, -84.405647], [33.79847, -84.41571], [33.786522, -84.412572], [33.8094748, -84.4367464], [33.7874907, -84.412904], [33.784685, -84.4121], [33.795062, -84.42714], [33.7798715, -84.4108253], [33.7852458, -84.4119893], [30.3255041, -97.7434654], [30.447005, -97.788702], [30.3897694444, -97.7329416667], [30.38939, -97.75265], [30.3909861111, -97.7476583333], [30.3895666667, -97.7528083333], [30.26298, -97.76192], [30.26382, -97.7632], [30.2614638889, -97.7585444444], [30.2471972222, -97.750725], [30.2494583333, -97.7550722222], [30.24506, -97.75142], [30.2478416667, -97.7504972222], [30.2577277778, -97.7598277778], [30.2465361111, -97.7565388889], [30.24916, -97.75026], [30.249984, -97.750047], [30.2452, -97.75751], [30.2842472222, -97.7204277778], [30.2720805556, -97.7540138889], [30.27803, -97.7719], [30.27584, -97.75241], [30.2724566, -97.7557666], [30.2703694444, -97.751075], [30.2641944444, -97.7379444444], [30.2672416667, -97.7394166667], [30.2658198, -97.7439772], [30.266927, -97.745172], [30.268525, -97.7364416667], [30.259219, -97.7382949], [30.2665111111, -97.7377861111], [30.2659972222, -97.7356194444], [30.26601, -97.74024], [30.26419, -97.74108], [30.266906, -97.744299], [30.26216, -97.73901], [30.2652694444, -97.7477583333], [30.26425, -97.74128], [30.2690472222, -97.7424], [30.2647785, -97.7445517], [30.2651055556, -97.7466194444], [30.266625, -97.7396388889], [30.2704305556, -97.7538611111], [30.2553138889, -97.7190333333], [30.30407, -97.72652], [30.322949, -97.727844], [30.3048805, -97.726178], [30.30438, -97.72595], [30.3183277778, -97.7126], [30.41798, -97.7472], [30.4141543585, -97.7469867468], [30.39082, -97.73889], [30.4615833333, -97.815225], [30.41168, -97.87678], [30.183175, -97.848], [30.37514, -97.69069], [30.3366388889, -97.7579583333], [30.2948083333, -97.7841555556], [30.30803, -97.75047], [30.3108333333, -97.7398138889], [30.268975, -97.7287138889], [30.2700861111, -97.7314611111], [30.2937099822, -97.7417280526], [30.2656391, -97.7477811], [30.2497657, -97.7501222], [30.2367541405, -97.7628010511], [30.241803, -97.783816], [30.2459777778, -97.7783666667], [30.2454861111, -97.7794027778], [30.2020222222, -97.8386083333], [30.40175, -97.72673], [30.3155528, -97.7332374], [30.2493111111, -97.7496722222], [30.2368972222, -97.7493138889], [30.29573, -97.7410769], [30.3013416667, -97.7393194444], [30.29122, -97.7415], [30.2635801743, -97.8154984117], [30.2437694444, -97.8827666667], [30.356975, -97.7314527778], [42.352771, -71.131231], [42.34927, -71.0814], [42.34927, -71.0814], [42.35186, -71.07118], [42.35051, -71.07944], [42.34907, -71.07192], [42.3506016, -71.0774309], [42.34933, -71.08061], [42.35031, -71.079327], [42.34816, -71.08455], [42.346609, -71.080479], [42.34868, -71.08225], [42.34838, -71.086635], [42.3484569, -71.0826223], [42.357279, -71.070235], [42.35587, -71.07126], [42.34289, -71.11938], [42.339368, -71.136505], [42.3437, -71.12365], [42.363482, -71.098566], [42.351518, -71.060653], [42.351284, -71.063071], [42.395026, -71.122493], [42.3726632, -71.0353016], [42.348663, -71.096059], [42.34868, -71.09578], [42.347147, -71.098851], [42.3438484, -71.101147], [42.359437, -71.053593], [42.35959, -71.05167], [42.37254, -71.11622], [42.374264, -71.120415], [42.373092, -71.119596], [42.3735751, -71.1211799], [42.370592, -71.097257], [42.365425, -71.09093], [42.365187, -71.055511], [42.364573, -71.053393], [42.364221, -71.054264], [42.363432, -71.054688], [42.363377, -71.05574], [42.365437, -71.056883], [42.36366, -71.05569], [42.36333, -71.05483], [42.36421, -71.054279], [42.36459, -71.05571], [42.363406, -71.05572], [42.249945, -71.001935], [42.378383, -71.106673], [42.35375, -71.04867], [42.34917, -71.03975], [42.3434, -71.068582], [42.33838, -71.0745], [42.3440576, -71.0777016], [42.33688, -71.07631], [42.34395, -71.07142], [42.34469, -71.0714], [42.346694, -71.075547], [42.34055, -71.0668], [42.344114, -71.065979], [-27.4412622208, 153.069528155], [-27.518617661, 153.0298552662], [-27.4368244394, 153.0649620295], [-27.4661166261, 153.0308268964], [-27.469058714, 153.0250578001], [-27.472954703, 153.0276307091], [-27.4663388472, 153.030343093], [-27.4714700372, 153.02513659], [-27.4693707671, 153.0294593051], [-27.4703104906, 153.0290284753], [-27.4701409305, 153.026095815], [-27.4709914059, 153.0257863551], [-27.4677682507, 153.0264981464], [-27.4703432127, 153.026746586], [-27.4714908601, 153.030282408], [-27.4518861049, 153.061119765], [-27.4586414656, 153.0340442061], [-27.5068933871, 153.0639518425], [-27.4693121642, 153.0304668099], [-27.4688802276, 153.0307320133], [-27.4692125096, 153.0306337774], [-27.4871988626, 153.0411591008], [-27.4797578515, 153.0442815274], [-27.4783095666, 153.0215467885], [-27.4783422863, 153.0217771232], [-27.4530455477, 153.0395651981], [-27.4534239929, 153.0397140607], [-27.4567722244, 153.0394649506], [-27.4597835823, 153.036727421], [-27.4985020388, 153.0433695763], [-27.5730709068, 153.066287376], [-27.4670682767, 153.0469288677], [-27.5357367571, 153.0326454341], [-27.5356755139, 153.0325817317], [-27.4647493763, 153.0423607305], [-27.4672167203, 153.0414387211], [-27.4364170735, 153.0063708499], [-27.4514255376, 153.0452883616], [-27.4501756293, 153.043737039], [-27.4459149451, 153.0441326648], [-27.461790811, 153.0056895688], [-27.4580628164, 152.9943428189], [-27.4687148299, 153.0263328552], [-27.468057104, 153.0308097974], [-27.4802620251, 153.0228607357], [-27.4770019592, 153.0132527277], [-27.4765426867, 153.0130559206], [-27.4771616928, 153.0124973506], [-27.5715658966, 153.0658619106], [-27.5911582426, 153.0609082058], [-27.4557630649, 153.0497277528], [-27.4804654786, 152.9878716543], [-27.4802394192, 153.0125563592], [-27.4865302421, 153.0065552518], [-27.477570693, 153.0128356442], [-27.4799202581, 153.0130143464], [-27.4825770298, 153.0067808926], [-27.4775968689, 153.0125939101], [-27.4821344373, 153.0068040267], [-27.4873023676, 153.0371347815], [51.037939, -114.082531], [51.0379323, -114.0754864], [51.037837, -114.0781034], [51.0378516, -114.0713703], [51.0379282, -114.0849835], [51.037856, -114.0690963], [51.037958, -114.07241], [51.03794, -114.085521], [51.037682, -114.118341], [51.0379185, -114.1333196], [51.033207, -114.071367], [51.032282, -114.06979], [51.0335258, -114.0715029], [51.0306448, -114.0715174], [51.0322843, -114.071777], [51.033093, -114.071354], [51.004816, -114.1168], [51.011393, -114.050892], [51.015248, -114.064407], [51.043654, -114.079705], [51.039801, -114.081462], [51.0439595, -114.0915551], [51.0532792, -114.0450158], [51.0532761, -114.0397562], [51.053275, -114.043925], [51.066848, -114.054028], [51.0669832, -114.0582818], [51.0666879, -114.0543136], [51.066097, -114.062513], [51.050329, -114.062354], [51.1429248, -114.0712476], [51.1413875, -114.0702076], [51.106464, -114.159065], [51.049045, -114.0786759], [51.0431747682, -114.05428648], [50.983697, -114.041093], [51.054712, -114.105778], [51.042075, -114.036058], [51.0556259, -114.0821731], [51.053104, -114.086153], [51.051994, -114.08974], [51.054379, -114.094506], [51.0521474, -114.0916663], [51.054327, -114.094563], [50.9750372634, -114.0734599158], [50.992238, -114.071357], [50.990499, -114.07171], [50.932065, -113.966796], [51.071611, -114.159435], [51.075384, -114.071288], [51.070294, -114.092561], [51.0688518, -114.0133431], [51.0823491, -113.9886427], [51.0888, -114.000814], [51.059042, -114.054118], [51.059918, -114.054287], [51.058618, -114.054194], [51.0465493, -114.0660465], [51.044616, -114.063103], [51.043322, -114.068662], [35.2291083, -80.8674621], [35.0537776, -80.8467812], [35.034243, -80.805375], [35.170842, -80.848583], [35.44604, -80.87905], [35.4572665, -80.8682139], [35.499177, -80.848772], [35.461742, -80.845793], [35.204228, -80.808404], [35.172329, -80.806234], [35.176826, -80.797741], [35.199007, -80.8408317], [35.210862, -80.856527], [35.21078, -80.85627], [35.197861, -80.851802], [35.23666, -80.77507], [35.222237, -80.822359], [35.21414, -80.82075], [35.21905, -80.81256], [35.227127, -80.84048], [35.233628, -80.840815], [35.22833, -80.84208], [35.22921, -80.842158], [35.22598, -80.84412], [35.2096, -80.83534], [35.159533, -80.876005], [35.212347, -80.835543], [35.582357, -80.812902], [35.5857699, -80.875496], [35.24119, -80.81283], [35.247135, -80.805728], [35.246471, -80.806348], [35.442165, -80.862739], [35.197971, -80.85182], [35.1465562987, -80.8267944753], [35.15287, -80.83928], [35.07676, -80.8822], [35.219167, -80.812038], [35.22092, -80.81485], [35.220307, -80.8133], [35.220412, -80.812085], [35.054023, -80.769803], [35.2263043, -80.8439491], [35.147255, -80.831618], [35.213643, -80.768724], [35.202942, -80.864358], [35.214563, -80.857329], [35.21083, -80.85885], [35.14765, -80.82824], [35.151246, -80.828827], [35.106239, -80.988791], [35.0620818938, -80.8158083184], [35.059558, -80.812903], [35.139858, -80.73667], [35.15386, -80.82776], [35.021257, -80.848815], [35.15269, -80.82704], [35.22776, -80.84433], [35.225329, -80.845572], [35.211284, -80.86008], [41.93945, -87.70092], [41.9855805556, -87.6692722222], [41.9014, -87.62791], [41.89845, -87.62567], [41.8791194444, -87.6475055556], [41.94467, -87.64931], [41.9135455, -87.6483077], [41.91891, -87.64862], [41.920712, -87.637309], [41.92175, -87.6646583333], [41.9316763, -87.6576583], [41.91192, -87.64821], [41.927347, -87.707115], [41.88168, -87.62437], [41.8693, -87.62413], [41.8824361111, -87.6305611111], [41.8797861111, -87.6288444444], [41.884944, -87.623103], [41.892014, -87.623597], [41.8911277778, -87.6248472222], [41.8903697, -87.6244233], [41.898776, -87.623915], [41.95004, -87.72759], [41.8959916667, -87.6329111111], [41.892126, -87.626088], [41.89406, -87.63264], [41.8904333333, -87.6311333333], [41.8959932896, -87.6256958395], [41.8935805556, -87.6251138889], [41.890381, -87.634024], [41.8934295, -87.6314147], [41.89328, -87.6282], [41.88998, -87.62717], [41.8907916667, -87.6310722222], [41.8917, -87.6320111111], [41.88925, -87.63439], [41.8893361111, -87.6291111111], [41.8925277778, -87.6267472222], [41.89058, -87.631093], [41.8905527778, -87.631775], [41.8904083333, -87.6311944444], [41.8917805556, -87.6280222222], [42.056061, -88.044525], [41.87159, -87.62736], [41.8685583333, -87.6259083333], [41.89167, -87.62259], [41.8956388889, -87.6229166667], [41.97551, -87.66843], [41.886348, -87.645264], [41.8843777778, -87.64335], [41.8867333333, -87.6459888889], [41.88429, -87.64864], [41.88448, -87.64786], [41.8866833333, -87.6489333333], [41.8844722222, -87.6435777778], [42.13361, -87.90249], [41.9092416667, -87.6772527778], [41.9131, -87.67743], [41.910366, -87.676127], [41.9085694444, -87.6746527778], [32.9307527778, -96.8194277778], [32.7488527778, -96.8283083333], [32.7493694444, -96.8286833333], [32.82743, -96.7864], [32.7830861111, -96.7835388889], [32.780092, -96.799769], [32.98952, -96.82612], [32.9698458, -96.8204667], [32.77637, -96.79835], [32.78081, -96.80384], [32.693925, -96.7730555556], [32.836281, -96.771679], [32.7850916667, -96.7820194444], [32.781284, -96.798683], [32.815393, -96.825488], [32.7983361111, -96.806], [32.9099809929, -96.8058555423], [32.76955, -96.83645], [32.8533444444, -96.7682583333], [32.8233916667, -96.7700944444], [32.8310388889, -96.7699055556], [32.7940666667, -96.7500527778], [32.8049778, -96.7942828], [32.7565166667, -96.8231972222], [32.8239833333, -96.7907416667], [32.8239277778, -96.7909777778], [32.8229166667, -96.7880694444], [32.8059055556, -96.798675], [32.8175888889, -96.8117222222], [32.8154916667, -96.8102861111], [32.86708, -96.89771], [32.8146361111, -96.7530583333], [32.8635638889, -96.806725], [32.780521, -96.798631], [32.7844416667, -96.7807305556], [32.7838166667, -96.7838277778], [32.8151944, -96.8270549], [32.7962027778, -96.805], [32.7985833333, -96.8077388889], [32.80431, -96.79947], [32.7922817628, -96.8038107455], [32.8077083333, -96.7980888889], [32.8215, -96.78826], [32.82145, -96.78808], [32.8232638889, -96.7869805556], [32.8087194444, -96.7967833333], [32.8090638889, -96.79715], [32.8206919, -96.7847444], [32.7485083333, -96.8283611111], [32.90554, -96.76947], [32.80413, -96.773666], [32.8111392, -96.7744625], [32.8216888889, -96.7857972222], [32.8197476, -96.7839447], [32.8609611111, -96.8961111111], [32.8566638889, -96.747475], [32.8114694444, -96.8066027778], [32.8203194444, -96.8027277778], [32.807725, -96.8097388889], [32.81215, -96.80539], [32.7969724, -96.8201925], [32.812038, -96.804552], [32.8639981, -96.8037332], [32.8636354, -96.8038075], [32.77441, -96.80841], [32.78143, -96.80669], [32.7981, -96.80365], [32.89499, -96.80545], [32.8129388889, -96.7617416667], [32.846854, -96.7882659], [32.78255, -96.7856611111], [32.7671972222, -96.8072055556], [32.7951, -96.80221], [32.8645869, -96.8032851], [32.7488888889, -96.8274], [32.7489444444, -96.8276972222], [32.7495222222, -96.8317555556], [32.850075, -96.8199222222], [32.85136, -96.83265], [32.9397611111, -96.7487944444], [39.77664, -105.03387], [39.7367083333, -104.984725], [39.73405, -104.9753722222], [39.72748, -104.98271], [39.7273903, -104.9838028], [39.73678, -104.97971], [39.39484, -104.88863], [39.5668194444, -104.924125], [39.7446416667, -104.99115], [39.7460472222, -104.9944], [39.7478425015, -104.9927423971], [39.74727, -104.99475], [39.74632, -104.99544], [39.7399027778, -104.9635388889], [39.7399638889, -104.9692694444], [39.71948, -104.95673], [39.7208361111, -104.9542472222], [39.7193555556, -104.9496611111], [39.7192954, -104.9548047], [39.717425, -104.9576722222], [39.7434166667, -104.9619916667], [39.7351, -104.9562305556], [39.72548, -104.97163], [39.74381, -104.99133], [39.544163, -104.868521], [39.621771, -104.901573], [39.7275305556, -104.9405361111], [39.6809055556, -105.1215055556], [39.7415277778, -105.0705555556], [39.74772, -104.99999], [39.74767, -104.99953], [39.7477638889, -104.9993138889], [39.7474972222, -104.9989916667], [39.7473, -104.99937], [39.732341, -105.005121], [39.6133777778, -104.9928361111], [39.61399, -105.0202], [39.56342, -105.110834], [39.756325, -105.0092388889], [39.75692, -105.00918], [39.75255, -104.99641], [39.75335, -104.99853], [39.7544416667, -104.9908916667], [39.7525972222, -104.9964305556], [39.7433166667, -104.9804694444], [39.743397, -104.976999], [39.7460583333, -104.9814083333], [39.74879, -104.99504], [39.682275, -104.9804472222], [39.6895611111, -104.9804833333], [39.7115277778, -104.9829472222], [39.7265638889, -104.9848472222], [39.7595722222, -105.0111694444], [39.7631694444, -105.0056138889], [39.7621, -105.01625], [39.7645611111, -105.0039361111], [39.7595972222, -105.0114444444], [39.7592204112, -105.0107693883], [39.6783333333, -104.9656833333], [39.703225, -104.9324194444], [42.283127, -83.7353], [42.280363, -83.748843], [42.2806, -83.74877], [42.279208, -83.746047], [42.27891, -83.7485], [42.2794047, -83.7500969], [42.27488, -83.73466], [42.280343, -83.748306], [42.28053, -83.74713], [42.2806, -83.74872], [42.28857, -83.74565], [42.279058, -83.748809], [42.27912, -83.74867], [42.2810014, -83.7822946], [42.28102, -83.78263], [42.547436, -83.211963], [42.536752, -83.204671], [42.54767, -83.213195], [42.54568, -83.21484], [42.734, -83.4188], [42.735298, -83.418934], [42.533567, -83.145219], [42.603976, -82.952406], [42.294106, -83.271746], [42.3011671, -83.2673109], [42.343966, -83.183054], [42.3314766, -83.0487741], [42.33527, -83.04195], [42.3321202, -83.0505626], [42.3345748, -83.046881], [42.334392, -83.043492], [42.333498, -83.0484396], [42.335178, -83.041541], [42.33527, -83.04195], [42.3453837, -83.0398127], [42.459282, -83.134157], [42.462037, -83.13511], [42.39792, -83.0581], [42.7977, -83.2707], [42.397426, -83.373869], [42.3509578, -83.0660879], [42.42436, -83.442], [42.67979, -83.133864], [42.683912, -83.134066], [42.248307, -83.347939], [42.487005, -83.146764], [42.487278, -83.139392], [42.522357, -83.190112], [42.48707, -83.144007], [42.489681, -83.144144], [42.487834, -83.142559], [42.494857, -83.1645], [42.321868, -83.071513], [42.3315827, -83.0759956], [42.3233008, -83.0848509], [42.5627098, -83.1841278], [42.56134, -83.17566], [42.56049, -83.18742], [42.5597583125, -83.1838524342], [42.245881, -83.609131], [29.73746, -95.51496], [29.9749834, -95.7013654], [29.7528027778, -95.3604277778], [29.7588934, -95.3631059], [29.542661, -95.153298], [29.7545963, -95.4571393], [29.74168, -95.46092], [29.737067, -95.481115], [29.7427586, -95.4614916], [29.73948, -95.46982], [29.74753, -95.45791], [29.30604, -94.7827], [29.27707, -94.83181], [29.279417, -94.80461], [29.28893, -94.80842], [29.2837101, -94.798038], [30.0050658, -95.2646245], [29.7843649, -95.7290209], [29.75703, -95.3423], [29.7828129, -95.5569162], [29.6896366, -95.4602653], [29.753641, -95.3871749], [29.7500455, -95.3838695], [29.7384586, -95.3804184], [29.74304, -95.38111], [29.7411723, -95.379736], [29.7458839, -95.3751576], [29.7428851, -95.4035421], [29.742953, -95.3995882], [29.7464728, -95.3921489], [29.7448231, -95.3910932], [29.74256, -95.402257], [29.7448235, -95.387463], [29.73852, -95.40625], [29.74431, -95.39378], [29.744953, -95.3929859], [29.7463, -95.39044], [29.7357453, -95.3915978], [29.744766, -95.387888], [29.7447577, -95.3895141], [29.7448427, -95.3907383], [29.5467447, -95.1055693], [29.5496676, -95.249567], [29.559762, -95.298558], [29.7169705, -95.4157063], [29.7195555, -95.4163497], [29.7161658, -95.4153375], [29.714806, -95.416625], [29.7168714, -95.4173065], [29.7552973, -95.4086418], [29.74234, -95.41999], [29.750391, -95.4104006], [29.7441232462, -95.4104066722], [29.74665, -95.44227], [29.7456059, -95.4109756], [29.7259562, -95.4668597], [29.597301, -95.621478], [29.739545, -95.462716], [29.771023, -95.418788], [29.78183, -95.39102], [29.79898, -95.38193], [29.8106343, -95.3995818], [29.7905694, -95.387423], [29.7569799131, -95.3582543135], [30.1771294, -95.4795446], [30.19895, -95.45452], [30.1643582, -95.4618558], [30.12349, -95.59603], [29.7338576, -95.4148452], [29.7323629, -95.4110135], [29.73851, -95.435095], [29.7331568, -95.4368495], [29.728296, -95.420229], [29.7370745, -95.4191523], [29.994345, -95.5721842], [29.7700571, -95.3961846], [29.7670911, -95.3822852], [29.77056, -95.40857], [29.726994, -95.418332], [29.737037, -95.568236], [36.144315, -115.240246], [36.17146, -115.14065], [36.0701369, -115.1753018], [36.06893, -115.17238], [36.022463, -115.0833621], [36.021433, -115.086227], [35.991343, -115.101169], [36.1135, -115.16361], [36.1199703, -115.1545992], [36.042491, -115.152442], [36.121, -115.1702], [36.092089, -115.172992], [36.1094075, -115.1718747], [36.121, -115.1702], [36.111712, -115.17534], [36.107635, -115.176722], [36.107635, -115.176722], [36.10222, -115.169516], [36.1170794, -115.1748085], [36.11213, -115.16942], [36.133165, -115.163963], [36.11905, -115.17623], [36.109557, -115.176169], [36.12243, -115.17124], [36.117397, -115.1757521], [36.1183507, -115.1723472], [36.11077, -115.17282], [36.092089, -115.172992], [36.116111, -115.1744], [36.114988, -115.168072], [36.092089, -115.172992], [36.121111, -115.175278], [36.109677, -115.174675], [36.10222, -115.169516], [36.12168, -115.1717], [36.11213, -115.16942], [36.10377, -115.16756], [36.1127578, -115.1712046], [36.118212, -115.172554], [36.10864, -115.17309], [36.11905, -115.17623], [36.10222, -115.169516], [36.1128932, -115.1705119], [36.12731, -115.17457], [36.11603, -115.1665], [36.110281, -115.172406], [36.1030009, -115.1735161], [36.12238, -115.17127], [36.121, -115.1702], [36.111712, -115.17534], [36.1179352, -115.1748371], [36.129444, -115.166111], [36.10377, -115.16756], [36.126421, -115.205844], [36.101009, -115.182811], [36.1175016669, -115.1888434577], [36.12625, -115.21027], [36.1421289, -115.1423943], [34.0501009, -118.2421794], [34.0758712, -118.3484353], [34.0478179, -118.1975771], [34.07651, -118.3838], [34.1395089, -118.210521], [34.046458, -118.2631183], [34.04564, -118.23528], [34.0304053, -118.3848103], [34.0488576, -118.2513158], [34.1063127, -118.2877515], [34.0986575, -118.322166], [34.10152, -118.32755], [34.101875, -118.334498], [34.10165, -118.33534], [34.101276, -118.318404], [34.0796, -118.37664], [34.0003697, -118.465402], [34.0500021, -118.2400679], [34.047388, -118.239214], [34.08349, -118.37639], [34.0837459, -118.3505539], [34.083367, -118.372374], [34.0836552, -118.3302427], [34.1046478, -118.2914908], [34.1001191, -118.3292464], [34.09883, -118.32908], [34.0792171, -118.3616044], [34.07859, -118.36153], [34.08319, -118.33951], [34.08227, -118.33858], [34.08414, -118.34414], [34.1058658, -118.3421546], [34.228923, -118.5604874], [34.0596331, -118.4194295], [34.090192, -118.277726], [34.0561522, -118.276832], [34.0506474, -118.2487064], [34.0469319, -118.2566807], [34.06427, -118.34392], [34.04626, -118.2488], [33.9536884, -118.3967671], [34.0982102, -118.3466258], [34.0981919, -118.3416924], [34.0977993, -118.3622528], [34.0985866, -118.3041251], [34.1494319, -118.3787579], [33.990507, -118.464928], [33.97958, -118.46637], [34.0212, -118.40349], [34.09836, -118.32674], [34.0733975, -118.3819186], [34.0726992, -118.3718092], [34.0727023, -118.3725117], [34.0475161, -118.3462335], [34.0407174, -118.4277921], [33.95932, -118.39359], [34.06335, -118.44695], [34.03399, -118.22917], [34.0353822, -118.2326901], [34.04283, -118.23533], [26.368762, -80.121558], [25.8132, -80.19268], [25.72935, -80.24078], [25.728137, -80.243549], [25.72749, -80.24302], [25.7278196, -80.2449738], [25.726953, -80.243816], [25.7496886, -80.2588487], [25.731963, -80.261349], [26.253377, -80.253163], [26.296752, -80.278854], [26.049919, -80.143742], [26.06849, -80.16915], [26.3161, -80.088261], [26.316537, -80.076855], [26.462582, -80.073265], [25.764637, -80.19299], [25.76364, -80.19344], [25.770798, -80.189059], [26.125137, -80.104756], [26.1199745, -80.1135848], [26.11733, -80.105835], [26.137046, -80.103252], [26.13775, -80.11361], [26.106998, -80.136746], [26.1494, -80.119992], [26.130723, -80.137297], [26.1024882, -80.1303405], [26.01845, -80.117338], [26.93397, -80.0808], [26.942888, -80.080799], [25.659976, -80.432428], [25.656206, -80.412371], [25.644223, -80.334727], [25.702296, -80.358096], [25.684991, -80.313014], [25.7445965, -80.1742249], [25.764882, -80.252654], [25.7871, -80.1324], [26.188802, -80.127887], [26.84654, -80.09253], [26.2319237, -80.0946247], [25.77044, -80.133783], [25.773902, -80.134067], [25.768408, -80.135315], [25.785474, -80.131169], [25.777118, -80.132761], [25.789101, -80.140267], [25.77974, -80.13108], [25.781481, -80.132462], [25.78616, -80.14197], [25.778168, -80.131307], [25.777368, -80.133757], [25.769871, -80.133107], [25.7908943, -80.140177], [25.76885, -80.13503], [25.790418, -80.134399], [25.7869078, -80.3809477], [26.713171, -80.051053], [25.80748, -80.19338], [45.507261, -73.561238], [45.4989, -73.627572], [45.4913823, -73.5821621], [45.4936971, -73.5813897], [45.493146, -73.57979], [45.495274, -73.580917], [45.488904, -73.584908], [45.4981127, -73.5776141], [45.497985, -73.576978], [45.4996748, -73.5742857], [45.497515, -73.573865], [45.50032, -73.57415], [45.500806, -73.576624], [45.4997297, -73.5730886], [45.500527, -73.571505], [45.503922, -73.568071], [45.514929, -73.5627], [45.5006252, -73.5581663], [45.502794, -73.555637], [45.500394, -73.557318], [45.501205, -73.556496], [45.5012903, -73.5561668], [45.5011393, -73.5552261], [45.507852, -73.552498], [45.5059795, -73.5535448], [45.5094318, -73.5517281], [45.49937, -73.555153], [45.508923, -73.552505], [45.495593, -73.552878], [45.502899, -73.56075], [45.518275, -73.597218], [45.521555, -73.6007093], [45.524728, -73.625576], [45.52217, -73.574474], [45.5211486, -73.5884149], [45.522958, -73.595351], [45.526657, -73.580221], [45.5201388, -73.5744838], [45.5253714, -73.5747853], [45.5073289, -73.575737], [45.517884, -73.5737325], [45.519177, -73.580817], [45.516326, -73.577599], [45.528323, -73.579127], [45.5209616, -73.5766272], [45.523651, -73.594929], [45.5159666, -73.5755806], [45.5239068, -73.5946698], [45.5139265, -73.5722799], [45.535358, -73.581876], [45.532709, -73.611331], [45.534378, -73.61251], [45.573029, -74.052054], [45.472985, -73.588302], [45.4830504, -73.574993], [45.482978, -73.57545], [45.4792705, -73.5817716], [45.4596445, -73.5671612], [45.541567, -73.6226874], [45.4786379, -73.6026758], [29.973299, -90.090569], [29.96132, -90.035443], [29.961542, -90.041009], [29.94971, -90.12742], [29.94888, -90.131888], [29.943619, -90.133823], [29.950964, -90.067356], [29.95409, -90.0713], [29.95121, -90.07009], [29.94946, -90.06685], [30.009206, -90.160572], [29.95431, -90.06894], [29.95745, -90.061967], [29.95875, -90.061122], [29.95547, -90.06854], [29.959524, -90.060983], [29.95433, -90.06805], [29.95665, -90.06634], [29.95393, -90.06968], [29.95599, -90.06662], [29.95631, -90.06765], [29.95616, -90.06923], [29.960127, -90.059955], [29.957472, -90.065426], [29.955073, -90.069429], [29.954463, -90.06852], [29.954926, -90.069144], [29.955379, -90.064314], [29.955171, -90.065674], [29.958241, -90.06307], [29.956, -90.06497], [29.95522, -90.06453], [29.95278, -90.06808], [29.95797, -90.06609], [29.964405, -90.0617525], [29.958277, -90.064891], [29.953959, -90.069794], [29.957899, -90.062444], [29.962136, -90.06117], [29.928836, -90.084234], [29.9240814, -90.0861133], [29.924888, -90.084848], [29.947226, -90.071446], [29.930686, -90.074851], [29.935796, -90.07188], [29.975543, -90.099307], [29.97299, -90.095992], [29.973935, -90.100999], [29.97241, -90.09768], [29.969121, -90.078955], [29.924571, -90.108057], [29.9349764, -90.1089793], [29.924512, -90.109026], [29.924732, -90.109005], [29.934976, -90.105432], [29.942556, -90.067398], [29.942591, -90.067475], [29.94774, -90.06358], [29.948835, -90.066956], [29.94395, -90.06741], [40.7422762672, -74.0048000962], [40.76912, -73.98159], [40.74565, -74.00554], [40.76066, -73.98943], [40.74071, -73.998], [40.77112, -73.98336], [40.7684141, -73.9827037], [40.7369333333, -73.9913472222], [40.7376444444, -73.9897222222], [40.7387166667, -73.9883888889], [40.742241, -73.983808], [40.726875, -73.9854138889], [40.7307361111, -73.9906833333], [40.7318805556, -73.9858861111], [40.7291, -73.98432], [40.73169, -73.98585], [40.7303694444, -73.9840388889], [40.72873, -73.98708], [40.722933, -73.994193], [40.7025138889, -73.9932722222], [40.7608027778, -73.9819194444], [40.757194, -73.9864036], [40.7616722222, -73.9835444444], [40.75674, -73.98518], [40.7415086, -73.9866285], [40.7408681, -73.9879841], [40.7380055556, -74.0038], [40.7250861111, -74.0031138889], [40.7342, -73.99098], [40.730031, -74.000162], [40.73559, -74.0065], [40.73228, -73.99928], [40.7358694444, -74.0050805556], [40.7427294426, -74.0064382553], [40.73182, -73.99654], [40.76018, -73.9910951313], [40.7587361111, -73.9890138889], [40.71645, -73.9885111111], [40.7227361111, -73.9882361111], [40.72161, -73.9887], [40.7212305556, -73.9840694444], [40.7641849, -73.9784051], [40.7617884, -73.9790839], [40.7627111111, -73.971375], [40.8180821, -73.9609373], [40.7182055556, -73.9598388889], [40.7146, -73.99778], [40.72259, -73.99805], [40.7215, -73.997825], [40.7098777778, -73.9623416667], [40.721675, -73.9955888889], [40.75793, -73.9864], [40.71952, -74.00899], [40.7618668, -73.9649001], [40.76679, -73.96795], [40.7785805556, -73.9816277778], [40.7807222222, -73.9764944444], [40.7470083333, -73.9870388889], [40.7579, -73.98757], [40.7584111111, -73.9882666667], [45.293725, -75.741675], [45.428606, -75.693841], [45.4272152, -75.691658], [45.42945, -75.6914444444], [45.4305722222, -75.6923305556], [45.426964, -75.692051], [45.429065, -75.694979], [45.42831, -75.693678], [45.4273805556, -75.6917944444], [45.42791, -75.69032], [45.427876, -75.694198], [45.427571, -75.694881], [45.4271916667, -75.69365], [45.4258915, -75.689616], [45.428488, -75.693833], [45.42945, -75.690467], [45.4279638889, -75.6923527778], [45.4270457, -75.6921513], [45.2936638889, -75.9717027778], [45.41512, -75.688057], [45.4200638889, -75.694], [45.4166339, -75.6894708], [45.412243, -75.693912], [45.4204166667, -75.6927944444], [45.415976, -75.69148], [45.414968, -75.68797], [45.4123916667, -75.6937861111], [45.415163, -75.688022], [45.415539, -75.688127], [45.4161905, -75.6944967], [45.4195416667, -75.712425], [45.4000194444, -75.7119833333], [45.399613, -75.709101], [45.4079805556, -75.7184], [45.399558, -75.706405], [45.400705, -75.709683], [45.4041958, -75.711856], [45.43091, -75.680265], [45.3475888889, -75.7875138889], [45.3938666667, -75.6831583333], [45.440225, -75.6764305556], [45.2630388889, -75.9433138889], [45.4000194444, -75.6869055556], [45.4025083333, -75.6878583333], [45.4079277778, -75.6912833333], [45.4008638889, -75.7324833333], [45.4055138889, -75.7234194444], [45.39875, -75.7369083333], [45.4002222222, -75.7305972222], [45.3987222222, -75.7371444444], [45.4028583333, -75.7253722222], [45.3990472222, -75.7355722222], [45.3994666667, -75.7335138889], [45.3986361111, -75.7372194444], [45.4032972222, -75.7250833333], [45.3981388889, -75.7399055556], [45.3922222222, -75.7536472222], [45.3912388889, -75.7559361111], [45.3921583333, -75.7539527778], [45.3923138889, -75.7533111111], [-32.0219001116, 115.8322872967], [-31.919456, 115.9096643], [-32.0126107999, 115.9119291231], [-31.962872, 115.897881], [-31.937279, 115.842598], [-31.938273, 115.756163], [-31.9830730227, 115.7794326916], [-31.9957814923, 115.7521884888], [-31.98617, 115.82151], [-32.0409125, 115.7653069], [-31.952999, 115.878777], [-31.9861824111, 115.9040635452], [-31.9872908909, 115.9047713131], [-31.9855744194, 115.9036414325], [-31.9407465436, 115.8015542105], [-32.056481, 115.745341], [-32.059367, 115.744945], [-32.0534134139, 115.7499236986], [-32.05518, 115.746338], [-31.89937, 115.968102], [-31.954611, 115.861084], [-32.0565317823, 115.744763799], [-31.742954, 115.770554], [-31.937307, 115.841072], [-31.9368579, 115.841448], [-31.937658, 115.841428], [-31.9286800875, 115.8919624239], [-32.0284215, 115.7498293], [-31.9466221362, 115.8607676625], [-31.9492713218, 115.8592015877], [-31.947185, 115.855773], [-31.9496650516, 115.8577122912], [-31.9467356499, 115.8621080965], [-31.9474397732, 115.8585189655], [-31.9482938176, 115.8581662551], [-31.9492405971, 115.8587067202], [-31.9478949611, 115.8594215289], [-31.9472693616, 115.8605882898], [-31.9492346229, 115.8587275073], [-31.9542440283, 115.8605276048], [-31.9454522826, 115.8616477624], [-31.9523252, 115.8578273], [-31.956553, 115.858223], [-31.9468710696, 115.865418613], [-31.9554914, 115.8590853], [-31.9526430055, 115.8611827344], [-31.9453361, 115.8616963], [-31.9412777295, 115.8610124141], [-31.954309, 115.8550633], [-31.9262761, 115.8477642], [-31.960976, 115.812233], [-31.837502, 115.750038], [0.0, 115.868894], [-31.9809480902, 115.8637251332], [-31.9717763599, 115.8945467323], [-31.9507019982, 115.8560074121], [-31.942095, 115.838026], [-31.9482551, 115.8472031], [-32.0563860108, 115.8806421608], [-32.0562723486, 115.9024176747], [39.9390194444, -75.1583111111], [39.9422805556, -75.1545555556], [39.95332, -75.15786], [39.9540444444, -75.1563111111], [39.9563972222, -75.1540972222], [39.9648333333, -75.1610944444], [39.960425, -75.1686083333], [39.9638333333, -75.1445166667], [39.9634277778, -75.1428972222], [39.9640888889, -75.1406388889], [39.9483861111, -75.1449138889], [39.9496777778, -75.1429138889], [39.9489186, -75.1471667], [39.94774, -75.14431], [39.9494638889, -75.1437222222], [39.94819, -75.14335], [39.9497083333, -75.1457138889], [39.9500416667, -75.1460944444], [39.9496927497, -75.1436231285], [39.946225, -75.1449444444], [39.9336472222, -75.1590055556], [39.9335, -75.15888], [39.94148, -75.14943], [39.9415277778, -75.1478888889], [39.953823, -75.158759], [39.95011, -75.1685], [39.95092, -75.17364], [39.9477472222, -75.1679833333], [39.9476666667, -75.1679], [39.9491724, -75.1707273], [39.9487096, -75.1708743], [39.9493338, -75.1661758], [39.9521, -75.17221], [39.94923, -75.1707], [39.94878, -75.16631], [39.94913, -75.16635], [39.95026, -75.16657], [39.9497411, -75.1700025], [39.9518630389, -75.1704606414], [39.9510385222, -75.1706892997], [39.9514611111, -75.1735], [39.95096, -75.17027], [39.95147, -75.17379], [40.02952, -75.20596], [40.0249, -75.22111], [40.0249, -75.22111], [39.91161, -75.17515], [39.9539666667, -75.2008527778], [39.9559361111, -75.2021638889], [39.95381, -75.19464], [39.9535481, -75.1929486], [39.9497020026, -75.1617702842], [39.9499333333, -75.161775], [39.9480317, -75.1623654], [39.94938, -75.15379], [39.94522, -75.1611], [39.9498359438, -75.1532407288], [39.95071, -75.16375], [40.0597638889, -75.1906583333], [39.9141305556, -75.1488277778], [33.330861, -111.982886], [33.304959, -111.996392], [33.305437, -111.99253], [33.34877, -111.976629], [33.370537, -111.973354], [33.330827, -111.98183], [33.348763, -111.981083], [33.51134, -111.995464], [33.510208, -112.014611], [33.510034, -112.0241743], [33.501531, -111.995564], [33.501531, -111.995564], [33.502363, -111.996517], [33.509371, -112.040769], [33.51082, -112.02791], [33.495003, -112.001716], [33.518368, -112.004635], [33.494693, -111.980288], [33.509763, -112.012411], [33.493931, -111.995324], [33.51082, -112.02791], [33.625845, -112.099864], [33.71449, -112.11225], [33.431537, -112.056197], [33.454891, -112.080035], [33.4570868, -112.0714138], [33.458837, -112.07206], [33.448756, -112.072702], [33.435237, -112.074053], [33.456433, -112.070961], [33.449241, -112.065639], [33.44724, -112.07377], [33.455671, -112.072316], [33.512251, -112.073898], [33.478778, -112.047817], [33.509437, -112.061628], [33.485801, -112.069146], [33.524247, -112.047652], [33.476819, -112.073634], [33.505798, -112.073957], [33.469201, -112.047393], [33.5001935, -112.0738985], [33.50951, -112.05998], [33.5006213, -112.0743113], [33.530017, -112.047334], [33.537881, -112.064903], [33.509161, -112.071623], [33.476802, -112.073629], [33.476966, -112.073634], [33.513688, -112.0734431], [33.5973316, -112.0140001], [33.67909, -111.97741], [33.655437, -111.929531], [33.52278, -111.95943], [33.367364, -112.073363], [33.570743, -112.065364], [33.58767, -112.11568], [33.568964, -112.074064], [33.56165, -112.11631], [33.57532, -112.06524], [45.5589521, -122.6461897], [45.559294, -122.644053], [45.5589682, -122.6508762], [45.5589173, -122.6426891], [45.5628654, -122.6482564], [45.5517188, -122.6757517], [45.548262, -122.6751673], [45.5407029, -122.6636441], [45.541037, -122.662343], [45.51735, -122.66276], [45.520472, -122.6604103], [45.5177729, -122.6511014], [45.5216938, -122.6734835], [45.5227132, -122.6729444], [45.5221773, -122.6772118], [45.5199641, -122.6738639], [45.51895, -122.6778], [45.51895, -122.6778], [45.5221917, -122.6842299], [45.5223245, -122.6771247], [45.5220325, -122.6814409], [45.515572, -122.682], [45.5225049, -122.6834922], [45.52201, -122.68138], [45.52217, -122.67585], [45.5212755, -122.6837237], [45.52149, -122.67718], [45.5234974, -122.6958054], [45.51216, -122.64332], [45.5122316, -122.6143397], [45.5119343, -122.6265271], [45.512267, -122.613116], [45.5266322, -122.636827], [45.523105, -122.641648], [45.5205237, -122.6370772], [45.5228, -122.64836], [45.5205794, -122.6370824], [45.52295, -122.63232], [45.5227475, -122.6578224], [45.5244578, -122.6504073], [45.5192769, -122.5802508], [45.51924, -122.58229], [45.5193097, -122.5812544], [45.5278044, -122.6987207], [45.53421, -122.69065], [45.528958, -122.6984342], [45.5332432, -122.7004552], [45.52646, -122.68458], [45.5287804, -122.6829301], [45.52446, -122.68411], [45.5309456, -122.6852592], [45.5263192, -122.68362], [45.52454, -122.68208], [45.52291, -122.68305], [45.523898, -122.680981], [45.5270615, -122.6834665], [45.4738974, -122.6484625], [45.5050524, -122.6438432], [45.49712, -122.63513], [45.47898, -122.69359], [29.47227, -98.46299], [29.48506, -98.452763], [29.499645, -98.466694], [29.479975, -98.46389], [29.49566, -98.47927], [29.510925, -98.466081], [29.49356, -98.47972], [29.515259, -98.465434], [29.49783, -98.4772], [29.487055, -98.448026], [29.511801, -98.458954], [29.486934, -98.447815], [29.533848, -98.681999], [29.55084, -98.54176], [29.541732, -98.513837], [29.4299129, -98.4882329], [29.4266087, -98.4891687], [29.426286, -98.49242], [29.42655, -98.49103], [29.39484, -98.404462], [29.4669, -98.62282], [29.415134, -98.489796], [29.413368, -98.491012], [29.411545, -98.495467], [29.414282, -98.491667], [29.589525, -98.61947], [29.589525, -98.61947], [29.6019, -98.61532], [29.533122, -98.565005], [29.464039, -98.507812], [29.4406583, -98.5006009], [29.4444, -98.48144], [29.444076, -98.479438], [29.436662, -98.494012], [29.52006, -98.50685], [29.5196163, -98.488065], [29.499477, -98.507944], [29.495175, -98.535186], [29.4895297, -98.5988673], [29.524979, -98.568195], [29.528995, -98.564547], [29.518566, -98.561988], [29.42412, -98.488337], [29.423804, -98.488648], [29.423791, -98.48859], [29.423966, -98.491677], [29.424835, -98.492085], [29.602586, -98.508168], [29.56437, -98.4878], [29.607148, -98.529122], [29.59799, -98.56546], [29.546615, -98.576954], [29.63113, -98.59725], [29.5864045749, -98.4758779854], [29.42308, -98.48454], [29.416603, -98.488462], [29.6074409, -98.6016998], [29.57045, -98.38208], [29.57505, -98.47897], [29.60712, -98.469], [32.75468, -117.21695], [32.73135, -117.14996], [32.7019382, -117.1451194], [33.159811, -117.347871], [32.682965, -117.178348], [32.960505, -117.26509], [32.96192, -117.26749], [33.1013, -117.10911], [32.71376, -117.1602894], [32.7090471, -117.1600984], [32.711042, -117.161207], [32.707624, -117.160261], [32.707399, -117.159981], [32.715064, -117.160936], [32.711706, -117.159991], [32.70906, -117.1589], [32.7095029251, -117.1608037475], [32.74755, -117.161436], [32.743802, -117.160562], [32.7490457, -117.1604694], [32.823603, -117.127336], [32.763437, -117.107625], [32.85401, -117.25632], [32.849437, -117.271732], [32.84692, -117.2752], [32.843424, -117.274909], [32.84685, -117.27394], [32.722206, -117.168136], [32.72026, -117.165762], [32.72335, -117.16823], [32.724408, -117.169048], [32.727464, -117.171296], [32.710537, -117.162586], [32.71073, -117.16476], [32.7124214, -117.1730957], [32.731354, -117.160225], [32.73595, -117.160136], [32.784597, -117.252694], [32.790622, -117.254489], [32.741183, -117.179208], [32.74226, -117.18017], [32.76935, -117.16979], [32.74854, -117.13579], [32.74132, -117.13016], [32.748363, -117.133418], [32.747664, -117.129922], [32.754197, -117.130057], [32.74718, -117.251269], [32.747371, -117.252125], [33.175128, -117.361856], [32.75257, -117.19519], [32.75221, -117.194275], [32.757008, -117.198219], [32.752503, -117.194715], [32.796467, -117.256535], [32.803681, -117.217125], [32.723223, -117.227693], [32.735053, -117.216172], [32.72495, -117.19511], [32.761633, -117.146462], [37.7671472222, -122.4290166667], [37.796475, -122.4050916667], [37.7939916667, -122.4047694444], [37.78292, -122.418769], [37.78568, -122.411409], [37.77697, -122.42294], [37.7736888889, -122.4213638889], [37.793566, -122.392782], [37.7961, -122.3934333333], [37.7918694444, -122.4096611111], [37.7962638889, -122.3936777778], [37.7959222222, -122.3942805556], [37.7970277778, -122.3994055556], [37.79338, -122.39929], [37.7973861111, -122.40335], [37.7938694444, -122.4023055556], [37.79775, -122.40624], [37.808717, -122.4101], [37.8057055556, -122.4205638889], [37.8063472222, -122.415825], [37.8090527778, -122.41825], [37.807907, -122.419691], [37.80901, -122.41634], [37.8084916667, -122.4150166667], [37.8088722222, -122.4100027778], [37.8111404, -122.4103545], [37.8078472222, -122.4192972222], [37.8094972222, -122.4103472222], [37.8092027778, -122.41475], [37.8078472222, -122.4185777778], [37.806625, -122.4206611111], [37.80558, -122.42202], [37.7692527778, -122.4519277778], [37.7830361111, -122.4625472222], [37.787362, -122.40739], [37.8000444444, -122.4421611111], [37.8067444444, -122.4321444444], [37.800644, -122.436742], [37.7614833333, -122.4257055556], [37.7615388889, -122.4243694444], [37.7565305556, -122.4190444444], [37.752768, -122.411895], [37.7614861111, -122.42395], [37.7508722222, -122.4182277778], [37.7932916667, -122.4230277778], [37.790821, -122.420923], [37.80188, -122.40956], [37.8003583333, -122.40915], [37.7981555556, -122.4072638889], [37.792569, -122.393828], [37.7888487126, -122.4083952606], [37.7817527778, -122.4098361111], [37.7858492, -122.4045598], [37.78556, -122.39964], [37.7902222222, -122.3997194444], [37.7878944444, -122.4115972222], [37.7888416667, -122.4083638889], [37.7748527778, -122.4378805556], [37.7837361, -122.4329481], [37.776085, -122.426272], [47.6720499096, -122.3877771199], [47.6680532, -122.3858915], [47.66571, -122.38086], [47.6635246, -122.3802183], [47.6687555556, -122.3872916667], [47.6733777778, -122.4073777778], [47.6676606, -122.3852669], [47.6132972222, -122.3402472222], [47.6144973, -122.3480069], [47.6128967, -122.3405801], [47.6133919, -122.3459702], [47.6120832, -122.317086], [47.613925, -122.3193972222], [47.6150944444, -122.3279722222], [47.612417, -122.319657], [47.62454, -122.30738], [47.6250027778, -122.3209305556], [47.613, -122.31398], [47.60807, -122.33921], [47.5997588, -122.3304516], [47.6060777, -122.341177], [47.6117778, -122.3332994], [47.60512, -122.33984], [47.6107895, -122.3438707], [47.60393, -122.33389], [47.614584, -122.3400703], [47.6079958, -122.3349899], [47.615236, -122.341121], [47.6088914, -122.3373437], [47.63709, -122.32598], [47.6585111111, -122.3499611111], [47.6522155, -122.3543657], [47.6778194444, -122.3548805556], [47.6130722222, -122.3398222222], [47.6481713, -122.3783206], [47.5998722222, -122.3179166667], [47.6225402, -122.2972485], [47.6240244, -122.2950633], [47.609881, -122.342194], [47.610744, -122.342669], [47.60941, -122.34121], [47.610289, -122.3426586], [47.6100152, -122.3423898], [47.6095815, -122.3418765], [47.6097344, -122.3414932], [47.6089276, -122.3404449], [47.6095486, -122.3411817], [47.62518, -122.35679], [47.63234, -122.35671], [47.620799, -122.331349], [47.651673, -122.3144101], [47.6576194444, -122.3180555556], [47.6690222222, -122.3175055556], [47.6624861111, -122.3133305556], [47.6688166667, -122.3333277778], [47.6614416667, -122.3381194444], [47.66129, -122.33964], [47.560398, -122.387041], [47.564897, -122.377228], [47.6429138889, -122.346825], [1.3010474799, 103.838475335], [1.28209685, 103.84802575], [1.2809848432, 103.845634662], [1.3021651461, 103.858458409], [1.2830960437, 103.860468581], [1.2826608003, 103.860004786], [1.2947614414, 103.854519994], [1.2947822414, 103.854489194], [1.3006816331, 103.860124947], [1.3022222106, 103.852578226], [1.2996911075, 103.850038795], [1.287357425, 103.84748585], [1.287683895, 103.847241048], [1.2813411475, 103.848432028], [1.3073734411, 103.829907354], [1.2967093, 103.848828567], [1.2794197556, 103.84036022], [1.2804522774, 103.8542044], [1.2797189904, 103.840558173], [1.2805029905, 103.841668802], [1.2897235, 103.85144575], [1.2830794, 103.85308095], [1.2780377705, 103.842371377], [1.3052222296, 103.862392093], [1.3070943777, 103.832061284], [1.2794436301, 103.843022222], [1.3020450522, 103.83709894], [1.3099486053, 103.881834717], [1.3311283969, 103.807080938], [1.3038125674, 103.831735227], [1.3039161855, 103.859223303], [1.301788587, 103.860068362], [1.3175386667, 103.852974667], [1.2978255398, 103.81461784], [1.310266, 103.860963333], [1.3106683156, 103.862119451], [1.3117242518, 103.796798411], [1.306387, 103.852236433], [1.2905805, 103.859955], [1.2917696117, 103.859298412], [1.2897619638, 103.855866533], [1.2908008811, 103.860176611], [1.290768, 103.8582], [1.2910688512, 103.857636766], [1.2910144013, 103.857521766], [1.2933155636, 103.841322591], [1.2783731823, 103.840921024], [1.2782300986, 103.840687283], [1.3017071676, 103.858429644], [1.3020616766, 103.836340977], [1.300727445, 103.839742626], [1.3045768973, 103.824877359], [1.2964215397, 103.855152293], [1.2932206979, 103.853604774], [1.2932403, 103.85346], [1.3048512898, 103.813532856], [1.3054267415, 103.815560472], [1.3057747706, 103.815615586], [1.2911675, 103.841875], [1.2903405624, 103.839257732], [1.3065182632, 103.851929263], [1.3020669222, 103.84034744], [1.2814662848, 103.849929427], [1.3030346478, 103.858181255], [1.3051937, 103.83251975], [1.305105832, 103.832988237], [1.3046898611, 103.824864953], [1.2794686986, 103.843842252], [1.2805618534, 103.841811604], [1.2819700001, 103.848254115], [1.2801122667, 103.847186833], [1.2798585647, 103.847302345], [1.2888589086, 103.846558666], [1.2854769314, 103.859422196], [1.2858926117, 103.859613687], [1.3149352421, 103.815563738], [1.3514223525, 103.835584355], [1.3650000982, 103.835595995], [1.3556667426, 103.840008607], [1.2997077261, 103.851994292], [38.9211979, -77.041862], [38.921739, -77.042173], [38.90032, -76.989437], [38.900318, -76.989082], [38.886764, -77.001923], [38.882444, -76.995154], [38.882455, -76.9953419], [38.88202, -76.99534], [38.89679, -76.99534], [38.896237, -77.009895], [38.880639, -76.9953419], [38.90199, -77.02043], [38.90005, -77.02254], [38.90007, -77.021731], [38.89862, -77.02364], [38.90211, -77.02529], [38.900988, -77.022033], [38.933653, -77.07275], [38.913159, -77.045775], [38.89535, -77.02739], [38.89586, -77.02199], [38.894876, -77.020614], [38.9058, -77.04772], [38.899812, -77.033668], [38.902637, -77.027182], [38.9007692, -77.0276461], [38.894681, -77.0261], [38.8965064488, -77.0216862566], [38.8992958, -77.0217743], [38.893007, -77.020076], [38.90189, -77.0346], [38.898672, -77.019589], [38.91086, -77.03811], [38.915314, -77.04136], [38.89501, -77.02184], [38.909778, -77.045138], [38.89699, -77.02182], [38.907437, -77.039985], [38.89735, -77.03205], [38.91081, -77.04374], [38.90013, -77.04355], [38.90589, -77.05104], [38.903962, -77.060362], [38.90491, -77.06316], [38.9044, -77.06245], [38.904963, -77.06556], [38.90255, -77.05831], [38.905197, -77.06619], [38.90449, -77.06093], [38.90637, -77.063072], [38.909837, -77.033096], [38.910306, -77.032031], [38.9113638642, -77.0315723866], [38.9099, -77.03329], [38.903103, -77.018751], [38.918116, -77.097298], [38.917137, -77.028427], [38.917302, -77.031794], [38.914722, -77.032361], [38.92373, -77.0522], [24.4962163869, 54.3825947866], [24.4955643919, 54.382840544], [24.4605704614, 54.3486950174], [24.4853666529, 54.3820023537], [24.4803484869, 54.3723567948], [24.4773797842, 54.3709828332], [24.4190711321, 54.6451009065], [24.4764130869, 54.3565491959], [24.4767164012, 54.3513202295], [24.4722407633, 54.3490792438], [24.4768497494, 54.3546525389], [24.4724784793, 54.3477616087], [24.481507388, 54.3512551859], [24.476490899, 54.3529925868], [24.4937673457, 54.3674684688], [24.492252193, 54.3661910668], [24.4938988452, 54.361548163], [24.4928804069, 54.3670550734], [24.4963225608, 54.3696149066], [24.4932669751, 54.3697848916], [24.4894476174, 54.3665732816], [24.4956827703, 54.3708520755], [24.4856366871, 54.3613966182], [24.4959530875, 54.3686945736], [24.4644468476, 54.3869000673], [24.464325083, 54.3868169189], [24.4617533486, 54.3793724477], [24.4697872883, 54.3730363995], [24.4703951686, 54.3751838431], [24.4704482665, 54.3750654906], [24.4704348394, 54.3749659136], [24.4698644941, 54.3728255108], [24.4693841692, 54.373207055], [24.3355002969, 54.5234972611], [24.3348233377, 54.5234972611], [24.4461161227, 54.4391454756], [24.4462623225, 54.4383760169], [24.4315471822, 54.4359717518], [24.4317257558, 54.4342651963], [24.4699691644, 54.3516243249], [24.469519051, 54.3519277498], [24.4815031161, 54.3637113646], [24.4853947242, 54.3633127213], [24.4828850566, 54.3656475842], [24.4828395922, 54.3658574671], [24.4828182331, 54.3659201637], [24.476375554, 54.3220643699], [24.3730151666, 54.5382212475], [24.4338420623, 54.4369510934], [24.4349418683, 54.4130710512], [24.3638407474, 54.5101398602], [24.3369913664, 54.5330241323], [24.4915766841, 54.3748710305], [24.4916331292, 54.3733877689], [24.4918573838, 54.3752039596], [24.488183219, 54.3713100627], [24.4892926194, 54.3731728569], [24.4896016998, 54.3730028719], [24.4905731775, 54.3749766424], [24.4910933909, 54.3742732331], [24.4910839325, 54.3756797165], [24.4958340992, 54.4078772888], [24.4995559395, 54.3871702999], [24.5004394752, 54.3885492906], [24.5007784266, 54.3885030225], [24.497434025, 54.3786096945], [24.4906781357, 54.3786281347], [24.5031779083, 54.3747506663], [24.4972381542, 54.3775790557], [24.4956507349, 54.3801915273], [24.489422598, 54.3817203864], [24.4928828478, 54.3767013028], [24.493715173, 54.3760294095], [24.4106148, 54.4872137], [24.4872428451, 54.3570625037], [24.4875427769, 54.3574346602], [24.488161, 54.358147], [24.4875375899, 54.3569870666], [24.4860595871, 54.6080270782], [24.48835561, 54.6094258502], [25.2498320804, 55.3389243409], [25.2484668744, 55.337693207], [25.2692980911, 55.3171243519], [25.2404939711, 55.2737332508], [25.2479683369, 55.3127865493], [25.2469548802, 55.3090187162], [25.250234786, 55.3019430488], [25.2408512178, 55.3001151234], [25.2479189076, 55.3045555204], [25.2470883101, 55.3012543917], [25.2480523363, 55.3033599257], [25.2485648228, 55.3031285852], [25.2482342845, 55.3029260784], [25.2478515866, 55.3039111197], [25.2483968245, 55.3014253825], [25.2480450584, 55.3034196049], [25.2474625193, 55.3002589569], [25.2488808045, 55.3042410314], [25.2526221839, 55.3046316281], [25.2472332632, 55.3086247668], [25.2472453932, 55.3103209287], [25.2678033354, 55.321075581], [25.2868281101, 55.3699320182], [25.2964803323, 55.3687478229], [25.2961568963, 55.3864866123], [25.2694530232, 55.3179595247], [25.1408236407, 55.2178061754], [25.2591288407, 55.3102840483], [25.2612734927, 55.308920145], [25.1078827503, 55.1785379648], [25.2541692824, 55.3034782782], [25.2537265632, 55.3032402322], [25.2542554002, 55.303471908], [25.181243517, 55.2649278939], [25.2545710639, 55.3288060427], [25.2161247171, 55.4086885974], [25.2075008328, 55.2627868205], [25.2507739484, 55.2919353917], [25.0661855353, 55.13804432], [25.0692923416, 55.1424501836], [25.067642373, 55.1411798224], [25.0735749282, 55.1440531388], [25.0768509968, 55.1474350691], [25.2107193148, 55.2823491767], [25.2084378718, 55.2763004601], [25.2057140986, 55.2754481882], [25.1862363893, 55.2804297209], [25.2461163916, 55.331460759], [25.0764990392, 55.1400516182], [25.0764723159, 55.1399731636], [25.0999798903, 55.1690721139], [25.1016209219, 55.1774650812], [25.101467, 55.177657], [25.0475372718, 55.122945495], [25.2290387734, 55.2624260634], [25.137203, 55.187002], [25.0766526981, 55.1323473081], [25.184748, 55.258089], [25.226161081, 55.2562690526], [25.25359496, 55.2931745723], [25.1191951257, 55.2017353848], [25.1185324351, 55.1985817775], [25.2168348028, 55.2526799217], [25.2372608098, 55.3062077612], [25.2349040447, 55.3097335249], [25.2370533702, 55.3061933443], [25.2715577752, 55.3801314533], [25.076754125, 55.1315533742], [25.0765035943, 55.1312734187], [25.195625991, 55.2789310366], [25.1974025584, 55.2789313719], [25.197769943, 55.278991051], [25.1960015721, 55.2799066901], [25.196049809, 55.2782749012], [25.1960919784, 55.2779644355], [25.2241468377, 55.2851369977], [25.2193605635, 55.279825218], [25.2131174988, 55.2775564045], [25.2298973972, 55.3252051771], [25.2415857235, 55.2993979678], [25.606222, 56.290378], [25.5996164413, 56.344316545], [25.585994, 56.355933], [25.5996164413, 56.344316545], [25.1266777778, 56.3363833333], [25.1319722391, 56.3384984806], [25.1319430997, 56.3384019211], [25.1211916667, 56.3447638889], [25.120986, 56.327163], [25.134171, 56.33179], [25.1555111111, 56.3461638889], [25.157792, 56.347897], [25.1223166667, 56.3364305556], [25.1224555556, 56.33025], [25.0279648719, 56.3490356896], [25.1225756178, 56.3323377575], [25.1251861111, 56.2981222222], [25.121925, 56.33545], [25.270589, 56.361907], [25.162141, 56.345287], [25.1224944444, 56.3306833333], [25.1223972222, 56.3240916667], [25.1225611111, 56.3363944444], [25.08055, 56.360704], [25.1223138889, 56.3458222222], [25.1224833333, 56.3317916667], [25.1310913803, 56.3371087368], [25.1343583333, 56.3553777778], [25.1296583333, 56.3545138889], [25.1219055556, 56.3433194444], [25.1347555556, 56.3329722222], [25.121925, 56.3265027778], [25.2713764747, 56.3618816193], [25.1594458568, 56.3489801939], [25.133482, 56.29696], [25.1571944444, 56.3505166667], [25.1251888889, 56.2981222222], [25.1267111111, 56.3019361111], [25.123574, 56.3138363], [25.122971, 56.316177], [25.5087638889, 56.3634861111], [25.5079277778, 56.3650861111], [25.5082916667, 56.3650444444], [25.1215722222, 56.3307138889], [25.1216138889, 56.3312916667], [25.5068444444, 56.3641083333], [25.5068527778, 56.3633277778], [25.5067694444, 56.3649138889], [25.5067861111, 56.3632777778], [25.1191416667, 56.3288166667], [25.1194138889, 56.3288083333], [25.1221154071, 56.3153676877], [25.169367, 56.349584], [25.5011777778, 56.3617166667], [25.1222916667, 56.3271527778], [25.1218638889, 56.3252638889], [25.6027888889, 56.3373], [25.6027888889, 56.3373], [25.6018416667, 56.3383916667], [25.6024666667, 56.3376583333], [25.3452892592, 55.4018583521], [25.3377524073, 55.396550931], [25.3414413509, 55.398924686], [25.3394508383, 55.4014620557], [25.3371996924, 55.3924642503], [25.3451477562, 55.3975745291], [25.3345466864, 55.3936058655], [25.3308457141, 55.3962917626], [25.3350609287, 55.3922074288], [25.3331621306, 55.3927566111], [25.333227586, 55.3926704451], [25.3361909206, 55.391764529], [25.3345151712, 55.3918429837], [25.3608726569, 55.3938003257], [25.3571340123, 55.3882920742], [25.3331242513, 55.3710045666], [25.3257487751, 55.376384072], [25.3475814623, 55.3929892927], [25.3496533462, 55.394452773], [25.329771, 55.376321], [25.3239534766, 55.3805619478], [25.3382211827, 55.386544615], [25.3346024441, 55.3757483885], [25.320871647, 55.3874123096], [25.332143628, 55.3759589419], [25.3227939736, 55.3894826397], [25.3331106147, 55.3752464801], [25.3375151402, 55.3867950663], [25.3279113411, 55.3757470474], [25.3239825701, 55.3822799027], [25.3275049507, 55.3879923823], [25.3274773764, 55.3879920021], [25.3276398103, 55.3878565505], [25.3276158695, 55.3880298883], [25.3255166364, 55.3859840333], [25.3267403601, 55.3876074404], [25.3245408004, 55.3845001012], [25.3558621196, 55.3928206488], [25.3549792401, 55.3822872788], [25.3545071969, 55.382948108], [25.3696149988, 55.3924002126], [25.3661401928, 55.3930593655], [25.3659596335, 55.3919435665], [25.362371112, 55.3975493833], [25.3001214283, 55.3798236698], [25.3013836009, 55.3723409772], [25.3050109099, 55.3776363283], [25.3051166934, 55.3745266423], [25.3049872677, 55.3740884364], [25.3058517196, 55.3761218861], [25.301589415, 55.3681171685], [25.2996828172, 55.3703313321], [25.2997382878, 55.3750329092], [25.3003269415, 55.3805823997], [25.2999568357, 55.3671398386], [25.2994682094, 55.3700989857], [25.3039873208, 55.3785677254], [25.3641358478, 55.4075872153], [25.3639713422, 55.406682305], [25.3656833408, 55.4025584087], [25.3463673424, 55.3906547651], [25.322303621, 55.3759814054], [25.321603547, 55.3760410845], [25.307476642, 55.3691726178], [25.319325096, 55.3637746722], [25.3026903176, 55.3689828515], [25.3683559612, 55.4014540091], [25.3484904535, 55.3989977762], [25.2870642639, 55.452045165], [25.2888091806, 55.4519697279], [25.3661235305, 55.402513817], [25.3095658827, 55.3788429871], [25.3095955858, 55.3788419813], [25.3091482193, 55.3791236132], [25.2979807972, 55.3748156503], [25.298126599, 55.3752095997], [25.2978904667, 55.3748169914], [25.3044832033, 55.4698486626], [25.3083662332, 55.4588227719], [25.3110470909, 55.4594386742], [27.16362, 78.01485], [27.1616611111, 78.0115444444], [27.1590629362, 78.0107640848], [27.1605689, 78.0115831], [27.203024799, 78.0017350987], [27.201117, 78.008512], [27.201734813, 78.0076245591], [27.2041478, 78.0090248], [27.1965949, 78.0008925], [27.2015156391, 78.0075558275], [27.2017342166, 78.0078501999], [27.1915760245, 78.023650758], [27.205886, 77.998236], [27.1961715, 77.9982892], [27.1996056773, 78.0045282841], [27.2015117626, 78.0078465119], [27.201548, 78.007575], [27.1968592, 78.0032925], [27.2056679414, 78.0047985166], [27.2016999, 78.0036233], [27.1957585181, 77.9983638972], [27.1900415, 78.024693], [27.2013656464, 78.0087457225], [27.2016361111, 78.0079111111], [27.1961977827, 77.9985301942], [27.205766, 77.9968967], [27.1971028, 77.9981701], [27.2191143752, 78.0085046589], [27.2221751301, 78.0101736635], [27.1611495917, 78.0439929664], [27.21294252, 78.02654894], [27.2163809989, 78.0183799458], [27.2095398, 78.01884], [27.2146972112, 78.0224072188], [27.2148108104, 78.0210369453], [27.2141487, 78.0261897], [27.2075576, 78.0006057], [27.2112706951, 78.002102226], [27.2072742, 77.9944985], [27.21145, 78.0023805556], [27.210987, 77.999079], [27.2085117, 78.0104524], [27.1995729, 78.0036987], [27.2062970983, 77.953160224], [27.1797941182, 78.0160242319], [27.1849864, 78.0225795], [27.1827482, 78.0166736], [27.1650244925, 78.0149137974], [27.1796963, 77.9589425], [27.1881434, 77.9870681], [27.1829376722, 77.9796836525], [27.188102, 77.9866675], [27.2157631308, 77.950245738], [27.20393, 77.95426], [27.201999, 77.9462717], [27.2031527233, 77.9554830864], [27.202378615, 77.9467360675], [27.194857, 77.9664342], [27.2104724914, 77.9656439647], [27.20662362, 77.9719625786], [27.2049159165, 77.9582843184], [27.1610034, 78.0314], [27.1541754208, 78.0591311793], [27.1596485163, 78.0433036387], [27.1617458997, 78.0400336906], [27.1666118751, 78.036731416], [27.1621, 78.0382], [27.158466614, 78.0576688796], [27.1589454022, 78.0449340865], [27.1585486495, 78.0452271178], [27.1583271, 78.0432934], [27.1619353, 78.033464], [27.1620095986, 78.0379962176], [27.1576602762, 78.050503023], [27.157512611, 78.0506072938], [27.1579502363, 78.051030077], [27.1577900424, 78.0473132059], [27.1613721262, 78.0348999426], [27.1582431787, 78.0455908924], [27.1590485, 78.0576793], [23.0397704201, 72.5315079466], [23.0381688194, 72.5124350935], [23.0380346062, 72.5124743208], [23.0429926928, 72.5204981491], [23.039851564, 72.5091805682], [23.0383650481, 72.5126074255], [23.0318202339, 72.5113457814], [23.0398055928, 72.5021273643], [23.0397210549, 72.5082394481], [23.0352346105, 72.5064443797], [23.0404649245, 72.5074740127], [23.0387470146, 72.5108267739], [23.0331744552, 72.5098980591], [23.0323515568, 72.5096067041], [23.0385378279, 72.511138916], [23.0372919573, 72.5118024274], [23.0448290206, 72.5073217973], [23.0385692985, 72.5111399218], [23.0312658, 72.4751842], [23.032025, 72.562297], [23.0357804214, 72.5548096374], [23.030699, 72.558572], [23.0294073474, 72.5548438355], [23.1060703259, 72.5972297788], [23.1140648459, 72.6093245298], [23.0276902222, 72.5120666251], [23.0242083867, 72.5590367988], [23.0199068812, 72.5604476407], [23.071208042, 72.5394479558], [23.127584292, 72.5321600586], [23.0274282545, 72.5454778969], [23.026672279, 72.5524456054], [23.0459072962, 72.5379076973], [23.0462074841, 72.5308028609], [23.0486935, 72.533557], [23.0484266325, 72.5239240006], [23.0467428, 72.531162], [23.0290759578, 72.5997765362], [22.9975766544, 72.6042571664], [22.9977195495, 72.6027172431], [22.9978723205, 72.6040690765], [23.0478234893, 72.5268177688], [23.0435974003, 72.5514139608], [23.0332293766, 72.5568766147], [23.0308624897, 72.5479508936], [23.0423580556, 72.5487756729], [23.0397648665, 72.5618001446], [23.0337600769, 72.5547968969], [23.0408533641, 72.548933588], [23.0423885997, 72.5485081226], [23.0315277277, 72.5549293309], [23.0443452593, 72.5505335256], [23.0408021481, 72.5485688075], [23.0286634167, 72.5602800027], [23.0360519375, 72.5549239665], [23.0329523009, 72.5579253584], [23.0432888764, 72.5497865304], [23.0124110626, 72.5143918003], [23.012047, 72.511613], [23.0113201229, 72.5029796362], [23.0121388293, 72.5041132048], [23.0121542591, 72.5146251172], [23.011825605, 72.5151536284], [23.0357258095, 72.5110202283], [23.0269135746, 72.5081569701], [23.1183349735, 72.6243844628], [23.0918298046, 72.5295251235], [23.0530693566, 72.5180995837], [23.050038, 72.501425], [23.0639830919, 72.5222975761], [23.0424521561, 72.5144028291], [23.0278512904, 72.5437844172], [23.0283147438, 72.5424580953], [23.0367430672, 72.5278168917], [23.0370587024, 72.5279667601], [23.0282249555, 72.5436700881], [23.0395266793, 72.5295871496], [23.0397667, 72.5272429], [23.011900902, 72.5118838996], [25.4677207511, 81.8226799741], [25.4673269422, 81.8226266652], [25.466910127, 81.8252146617], [25.45542701, 81.83609806], [25.4548379009, 81.835039258], [25.4505127343, 81.8313559145], [25.449453, 81.839536], [25.449868, 81.833621], [25.4511560548, 81.8330980092], [25.4528062696, 81.8408754095], [25.4549446106, 81.8309326172], [25.454667, 81.833889], [25.4531053705, 81.8328210711], [25.459709317, 81.838870123], [25.4540165944, 81.8370539323], [25.4519407497, 81.8326507509], [25.4512453625, 81.8367478251], [25.4571012, 81.8353669], [25.45463565, 81.83454217], [25.45461, 81.83551], [25.4528970898, 81.8366070092], [25.4527929493, 81.8288242444], [25.450514248, 81.8298401311], [25.4509526145, 81.8309059739], [25.4519153199, 81.834949404], [25.4598222303, 81.835645102], [25.4562404361, 81.8309160322], [25.4563666725, 81.8338788673], [25.4502841655, 81.8329588696], [25.454258, 81.83333], [25.452000086, 81.8350791559], [25.4526318946, 81.8347324803], [25.4509577611, 81.8311906233], [25.4545369879, 81.834885031], [25.4513358811, 81.8326148763], [25.4517463929, 81.8374706805], [25.4499432793, 81.8362127244], [25.4530181833, 81.8327841908], [25.4505757042, 81.8337035179], [25.4505387699, 81.8336277455], [25.4556116737, 81.8342027441], [25.4504264534, 81.8321894109], [25.453225, 81.832906], [25.4502693312, 81.8335325271], [25.4495348806, 81.8396013603], [25.4546070099, 81.8334579468], [25.4505045603, 81.8362633511], [25.4555053711, 81.8337936401], [25.4597619897, 81.8386418], [25.454657777, 81.8336213753], [25.4501830501, 81.8317683041], [25.4523627633, 81.8328136951], [25.4558653587, 81.8354020268], [25.4496505281, 81.8352571875], [25.4501915269, 81.8339630216], [25.4553010753, 81.835654825], [25.4597453403, 81.8349437043], [25.4501312815, 81.8338825554], [25.460818466, 81.8594292551], [25.460539, 81.856366], [25.459970864, 81.8593699113], [25.4497313602, 81.7706635594], [25.4491945978, 81.8542311341], [25.4507637054, 81.8609202281], [25.4490299054, 81.8545027077], [25.4647321908, 81.8487413228], [25.4686303509, 81.8549851701], [25.4726282705, 81.8573153391], [25.4933473388, 81.8609634787], [25.4646511, 81.7820477], [25.4442176819, 81.811882019], [25.4119635, 81.8413562], [25.4107827788, 81.8438208103], [25.4101150155, 81.844707951], [25.4115365444, 81.8435619771], [25.4586249808, 81.8656221405], [25.4572808989, 81.860049516], [25.4572654601, 81.8600317463], [25.4546229631, 81.8346443027], [25.4546205413, 81.8346456438], [31.6301463732, 74.816227667], [31.6197657746, 74.9075055867], [31.631296, 74.843529], [31.6488117494, 74.8827903718], [31.6469996387, 74.8852938786], [31.641991, 74.883997], [31.6443523351, 74.8844188079], [31.6443340677, 74.8842793331], [31.6435477111, 74.8843691871], [31.6446083633, 74.8844620585], [31.6304963603, 74.8273343593], [31.6304004423, 74.8290660605], [31.62064826, 74.90521967], [31.6333013, 74.8459401], [31.6227603683, 74.8683543876], [31.6303487721, 74.8731307313], [31.6272812, 74.8707621], [31.6356729321, 74.8748698086], [31.6361621995, 74.8757100105], [31.637797544, 74.8771848902], [31.638083, 74.866777], [31.6331023809, 74.8755802587], [31.6356101322, 74.8756982759], [31.6346038997, 74.875427708], [31.6369420532, 74.867836386], [31.6352478897, 74.8763145134], [31.63014266, 74.82502558], [31.6300470292, 74.8291696608], [31.6303119464, 74.8262007907], [31.6461156903, 74.8779610544], [31.64283, 74.87367], [31.649910872, 74.8789615184], [31.6475162465, 74.8787318543], [31.6470044908, 74.8783781379], [31.641486883, 74.87490803], [31.6449191927, 74.8772408813], [31.6425212988, 74.8757391796], [31.642034063, 74.8756087571], [31.6474720068, 74.8787224665], [31.645375873, 74.878102541], [31.6415502499, 74.8752486706], [31.642325206, 74.8761830851], [31.6418048586, 74.8716364056], [31.6153426557, 74.8924872279], [31.6388308591, 74.8562086746], [31.6424342417, 74.8597089574], [31.6532167238, 74.8638851568], [31.6558295278, 74.8646640033], [31.6573946065, 74.86172162], [31.6505576101, 74.862680845], [31.657740781, 74.8638261482], [31.64958434, 74.8629991], [31.656316406, 74.8646153882], [31.6570224603, 74.861828573], [31.6571254856, 74.8617883399], [31.65076025, 74.8636568338], [31.658042434, 74.8638502881], [31.6517417627, 74.8621155694], [31.657628624, 74.8616280779], [31.6503081627, 74.862858206], [31.6576680074, 74.863893874], [31.6567835897, 74.8643662781], [31.6431566711, 74.8596807942], [31.6467715882, 74.8647541925], [31.6513282101, 74.8642610013], [31.6561309017, 74.8624568805], [31.6393360946, 74.8905067518], [31.6213608667, 74.8785099015], [31.6256889186, 74.8841180652], [31.624386, 74.873005], [31.62224, 74.87973], [31.625981, 74.877666], [31.6261593965, 74.8783332109], [31.6226310395, 74.8795234412], [31.6269407615, 74.8761498928], [31.6586023589, 74.879344739], [31.656790439, 74.8777240142], [31.6536745049, 74.8766511306], [31.642142, 74.871229], [31.6467107937, 74.865962863], [19.87861, 75.363209], [19.8766488543, 75.3461198509], [19.8765334535, 75.3452964127], [19.8765031844, 75.3443388641], [19.87239063, 75.32324195], [19.8774635943, 75.3640212491], [19.8931789944, 75.3475095704], [19.8792655294, 75.3659916669], [19.8764905723, 75.362293236], [19.8736320099, 75.3674484417], [19.8765757041, 75.3645412624], [19.8774443609, 75.3590588272], [19.875365252, 75.3622027114], [19.8764464299, 75.3639840335], [19.876938, 75.363509], [19.877417, 75.364583], [19.8782203149, 75.3660483286], [19.8770521259, 75.3586561605], [19.876461, 75.362406], [19.874358164, 75.3548430651], [19.8864462658, 75.3605196252], [19.876417422, 75.3633258864], [19.8751016567, 75.3541061282], [19.874192943, 75.369945243], [19.8766, 75.3635], [19.8786172765, 75.3642224148], [19.8744533868, 75.3602795675], [19.8774093625, 75.3639022261], [19.8765381831, 75.364899002], [19.8740195237, 75.3680676967], [19.8781118518, 75.3603509814], [19.8747538741, 75.3629497066], [19.877326123, 75.3589163348], [19.84975112, 75.32415318], [19.865328, 75.349205], [19.8609542035, 75.3464933485], [19.8588881226, 75.3452022001], [19.8847544474, 75.3303910419], [19.875598893, 75.316311121], [19.893235, 75.347837], [19.8616476212, 75.3131585196], [19.8615678421, 75.3101799265], [19.8616157726, 75.3133999184], [19.8669662449, 75.3189889714], [19.8805, 75.3304], [19.87999, 75.32348], [19.8805011752, 75.3249937668], [19.8782553132, 75.3173900396], [19.8722805913, 75.3281195462], [19.891639, 75.327917], [19.8810970816, 75.3232801706], [19.8816980304, 75.325788036], [19.874242, 75.32894], [19.8797845081, 75.32344345], [19.8802432637, 75.3234511614], [19.889421, 75.327193], [19.8800528251, 75.3240161017], [19.8750890445, 75.3224828839], [19.8762998139, 75.347764045], [19.8768941596, 75.3726713732], [19.87683, 75.37158], [19.8768941596, 75.3726713732], [19.8765571012, 75.372469537], [19.8765561553, 75.3725798428], [19.889167, 75.326709], [19.88825, 75.334472], [19.888716, 75.321461], [19.8898333, 75.3273759], [19.887752, 75.3440849], [19.8754380875, 75.3398773447], [19.863674, 75.344245], [19.8662173536, 75.3317445517], [19.8645622125, 75.3169280291], [19.869215, 75.330084], [19.8662968151, 75.331646651], [19.8701260543, 75.3268240392], [19.870312721, 75.328341499], [19.8670062908, 75.3189219162], [19.8704161444, 75.3271888196], [19.8429875, 75.2408331], [12.8913495161, 77.5985363871], [12.9249423022, 77.674485147], [12.9623644776, 77.7167939767], [12.9165435486, 77.6046410948], [12.9102298371, 77.6003267616], [12.9864513377, 77.5949016586], [12.839154, 77.650696], [12.971020451, 77.6070161909], [12.9335329144, 77.6234715432], [13.0709061067, 77.6516682655], [12.9228727861, 77.6515448838], [12.923884, 77.640284], [12.8970992902, 77.6584921405], [12.9118095871, 77.6388925686], [12.912537, 77.633301], [12.9698808451, 77.641283758], [12.9625771804, 77.6415392384], [12.9703944526, 77.6447132975], [12.9671883094, 77.641578801], [12.9703369495, 77.6452725381], [12.978888098, 77.640921995], [12.9806252132, 77.6408851147], [12.9700644632, 77.6394890249], [12.9698716969, 77.6475158706], [12.9789119479, 77.6410540938], [12.9263092257, 77.5845543668], [12.9329483216, 77.5815134123], [12.907682, 77.599373], [12.893361, 77.586389], [12.9135782155, 77.585629262], [12.906545131, 77.5821393728], [13.0240984681, 77.6430919021], [13.0146205002, 77.6359109581], [12.9332149667, 77.6307839155], [12.933426714, 77.6143838838], [12.9335796425, 77.6214753091], [12.9347174539, 77.6157977432], [12.9344024486, 77.616128996], [12.9344024486, 77.616128996], [12.9344779323, 77.6162104681], [12.9335142885, 77.6222622022], [12.935551, 77.61506], [12.9342338357, 77.6234309748], [12.9325490071, 77.6139899343], [12.9344913298, 77.6162040979], [12.9361486969, 77.6254094392], [12.939076, 77.626065], [12.935440592, 77.6142839715], [12.9348037208, 77.6134464517], [12.9706574636, 77.5976344943], [12.9497983, 77.6993079], [12.974443158, 77.6973469555], [12.9507766402, 77.6998031884], [12.9512216701, 77.6991426945], [12.9394689529, 77.6946818456], [12.9394372569, 77.6949913055], [12.9512213434, 77.6993042976], [12.941252, 77.696669], [13.0271686443, 77.5716784224], [13.0272538992, 77.5772406533], [13.0291536715, 77.5708865002], [12.9601384392, 77.646923773], [12.9852467888, 77.5791664794], [13.0085637533, 77.5487867743], [13.0123096699, 77.5544086844], [12.9093987813, 77.5272493064], [12.9722191879, 77.6083690301], [12.9680645874, 77.6018009707], [12.912925929, 77.6829220355], [12.909852, 77.685574], [12.9141791934, 77.6776290312], [12.9141108931, 77.6784072071], [12.9106121937, 77.6846255735], [12.9801658606, 77.6933712512], [12.9769039755, 77.7249556035], [12.9824459531, 77.708532773], [12.9778318398, 77.7253046259], [12.990819943, 77.7231213078], [12.9618939824, 77.7484782413], [13.0084229577, 77.7588104457], [23.303155, 77.392048], [23.2146036726, 77.4349672347], [23.2143012, 77.433116], [23.223447, 77.433473], [23.2170955004, 77.4275230989], [23.2143821266, 77.4341863766], [23.2065658477, 77.43141599], [23.21674, 77.427173], [23.2677289643, 77.4670705944], [23.25147995, 77.45807648], [23.250738, 77.463451], [23.260515, 77.464264], [23.2511096759, 77.460866645], [23.250604, 77.465535], [23.2770702051, 77.4598289654], [23.2509784481, 77.4636879936], [23.2507699005, 77.4624474719], [23.2327186664, 77.4300812557], [23.2331040847, 77.4298700318], [23.2322275721, 77.430126518], [23.2324188958, 77.4300983548], [23.232870554, 77.4298945069], [23.1926149064, 77.4333216995], [23.1871177661, 77.4369356409], [23.1952849613, 77.4320811778], [23.1890107264, 77.4354030847], [23.1850137103, 77.4376417324], [23.2240336725, 77.4362483248], [23.2232621661, 77.433543317], [23.1820491145, 77.4564041197], [23.1813987993, 77.4562827498], [23.2573499, 77.4281987], [23.272252, 77.401907], [23.1997112056, 77.3692219332], [23.2636394821, 77.3892328888], [23.2635744905, 77.3831053823], [23.274489, 77.370791], [23.260697885, 77.3836790398], [23.2650267846, 77.3807457089], [23.2661590394, 77.3870737106], [23.1874231859, 77.4173028767], [23.182338, 77.417132], [23.1854223812, 77.4173595384], [23.1764079, 77.4345418], [23.1854316, 77.4170773], [23.2333687319, 77.4341766536], [23.2305888324, 77.4312134832], [23.2369, 77.43356], [23.2284471213, 77.4376928169], [23.2295924541, 77.4361262843], [23.2325917338, 77.4334698915], [23.2331388986, 77.4334993958], [23.2265678426, 77.4370586872], [23.2272197866, 77.4363921583], [23.234292374, 77.4346695095], [23.2285378377, 77.4351952225], [23.2322328097, 77.435518764], [23.2312426054, 77.4439241365], [23.2326699883, 77.4331279099], [23.251961, 77.428832], [23.2336903745, 77.4348683283], [23.2334405161, 77.4345186353], [23.230467, 77.443837], [23.223447, 77.433473], [23.2640907266, 77.4039206654], [23.258569, 77.405362], [23.264116, 77.403681], [23.2580374548, 77.4003583565], [23.257913, 77.41055], [23.2670812224, 77.397878319], [23.2642068487, 77.4084666744], [23.2606442888, 77.3932344094], [23.2643771814, 77.4103116989], [23.2643451478, 77.4099452421], [23.2272197866, 77.4015569687], [23.2385965605, 77.4025467038], [23.2333829039, 77.4049147591], [23.2351993732, 77.3990990594], [23.2348641786, 77.4017410353], [23.2270774, 77.3989602], [20.2643916667, 85.8387916667], [20.258813, 85.836759], [20.29606, 85.82454], [20.2871092367, 85.8467756957], [20.3142500784, 85.8244010434], [20.3128229066, 85.8199572936], [20.3264177635, 85.8174621686], [20.3261514681, 85.8185581863], [20.3141915837, 85.8244416947], [20.3113394389, 85.8338749409], [20.3128578079, 85.8300276473], [20.2544051155, 85.802843459], [20.2554934347, 85.8002910018], [20.2538773093, 85.8045315742], [20.2554201464, 85.8004438877], [20.3081, 85.82559], [20.2986649264, 85.8234103024], [20.2497479037, 85.7981727272], [20.2504156997, 85.8061053604], [20.2508136079, 85.8002058417], [20.2691449021, 85.841944702], [20.2797656886, 85.8440539241], [20.2677330632, 85.8403956121], [20.2789583333, 85.8445583334], [20.2787998781, 85.844701007], [20.2787033282, 85.8447697386], [20.27052058, 85.84220052], [20.277309, 85.843943], [20.2784454421, 85.8456451446], [20.2774544636, 85.8358135074], [20.260639, 85.843751], [20.2696503259, 85.8489660546], [20.3003082568, 85.8194295689], [20.2877202661, 85.811798349], [20.2865916667, 85.8113416667], [20.2861510195, 85.8268579468], [20.33916, 85.80757], [20.3531845584, 85.8253508806], [20.3491810256, 85.8078135923], [20.3527221581, 85.8258826286], [20.341792, 85.818089], [20.3459070168, 85.8237207681], [20.3536959946, 85.8225674182], [20.3533043232, 85.8262018114], [20.3432406053, 85.822621733], [20.3536966233, 85.8226586133], [20.3531801575, 85.8251520619], [20.35304, 85.824665], [20.3533326141, 85.8255976439], [20.35368, 85.81928], [20.3434065893, 85.8107677102], [20.3394666206, 85.8075953275], [20.3532370537, 85.8251698315], [20.3425452308, 85.8220772445], [20.3533313568, 85.8222462237], [20.3549084094, 85.8275295049], [20.3536601596, 85.8226384968], [20.3580436062, 85.821617581], [20.3526548884, 85.8265857026], [20.3532864057, 85.8259188384], [20.3543356806, 85.8273266628], [20.3533844808, 85.8246176317], [20.3430023173, 85.8083664626], [20.3431387513, 85.810714066], [20.2871057774, 85.8466737717], [20.2912323, 85.8537404], [20.2871576663, 85.8468957245], [20.2910143745, 85.8424667269], [20.2888640136, 85.8459307998], [20.2858035188, 85.8437012136], [20.2865482071, 85.8474750817], [20.2863831055, 85.847414732], [20.29565431, 85.8452612534], [20.2908445606, 85.8433367684], [20.2866438087, 85.847443901], [20.2862403317, 85.8475297317], [20.2793785474, 85.8527466282], [20.285046, 85.834001], [20.2838942955, 85.8347630873], [20.2785294123, 85.8343144879], [30.6977764964, 76.7866518348], [30.7102853641, 76.8056502566], [30.704901434, 76.8009074405], [30.7058492719, 76.8007790297], [30.7057818166, 76.8008574843], [30.7059285463, 76.8009466678], [30.7056667966, 76.8005678058], [30.7052926201, 76.8010063469], [30.7046010528, 76.8009701371], [30.7409795822, 76.797141619], [30.7478676425, 76.7930478975], [30.709406, 76.827977], [30.7138562283, 76.843422465], [30.7197028437, 76.8289713934], [30.7546719424, 76.7871718481], [30.7548200382, 76.7871953174], [30.7524078336, 76.7713712901], [30.7470271204, 76.7758971825], [30.7245040439, 76.7787393183], [30.7262140066, 76.7769526318], [30.7308909584, 76.7747274041], [30.7322806276, 76.7770716548], [30.7373829222, 76.7661614344], [30.7240515457, 76.806763038], [30.7281429741, 76.8028004095], [30.7261010283, 76.8048167601], [30.7277196017, 76.803868264], [30.7249695095, 76.806001626], [30.719176536, 76.8015907332], [30.7147411411, 76.7880667001], [30.7095782666, 76.7737919837], [30.7179985303, 76.7665091157], [30.7245962725, 76.7686830461], [30.7221619827, 76.7693955079], [30.7180429183, 76.76653862], [30.7216244477, 76.7601314932], [30.7216403, 76.7603564635], [30.7221167319, 76.7611098289], [30.7260820065, 76.7583075911], [30.7211800064, 76.7595320195], [30.7240299295, 76.7601569742], [30.7224660561, 76.7615607753], [30.7214048213, 76.7599930242], [30.7211459958, 76.7595772818], [30.719798824, 76.7573953047], [30.7338959272, 76.7529203743], [30.7335247421, 76.7531855777], [30.738201051, 76.7489946261], [30.7080429852, 76.764129661], [30.7006213454, 76.7658912018], [30.7064494492, 76.7576930299], [30.6973158006, 76.7673057318], [30.7304647161, 76.8014894798], [30.7361446211, 76.8007649481], [30.7302404987, 76.8016725406], [30.7432145674, 76.7897675559], [12.993150575, 80.2553153783], [12.9982570456, 80.2014810964], [13.0396959016, 80.2558394149], [13.0358367299, 80.2551249415], [13.0394055267, 80.2538391575], [13.0326608298, 80.2510496601], [13.0902051543, 80.2174660563], [13.0873176596, 80.2183045819], [13.0820908881, 80.2119755745], [13.029848117, 80.2087193727], [13.0006748319, 80.2704520896], [13.0721347331, 80.2477424964], [13.0653083003, 80.2309169993], [12.83906, 80.22748], [13.0695331209, 80.2571674436], [13.058623099, 80.2640623972], [13.0317132454, 80.2456101403], [13.0509457866, 80.2094935253], [13.054276919, 80.2574021369], [13.0399836631, 80.2450384945], [13.0550519667, 80.2497062087], [12.9185977, 80.2301955], [13.0814406771, 80.2488975227], [13.0812182791, 80.247749202], [12.8954923212, 80.2521728352], [13.0454533538, 80.2183743194], [13.04685097, 80.2188587934], [13.0533333368, 80.2239630371], [13.0190131089, 80.241294466], [12.8475412719, 80.2394464239], [13.0171635645, 80.2707035467], [13.0441174617, 80.2687002718], [13.0439969371, 80.2677410468], [12.8503030874, 80.2256407589], [12.8518476, 80.2261832], [12.8494522201, 80.2258526534], [12.9559182889, 80.2589185908], [13.0604501245, 80.2493903786], [13.0636648595, 80.2478994057], [13.0605807657, 80.2506946027], [13.06076399, 80.2497139201], [13.0567696048, 80.248461999], [13.0617170153, 80.245632939], [13.0606588239, 80.2455125749], [13.0574375176, 80.2553649992], [13.0638324047, 80.2363404259], [12.9706881754, 80.1472263783], [12.9726687536, 80.2500284091], [12.9909754499, 80.2169302851], [12.9907408828, 80.2171529084], [12.991386105, 80.2170312032], [13.0301502622, 80.16397845], [13.0362544967, 80.1572809741], [13.0288077547, 80.1703966409], [13.0249026822, 80.2534606308], [13.0261227177, 80.1746965572], [13.0572242429, 80.2592049167], [13.0505910815, 80.2038471401], [13.0261256575, 80.2751221508], [12.8748952749, 80.2272393554], [12.9014491993, 80.2268413827], [12.9016099909, 80.2274405211], [13.0453262973, 80.2330443263], [13.0450303765, 80.2412860841], [13.0469391577, 80.2349671349], [13.0469048625, 80.2369140834], [13.0431140682, 80.2365818247], [13.0363534672, 80.2289053425], [13.0494524945, 80.2421863005], [13.041180107, 80.2406312898], [13.0400594413, 80.2360668406], [13.0339308028, 80.2469472215], [13.0529351956, 80.2482504398], [12.9438521068, 80.2380070835], [12.9257197143, 80.2306239679], [12.9280163173, 80.2315168083], [12.9441393258, 80.2376382798], [12.9278758029, 80.2308928594], [12.9716925155, 80.2202247083], [12.9772715278, 80.2193664014], [11.0091543987, 76.9593076408], [11.008019, 76.960098], [11.0242000793, 77.0105629787], [11.0242152174, 77.0106759667], [11.046281, 76.986892], [11.0461781319, 76.9880817086], [11.0119438874, 76.9624045864], [11.0191192286, 76.9787674025], [11.017732, 76.966397], [11.018563387, 76.9624488428], [11.0186213078, 76.968251802], [11.0111619381, 76.9650837779], [11.0105215016, 76.987660937], [11.0133557351, 76.986412704], [11.0096852461, 76.986611858], [11.010266, 76.981134], [11.0098326852, 76.9888615608], [11.0074933964, 76.9698359817], [11.024638, 77.006852], [11.0257010509, 77.0132911205], [11.0218994083, 76.9995461404], [11.02454464, 77.00621009], [11.0178304906, 76.9906445593], [11.0252650097, 77.0008952916], [11.0220270959, 77.0181767643], [11.0242171919, 77.0068792999], [11.0377625159, 77.0149188861], [11.0222923435, 76.9959610328], [11.024199092, 77.0068122447], [11.0253304982, 77.0174810663], [11.0185248829, 76.9899783656], [11.0160724533, 77.0195976645], [11.0245373954, 77.0154808089], [11.0241207688, 77.0069121569], [11.019284, 76.990705], [11.021700966, 76.9984142482], [11.0408031433, 77.0417342708], [11.0210467305, 76.9951570407], [11.0247170778, 77.006958425], [10.9591332959, 76.989124082], [10.9602830555, 76.9838686287], [11.0035035956, 76.9817305729], [11.001778055, 76.9760167971], [11.0039242007, 76.9832336158], [11.0007466094, 76.970805265], [11.0087808632, 76.9839554653], [11.0007248878, 76.9819096103], [11.0034891147, 76.9759302959], [11.0036085824, 76.9754448161], [10.9988841399, 76.9787999243], [10.999963643, 76.9712236896], [11.0030336229, 76.9696619734], [11.0031372934, 76.97520677], [10.9972411812, 76.9993292168], [11.0067436879, 76.9516418874], [11.0060535463, 76.9516985491], [11.0137631621, 76.9468960539], [11.0054896827, 76.9502010096], [11.0106732187, 76.9537045062], [11.0134946158, 76.9505150244], [11.0136512678, 76.9536853954], [11.0095437308, 76.9563883916], [11.0031991666, 76.9515107945], [11.0104935277, 76.9529015198], [11.0074884597, 76.9512657076], [11.0259159449, 76.9446480274], [11.0255644796, 76.942390278], [11.021087538, 76.9405455887], [11.02607, 76.9431], [11.0231081596, 76.9441692531], [11.0200015305, 76.939791888], [11.027252694, 76.9432308152], [11.079649, 77.00245], [11.0249040001, 76.9597250596], [11.0220014267, 76.9982647151], [10.9941971417, 76.963371858], [10.992105, 76.962688], [10.9877150001, 76.962229237], [11.0282281024, 76.9029678404], [11.0212757789, 76.9980481267], [30.3219304, 78.0030623], [30.32269, 78.00281], [30.3324299412, 77.9999618231], [30.3318482852, 78.010639809], [30.3338389, 78.0204451], [30.334112, 78.015392], [30.3316098343, 78.0112016201], [30.3462477351, 78.0753054097], [30.3288, 78.046307], [30.3289474787, 78.046400249], [30.3275735, 78.0450511], [30.329815, 78.046835], [30.327675889, 78.0446447432], [30.3269298279, 78.0449585617], [30.3293908238, 78.0467472598], [30.29313, 78.05897], [30.30246, 78.053001], [30.305145, 78.050399], [30.3491613383, 78.0209900066], [30.3427712618, 78.0612784624], [30.3468567924, 78.0623996258], [30.3402692242, 78.060083203], [30.3425276292, 78.060798347], [30.3350716566, 78.0532606691], [30.3362366626, 78.0551251397], [30.3468718379, 78.0625085905], [30.3400425, 78.0600507813], [30.340829707, 78.0602441356], [30.3467653617, 78.0621649325], [30.338555348, 78.0585456267], [30.3600366737, 78.0672356486], [30.3601130485, 78.0674944818], [30.3595338716, 78.0674475431], [30.3634717439, 78.0693817511], [30.3688442595, 78.0747039244], [30.3626140002, 78.0681583285], [30.3615933766, 78.0679551512], [30.36906, 78.074775], [30.3254828354, 78.0532579869], [30.3262686, 78.0516279], [30.3282211, 78.0470701], [30.3293141357, 78.0528281629], [30.3279131919, 78.0463647097], [30.3285747431, 78.0575220287], [30.3268797623, 78.0476742983], [30.3280185311, 78.0459365621], [30.3160479197, 78.0495008826], [30.3324997, 78.0476418], [30.327873, 78.046214], [30.332722, 78.054194], [30.3326776, 78.0521107], [30.3299246, 78.0526412], [30.3130771803, 78.0496209115], [30.3312886192, 78.0283305421], [30.334368, 78.025642], [30.3018578695, 78.0093330789], [30.29965, 78.00687], [30.2876424726, 77.9962362349], [30.3021983651, 78.0101615936], [30.3725804312, 78.0768027529], [30.4116506777, 78.0849898607], [30.3665219527, 78.070461005], [30.3664883963, 78.070204854], [30.36653902, 78.07051599], [30.366337103, 78.0705069378], [30.3240424, 78.0393741], [30.3240008, 78.0415628], [30.3184614345, 78.0398405716], [30.3234101, 78.0416339], [30.3166487715, 78.049999103], [30.3246487791, 78.0422934517], [30.32546, 78.043408], [30.3158652901, 78.0392877012], [30.3198245998, 78.0771189183], [30.3892433602, 78.094782941], [30.33385, 78.051497], [30.3754701099, 78.0825252458], [30.4009279866, 78.0952945724], [30.348106, 78.062045], [30.3220568505, 78.0030369759], [23.1952344206, 72.6366180182], [27.3265204426, 88.6115471274], [27.3264945287, 88.6120735109], [27.329100484, 88.613618128], [27.3275361438, 88.6127437279], [27.3283898021, 88.613024354], [27.3295844957, 88.6125797778], [27.3285226458, 88.6123732477], [27.3299973188, 88.6142296717], [27.3280031845, 88.6129418761], [27.3293351927, 88.6129049957], [27.3295240316, 88.614124395], [27.3303035098, 88.6143161729], [27.3291874574, 88.613909483], [27.3173524998, 88.6019407958], [27.3199148818, 88.6051510647], [27.3179575038, 88.6023880541], [27.3289721089, 88.6117254943], [27.3291255038, 88.6128982902], [27.3212898813, 88.6070584506], [27.3267102, 88.6117208], [27.3293646802, 88.6123960465], [27.3296095154, 88.6123802885], [27.3252479734, 88.6119434237], [27.3271105036, 88.612148948], [27.329246, 88.611716], [27.3290239355, 88.6119927093], [27.3285598777, 88.6122069508], [27.3284967323, 88.612344414], [27.325430862, 88.6119430885], [27.3250969561, 88.6120436713], [27.3260772247, 88.6119451001], [27.3257552353, 88.611898832], [27.3277616222, 88.6125767604], [27.3264281057, 88.6119870096], [27.3287388887, 88.6123709008], [27.3292071157, 88.6124832183], [27.3298570306, 88.612494953], [27.3290650394, 88.6125009879], [27.3261901144, 88.6119015142], [27.3284919666, 88.6116041243], [27.3276034597, 88.6127269641], [27.3254946048, 88.6120191962], [27.3293709351, 88.6124983057], [27.3272010528, 88.6120926216], [27.3259798237, 88.6118244007], [27.3279483788, 88.61258246], [27.3285062637, 88.6123950407], [27.3261820721, 88.6119739339], [27.3265341442, 88.6121449247], [27.3285670262, 88.6122572422], [27.3268078781, 88.6121201143], [27.3294719074, 88.6119266599], [27.3284988173, 88.6124506965], [27.3258311903, 88.6119290069], [27.3271575653, 88.6118753627], [27.3267727306, 88.6120889336], [27.3262380701, 88.6119427532], [27.3254371171, 88.6118495464], [27.3290555081, 88.6123826355], [27.3255264762, 88.6118347943], [27.3212925621, 88.6069414392], [27.3295207552, 88.6123336852], [27.3269943384, 88.6122079566], [27.3252053788, 88.6120963097], [27.3276344369, 88.6127953604], [27.3284335869, 88.6125844717], [27.334248, 88.618599], [27.3276546913, 88.6130961031], [27.3280690108, 88.6124228686], [27.326965446, 88.6120134965], [27.3270318687, 88.611998409], [27.3254257983, 88.6118515581], [27.3237720457, 88.6115035415], [27.3255103916, 88.6118642986], [27.3291645226, 88.6117533222], [27.3269142141, 88.6121623591], [27.3293045138, 88.6119387299], [27.3254698821, 88.6118978262], [27.3299070697, 88.6120145023], [27.3263986174, 88.6120986566], [28.6466677295, 77.3198122904], [15.5763769502, 73.7557650357], [15.5853099005, 73.7435086817], [15.5806432414, 73.7477257848], [15.588317821, 73.7645801157], [15.5863010272, 73.7599382177], [15.5802221065, 73.7382713333], [15.5832746689, 73.7373204902], [15.5745780409, 73.7407201901], [15.5696540516, 73.7421504781], [15.6290828414, 73.7270409241], [15.6397547, 73.7230492], [15.596967, 73.788323], [15.5557130903, 73.7521366775], [15.5615569561, 73.7495282292], [15.5560173514, 73.7530499697], [15.5609830094, 73.749268055], [15.5528565026, 73.7580801174], [15.5564514556, 73.763843514], [15.5466635402, 73.7605474144], [15.5681661091, 73.7527676672], [15.567714, 73.751637], [15.437886, 73.887102], [15.2572747303, 73.9189720899], [15.3037826504, 73.9142275974], [15.4880910697, 73.816733323], [15.5383316722, 73.7663916126], [15.5335912659, 73.7601481006], [15.545624417, 73.7621225417], [15.532482948, 73.7640617788], [15.5347796887, 73.7576911971], [15.5443953571, 73.7557506189], [15.5159146461, 73.7682507187], [15.5117591171, 73.7652556971], [15.5099150602, 73.780374974], [15.5012867355, 73.7715548649], [15.5105712078, 73.7691050023], [15.5119009421, 73.7661870942], [15.49791375, 73.775575161], [15.509123222, 73.7695519254], [15.5169132141, 73.7681196257], [15.502916346, 73.7714029849], [15.4982840057, 73.7768103182], [15.1575319449, 73.952245228], [15.2880250147, 73.9107903466], [15.2711205814, 73.92809093], [15.4976407425, 73.8255611435], [15.3202744262, 73.8999284059], [15.5956423785, 73.7608008832], [15.6111137666, 73.8239467621], [15.2906895856, 73.9671737328], [15.272346083, 73.9647034183], [15.285218107, 73.9574155211], [15.29721, 73.973158], [15.51315, 73.7834595], [15.0116350273, 74.0215273574], [15.4937653, 73.8253435], [15.499718821, 73.8316051662], [15.4965403087, 73.8269813731], [15.4965945874, 73.8354387134], [15.4700134305, 73.8260985911], [15.4962349906, 73.8253435493], [15.4938143999, 73.8196237385], [15.490228, 73.829597], [15.4535629192, 73.8284532353], [15.4925662919, 73.8176891953], [15.4801222786, 73.8138680533], [15.5004716024, 73.8283221424], [15.5002751687, 73.827146329], [15.4872135258, 73.8127358258], [15.4933885642, 73.8363962621], [15.4984953031, 73.8265518844], [15.4976778974, 73.8323001936], [15.4906913694, 73.815908879], [15.4962588991, 73.8312484324], [15.5387480475, 73.8185196742], [15.5320752819, 73.8248154894], [15.5436918341, 73.8130764663], [15.5994513293, 73.740613237], [15.593133, 73.735589], [15.5997981519, 73.7341913581], [28.4945861, 77.0886758], [28.4936741035, 77.0883342996], [28.4800217297, 77.0902457088], [28.4798731997, 77.0894306526], [28.4822632105, 77.0495059714], [28.469043, 77.063729], [28.4679370709, 77.0641377568], [28.4683517635, 77.0627641305], [28.4679423762, 77.0641444623], [28.4532337385, 77.0505798608], [28.4338061579, 77.1061046049], [28.506851, 77.085383], [26.1612885852, 91.7740610278], [26.1606508102, 91.7738088593], [26.11736, 91.80137], [26.1331232197, 91.7932086065], [26.1616575, 91.7709882813], [26.163211, 91.770154], [26.1575198831, 91.778194271], [26.1796491368, 91.774129048], [26.1802827923, 91.7753554881], [26.1847018466, 91.7749547174], [26.1803294564, 91.7740122662], [26.1597940568, 91.7739905789], [26.1523109183, 91.7811983859], [26.1562441958, 91.7784527689], [26.1570838217, 91.7771495506], [26.1602725395, 91.7734725773], [26.1541685785, 91.7806451395], [26.1554897311, 91.7791645601], [26.1535636723, 91.7805184051], [26.160747409, 91.771777086], [26.1388243572, 91.7949848995], [26.1350658697, 91.7925132438], [26.1612704253, 91.7722789943], [26.1813274438, 91.7365982383], [26.1513260936, 91.7914581299], [26.148693009, 91.7867290601], [26.1533855102, 91.7814296857], [26.1520203946, 91.7843033373], [26.1242550665, 91.7868232727], [26.1371472446, 91.7857336253], [26.1446546345, 91.7758875713], [26.123156321, 91.8054639548], [26.1336051348, 91.8249924166], [26.1591807535, 91.6974611208], [26.15911399, 91.68725803], [26.17324, 91.74905], [26.1799698764, 91.7513369769], [26.1849036193, 91.7643228918], [26.1847354338, 91.7672589049], [26.1843888325, 91.767093949], [26.1847856789, 91.7659674212], [26.1330681363, 91.8064728007], [26.1362602192, 91.8024447933], [26.1376733765, 91.7996264622], [26.1313516, 91.8044127], [26.13347419, 91.80589378], [26.1374419149, 91.800172627], [26.136911, 91.811354], [26.1362776769, 91.802456528], [26.16693588, 91.76721096], [26.172261651, 91.7597292736], [26.1725520201, 91.7599287629], [26.1715984635, 91.7609640956], [26.1700003586, 91.7628339306], [26.1684151709, 91.7640660703], [26.1797556489, 91.7599679902], [26.172957031, 91.7602211237], [26.1799286557, 91.7563205212], [26.1857204739, 91.7521034181], [26.1858534567, 91.7522613332], [26.1913859474, 91.7533992603], [26.1913594725, 91.7533647269], [26.1916371582, 91.7522958666], [26.1857598874, 91.7531193048], [26.1853200203, 91.7548989505], [26.1883891265, 91.7540359497], [26.1860216406, 91.7567718029], [26.1856633093, 91.752842702], [26.177648857, 91.7758413032], [26.173528738, 91.7770110816], [26.1741825868, 91.7769091576], [26.1801281933, 91.7746446402], [26.1727668626, 91.7831382528], [26.170665, 91.777826], [26.17451387, 91.77699566], [26.1748331221, 91.7773433402], [26.1723055826, 91.7848572135], [26.1791179785, 91.7754119895], [26.1674862553, 91.7790099978], [26.17186, 91.77786], [17.4103239495, 78.4372832626], [17.4234409915, 78.4315657988], [17.4110040895, 78.4498893097], [17.4249675143, 78.4219681844], [17.4152633847, 78.4502943233], [17.4115409057, 78.4349339828], [17.3480029903, 78.4709231928], [17.3680703309, 78.5256278515], [17.4145906185, 78.4093198925], [17.4429879633, 78.3574000373], [17.4347985, 78.3687073], [17.440206451, 78.362037912], [17.4423220163, 78.3564847335], [17.410998651, 78.3320394158], [17.4482700332, 78.3632445708], [17.4287722496, 78.3740337566], [17.445545, 78.355838], [17.4488433982, 78.3563490934], [17.4262166815, 78.3760973811], [17.4268087934, 78.3762006462], [17.4414033765, 78.3762160689], [17.4416244007, 78.3767417818], [17.4480602118, 78.3789908141], [17.4512945042, 78.3815808222], [17.4503826264, 78.3790816739], [17.4241284401, 78.3475352079], [17.4383355594, 78.3978172392], [17.4346023552, 78.402358219], [17.429147, 78.403548], [17.428555, 78.409032], [17.4256095329, 78.4085356817], [17.4300293, 78.4172568], [17.4307129732, 78.4079207852], [17.4225616036, 78.4109959379], [17.4299874834, 78.4114425257], [17.4225110603, 78.4109925851], [17.4256095329, 78.4085356817], [17.4404207594, 78.3973937854], [17.4381957775, 78.4005628154], [17.4313812017, 78.4084444866], [17.458008868, 78.3731368929], [17.4684466168, 78.3758476004], [17.4599332889, 78.3685187995], [17.4574664, 78.3668451], [17.4975815782, 78.3975714818], [17.49562, 78.399529], [17.4930386516, 78.4042890742], [17.4786362452, 78.4188695624], [17.4910723705, 78.4074825794], [17.490073, 78.396579], [17.3450190542, 78.5526809469], [17.3439447101, 78.5485593975], [17.4962292964, 78.3157178387], [17.4465809006, 78.3841379732], [17.4409146275, 78.3923425153], [17.4435713846, 78.3952973038], [17.369444, 78.515444], [17.403581277, 78.4523663297], [17.4994182863, 78.4776669368], [17.4739316641, 78.4250326082], [17.4137703713, 78.4976400062], [17.4183725371, 78.4969067574], [17.3656856362, 78.5574144724], [17.4059416886, 78.498460427], [17.3985394663, 78.4934926406], [17.4987311218, 78.3900022879], [17.3440788033, 78.5073214396], [17.3632131409, 78.5032635927], [17.4522892167, 78.3626819775], [17.4298844815, 78.428273052], [17.3988645216, 78.4164763615], [17.3962992568, 78.4249310195], [17.4362055536, 78.4361439943], [17.4368404956, 78.4283448011], [17.4299379018, 78.4259834513], [22.7498343657, 75.9029554948], [22.7498343657, 75.9029561654], [22.7244915396, 75.8844958618], [22.7237620177, 75.8846755698], [22.7243854669, 75.8847332373], [22.7241872376, 75.8847325668], [22.6885074676, 75.8368142322], [22.7556232514, 75.895200558], [22.6928002952, 75.8667906001], [22.6930786841, 75.8671084419], [22.7359203112, 75.8997180685], [22.736168, 75.891325], [22.7320478464, 75.8913002908], [22.734325, 75.873076], [22.7151889935, 75.8749934658], [22.7151710558, 75.87460991], [22.7531445389, 75.8842900023], [22.753449704, 75.9033893421], [22.7534756755, 75.9034540504], [22.7535344204, 75.9032548964], [22.7410539487, 75.9025350586], [22.7337217121, 75.9022071585], [22.7330806793, 75.9140504524], [22.7410455999, 75.8950724825], [22.7447041501, 75.8938849345], [22.708382, 75.855372], [22.7774628541, 75.8592908084], [22.7272054877, 75.8840824664], [22.7271634306, 75.8852502331], [22.7253889792, 75.8835497126], [22.7267546099, 75.8841897547], [22.723854, 75.887038], [22.72548, 75.89453], [22.731403095, 75.8866255358], [22.7256410158, 75.8922290057], [22.726221162, 75.8943841606], [22.7227117962, 75.8871680126], [22.7262050813, 75.8943573385], [22.7250772572, 75.8902944624], [22.7232090752, 75.8967927843], [22.7257007004, 75.8878010139], [22.6206163493, 75.8006513491], [22.7190068869, 75.8721975982], [22.7138782981, 75.8744194731], [22.6997425255, 75.8667198569], [22.6997174718, 75.8668683842], [22.700473722, 75.8684498817], [22.6968996684, 75.8611908183], [22.6985448891, 75.8644185215], [22.69919, 75.86715], [22.7180388932, 75.853584744], [22.715285486, 75.8684934676], [22.7138581953, 75.8693259582], [22.714158809, 75.8689762652], [22.7518539952, 75.8901127428], [22.751855232, 75.8901127428], [22.7197246823, 75.8767972514], [22.6959912161, 75.8310350776], [22.6846580993, 75.8289499953], [22.6963314611, 75.8348568901], [22.6863693554, 75.8292691782], [22.7555951161, 75.8953252807], [22.7523298344, 75.8905338496], [22.7490561264, 75.8930246159], [22.7446973476, 75.8943868428], [22.7494840504, 75.8952780068], [22.7494061337, 75.8951734006], [22.7449592431, 75.8921968192], [22.7615908988, 75.8863281459], [22.7481897618, 75.8955814317], [22.7600428972, 75.8924851567], [22.7477083426, 75.8948478475], [22.7560610485, 75.8940552548], [22.7442922898, 75.8919198811], [22.7537542501, 75.9024666622], [22.7627722159, 75.887022838], [22.7569607542, 75.889201127], [22.7567124855, 75.8874583617], [22.7323576971, 75.875107795], [22.7212378852, 75.8740898967], [26.899520416, 75.8324080333], [26.895313412, 75.7505560666], [26.8983097598, 75.7936139032], [26.9293784633, 75.7885492221], [26.8910781433, 75.805631876], [26.9140906279, 75.8056875318], [26.9136771639, 75.8098241687], [26.9159920045, 75.8064167574], [26.891486, 75.803683], [26.9099854507, 75.7970520286], [26.91517, 75.80952], [26.9078290128, 75.8018509671], [26.9122947542, 75.8005742356], [26.913193442, 75.8029610664], [26.9051121698, 75.7945483178], [26.9058973014, 75.8020528033], [26.9108055954, 75.8054454625], [26.7667997706, 75.8369024098], [26.9101819427, 75.7830423117], [26.9049865961, 75.7448027283], [26.8499270159, 75.7993648946], [26.8499644072, 75.7993870229], [26.8408396534, 75.8085400611], [26.9147686697, 75.7938368618], [26.8562504659, 75.8061136678], [26.9028235, 75.7931065], [26.8460735464, 75.802189596], [26.899776, 75.7930234], [26.9195244142, 75.825785324], [26.8902402804, 75.794582516], [26.8911220995, 75.8020072058], [26.8548449198, 75.8134692907], [26.8476464191, 75.8057103306], [26.8496488238, 75.8006007224], [26.8594189379, 75.8081363887], [26.8492871731, 75.8020725846], [26.8530711369, 75.8069441468], [26.8447369762, 75.8216037601], [26.854534435, 75.8081997558], [26.8587223184, 75.8099099994], [26.8491782888, 75.8008106053], [26.8481956331, 75.8042455092], [26.9119249329, 75.7973666489], [26.911915067, 75.7973757014], [26.8480275189, 75.7703752443], [26.8518680595, 75.7676870003], [26.8801289209, 75.7673436776], [26.9168509021, 75.8040456846], [26.9167298257, 75.8079318702], [26.9206185538, 75.7980023324], [26.9197288935, 75.7946928218], [26.8941909198, 75.8260129765], [26.8964547306, 75.8250782266], [26.9218953357, 75.8312878758], [26.9353331034, 75.7943914086], [26.8886533475, 75.751141794], [26.9278632246, 75.8090858907], [26.9271347429, 75.8087680489], [26.9213632204, 75.7967913151], [26.91090874, 75.7954475284], [26.8923017348, 75.8068837971], [26.8395102013, 75.7941966131], [26.8810443123, 75.7980211079], [26.8393914353, 75.7947300375], [26.8934218537, 75.8078178763], [26.8646047151, 75.796658881], [26.8402766425, 75.7936323434], [26.8882568351, 75.8036034554], [26.8394366083, 75.7944634929], [26.8832270469, 75.7995137572], [26.9412566436, 75.7704402879], [26.9118211913, 75.7464848086], [26.9033849209, 75.7531440631], [26.911455255, 75.7504098862], [26.9117063879, 75.7491123676], [26.9573, 75.77785], [26.9575736126, 75.7782146707], [26.9530011784, 75.777314119], [26.8531761288, 75.8051078394], [26.8534351684, 75.8051651716], [26.4833169061, 80.3196273744], [26.4692461536, 80.3155668452], [26.468004, 80.31229], [26.4733482, 80.3143467], [26.4682197031, 80.3156312183], [26.509155, 80.288753], [26.4393, 80.301031], [26.4317858895, 80.2997518703], [26.4646618708, 80.3376249969], [26.4574984509, 80.3495534509], [26.4473808, 80.3026428], [26.5173008, 80.2400925], [26.4960467752, 80.2498892695], [26.429692, 80.401546], [26.4804084, 80.2978412], [26.475843, 80.293961], [26.4764820696, 80.294906795], [26.4814731158, 80.2867797017], [26.433118, 80.323634], [26.424124, 80.323199], [26.425812398, 80.3199673444], [26.4353420356, 80.3301272169], [26.4233143444, 80.3215240315], [26.438069, 80.335824], [26.4256709832, 80.3273903579], [26.43796, 80.33568], [26.4333548705, 80.3333384916], [26.4670212656, 80.308365114], [26.4683388559, 80.3039572388], [26.473164, 80.303163], [26.4663375533, 80.3053761274], [26.468776, 80.309818], [26.4688376754, 80.3039314225], [26.4671638889, 80.30835], [26.4206937319, 80.3918247297], [26.474895069, 80.3453497589], [26.4623708616, 80.3594115749], [26.4775828733, 80.3505190462], [26.4669189191, 80.3593347967], [26.447810947, 80.3007975966], [26.4502109112, 80.2981931716], [26.4497360254, 80.2974133193], [26.4476794653, 80.304749161], [26.4476635554, 80.3050153703], [26.4748674583, 80.3451770917], [26.469377, 80.248486], [26.474994, 80.34273], [26.4726216705, 80.3474522755], [26.492136621, 80.3275774419], [26.48152, 80.29773], [26.4834861588, 80.2995463461], [26.43610639, 80.3153653443], [26.4663231467, 80.3053603694], [26.4831488535, 80.3194342554], [26.482636, 80.318944], [26.482824149, 80.318989895], [26.4833283096, 80.3141623735], [26.4825248, 80.3105713], [26.4793784093, 80.3105366975], [26.483709, 80.319744], [26.4825861757, 80.3156945854], [26.4828436574, 80.317838341], [26.4811379053, 80.3176546097], [26.482546563, 80.3164137527], [26.4820195938, 80.3174477443], [26.481806, 80.317615], [26.4852909, 80.3213125], [26.4821285, 80.3152869], [26.4834774561, 80.320280157], [26.4822329626, 80.314614661], [26.4830351178, 80.3127340972], [26.454646, 80.362797], [26.4850664389, 80.3247795627], [26.4616568065, 80.2935093641], [26.4733722721, 80.3528133407], [26.473179295, 80.3522557765], [26.4731934007, 80.3527932242], [26.4731426804, 80.3526852652], [26.4740415369, 80.3527680784], [26.4742014, 80.343399], [9.9805947927, 76.2847498432], [10.02684953, 76.307902], [10.030039806, 76.3049542531], [10.0206833333, 76.3106305556], [10.0273137298, 76.3096407428], [10.0281658581, 76.3098040223], [10.026852, 76.311435], [10.02686406, 76.30801197], [10.02662463, 76.30831455], [10.0175675, 76.3034960938], [10.0292381961, 76.3105319068], [9.970905, 76.299295], [9.9721362226, 76.3024296239], [9.9667833333, 76.2429805556], [9.965649, 76.239974], [9.9686, 76.2500694444], [9.962774, 76.295633], [9.977601, 76.316511], [9.970719285, 76.2851531804], [9.9580474743, 76.2961264327], [9.982933, 76.282294], [9.98555, 76.2769472222], [9.9856366115, 76.2808056548], [9.985812, 76.28084], [9.985496938, 76.27699893], [10.0149815555, 76.364405416], [10.0122160625, 76.3578138873], [10.01317752, 76.34143397], [10.0007510332, 76.3494742289], [10.0007059388, 76.3495161481], [10.001809264, 76.3585343957], [10.0167166667, 76.3449555556], [10.02491111, 76.33840278], [10.01194444, 76.32488333], [10.0167921879, 76.3690912351], [10.0354826455, 76.337203458], [10.0142583333, 76.3344277778], [10.0283599885, 76.3366143778], [10.0113255925, 76.3419667259], [10.0115705793, 76.3420988247], [10.00688056, 76.34539722], [10.0134425, 76.3313554687], [9.9790203847, 76.2966135889], [9.9884833333, 76.2952111111], [10.0047138506, 76.2950974703], [9.9850782477, 76.2957237661], [9.992963603, 76.2926362082], [10.004012, 76.295443], [10.0013916667, 76.3013], [10.029367, 76.307672], [10.02736389, 76.30825833], [10.0271166776, 0.0], [10.02701389, 76.30805278], [10.0278164732, 76.3079808044], [9.957171, 76.259611], [9.9627083333, 76.2547916667], [9.975469, 76.283456], [9.97793038, 76.2829383463], [9.9801388889, 76.2836], [10.00306395, 76.30758885], [10.00041, 76.31018], [10.002982, 76.306913], [10.0043311744, 76.3054481149], [10.0111034865, 76.3033791937], [10.010175935, 76.3124758378], [9.9615603896, 76.2886028364], [9.966285, 76.285242], [9.9568659268, 76.2967051193], [9.9607265793, 76.2939793244], [9.9557758481, 76.2958551943], [9.9600436787, 76.2958769873], [9.9632461661, 76.2937915697], [9.9568659268, 76.2967051193], [9.9639353341, 76.295081377], [9.9625972836, 76.2952761725], [9.96011, 76.28905], [9.9566416667, 76.291175], [9.9668746012, 76.2864101306], [9.908412, 76.361801], [9.9791861111, 76.3173611111], [22.5148263024, 88.3933708817], [22.5148275413, 88.3934000507], [22.5148625398, 88.3934080973], [22.577147413, 88.4283797443], [22.4867397595, 88.3744535968], [22.5262923376, 88.3645140007], [22.5387496007, 88.3653414622], [22.5364388394, 88.3649119735], [22.5404211779, 88.3654876426], [22.5760090763, 88.3572820947], [22.7605403496, 88.3697382733], [22.7609567984, 88.36844109], [22.4895457584, 88.3169416711], [22.5002438433, 88.3176584914], [22.5345699497, 88.353404291], [22.5443541664, 88.3521000668], [22.5422915368, 88.3518030122], [22.6221736638, 88.4458234906], [22.5419691804, 88.3489196375], [22.5879408661, 88.4088371694], [22.5877901116, 88.4081216902], [22.587950772, 88.4088110179], [22.5187392689, 88.3504897356], [22.6155351477, 88.4123981372], [22.5367416994, 88.351204209], [22.5380166148, 88.348826766], [22.5443538567, 88.352099061], [22.5384064882, 88.3514405787], [22.5154376914, 88.3678144589], [22.5247627413, 88.3525935933], [22.5233117926, 88.3480750769], [22.5185051259, 88.3656740561], [22.5066181282, 88.3626481891], [22.5485846127, 88.3998641744], [22.5842477962, 88.3914899826], [22.5619799, 88.3938166], [22.5999004087, 88.4326890484], [22.5389595554, 88.3224412054], [22.5021658548, 88.3597731963], [22.5778164174, 88.4002004564], [22.5777826732, 88.4004006162], [22.5854835771, 88.3683931455], [22.463514, 88.362246], [22.541920254, 88.36284969], [22.5510487523, 88.3542109653], [22.5522098986, 88.3533325419], [22.5514853445, 88.3538582549], [22.5506418844, 88.3545150608], [22.5517956027, 88.3534673229], [22.5527511443, 88.3525563776], [22.5528579688, 88.3525238559], [22.5529654125, 88.3531799912], [22.552630386, 88.3527230099], [22.5298153925, 88.3791622147], [22.502114, 88.354073], [22.538751149, 88.365656957], [22.5386972668, 88.3656341583], [22.5690940286, 88.4333069623], [22.5258711506, 88.3959387615], [22.5228230812, 88.3968684822], [22.5953683, 88.4189997], [22.5934022801, 88.4061757475], [22.5919882704, 88.4118613601], [22.5922526245, 88.4244231507], [22.5723497417, 88.4326260164], [22.5721673916, 88.4335758537], [22.5742592949, 88.4439241514], [22.5690649262, 88.4341226891], [22.5694649287, 88.4327363223], [22.5689460398, 88.4341642633], [22.569367405, 88.4334300086], [22.5831689553, 88.434140794], [22.50165043, 88.3611277118], [22.5140594297, 88.3535930514], [22.5141061979, 88.3625583351], [22.5155823306, 88.3520068601], [22.5447660073, 88.354701139], [22.542956, 88.385559], [22.5415734335, 88.3841856569], [22.5535103709, 88.356740959], [26.80991324, 80.90055523], [26.8140881585, 80.9023584053], [26.7979348134, 80.9027627483], [26.91135, 80.94414], [26.9088516235, 80.9565353394], [26.9092993755, 80.9581017494], [26.8832994152, 80.9465672448], [26.8969645377, 80.943409279], [26.8859913649, 80.941603817], [26.8943885677, 80.9430082887], [26.876561186, 80.9373558685], [26.9007791977, 80.9459402785], [26.8968993543, 80.9436402842], [26.8816289508, 80.9469223022], [26.8477080413, 80.9272057191], [26.8483496878, 80.9274075553], [26.848224051, 80.9273431823], [26.8484295568, 80.927518867], [26.8419088279, 80.9268724546], [26.8528665368, 81.0011756793], [26.8606970097, 80.9065087885], [26.8596094681, 80.906341821], [26.86599958, 80.90883673], [26.8628813335, 80.9099933133], [26.8595828477, 80.9061611071], [26.8655447576, 80.9106893465], [26.86241, 81.020348], [26.8655059, 81.0121487], [26.8496383542, 80.999061428], [26.8659036645, 81.0080652684], [26.8679939757, 81.010136269], [26.8534100422, 80.9987781197], [26.854140495, 81.0005631298], [26.85392, 80.99498], [26.8563022127, 80.9847934172], [26.8530190895, 81.0006248206], [26.8588542248, 80.9944657981], [26.8517403327, 81.0212526843], [26.8621452543, 81.0232603177], [26.8595954102, 81.0024889559], [26.86742452, 81.0151546821], [26.8656084637, 80.9966933727], [26.86078533, 80.99538061], [26.8581599946, 80.9944537282], [26.8652989057, 80.9960761294], [26.8530783158, 81.000575535], [26.8502928524, 81.0074104741], [26.8680214914, 81.0104091838], [26.870045, 80.99721], [26.8652890357, 81.0117978975], [26.8662864974, 81.0069256649], [26.852028989, 81.0049911216], [26.8569803021, 80.9980995208], [26.8471800637, 80.9454822913], [26.8518282758, 80.9413547069], [26.850032609, 80.9432359412], [26.8508363701, 80.9406486154], [26.8336543233, 80.9477511048], [26.8534507228, 80.94648242], [26.848201915, 80.9438967705], [26.8514124901, 80.9413345903], [26.8581991779, 80.9551352262], [26.87145, 80.98373], [26.8909660099, 81.002317965], [26.8723634956, 80.9807335585], [26.871163, 80.975536], [26.8850365405, 80.9953827783], [26.8738809744, 80.9916970879], [26.8525909, 80.9368054], [26.8505300621, 80.9410009906], [26.8476948793, 80.9407374635], [26.8441877454, 80.9402995929], [26.8475545841, 80.9407478571], [26.8477726548, 80.9402459487], [26.8734257927, 80.9569302946], [26.8728603, 80.9385064], [26.8533499187, 80.968628414], [26.8561185565, 80.9450923651], [26.8556190342, 80.9457327425], [26.8551784357, 80.9460861236], [30.9014634956, 75.833777301], [30.87386194, 75.84243353], [30.8927707204, 75.8047061786], [30.8978665115, 75.8215413988], [30.8877885976, 75.8140570298], [30.89043, 75.80041], [30.8850367526, 75.7980227843], [30.8876674651, 75.8045599982], [30.9053437025, 75.8329196647], [30.9162674467, 75.8339553326], [30.2458, 75.80845], [30.9140180772, 75.8398203179], [30.916585, 75.832257317], [30.9119360689, 75.8218414709], [30.9077506291, 75.8352847025], [30.8751232406, 75.839892067], [30.8657382408, 75.8429098874], [30.8739566406, 75.8427073807], [30.8674897, 75.8479481], [30.8748743, 75.8399645], [30.8735304569, 75.8436438069], [30.8893783, 75.8578635], [30.8768361, 75.856846], [30.8893783, 75.8578635], [30.8982764761, 75.8225073293], [30.8952789469, 75.8221261203], [30.9009732803, 75.8321907744], [30.9011142462, 75.834181644], [30.9012376632, 75.8323181793], [30.9172960411, 75.857468918], [30.9011142462, 75.834181644], [30.8894110672, 75.8582605049], [30.8805084229, 75.8589324951], [30.8894103411, 75.8585778038], [30.8894184203, 75.8585707485], [30.8836666667, 75.8586666667], [30.9015431841, 75.866558589], [30.9200538619, 75.8490276709], [30.9139746426, 75.84949404], [30.9145798493, 75.8508529142], [30.9110808733, 75.8513367176], [30.9175845402, 75.8487507328], [30.924311, 75.8682252], [30.8929355784, 75.8215179294], [30.89265981, 75.82217941], [30.8927031085, 75.8216815442], [30.8930365645, 75.8218535408], [30.8896058537, 75.8307256177], [30.891404374, 75.8412861452], [30.8908700867, 75.8387511224], [30.890367733, 75.8381476253], [30.8903101895, 75.8295729384], [30.892537387, 75.8448179439], [30.8853282263, 75.8329092711], [30.8909385631, 75.8388453349], [30.8882106897, 75.8456226066], [30.8858872895, 75.8311470598], [30.884976904, 75.8327691257], [30.8923063547, 75.829215534], [30.8954512807, 75.8301388845], [30.9161032043, 75.8132949471], [30.912197113, 75.8197021484], [30.915996202, 75.840790607], [30.9161572806, 75.8407805488], [30.9160801931, 75.8408616856], [30.9122173929, 75.8793282509], [30.9116587712, 75.877221711], [30.8926139181, 75.8220161498], [30.8935371779, 75.8210254088], [30.89397, 75.823959], [30.892915, 75.821644], [30.8913738763, 75.8277409896], [30.8946905927, 75.8224255219], [30.8939264461, 75.8236824721], [30.8926487312, 75.8222149685], [30.8924294953, 75.8172062784], [30.8919170799, 75.8228684217], [30.90573, 75.89461], [30.9053071681, 75.8947368711], [30.8903104772, 75.8295709267], [12.905752953, 74.8361417279], [12.8649311484, 74.8453712091], [12.8725873981, 74.8495594785], [12.8737355708, 74.8524714129], [12.8738264831, 74.8531046882], [12.8735267631, 74.8526701704], [12.8723353967, 74.8491544649], [12.8734130197, 74.8515832052], [12.8732430582, 74.8526225612], [12.8732100465, 74.8511560634], [12.873744771, 74.8530557379], [12.8705435972, 74.8467049375], [12.8735803662, 74.8484285921], [12.8721389596, 74.8483900353], [12.8705913176, 74.8473362625], [12.8736359305, 74.8527563363], [12.8721870066, 74.8521813378], [12.8680588514, 74.8470750824], [12.8709138889, 74.8568277778], [12.8860310289, 74.8409358412], [12.8860676342, 74.8408791795], [12.8692986125, 74.8346745595], [12.8617916394, 74.833532609], [12.8624525, 74.8330217], [12.8637554306, 74.8332881927], [12.8713538634, 74.8422829807], [12.8709805987, 74.8421820626], [12.8713383, 74.8422822], [12.8713476533, 74.8429082707], [12.8738127555, 74.8492597416], [12.8699214, 74.8403872], [12.867696, 74.841413], [12.8723883464, 74.8450024053], [12.8701147662, 74.8439348862], [12.8708658736, 74.8421394825], [12.8696061822, 74.8452887312], [12.8679366073, 74.8496677727], [12.8684154509, 74.8479303718], [12.8724582924, 74.8426001519], [12.8669386, 74.8406673], [12.8777015668, 74.8417586088], [12.8802019053, 74.8593857512], [12.885679, 74.84626], [12.878694, 74.852148], [12.8857182157, 74.8438057248], [12.888005, 74.856655], [12.8883858453, 74.8522406816], [12.8781372485, 74.8511711508], [12.8688207512, 74.8581103608], [12.8702236083, 74.856601283], [12.8746772679, 74.855370149], [12.8670913563, 74.859562777], [12.8712100487, 74.8566555977], [12.8688759897, 74.8580302298], [12.8625355807, 74.856171459], [12.8622842229, 74.8563561961], [12.8703497735, 74.857009314], [12.8700647576, 74.8573694006], [12.8709881163, 74.8555568978], [12.8924796759, 74.8415252566], [12.8990284891, 74.8594682291], [12.87573527, 74.8401556537], [12.87751074, 74.8422137884], [12.8812317761, 74.8344009742], [12.871546, 74.842281], [12.875178651, 74.8409650102], [12.8795626055, 74.840294458], [12.8859300377, 74.8327671736], [12.881440299, 74.8396386579], [12.8780378883, 74.8465922847], [12.869552905, 74.8414749652], [12.8864549302, 74.8383005708], [12.8822485691, 74.8399611935], [12.8882766843, 74.8415691778], [12.8822485691, 74.8394244165], [12.8712276987, 74.8470841348], [12.881985138, 74.8399839923], [12.8860973759, 74.8408399522], [12.8747527696, 74.8405673727], [12.8748547458, 74.8404654488], [30.7416368853, 76.6703898087], [30.7405288904, 76.6753217205], [30.6879549535, 76.7375774682], [30.6871946404, 76.7380931228], [30.6873053576, 76.7380190268], [30.7120875313, 76.7192093655], [30.7102219475, 76.7209967226], [30.7102219475, 76.7218503356], [30.7116785011, 76.719779335], [30.709909476, 76.721675992], [30.7193947264, 76.7129611596], [30.7146272847, 76.7178722844], [30.7144647148, 76.7179842666], [30.6861188894, 76.7276160792], [30.6803238712, 76.7246696725], [30.6977767944, 76.7207336426], [19.1387399905, 72.8333986178], [19.1414535189, 72.8253925592], [19.1267929038, 72.8299902007], [19.0608176735, 72.8514887765], [19.0610658011, 72.8626300022], [19.0722111972, 72.8703423589], [19.0721145512, 72.8703638166], [19.0603207833, 72.8642691672], [19.0638091236, 72.8620258346], [19.223816209, 72.8410281613], [19.2544947901, 72.8490684181], [19.2530691695, 72.8490285203], [19.2209859506, 72.8525807709], [19.2302154526, 72.8475184366], [19.240042716, 72.8427853435], [18.9756636068, 72.8338257596], [19.0530957434, 72.8976338357], [18.9218060978, 72.8324722499], [18.917893585, 72.8247018903], [19.0168190652, 72.8458152339], [19.0201932591, 72.8413010761], [19.0695969828, 72.8698337451], [19.0059197451, 72.8265606612], [18.9308556528, 72.8341888636], [18.9383752209, 72.8332594782], [19.1348680596, 72.8328514472], [19.1349266587, 72.8327887505], [19.1755197532, 72.8696376085], [19.1649149519, 72.8348942846], [19.1739756438, 72.8385974094], [18.9942671052, 72.8248722106], [19.0546412991, 72.8282702342], [19.1733771234, 72.8357167169], [19.109435352, 72.825678885], [19.1094489745, 72.8253016993], [19.1035538417, 72.8267236054], [19.0914800125, 72.8278166056], [19.1061288697, 72.8258254007], [19.0041423248, 72.8275450319], [19.005932742, 72.8264416382], [19.0636503627, 72.8349975497], [19.0600564929, 72.8361049667], [19.0604659211, 72.8364717588], [19.001072133, 72.8296998516], [19.0060598584, 72.8274960816], [19.0000260041, 72.8306587413], [18.9897837377, 72.8217702359], [19.0399511252, 72.8412916884], [19.1781877095, 72.8346662968], [19.174948, 72.837647], [19.1096891092, 72.8758351877], [19.120775, 72.87541], [19.1029, 72.8781], [19.1488197616, 72.8324913606], [19.1504822439, 72.8322167695], [19.0654452085, 72.8298346326], [19.0603065231, 72.829595916], [19.1096501428, 72.8759578988], [19.119822, 72.907306], [19.1199303107, 72.9073313624], [19.1194038204, 72.9055235535], [19.1132904553, 72.9093738645], [19.1149767377, 72.8889169917], [19.0995432699, 72.9159365594], [19.0999120476, 72.9163942114], [19.1094062064, 72.8257714212], [19.1079926352, 72.8878625482], [19.0758672258, 72.8339746222], [19.04494941, 72.863172479], [19.1029544323, 72.8886571527], [19.102875229, 72.8886343539], [19.1076055008, 72.883403711], [19.1402052443, 72.8332450613], [19.1359355103, 72.8330935165], [19.126324404, 72.820562236], [19.093064, 72.922001], [12.3420410286, 76.6547599062], [12.321400739, 76.6466328129], [12.3481667049, 76.6594581306], [12.3300778113, 76.6447623074], [12.2994180403, 76.6427057236], [12.313347, 76.6449007764], [12.2973686869, 76.6564175114], [12.2969687074, 76.6423365846], [12.3110056273, 76.6549386084], [12.3045462674, 76.6436562315], [12.2955745069, 76.6411691532], [12.3083719808, 76.6658193246], [12.3083687051, 76.6596884653], [12.3275963375, 76.6313723847], [12.3226185795, 76.6352602467], [12.3236179382, 76.6280383989], [12.3266939478, 76.6271971911], [12.3240794566, 76.6263603419], [12.3216489123, 76.6285448152], [12.3238580327, 76.6304684803], [12.3229890404, 76.6306934506], [12.3236402117, 76.6259851679], [12.3237643533, 76.6278885305], [12.3269635186, 76.6274060681], [12.3239264907, 76.6261383891], [12.3249664605, 76.6287253797], [12.3300457122, 76.6295276955], [12.3239281285, 76.6278560087], [12.3253251263, 76.630878523], [12.325403738, 76.6323312745], [12.3226814694, 76.6347341985], [12.3256032148, 76.6257712618], [12.3279084883, 76.6285480186], [12.3211020101, 76.6210706905], [12.2883511458, 76.6495574266], [12.2919179713, 76.6721463203], [12.2983101598, 76.6651450843], [12.3210584455, 76.6209640726], [12.3228121626, 76.6350047663], [12.321218, 76.619405], [12.3248236492, 76.6228037328], [12.3253306947, 76.6223055124], [12.3246297401, 76.623943001], [12.32513, 76.63116], [12.3248521459, 76.6226263717], [12.323063067, 76.630022563], [12.3224417014, 76.6225690395], [12.321814111, 76.6271455586], [12.3213181955, 76.6216601059], [12.299787, 76.627808], [12.3010549564, 76.6338507459], [12.2847734612, 76.6258510575], [12.2947165589, 76.625646539], [12.2884438551, 76.6311256215], [12.27241, 76.61239], [12.2944852826, 76.625486277], [12.2977614591, 76.6643659025], [12.31022, 76.65559], [12.3176960843, 76.6496942192], [12.3085406791, 76.6584650427], [12.3110865362, 76.6590829566], [12.3110410045, 76.6591302305], [12.3260801244, 76.6169270128], [12.3379017026, 76.6157277301], [12.3378671, 76.61135594], [12.3378604335, 76.6158799455], [12.3377972197, 76.6175214574], [12.3443667915, 76.6140795127], [12.3521358885, 76.6067892686], [12.3166724637, 76.6031454876], [12.3378470047, 76.6155570745], [12.351151, 76.612784], [12.337780188, 76.6179113835], [12.3337747576, 76.6179650277], [12.3378980998, 76.6168160364], [12.3258475656, 76.6144054011], [12.353079, 76.617298], [12.3576865526, 76.6015532613], [12.3152216997, 76.6451425105], [12.33200965, 76.6410776228], [21.1169263459, 79.1044847667], [21.11925265, 79.10440564], [21.1246419685, 79.0587702021], [21.1233884808, 79.0572812408], [21.1269027856, 79.0581509471], [21.1241450156, 79.0642217919], [21.1257963062, 79.0614074841], [21.1257343831, 79.0638788044], [21.1221512455, 79.0568024665], [21.1257919278, 79.0614902973], [21.1254504124, 79.0586857125], [21.1324744628, 79.0620354563], [21.1501278782, 79.0677653253], [21.1495262589, 79.0748691559], [21.1480791105, 79.0705668926], [21.1579934197, 79.076702781], [21.1494749773, 79.0746086463], [21.1573927704, 79.0774853155], [21.1528288813, 79.0679158643], [21.1385331426, 79.0803707018], [21.1378273414, 79.0821325779], [21.1345347044, 79.0583574772], [21.1422813069, 79.0611144528], [21.1392004767, 79.0601699799], [21.137021154, 79.0627100319], [21.1391585729, 79.0594263375], [21.136124586, 79.0608874708], [21.1386022528, 79.0659464523], [21.1344483925, 79.0613082424], [21.1365817832, 79.0602055192], [21.1390312981, 79.0595996752], [21.1375327614, 79.0583397076], [21.1408697367, 79.0664175153], [21.1455997259, 79.0635368228], [21.1477145069, 79.1037914157], [21.1187322191, 79.0421167016], [21.1178339767, 79.0469074622], [21.1174746156, 79.0468648821], [21.147042208, 79.0570569411], [21.143590609, 79.0564956889], [21.144897398, 79.0576637909], [21.1233087301, 79.0386053547], [21.1182884155, 79.0183687583], [21.1180585378, 79.0343564004], [21.1220267708, 79.032549262], [21.1210769441, 79.0310167149], [21.1188676431, 79.0187382326], [21.1232671346, 79.0430353582], [21.14864384, 79.12445247], [21.1572617591, 79.0968699753], [21.1128300536, 79.0471582487], [21.1210957093, 79.0561181679], [21.1130693225, 79.0472983941], [21.1154929536, 79.039045237], [21.1127868914, 79.0456424654], [21.1123502637, 79.0634747967], [21.1130868376, 79.0512787923], [21.1132626139, 79.0417874604], [21.1330358096, 79.0717705339], [21.1472057489, 79.0570341423], [21.1589255001, 79.0801396966], [21.165104, 79.080971], [21.1603268928, 79.0795227885], [21.1589548914, 79.0799013153], [21.15928351, 79.0797514468], [21.1598716448, 79.0799663588], [21.1623267152, 79.0762649104], [21.1712108406, 79.0795234591], [21.157952772, 79.0755859762], [21.1717323345, 79.0794265643], [21.1613771469, 79.0797383711], [21.165104, 79.080971], [21.1711420583, 79.0799197555], [21.1586337762, 79.0816135705], [21.143345448, 79.0801795945], [21.1417928563, 79.0822640061], [21.1432075447, 79.0803049877], [21.1432616429, 79.0802617371], [21.098571435, 79.0670260414], [21.14740806, 79.13591087], [20.0125145871, 73.7466217205], [20.0135463117, 73.7420623004], [20.0117846575, 73.7460896373], [20.0065358066, 73.7710854784], [20.0064913855, 73.7711850554], [19.990717942, 73.7614737824], [20.0069667854, 73.7660456076], [20.0058285326, 73.7643853202], [20.0044394938, 73.766660504], [20.008393, 73.756183], [20.0069132282, 73.765979223], [20.0126103566, 73.7557191029], [20.00789, 73.75751], [19.98944, 73.79931], [20.0055582239, 73.7654176354], [20.0165976567, 73.7590564415], [20.007670904, 73.77081424], [20.005987, 73.7651145458], [20.0061971346, 73.7546861172], [20.0056574631, 73.7641512975], [20.0120571607, 73.759299852], [20.0069315007, 73.7546311319], [20.002643397, 73.7732339278], [20.0034801708, 73.7649462372], [20.0077984956, 73.757131286], [20.0058297927, 73.7637811527], [20.005198, 73.763252], [20.013337132, 73.7560000643], [20.0093743222, 73.7556356192], [20.0087776, 73.7614999], [20.0070212878, 73.7593078986], [20.0083053956, 73.7560104579], [20.009057709, 73.7576630339], [20.005469381, 73.7664536387], [20.0099999859, 73.7650595605], [20.0077745525, 73.7574910373], [20.00693, 73.763369], [20.0117251163, 73.7608075887], [20.0053947152, 73.7662803009], [20.0085593175, 73.7561972067], [20.007991, 73.757794], [20.0009657404, 73.7618838251], [19.9545677535, 73.7556151673], [20.037321, 73.802763], [19.9969723731, 73.7904597446], [20.0019357904, 73.7899628654], [19.9886982978, 73.7976068258], [20.0048207009, 73.7851211429], [19.999535, 73.789465], [19.998754987, 73.7897405773], [20.0011103504, 73.7827326357], [19.987537227, 73.7834900245], [20.006121, 73.788798], [20.00209, 73.768211], [20.0039125, 73.7581914063], [19.9912144995, 73.7619300932], [19.981842, 73.756035], [19.9995114418, 73.7541768327], [19.9909186447, 73.7574722618], [19.9898719631, 73.7619465217], [19.9814235832, 73.7556151673], [19.96467347, 73.76582317], [19.9918928525, 73.743930459], [20.0250343836, 73.7212547287], [19.9914322155, 73.7435743958], [19.9918090432, 73.7437078357], [19.9899116628, 73.7240807712], [20.0251115601, 73.7210193649], [19.9899390745, 73.782867752], [19.9897591656, 73.7463538349], [20.0254060907, 73.7206059694], [19.9937694145, 73.749512136], [20.0267848642, 73.7184484676], [20.0267845492, 73.7184484676], [19.95433, 73.83758], [19.9973747075, 73.7690007314], [19.9912970489, 73.7759664282], [19.9911269089, 73.7759821862], [19.977462491, 73.84155415], [19.98059, 73.799944], [28.5408972962, 77.1550073102], [28.540895529, 77.1550076455], [28.5555557293, 77.2186433896], [28.6573011705, 77.3170935363], [28.695838021, 77.1797144786], [28.5173821728, 77.2001639754], [28.595111411, 77.1979186311], [28.6329039419, 77.2228252888], [28.6314964175, 77.2224004939], [28.6332862038, 77.2227874026], [28.6355079448, 77.2190960124], [28.6301156539, 77.2207150608], [28.632950143, 77.2228041664], [28.6344117937, 77.2214375809], [28.6320152291, 77.2232034802], [28.6302083528, 77.2195640579], [28.6299140703, 77.2211713716], [28.6317444939, 77.2166890651], [28.6343114475, 77.2207928449], [28.6309543552, 77.2196408361], [28.6321402968, 77.2164647654], [28.6296624581, 77.2218600288], [28.6301200681, 77.2196029499], [28.6342528876, 77.2215063125], [28.6337385011, 77.2209410369], [28.6950186611, 77.2041326389], [28.6941760608, 77.2045718506], [28.6947536765, 77.2042154521], [28.6949066089, 77.2039405257], [28.6930722881, 77.2054328397], [28.6950610115, 77.2042057291], [28.5514103904, 77.251551412], [28.5512395787, 77.2509703785], [28.5523731155, 77.2038704529], [28.553796719, 77.1948937699], [28.5542935327, 77.1944381297], [28.6359240378, 77.3056314513], [28.6277722575, 77.1003485844], [28.5853066137, 77.2488346696], [28.6271854438, 77.2205705568], [28.6460913198, 77.3009791598], [28.6486382, 77.3032792], [28.6489600965, 77.1914970875], [28.6338214859, 77.2817581147], [28.6333238708, 77.2816404328], [28.7025817618, 77.2284193709], [28.6422699874, 77.106436193], [28.6724925771, 77.1091173962], [28.6999558983, 77.1373825148], [28.547809, 76.9869859], [28.6664802923, 77.1249591932], [28.6663111385, 77.1254942939], [28.6447704792, 77.178610079], [28.6473450584, 77.1181661636], [28.6461313361, 77.1173608303], [28.7151414124, 77.1163311973], [28.5743213876, 77.0671743527], [28.5284069209, 77.2185947746], [28.6367882936, 77.0938482508], [28.694424283, 77.2041624784], [28.5670228841, 77.320818454], [28.5643918595, 77.3213884234], [28.5744236, 77.3539326], [28.5749511899, 77.3536037654], [28.574391, 77.354226], [28.597658, 77.335917], [28.618092, 77.3698114], [11.404583439, 76.7040129751], [11.40433859, 76.6996372864], [11.4130521262, 76.7054204643], [11.4109198603, 76.7074633017], [11.4112146582, 76.7075954005], [11.4013399123, 76.7018239573], [11.4064225933, 76.7060253024], [11.4111370971, 76.707957834], [11.4127113197, 76.7081908509], [11.4100867341, 76.7087363452], [11.4104590942, 76.7068004608], [11.4109951209, 76.7093093321], [11.4098760695, 76.7089093477], [11.4111617458, 76.7076513916], [11.4116047637, 76.7079266533], [11.4109813176, 76.7078941315], [11.4031715284, 76.7039227858], [11.4111607598, 76.7075893655], [11.4107114968, 76.7089824378], [11.4076662177, 76.7036116496], [11.405456, 76.696054], [11.4097663003, 76.706013903], [11.4109579835, 76.707566902], [11.409633197, 76.7056125775], [11.4034098053, 76.7034973204], [11.4130212335, 76.7053614557], [11.4100210041, 76.7061543837], [11.4079830386, 76.7043482512], [11.411451285, 76.7078180239], [11.4126932441, 76.7047157139], [11.4114532569, 76.7027805001], [11.4097886486, 76.7056588456], [11.4096568598, 76.705924049], [11.4099753218, 76.7056719214], [11.4107006514, 76.7108968645], [11.4105077343, 76.7110859603], [11.4065110012, 76.7038225383], [11.4103062721, 76.7116579413], [11.4117457537, 76.7080849037], [11.4095779837, 76.7062479258], [11.4077230746, 76.7067622393], [11.4107565217, 76.7075749487], [11.4113454603, 76.7078223825], [11.4058211557, 76.7015805468], [11.4067887137, 76.7022081837], [11.405948345, 76.7015788704], [11.4121302715, 76.7087839544], [11.4098694965, 76.7056219652], [11.4123810295, 76.6918806732], [11.4085966318, 76.7049369961], [11.4055184644, 76.7020962015], [11.4146404699, 76.7078280821], [11.4085131543, 76.709028706], [11.4067923289, 76.7035251483], [11.4055692, 76.7007665], [11.4009921898, 76.6973651201], [11.4206026772, 76.7041641846], [11.4206023486, 76.7041534558], [11.4106257194, 76.7081264779], [11.4113977154, 76.7078321055], [11.4129213249, 76.6903125867], [11.4137058032, 76.6979847103], [11.4124155374, 76.6928982362], [11.3604602197, 76.6358969361], [11.4037502943, 76.6777068749], [11.4137163199, 76.6986140236], [11.4137380105, 76.6978814453], [11.4135030288, 76.6900731996], [11.4048374902, 76.6955274716], [11.4131250857, 76.696808897], [11.414683851, 76.7089800909], [11.4148337129, 76.6930641979], [11.4084631992, 76.7132682726], [11.3550752879, 76.7998231575], [11.4065826478, 76.7146254703], [11.4235360819, 76.8683529273], [11.4024373058, 76.715102233], [11.4180524374, 76.7317379639], [11.3967195728, 76.7017451674], [11.3968470949, 76.7017609254], [30.6885549537, 76.8523800373], [30.6958523992, 76.8385827541], [30.672344, 76.855739], [30.694368506, 76.850008294], [30.6957001765, 76.849748455], [30.6972716913, 76.8494306132], [30.6949932604, 76.8500481918], [25.61149226, 85.11891165], [25.58536576, 85.09521067], [25.5804211148, 85.0835809484], [25.6182439022, 85.1661229134], [25.6159329704, 85.0826696679], [25.6087486621, 85.1361988485], [25.6099380648, 85.1365039498], [25.609903296, 85.1368030161], [25.6132610132, 85.1414714009], [25.6090993769, 85.1360097528], [25.6106648826, 85.1384582743], [25.6111870157, 85.132245943], [25.6105814379, 85.1358216628], [25.6082555432, 85.1377032325], [25.6112483896, 85.1378832757], [25.6116266094, 85.1386738569], [25.6086132133, 85.136109665], [25.6127748666, 85.138887763], [25.6117073324, 85.1388441771], [25.608734452, 85.1359893009], [25.6171413478, 85.1414697245], [25.6098960399, 85.142689459], [25.611263, 85.142799], [25.6137595533, 85.1442240179], [25.6103985244, 85.1338505745], [25.6109388, 85.1426214], [25.6170506519, 85.1490647346], [25.617864494, 85.1486432925], [25.6116616801, 85.1432597637], [25.6197038, 85.1587683], [25.5957049688, 85.1581443474], [25.608156, 85.159013], [25.603185, 85.154159], [25.5999462905, 85.157523416], [25.59512, 85.16102], [25.5996218545, 85.1698994637], [25.593306516, 85.1496434212], [25.6017598504, 85.146452263], [25.6015221964, 85.1465605572], [25.600555, 85.182563], [25.59973494, 85.15553892], [25.6001122877, 85.1554792374], [25.6029236224, 85.1530303806], [25.607682906, 85.0781957433], [25.615167, 85.080139], [25.6063967299, 85.0807897747], [25.60327, 85.07957], [25.6063102587, 85.0743202865], [25.6057681494, 85.0762464479], [25.613738088, 85.119416602], [25.59692897, 85.17436266], [25.6232438146, 85.1247541979], [25.6176879403, 85.1217051968], [25.622260113, 85.1239612699], [25.6187992568, 85.1219549775], [25.634058255, 85.1063428447], [25.6339044, 85.10626137], [25.6175071539, 85.1409503818], [25.6099967183, 85.1342076436], [25.5922956559, 85.136064738], [25.6340434434, 85.1062114164], [25.6305699304, 85.0982261449], [25.6288048718, 85.1066580042], [25.6313718913, 85.0949508324], [25.629484, 85.104621], [25.6301557984, 85.1046983153], [25.6244633032, 85.1101079956], [25.5830281837, 85.091085434], [25.610001, 85.103827], [25.6104484099, 85.1178850606], [25.6123760918, 85.1149436831], [25.6102881715, 85.1179843023], [25.6109548225, 85.1177787781], [25.6107395596, 85.1180624217], [25.6139606014, 85.1169234887], [25.6145616271, 85.1159615815], [25.6121475289, 85.1149436831], [25.6142393471, 85.1199989766], [25.6143297428, 85.1164541021], [25.6154063232, 85.1156206056], [11.9409150496, 79.8079681769], [11.9907480402, 79.8297527432], [11.9900327568, 79.8346330225], [11.9911124044, 79.8262645304], [11.990916612, 79.8286557198], [11.9872122718, 79.8469530791], [11.9911435607, 79.8261652887], [11.9335718664, 79.8072570562], [11.93177, 79.808748], [11.9318916908, 79.8078518361], [11.9394373098, 79.8321985826], [11.9381603131, 79.8321928829], [11.9396426522, 79.8264824599], [11.9335328308, 79.8312769085], [11.9379972848, 79.8323440924], [11.940239325, 79.8339845985], [11.9403278909, 79.8317144439], [11.942022119, 79.8297537491], [11.9382426472, 79.831391573], [11.9870492731, 79.846795164], [11.9708948596, 79.8390744254], [11.9540073733, 79.8212209716], [11.9339271228, 79.8293701932], [11.9298273765, 79.8301986605], [11.9295072145, 79.8285162449], [11.934737355, 79.8327605054], [11.9364463792, 79.831848219], [11.9337788533, 79.8308474198], [11.9314514713, 79.8284579068], [11.9351031067, 79.8290915787], [11.9320110945, 79.831164591], [11.9350611191, 79.8312618211], [11.9293874817, 79.8286500201], [11.9299215225, 79.8301735148], [11.9351749449, 79.8310784251], [11.9365185451, 79.8313476518], [11.936856, 79.831369], [11.929954228, 79.8302208783], [11.9339146577, 79.8308953643], [11.9396852951, 79.8320021108], [11.9297853881, 79.8300568387], [11.9283125082, 79.8339671642], [11.9332786073, 79.8357679322], [11.9331, 79.8358], [11.9330703078, 79.835845381], [11.929698, 79.833191], [11.927572, 79.832794], [11.9315967897, 79.8356606439], [11.9254490625, 79.8318012804], [11.9349764878, 79.8325392231], [11.9394084438, 79.8318770528], [11.9259565398, 79.834206216], [11.9253188306, 79.8333854601], [11.929464898, 79.8284421489], [11.9301783734, 79.8333425447], [11.9274569877, 79.8337130249], [11.9294904847, 79.8338756338], [11.9283571212, 79.8323212937], [11.9288035784, 79.833698608], [11.9283925491, 79.8329174146], [11.9283758192, 79.833676815], [11.9352913949, 79.8339872807], [11.92840075, 79.8325358704], [11.9285627999, 79.8336570337], [11.9243714491, 79.8338303715], [11.9363414107, 79.8351262137], [11.9353064842, 79.8329556361], [11.9359136634, 79.8329361901], [11.9285926512, 79.8336610571], [11.9269026037, 79.8345089704], [11.9350204436, 79.8325945437], [11.9279132875, 79.8323306814], [11.9300822593, 79.8325781152], [11.9310417581, 79.8337589577], [11.9283492483, 79.8290728033], [11.926399, 79.833784], [11.9377545464, 79.833083041], [11.9347432595, 79.834898226], [11.926328, 79.834237], [11.9303699453, 79.8347674683], [18.5186738942, 73.9348671958], [18.5184192436, 73.9356229082], [18.5711460714, 73.7750638649], [18.5712172626, 73.7749106437], [18.5704573585, 73.7742186338], [18.5699078482, 73.7746310234], [18.570525054, 73.7738283724], [18.5543078818, 73.7981731072], [18.5528321011, 73.8031583279], [18.5687319093, 73.7670189142], [18.5692013324, 73.7746601924], [18.5587319689, 73.792075105], [18.5520126766, 73.8041145355], [18.5522679128, 73.7938691676], [18.5659935292, 73.7728513777], [18.5716533081, 73.7750236318], [18.5545211586, 73.7983843312], [18.4920934508, 73.7346868962], [18.5074075484, 73.8750727102], [18.5140173212, 73.8409570232], [18.5187145874, 73.8362567872], [18.5142077577, 73.8384558633], [18.5176851739, 73.8416668028], [18.512355, 73.837219], [18.5170070546, 73.8441287354], [18.5124661617, 73.8801404089], [18.5066209717, 73.827130571], [18.5254246986, 73.8416973129], [18.525048301, 73.841489777], [18.5247834869, 73.8422910869], [18.5209469756, 73.8410837576], [18.5940871687, 73.7352541834], [18.5974587298, 73.7344924361], [18.5943289954, 73.7351465598], [18.5754572172, 73.6882662401], [18.5993688277, 73.7286733836], [18.5915195261, 73.7479611486], [18.5191822405, 73.8455248252], [18.544847, 73.911127], [18.553507, 73.905851], [18.5461799638, 73.9040657133], [18.5488945045, 73.9058017731], [18.4570374097, 73.8510223478], [18.5625933763, 73.8294959441], [18.5341340664, 73.8982483372], [18.5340599988, 73.8984867185], [18.5375344682, 73.8973907009], [18.5339376122, 73.8985748962], [18.532841, 73.898119], [18.5330316313, 73.8992977515], [18.4987327485, 73.8191955909], [18.5020950646, 73.8146814331], [18.4963153376, 73.8022229075], [18.520073035, 73.8305617869], [18.5457661038, 73.9065762609], [18.545536, 73.9065], [18.5619824985, 73.9173097909], [18.56203, 73.916763], [18.5618881015, 73.9169946313], [18.561912257, 73.9165493846], [18.562403, 73.916955], [18.556697774, 73.8935809582], [18.6528438157, 73.73285193], [18.5193348395, 73.9308931679], [18.518277453, 73.9313786477], [18.5347784218, 73.8295187429], [18.5308076661, 73.8288133219], [18.528983, 73.843606], [18.5619132105, 73.7386374548], [18.4967064244, 73.8592932746], [18.5338155435, 73.8296773285], [18.5651430206, 73.91709622], [18.566768, 73.915429], [18.5952451375, 73.7633771449], [18.5927658545, 73.7599258125], [18.601411093, 73.7642129883], [18.5938205552, 73.7571138516], [18.5908124643, 73.7530848384], [18.5907701993, 73.7531153485], [18.590782275, 73.7531203777], [23.3809890747, 85.3289871216], [23.379875, 85.324477], [23.3502205256, 85.306391716], [23.395403, 85.382507], [23.3494648333, 85.3305436671], [23.320026, 85.297878], [23.319909, 85.297714], [23.3348032423, 85.3183684498], [23.3325974606, 85.3175329417], [23.3475680419, 85.3265371174], [23.3686457747, 85.3398150578], [23.4167916667, 85.3168416667], [23.3573068945, 85.3249774128], [23.3757637815, 85.3142140433], [23.37829021, 85.31507311], [23.3548586279, 85.2998296916], [23.3536347855, 85.2996013686], [23.3577433546, 85.3246924281], [23.355308024, 85.3243635222], [23.3596156848, 85.3257478774], [23.35286465, 85.32436788], [23.3583214005, 85.325457193], [23.3554542312, 85.324411802], [23.3508013746, 85.3242626041], [23.3595565881, 85.325691551], [23.3651143284, 85.3250206634], [23.3556222925, 85.3229181468], [23.3539176615, 85.3225543723], [23.3587517014, 85.3256027028], [23.3505388078, 85.3244107962], [23.3710811683, 85.3277534992], [23.3594704055, 85.3254330531], [23.3506092977, 85.3198674694], [23.350764, 85.324393], [23.3540263178, 85.3328406438], [23.3543248912, 85.3333747387], [23.3499767345, 85.3260395676], [23.354162061, 85.3329291567], [23.3537833333, 85.3269666667], [23.3495005402, 85.3259299323], [23.3542636375, 85.3334213421], [23.4170913225, 85.3167859465], [23.3883440038, 85.3147364035], [23.3602831618, 85.3571654129], [23.363587, 85.347862], [23.368116, 85.338942], [23.3725079748, 85.3380491585], [23.3717536405, 85.331446901], [23.3720355546, 85.3384075686], [23.367748, 85.339549], [23.371935, 85.33485], [23.3684986586, 85.3256228194], [23.3772760933, 85.3315910697], [23.3757748608, 85.3342987597], [23.3697312893, 85.3400115296], [23.3773456457, 85.3316554427], [23.3716351502, 85.3347460181], [23.3754458676, 85.335101746], [23.3683278437, 85.3399880603], [23.3846022267, 85.338320854], [23.37804, 85.31879], [23.376297, 85.331275], [23.3679954466, 85.3365997598], [23.3713089167, 85.3316608071], [23.375093484, 85.3354447335], [23.377228, 85.331519], [23.37567, 85.336077], [23.3679003439, 85.3377588093], [23.3721161893, 85.3374496847], [23.3675325513, 85.3398583084], [23.376525, 85.335146], [23.3697783783, 85.3397111222], [23.3717788774, 85.3359986097], [23.3752615203, 85.33565294], [23.3507435053, 85.3243990615], [23.3812119008, 85.3009280562], [23.38101, 85.302539], [23.3331617624, 85.3168999404], [23.3991500577, 85.3904588521], [23.3687962761, 85.3248775005], [17.4750589709, 78.5629883409], [17.4587176151, 78.4999135137], [17.434756854, 78.4884256125], [17.4416813359, 78.4874214605], [17.4831571465, 78.5521260649], [31.086961, 77.180006], [31.084826178, 77.1809348837], [31.1044734346, 77.1740590408], [31.1042480825, 77.1744650602], [31.1043353527, 77.1738045663], [31.1062808251, 77.1781205758], [31.1042977461, 77.173813954], [31.1023571133, 77.1777423844], [31.1035120243, 77.1761263534], [31.101800753, 77.1742129326], [31.1042868373, 77.1739051491], [31.1044484593, 77.1732597426], [31.1042632974, 77.1737757325], [31.1044177425, 77.1732724831], [31.103206, 77.155001], [31.1056346353, 77.1773859859], [31.1044662578, 77.1740509942], [31.1008982, 77.1847316], [31.104691, 77.17424], [31.1054658386, 77.1771613508], [31.104045, 77.176476], [31.0841396434, 77.172399424], [31.0848933668, 77.1721865237], [31.083656396, 77.1725033596], [31.0896194348, 77.1703659743], [31.0830763809, 77.1739980206], [31.1038814895, 77.1930098534], [31.1038154624, 77.1933344007], [31.1028658156, 77.1918652207], [31.1038174719, 77.1953132004], [31.1037761332, 77.1936368197], [31.1025376857, 77.1982435137], [31.1033690607, 77.1926960349], [31.1031261943, 77.1925216913], [31.1016305141, 77.1767422557], [31.1052086241, 77.1723776311], [31.104586, 77.172691], [31.1048219398, 77.1728553995], [31.1047751472, 77.1728567407], [31.1052947451, 77.1722207218], [31.104455349, 77.1740137786], [31.1037103931, 77.1764093265], [31.1053512979, 77.1704940498], [31.1055645905, 77.1709349379], [31.1048638522, 77.1728087962], [31.101619318, 77.1770634502], [31.1015966386, 77.1773343533], [31.1015507056, 77.1770560741], [31.1048170596, 77.1728496999], [31.104622, 77.172679], [31.104203012, 77.1750980616], [31.104435541, 77.1736553684], [31.104054308, 77.1753726527], [31.1032654263, 77.1770725027], [31.1039644539, 77.1754963696], [31.1023565392, 77.1776930988], [31.1021294596, 77.1773313358], [31.1035120243, 77.1761263534], [31.1052143655, 77.172668986], [31.1053286194, 77.1714666858], [31.1044430049, 77.1738753095], [31.1050923606, 77.1725090593], [31.1045098928, 77.1739168838], [31.1021271629, 77.1772934496], [31.1033245639, 77.1770198643], [31.1022916593, 77.1773367003], [31.104543626, 77.174050442], [31.1018277386, 77.1770339459], [31.1044329574, 77.1740576997], [31.104554676, 77.1735755727], [31.1021897463, 77.1776880696], [31.1021294596, 77.1773313358], [31.104879, 77.172804], [31.1008973065, 77.1764911339], [31.1047507461, 77.173069641], [31.1043574573, 77.1749642864], [31.107204, 77.170801], [31.1054402895, 77.1712531149], [31.1051477652, 77.1713386104], [31.100768406, 77.1764136851], [21.1914674023, 72.790074572], [21.1859726602, 72.7939838916], [21.2024578363, 72.789292708], [21.1925933975, 72.7801275998], [21.1867870216, 72.7937823907], [21.189176, 72.789914], [21.1981772941, 72.7956867591], [21.1870105403, 72.7899562195], [21.1971560597, 72.7939356118], [21.1938756836, 72.7868049592], [21.202236529, 72.7944358438], [21.1866078938, 72.794136107], [21.1945774664, 72.8018669039], [21.2025753666, 72.7942470834], [21.195248, 72.801735], [21.1752714414, 72.8046674654], [21.1845193032, 72.8084725142], [21.1761180633, 72.8179863095], [21.1749219115, 72.8175792843], [21.1847584563, 72.808858417], [21.1849310214, 72.8085546568], [21.1743363376, 72.8014099225], [21.1774563043, 72.8012526537], [21.1856689703, 72.8097310847], [21.17496, 72.80117], [21.170981, 72.7899071], [21.1732220838, 72.7924902365], [21.1728250272, 72.7929881215], [21.1687194, 72.7944556], [21.163652, 72.795654], [21.176151, 72.7955541], [21.1711836403, 72.7893124893], [21.1714821, 72.7890851], [21.16111, 72.77609], [21.2246612753, 72.8071263805], [21.229095, 72.896561], [21.1878424022, 72.8153627738], [21.1881290668, 72.813478522], [21.1919444352, 72.816240862], [21.1832041107, 72.8144350648], [21.1828461587, 72.8149352968], [21.187163, 72.814055], [21.196064, 72.831372], [21.1922776695, 72.8541699797], [21.204990031, 72.8392706439], [21.19267061, 72.8540338576], [21.1977102842, 72.7790584043], [21.1900772459, 72.7793229371], [21.2046090011, 72.7752835304], [21.1605092, 72.7717547], [21.1640386, 72.7782183], [21.1543469622, 72.7645305544], [21.1610300854, 72.7798188105], [21.1580775292, 72.7692002803], [21.1695534, 72.7788941], [21.1535393013, 72.7683262154], [21.157853654, 72.7694856003], [21.21685, 72.799983], [21.215982, 72.798633], [21.1482526, 72.76315], [21.148426, 72.7651625], [21.1483727, 72.7652784], [21.17602, 72.81808], [21.1771375672, 72.7899407968], [21.19125421, 72.78768003], [21.1909512922, 72.7873048559], [21.1910378838, 72.7877319977], [21.2, 72.85978], [21.172996043, 72.8382614627], [21.21805, 72.8692], [21.1924842995, 72.8602931276], [21.2094447287, 72.8471419681], [21.2088371583, 72.8470752016], [21.1479040008, 72.7729791775], [21.1490031232, 72.7762323618], [21.1516050247, 72.7739910409], [21.144886, 72.79909], [21.1476905, 72.7652031], [21.143329, 72.789529], [21.1491009963, 72.7727367729], [19.2364700971, 72.9694895446], [19.2082396862, 72.971993722], [19.2088197165, 72.9718599468], [19.2083501834, 72.9718307778], [22.2932521302, 73.1747885048], [22.2935555208, 73.1753863022], [22.298001452, 73.1763552502], [22.302404745, 73.1772782654], [22.2932462361, 73.1749018282], [22.3082145838, 73.1679475307], [22.3106104128, 73.1662577391], [22.3092602051, 73.1656337902], [22.3162505605, 73.170819506], [22.3052169481, 73.1656847522], [22.3095747274, 73.1747432426], [22.3095967502, 73.1747499481], [22.3104792078, 73.1725233793], [22.3093969945, 73.1752008945], [22.3135434173, 73.1732170656], [22.3078529106, 73.1640375406], [22.3100294498, 73.1752149761], [22.3080166873, 73.1640754268], [22.3090734765, 73.1753688678], [22.3080486361, 73.1642192602], [22.3098206995, 73.1712215021], [22.3107903155, 73.1658252329], [22.2948605894, 73.1533046812], [22.2982260404, 73.1647275388], [22.2970723845, 73.1646289676], [22.2805289844, 73.1493500993], [22.298242171, 73.1647409499], [22.29575772, 73.1642460823], [22.2950293447, 73.1587029621], [22.3048285908, 73.1655955687], [22.3183038353, 73.1877365336], [22.3221203028, 73.1884841993], [22.3202640331, 73.1880550459], [22.3258451737, 73.196734339], [22.3178085087, 73.1258217618], [22.3215170566, 73.1653659046], [22.3194749948, 73.1955350563], [22.3264592561, 73.2020555064], [22.3264729023, 73.2018503174], [22.3262508405, 73.201305829], [22.3260173031, 73.1974984333], [22.3208232428, 73.1991674379], [22.2930449059, 73.2387186214], [22.3006242121, 73.2304761931], [22.2948230537, 73.2379233465], [22.2984853713, 73.2382338122], [22.3009797001, 73.2384453714], [22.2779632434, 73.197699599], [22.258629632, 73.1911523268], [22.2779253929, 73.1978601962], [22.3000866356, 73.1966729835], [22.295781296, 73.1983976439], [22.3033402912, 73.2010563836], [22.2777079077, 73.1978856772], [22.2710035503, 73.1941470131], [22.273440351, 73.1879524514], [22.2734114969, 73.187950775], [22.3356794714, 73.1793636829], [22.3304175416, 73.1813294068], [22.3395866368, 73.1783917174], [22.330502518, 73.1810548157], [22.30935481, 73.182897158], [22.3085598165, 73.1839777529], [22.3140750488, 73.1811228767], [22.3091575354, 73.1847857684], [22.3087428236, 73.1870552525], [22.322133019, 73.1654188782], [22.3109013587, 73.1586560234], [22.3143055045, 73.1595019251], [22.3147012795, 73.159555234], [22.3118194782, 73.164800629], [22.3042879285, 73.165541254], [22.308320356, 73.1617757678], [22.3100756664, 73.1588239968], [22.3080917515, 73.1641273946], [22.3080905108, 73.1641210243], [22.3099866451, 73.1590757892], [22.3166968867, 73.1675998494], [22.3080914413, 73.1641277298], [22.3172430838, 73.1698746979], [25.289146884, 83.0060598627], [25.2879591583, 83.0044683069], [25.2894327489, 83.0061403289], [25.2880622284, 83.0057403445], [25.2967892174, 83.0021384731], [25.296894705, 83.0024791136], [25.29157, 82.999], [25.34741082, 82.9808991], [25.2957407024, 83.0010615662], [25.2917599608, 83.0014652386], [25.293651, 82.999866], [25.2975082286, 83.0014357343], [25.296292, 83.000095], [25.299662, 83.001115], [25.2935627085, 83.0022638664], [25.3242207729, 82.9928875342], [25.329131, 82.993657], [25.3197358, 83.0010277], [25.3197358, 83.0010277], [25.325863, 82.995901], [25.3258312055, 82.9984970391], [25.313331, 83.004638], [25.2884256, 82.9952043], [25.3091391264, 83.0023761839], [25.3093913007, 83.0059475452], [25.3070471506, 82.9928405955], [25.31614, 82.98557], [25.3247550607, 83.0021998286], [25.3356333502, 82.9775972664], [25.3352745643, 82.9783942178], [25.3357172889, 82.9778685048], [25.281255, 83.003285], [25.2616588772, 82.9816514254], [25.2797720833, 83.0023225397], [25.2813918984, 83.0035033822], [25.2919948925, 83.0020040274], [25.2593468552, 82.9816802591], [25.2798233187, 83.0029132962], [25.281304284, 83.0030054972], [25.2833112133, 82.9993523285], [25.280079192, 83.0029384419], [25.2790177993, 83.0018565059], [25.284579, 83.00532], [25.290370975, 83.0017411709], [25.2821652668, 83.0034507439], [25.2835822372, 83.0017860979], [25.290135434, 83.0017307773], [25.2901663544, 83.0017545819], [25.2820673455, 83.0030175671], [25.2621188506, 82.9816735536], [25.2776899086, 83.0056333914], [25.306307282, 82.9816292971], [25.3051360921, 82.9791888222], [25.305918, 82.985991], [25.3060177452, 82.9811522434], [25.332860005, 82.9892621934], [25.333324, 82.9888133], [25.3356251684, 82.9853716493], [25.3410453115, 82.9967438802], [25.3330127346, 82.9892732576], [25.3358451667, 82.9852509499], [25.3382905746, 82.9799502343], [25.2965367138, 83.0035969242], [25.311937, 82.9885051], [25.3165356173, 82.9912916198], [25.317084, 82.991058], [25.3070674582, 82.9922018945], [25.3186231863, 82.9902190715], [25.3116599366, 82.9889735207], [25.3166247216, 82.9899602383], [25.321695, 82.99118], [25.316494702, 82.9903954268], [25.3074269339, 82.9937478527], [25.3182488934, 82.9917341843], [25.3078436939, 82.992323935], [25.3185134747, 82.9916671291], [25.3211183417, 82.9912470281], [25.2832760469, 82.9812105373], [25.3243438139, 82.9923738912], [25.3241631921, 82.992285043], [17.7152129394, 83.3013321832], [17.7142337251, 83.2975811139], [17.7252839091, 83.3168953657], [17.7243478636, 83.318140246], [17.734055, 83.318436], [17.7250153274, 83.3205341175], [17.7122305669, 83.3011018485], [17.722759, 83.310783], [17.734084, 83.31844], [17.7342209657, 83.3186274022], [17.7261078551, 83.3028657362], [17.7254231498, 83.2994774356], [17.7263454574, 83.303421624], [17.7249064256, 83.3059563115], [17.7268634549, 83.3037890866], [17.7257987161, 83.3032570034], [17.7238164456, 83.3078201115], [17.7257153635, 83.3076461032], [17.7261362779, 83.3098495379], [17.727799168, 83.3020781726], [17.7266881279, 83.3054678142], [17.7267580671, 83.3026394248], [17.7258756815, 83.3049236611], [17.6838444461, 83.2049101219], [17.6856830953, 83.2084043697], [17.6844437, 83.20223093], [17.683490833, 83.1946050748], [17.6856945948, 83.2131934538], [17.6848560888, 83.2038982585], [17.6845986268, 83.2031029835], [17.6855636284, 83.204754889], [17.6855131584, 83.209156394], [17.7157140422, 83.3062694594], [17.7157143615, 83.3062674478], [17.7112752901, 83.3164930344], [17.7120941903, 83.3013811335], [17.7118642343, 83.3014512062], [17.7174188668, 83.3185613528], [17.7161423258, 83.324877955], [17.6856326253, 83.1674671546], [17.7313797422, 83.3391372487], [17.7345227453, 83.3409192413], [17.716769, 83.302521], [17.7370583122, 83.3219080791], [17.7396171545, 83.3269452676], [17.80126362, 83.35403065], [17.7151756, 83.3246486], [17.7127425369, 83.3197914809], [17.7479448747, 83.2462838665], [17.7414434169, 83.3384019881], [17.7425636259, 83.3388227597], [17.7410263703, 83.3290689066], [17.7420121442, 83.3319368586], [17.7442723464, 83.3279574662], [17.7551345671, 83.3442869335], [17.7380067454, 83.3364131302], [17.7360498378, 83.3341466635], [17.7365304446, 83.3348406851], [17.74374099, 83.23105931], [17.7429480975, 83.2344509661], [17.7433338454, 83.231202811], [17.724141556, 83.3103658631], [17.7249010219, 83.3059036995], [17.7837775261, 83.3828961477], [17.7649203576, 83.3633126691], [17.738704, 83.315208], [17.743568551, 83.3144428208], [17.7407284337, 83.3116218075], [17.7219599832, 83.3161433414], [17.719683531, 83.3155639842], [17.7248537312, 83.3204211295], [17.7243005981, 83.318464458], [17.7153205697, 83.314813301], [17.7267028184, 83.3163411543], [17.7230736074, 83.3167381212], [17.72450882, 83.311885], [17.7247422743, 83.3130457252], [17.7212088338, 83.3148984611], [17.7212091532, 83.3149852976], [17.7267663704, 83.3161852509], [30.6396174672, 76.8233816698], [-6.6027339684, 106.8108963069], [-6.577744, 106.817888], [-6.1731339881, 106.952958405], [-6.2129316672, 106.8126389757], [-6.2586333873, 106.7680485919], [-6.1776886174, 106.7911467701], [-6.2804306369, 106.8198839575], [-6.2918461342, 106.8002615869], [-6.1452423643, 106.8151253834], [-6.2092112824, 106.8181492388], [-6.2091692854, 106.8184895441], [-6.2508769542, 106.7980558053], [-6.1277592275, 106.7912929505], [-6.2780757886, 106.8018561602], [-6.1950924464, 106.8208022788], [-6.1953061033, 106.8205655739], [-6.1963550542, 106.8225188926], [-6.1968483637, 106.8225547671], [-6.1951837756, 106.8198873103], [-6.1963100563, 106.8219137192], [-6.19559509, 106.8198028207], [-6.1954467635, 106.8216102943], [-6.2140182466, 106.7980410531], [-6.1696393236, 106.8994349241], [-6.2680024103, 106.814198345], [-6.2731877616, 106.8158941716], [-6.223479725, 106.8417701125], [-6.2230194372, 106.8421379104], [-6.2240763321, 106.8427913636], [-6.1905243009, 106.7388557643], [-6.2249255794, 106.8235498667], [-6.1564567912, 106.9100353494], [-6.155659102, 106.9087183848], [-6.1574061498, 106.9080407918], [-6.245326433, 106.8000560626], [-6.1916545914, 106.7534966022], [-6.1747669792, 106.7900121957], [-6.1749963109, 106.7901245132], [-6.1747603126, 106.7901851982], [-6.2253248718, 106.8096566945], [-6.110604, 106.737615], [-6.2085876604, 106.8180835247], [-6.1097761274, 106.7402360961], [-6.2218312196, 106.8334683403], [-6.2230737652, 106.7984802648], [-6.1212293226, 106.791645661], [-6.1013640935, 106.8000567332], [-6.1127701302, 106.7808256298], [-6.1157724504, 106.787449345], [-6.2511755755, 106.7917764187], [-6.2664193665, 106.7846910283], [-6.2655048649, 106.7825687304], [-6.111742, 106.742066], [-6.1115546624, 106.741662696], [-6.1106685627, 106.7376145721], [-6.110319523, 106.7378563061], [-6.1106615619, 106.7375988141], [-6.1145209856, 106.7552534491], [-6.2174039602, 106.8185773864], [-6.2269893646, 106.7969353125], [-6.2355930484, 106.8133427203], [-6.2413789748, 106.8105555698], [-6.2328560431, 106.8110873178], [-6.2330593525, 106.811343804], [-6.2391426018, 106.8077399209], [-6.2346814926, 106.813162677], [-6.2313532171, 106.808860749], [-6.2361076518, 106.8077637255], [-6.2336809457, 106.8120676652], [-6.2353127493, 106.813287735], [-6.2339142513, 106.8123556674], [-6.2160530771, 106.829883568], [-6.2312805587, 106.8238888308], [-6.2674518449, 106.7840600386], [-6.1225627791, 106.8437606469], [-6.1269301594, 106.8333530054], [-6.2360983197, 106.846710071], [-6.2010921396, 106.8223958463], [-6.3052692037, 106.6429057717], [-6.2820849564, 106.7288501188], [-36.7309842517, 174.7133455798], [-36.8884034845, 174.7472614422], [-36.8885608918, 174.7475494444], [-36.8881406912, 174.7471974045], [-36.8445200373, 174.7704179585], [-36.8461878339, 174.7686966509], [-36.8442112119, 174.7686124966], [-36.8452914246, 174.7696441412], [-36.7164667447, 174.7483480722], [-36.8482371134, 174.7673555464], [-36.8483672373, 174.7675677761], [-36.8497355371, 174.7583835572], [-36.8574125861, 174.7638163716], [-36.845450799, 174.767363593], [-36.8447379047, 174.7603211179], [-36.9379351076, 174.8851631954], [-36.8498828291, 174.7636745498], [-36.8832877027, 174.7852549329], [-36.8942262681, 174.7742786631], [-36.8491997567, 174.762131609], [-36.8491273174, 174.7626077011], [-36.8490916343, 174.7620622069], [-36.8464032819, 174.7691150755], [-36.8559282629, 174.6304167062], [-36.8577868145, 174.636862725], [-36.845733862, 174.7341303527], [-36.8481794295, 174.7662484646], [-36.8483170658, 174.7663285956], [-36.8485950207, 174.7664995864], [-36.8574093669, 174.7582021728], [-36.8723706364, 174.74478174], [-36.8506259919, 174.765618816], [-36.989538961, 174.8804408312], [-36.7731656992, 174.7666826472], [-36.8488439986, 174.8318043351], [-36.8755641726, 174.7364937142], [-36.8942045491, 174.7269970179], [-36.8848994108, 174.7149713337], [-36.8724253517, 174.7523003072], [-36.8824649408, 174.7620290145], [-36.8819036448, 174.7621108219], [-36.8832284363, 174.762067236], [-36.8813549491, 174.761928767], [-36.8677781688, 174.7736815363], [-36.8656492108, 174.7778607532], [-36.8669096405, 174.7775355354], [-36.868978213, 174.7757736594], [-36.867580216, 174.7772770375], [-36.8679476889, 174.7769323736], [-36.8526767621, 174.7790201381], [-36.8546156068, 174.7802070156], [-36.8527143215, 174.7789443657], [-36.9053096468, 174.8106658459], [-36.8569441944, 174.746741429], [-36.8529968211, 174.745821096], [-36.8568170361, 174.747004956], [-36.8413523041, 174.7645640373], [-36.8419742699, 174.7649884969], [-36.8659638507, 174.707024619], [-36.8566957794, 174.7622818127], [-36.7425480287, 174.7284081951], [-36.911139451, 174.7748888657], [-36.8934387502, 174.7364719212], [-36.847007767, 174.7678631544], [-36.8516779441, 174.7632504255], [-36.8493803181, 174.7622586787], [-36.8488955112, 174.7626787797], [-36.8487039486, 174.7623847425], [-36.7547163521, 174.7405472025], [-36.7606484319, 174.7397458926], [-36.84634506, 174.7652221844], [-36.7875755506, 174.7723169625], [-36.8433952736, 174.7624078766], [-36.8431097871, 174.7625976428], [-36.8431191781, 174.7633476555], [-36.8468046626, 174.7593582049], [-36.8413474744, 174.757155776], [-36.841414018, 174.7572704405], [-36.841470902, 174.7572157905], [-37.7862173469, 175.2798633277], [-37.785942573, 175.2804912999], [-37.784156, 175.25382], [-37.7716777778, 175.2834777778], [-37.7729059336, 175.2931680903], [-37.7730567283, 175.2942674607], [-37.789642, 175.258883], [-37.7884250401, 175.2691951767], [-37.7902294067, 175.2856304124], [-37.7794226858, 175.2745371312], [-37.7885246656, 175.2843828499], [-37.7936403606, 175.2937172726], [-37.790198142, 175.2868300304], [-37.7854694444, 175.2828527778], [-37.7885977949, 175.2840348333], [-37.7899827331, 175.2838286385], [-37.7924155194, 175.2886495739], [-37.7858381746, 175.2804661542], [-37.7804172012, 175.2767777816], [-37.7895251526, 175.28539069], [-37.7847390671, 175.2801395953], [-37.7890985695, 175.2844626457], [-37.785508, 175.282787], [-37.7847494011, 175.2813881636], [-37.7894517593, 175.2854111418], [-37.7886150174, 175.2836080268], [-37.7904726352, 175.2842467278], [-37.7892411174, 175.2845669165], [-37.7885993847, 175.2821727097], [-37.7884525961, 175.283892341], [-37.78889879, 175.2843181416], [-37.7905553009, 175.2840167284], [-37.7901872789, 175.2852196991], [-37.7858318153, 175.2802894637], [-37.786025, 175.2826527778], [-37.7889615855, 175.2843764797], [-37.7849367381, 175.2806193754], [-37.7879009442, 175.2840170637], [-37.7891361111, 175.2847444444], [-37.7906432655, 175.2849541605], [-37.7820405141, 175.2780679241], [-37.7848580407, 175.2805912122], [-37.7821520725, 175.2779022977], [-37.7840792768, 175.2796661854], [-37.788822, 175.285727], [-37.7882501653, 175.284120664], [-37.7893423316, 175.2847620472], [-37.7887779682, 175.2828456089], [-37.7879942113, 175.283437036], [-37.7883887404, 175.2843225002], [-37.7885593756, 175.2840116993], [-37.7882687126, 175.27833011], [-37.7896136484, 175.2848669887], [-37.7936030037, 175.293953307], [-37.7938358882, 175.2937826514], [-37.7939471639, 175.2933132649], [-37.7924176389, 175.2943211049], [-37.7933118307, 175.2931986004], [-37.791222187, 175.2919496968], [-37.806893, 175.270845], [-37.7854873523, 175.3086833283], [-37.802415, 175.305411], [-37.7973598006, 175.3105524927], [-37.707658, 175.299844], [-37.73102639, 175.2741964907], [-37.7505146816, 175.2774919197], [-37.780415, 175.258247], [-37.7763619429, 175.2587097511], [-37.8083064096, 175.2870482951], [-37.741444, 175.229782], [-37.7308190289, 175.2740130946], [-37.7294242319, 175.2741411701], [-37.7286454146, 175.2748831362], [-37.71, 175.3], [-37.758162084, 175.2472771704], [-37.7484805556, 175.2487805556], [-37.7870904164, 175.2834108844], [-37.7613833333, 175.252], [-37.7481897401, 175.232559219], [-37.7480306764, 175.2325686067], [-41.2261666667, 174.8811666667], [-41.2247280404, 174.8762585968], [-41.224, 174.8745], [-41.225022, 174.878421], [-41.291431, 174.787692], [-41.259253, 174.790981], [-41.298023153, 174.8323132843], [-41.292624, 174.775731], [-41.292497, 174.77555], [-41.330428, 174.793257], [-41.3283339176, 174.8037507758], [-41.2935, 174.8223333333], [-41.314213, 174.813996], [-41.2941666667, 174.7848333333], [-41.2941666667, 174.7845], [-41.3139, 174.780041], [-41.2913333333, 174.794], [-41.289798, 174.776932], [-41.2938333333, 174.781], [-41.292114, 174.778074], [-41.29597, 174.774134], [-41.289, 174.7756666667], [-41.291774, 174.782427], [-41.2948333333, 174.7748333333], [-41.294154, 174.775296], [-41.292822, 174.778571], [-41.2948333333, 174.775], [-41.29339, 174.775689], [-41.290801, 174.773933], [-41.2935, 174.7756666667], [-41.294, 174.7753333333], [-41.289798, 174.774546], [-41.296155, 174.780345], [-41.294049, 174.775167], [-41.293, 174.7806666667], [-41.293, 174.7813333333], [-41.296107, 174.774151], [-41.295, 174.7748333333], [-41.2925, 174.7791666667], [-41.2955624072, 174.7740590572], [-41.2938333333, 174.7755], [-41.2923333333, 174.7785], [-41.29526, 174.774607], [-41.2923333333, 174.7816666667], [-41.2935, 174.782], [-41.2933333333, 174.7751666667], [-41.292227, 174.781663], [-41.291815, 174.77701], [-41.294565, 174.774912], [-41.293058, 174.783293], [-41.2936666667, 174.7826666667], [-41.294402, 174.775005], [-41.294089, 174.775019], [-41.292364, 174.776274], [-41.295367, 174.778377], [-41.294, 174.783], [-41.295252, 174.779986], [-41.293, 174.7825], [-41.296494, 174.774477], [-41.2941666667, 174.7831666667], [-41.2945, 174.775], [-41.2936, 174.781287], [-41.293656, 174.781301], [-41.291601, 174.776718], [-41.294, 174.7836666667], [-41.2835, 174.779], [-41.2841521903, 174.7773635387], [-41.286171, 174.77389], [-41.2849609195, 174.7774651274], [-41.2830668146, 174.777010493], [-41.2859084552, 174.7764784098], [-41.284375, 174.779062], [-41.2819237241, 174.7769518197], [-41.2830338096, 174.7792236507], [-41.2846666667, 174.7793333333], [-41.2834971374, 174.7783532739], [-41.283353, 174.778738], [-41.2848675726, 174.7765173694], [-41.279516, 174.778655], [-41.2848333333, 174.7791666667], [52.45056, -1.829962], [52.488557, -1.846811], [52.474532, -1.896606], [52.474532, -1.896606], [52.477569, -1.918049], [52.477797, -1.909929], [52.476756, -1.911515], [52.477693, -1.914805], [52.477693, -1.914805], [52.477693, -1.914805], [52.477693, -1.914805], [52.477693, -1.914805], [52.477633, -1.894286], [52.477633, -1.894286], [52.477633, -1.894286], [52.483167, -1.905676], [52.477633, -1.894286], [52.477837, -1.892902], [52.477633, -1.894286], [52.47969, -1.900375], [52.480476, -1.897696], [52.480167, -1.901368], [52.472788, -1.916561], [52.4778065, -1.8987324], [52.482692, -1.903889], [52.477106, -1.901213], [52.479683, -1.900145], [52.478232, -1.910079], [52.483185, -1.892742], [52.480364, -1.899133], [52.481944, -1.896583], [52.483643, -1.901843], [52.482558, -1.900574], [52.480167, -1.901818], [52.4803644, -1.9019643], [52.4811666667, -1.9015], [52.480974, -1.901656], [52.482296, -1.903008], [52.477388, -1.890569], [52.468165, -1.923042], [52.472185, -1.932723], [52.47121, -1.940998], [52.472197, -1.938759], [52.47121, -1.940998], [52.439519, -1.848966], [52.502201, -1.930114], [52.458906, -1.948123], [52.460962, -1.943852], [52.460406, -1.945354], [52.474532, -1.896606], [52.482797, -1.910445], [52.485015, -1.907596], [52.484933, -1.907081], [52.483865, -1.911002], [52.4463023423, -1.888555455], [52.445755, -1.883981], [52.448308, -1.886206], [52.514632, -1.9022], [52.464688, -1.989344], [52.444724, -1.934627], [52.470571, -1.860593], [52.470507, -1.862948], [52.48743, -1.945895], [52.487692, -1.947514], [52.414713, -1.777222], [52.474768, -1.898534], [52.475387, -1.897487], [52.452436, -1.878802], [52.452173, -1.87871], [52.4588333333, -1.876], [52.452342, -1.878602], [52.443963, -1.858529], [52.474973, -1.907175], [52.475857, -1.905477], [52.475924, -1.905392], [52.475857, -1.905477], [52.475857, -1.905477], [52.493744, -1.83336], [52.490581, -1.823845], [52.469014, -1.810401], [55.9575472222, -3.1851472222], [55.93605, -3.2091833333], [55.9404611111, -3.2243694444], [55.943883, -3.219795], [55.9435111111, -3.2194611111], [55.954277, -3.197984], [55.954275, -3.197993], [55.9646694444, -3.1768583333], [55.9750972222, -3.1713277778], [55.97698, -3.172778], [55.9764933433, -3.1713875862], [55.9748333333, -3.1671944444], [55.9754527778, -3.1703694444], [55.960552, -3.200343], [55.953717, -3.19257], [55.954015, -3.197261], [55.9533666667, -3.2006277778], [55.95314, -3.19874], [55.9544555556, -3.1980194444], [55.9586833333, -3.1901638889], [55.9568416667, -3.1856527778], [55.956253, -3.1984224], [55.9572, -3.207751], [55.9538611111, -3.1949694444], [55.9530944444, -3.2013361111], [55.953689, -3.20033], [55.952221, -3.203159], [55.9546194444, -3.1978361111], [55.95404, -3.199521], [55.9540638889, -3.1994972222], [55.9534944444, -3.1962944444], [55.951974, -3.199569], [55.9544833333, -3.1978138889], [55.956804, -3.193012], [55.9573277778, -3.1882833333], [55.9546694444, -3.1980083333], [55.949887, -3.193634], [55.9494055556, -3.183675], [55.950012, -3.186006], [55.9480027778, -3.18625], [55.9486472222, -3.1939916667], [55.945676, -3.189979], [55.945532, -3.184879], [55.94972, -3.189749], [55.947894, -3.204987], [55.943469, -3.183205], [55.950356, -3.186385], [55.947866, -3.19156], [55.949837, -3.18909], [55.941983, -3.179126], [55.949807, -3.191283], [55.945895, -3.204735], [55.946356, -3.20599], [55.9467277778, -3.2022861111], [55.9486055556, -3.1931611111], [55.948116, -3.194684], [55.9466694444, -3.203825], [55.946143, -3.185936], [55.94595, -3.2016833333], [55.9485944444, -3.1939527778], [55.9471388889, -3.1973805556], [55.9488416667, -3.1922666667], [55.949138, -3.190244], [55.9475555556, -3.1917805556], [55.948024, -3.194174], [55.947881, -3.191928], [55.9482805556, -3.19575], [55.9502555556, -3.1868888889], [55.9506722222, -3.1832388889], [55.9565888889, -3.1856416667], [55.9591611111, -3.2146138889], [55.958538, -3.204964], [55.9579555556, -3.2066444444], [55.9531111111, -3.1897027778], [55.953123, -3.189685], [55.9419027778, -3.2035888889], [55.957033, -3.186854], [55.945966, -3.211361], [55.945902, -3.212815], [55.9462972222, -3.2147444444], [55.86137, -4.002629], [55.9136194444, -4.2194194444], [55.865926, -4.284438], [55.8670666667, -4.2894416667], [55.86125, -4.254716], [55.860959, -4.25495], [55.8610226828, -4.2524983253], [55.8619416667, -4.2537972222], [55.8605222222, -4.2546527778], [55.8641555556, -4.2588388889], [55.8620833333, -4.2536944444], [55.865449, -4.26515], [55.8643222222, -4.2615361111], [55.8622583333, -4.2551305556], [55.8632055556, -4.2574444444], [55.86407, -4.260844], [55.8640972222, -4.2566388889], [55.863568, -4.254641], [55.860325, -4.2542472222], [55.8644222222, -4.2609555556], [55.859868, -4.252951], [55.861395, -4.255915], [55.8614694444, -4.2623861111], [55.864099, -4.261703], [55.8610527778, -4.2521805556], [55.858278, -4.262516], [55.8618805556, -4.2559388889], [55.8664805556, -4.2694805556], [55.8641138889, -4.2591555556], [55.862236, -4.255645], [55.863089, -4.212359], [55.858174, -4.244168], [55.8608805556, -4.250425], [55.860044, -4.249288], [55.8591388889, -4.2527083333], [55.8593722222, -4.2457805556], [55.85883, -4.24578], [55.8597638889, -4.2480083333], [55.8592366, -4.2508962], [55.858128, -4.245693], [55.8595611111, -4.2459055556], [55.861408, -4.251511], [55.8588305556, -4.2452305556], [55.8587138889, -4.2418444444], [55.8587611111, -4.2440722222], [55.8595888889, -4.2434222222], [55.827443, -4.259099], [55.827178, -4.266245], [55.826076, -4.265127], [55.853934, -4.258868], [55.8362277778, -4.2711138889], [55.860113, -4.253593], [55.828732, -4.217546], [55.8283472222, -4.2837361111], [55.864993, -4.285036], [55.867606, -4.291066], [55.8764638889, -4.2922611111], [55.8776638889, -4.2905027778], [55.8746527778, -4.2929944444], [55.8770944444, -4.2908], [55.8577277778, -4.2808027778], [55.8743166667, -4.2947361111], [55.8752222222, -4.2942027778], [55.8708944444, -4.2991611111], [55.8757777778, -4.2829222222], [55.876042, -4.292007], [55.870423, -4.297482], [55.8765555556, -4.2911527778], [55.877565, -4.289298], [55.8763083333, -4.3058833333], [55.8706444444, -4.301225], [55.8737527778, -4.2955472222], [55.8744972222, -4.2944305556], [55.865342, -4.283886], [55.8762166667, -4.3057444444], [55.870845, -4.2988], [55.870625, -4.3156583333], [55.8721388889, -4.2825916667], [55.8725611111, -4.2826444444], [55.8747111111, -4.2929638889], [51.508515, -0.141645], [51.511629, -0.133947], [51.51809, -0.077398], [51.509836, -0.145124], [51.516284, -0.080963], [51.516293, -0.080956], [51.5245361111, -0.0765805556], [51.512305, -0.134288], [51.524447, -0.071809], [51.513739, -0.135229], [51.541469, -0.146334], [51.504572, -0.018867], [51.510298, -0.124586], [51.518935, -0.135524], [51.485509, -0.162092], [51.5186944444, -0.1547805556], [51.511936, -0.131504], [51.51345, -0.096198], [51.512086, -0.122819], [51.506986, -0.145527], [51.521376, -0.075794], [51.512669, -0.141557], [51.513196, -0.123132], [51.513098, -0.128497], [51.5148111111, -0.1354638889], [51.513457, -0.132276], [51.5173054368, -0.0636310503], [51.516997, -0.132139], [51.518362, -0.140851], [51.514231, -0.132764], [51.513948, -0.131702], [51.513635, -0.13157], [51.51051, -0.135905], [51.51433, -0.1386976], [51.5111916667, -0.1235638889], [51.515423, -0.150757], [51.515104, -0.129527], [51.512977, -0.139657], [51.502161, -0.159964], [51.513428, -0.125721], [51.513225, -0.136576], [51.513033, -0.136463], [51.504949, -0.087937], [51.50499, -0.087894], [51.512085, -0.126324], [51.510686, -0.123041], [51.461872, -0.113233], [51.510342, -0.144861], [51.508811, -0.143259], [51.513448, -0.142396], [51.507624, -0.142923], [51.513308, -0.132893], [51.515092, -0.126593], [51.514562, -0.126362], [51.516359, -0.200056], [51.504308, -0.147763], [51.507472, -0.140854], [51.514446, -0.13686], [51.515196, -0.137325], [51.514641, -0.155732], [51.501002, -0.16328], [51.52449, -0.074649], [51.512452, -0.121679], [51.504627, -0.086643], [51.523858, -0.076779], [51.513977, -0.126325], [51.512321, -0.13734], [51.50546, -0.098145], [51.518504, -0.077938], [51.535779, -0.125659], [51.511682, -0.12262], [51.512417, -0.127164], [51.51259, -0.126963], [51.539739, -0.102327], [51.512627, -0.133789], [51.513779, -0.134256], [51.513964, -0.134285], [51.5084742, -0.134585], [51.514368, -0.134782], [51.515455, -0.148536], [53.47515, -2.119663], [53.476608, -2.255709], [53.4847222222, -2.2330555556], [53.513525, -2.246548], [53.479, -2.24], [53.478204, -2.240407], [53.4776666667, -2.241], [53.478273, -2.239562], [53.438584, -2.280198], [53.443454, -2.277653], [53.43857, -2.280332], [53.483, -2.2131666667], [53.484192, -2.22928], [53.4803333333, -2.244], [53.475916, -2.251272], [53.477894, -2.250358], [53.4808333333, -2.2473333333], [53.479246, -2.249066], [53.483332, -2.246855], [53.478708, -2.249028], [53.476636, -2.24274], [53.478, -2.2488333333], [53.481343, -2.248215], [53.478, -2.2471666667], [53.480535, -2.247834], [53.476879, -2.239432], [53.482567, -2.247394], [53.48124, -2.250806], [53.4793333333, -2.2458333333], [53.4165604, -2.2240959], [53.427563, -2.240175], [53.482851, -2.352424], [53.4418333333, -2.1898333333], [53.477207, -2.249051], [53.480126, -2.245526], [53.456232, -2.225418], [53.4808333333, -2.2425], [53.485074, -2.243234], [53.485887, -2.23703], [53.48174, -2.243505], [53.4808333333, -2.2428333333], [53.4816666667, -2.244], [53.483398, -2.23538], [53.4843917578, -2.2364330244], [53.4835, -2.2373333333], [53.4858333333, -2.2371666667], [53.484164, -2.236494], [53.4841666667, -2.2361666667], [53.484081, -2.238511], [53.482823, -2.236022], [53.482394, -2.233313], [53.484543, -2.237033], [53.484396, -2.23808], [53.4841666667, -2.236], [53.4848333333, -2.2368333333], [53.484099, -2.236507], [53.474221, -2.241047], [53.4741666667, -2.2425], [53.472433, -2.24042], [53.4808333333, -2.2381666667], [53.4811666667, -2.2386666667], [53.456, -2.2253333333], [53.4558333333, -2.2253333333], [53.4562395, -2.2253548], [53.455797, -2.225703], [53.48114, -2.250745], [53.477809, -2.255427], [53.480095, -2.24935], [53.479846, -2.252269], [53.480097, -2.250782], [53.479795, -2.249351], [53.482261, -2.2476328], [53.481413, -2.248848], [53.480415, -2.250374], [53.477154, -2.245077], [53.477358, -2.245034], [53.485267, -2.240696], [53.487816, -2.245356], [53.486666, -2.6378797], [53.42937, -2.239935], [25.2245954275, 51.5069911256], [25.2428557833, 51.4600065351], [25.2761946498, 51.5210512653], [25.2708307273, 51.5090889484], [25.2625648746, 51.5272273868], [25.2843464969, 51.5384386852], [25.2802025809, 51.5439610183], [25.2802444179, 51.5369430184], [25.2867071531, 51.5408701077], [25.2653495311, 51.4999292046], [25.2665423293, 51.5517095849], [25.2644344583, 51.4982189611], [25.2748330751, 51.521832794], [25.2749682934, 51.52567707], [25.2684679431, 51.5194744617], [25.2723108928, 51.5251879022], [25.2734817935, 51.4961506426], [25.2774955745, 51.5004113317], [25.276068225, 51.5081649274], [25.2733298984, 51.495734565], [25.2774200842, 51.5079795197], [25.2782150032, 51.5054498613], [25.281786617, 51.5004512295], [25.2109325628, 51.5781038627], [25.2130419685, 51.5824587643], [25.3256375547, 51.5302861109], [25.325198, 51.529809], [25.3134411725, 51.5134770423], [25.24748405, 51.4895235747], [25.3869363395, 51.4404069632], [25.3879613472, 51.4410828799], [25.3836219672, 51.4420169592], [25.3859931066, 51.4418694377], [25.2860083891, 51.5141804516], [25.2848551924, 51.5096206963], [25.285864998, 51.5139873326], [25.2844141008, 51.5115284175], [25.2855848846, 51.5059004724], [25.284383482, 51.5112645552], [25.323237, 51.54105], [25.2744695615, 51.5125855431], [25.3362360716, 51.4601580799], [25.326141, 51.539595], [25.3776475678, 51.5256133676], [25.3274370709, 51.3495390862], [25.3273834313, 51.3500252366], [25.3270388643, 51.3501620293], [25.3194993606, 51.4956825972], [25.325428, 51.52833], [25.3695947016, 51.551409848], [25.2820318755, 51.5230394527], [25.2666630032, 51.5457751974], [25.253256248, 51.5591322631], [25.2510104756, 51.5535428748], [25.2542802652, 51.5627073124], [25.2687790219, 51.5537745506], [25.2679543278, 51.5541681647], [25.1853905038, 51.4633063227], [25.3732136048, 51.543193236], [25.3657469609, 51.5411913022], [25.3719715692, 51.5457319468], [25.3665213054, 51.5406612307], [25.2640881963, 51.4961442724], [25.324351, 51.532989], [25.2866356095, 51.532420814], [25.274021459, 51.5153904632], [25.3217775051, 51.5270828828], [25.321863575, 51.5260676667], [25.2732892717, 51.5446325764], [25.2830098729, 51.5468360111], [25.2601995037, 51.4465451986], [25.2582640558, 51.4414865524], [25.2588486656, 51.4462169632], [25.2605312224, 51.4445761219], [25.2601995037, 51.4465451986], [25.2606376511, 51.4436809346], [25.2622371032, 51.4424896986], [25.329132, 51.530374], [25.328632, 51.530095], [25.2256421306, 51.4775039256], [-33.9523333333, 18.3781666667], [-33.960169, 18.375269], [-33.9282913987, 18.4245366231], [-33.9213861417, 18.4180151671], [-33.92636101, 18.4146885574], [-33.9263971756, 18.4213863686], [-33.9224953716, 18.4166378528], [-33.9222858793, 18.4171337262], [-33.9246666667, 18.4223333333], [-33.9235216816, 18.419030048], [-33.9228331177, 18.4169342369], [-33.9245151513, 18.4145708755], [-33.9241943823, 18.4220904484], [-33.9265154093, 18.4144062549], [-33.886757, 18.512252], [-33.895328, 18.50582], [-33.978895, 18.462462], [-33.978602, 18.462423], [-33.980049, 18.481986], [-33.981822, 18.464501], [-34.012639, 18.402608], [-33.9189475656, 18.4218959883], [-33.929022, 18.410769], [-33.9285, 18.4125], [-33.928314, 18.414689], [-33.930021, 18.410806], [-33.936626, 18.404738], [-33.9325, 18.4083333333], [-33.9326666667, 18.4083333333], [-33.93076, 18.409491], [-33.9288333333, 18.4108333333], [-33.9326666667, 18.407], [-33.9083402691, 18.4109565988], [-33.9131876304, 18.4169275314], [-33.9091051916, 18.4126758948], [-33.9175533865, 18.4173392504], [-33.9126706585, 18.4182770178], [-33.9087161922, 18.4120405465], [-33.9014960078, 18.4008185193], [-33.994322, 18.474012], [-34.127172, 18.448782], [-34.126238, 18.449713], [-34.129281, 18.449268], [-34.108158, 18.469664], [-33.970286, 18.46195], [-33.97161, 18.454091], [-33.9761666667, 18.4591666667], [-33.939, 18.4693333333], [-33.9386666667, 18.4688333333], [-33.927589, 18.457068], [-33.9273728073, 18.4569058567], [-33.908602, 18.416457], [-33.921453, 18.381997], [-33.921299, 18.382693], [-33.921692, 18.382759], [-33.912079, 18.3931], [-33.91969, 18.385582], [-33.914, 18.3913333333], [-33.920772, 18.38357], [-33.9135, 18.3916666667], [-33.921681, 18.382771], [-33.939691, 18.856703], [-33.935267, 18.862582], [-33.93702, 18.863821], [-33.996903, 18.826072], [-34.097099, 18.845348], [-33.906397, 18.419219], [-33.9060418429, 18.421475552], [-33.905217, 18.41923], [-33.901746, 18.415163], [-33.905059, 18.420513], [-33.9046786187, 18.4205431491], [-33.902336, 18.421341], [-33.9041666667, 18.421], [-33.903522, 18.420459], [-33.9035, 18.4208333333], [-33.9042665027, 18.4203004092], [-33.9343354387, 18.4516208991], [-34.006755, 18.463339], [-33.932205, 18.419365], [-28.516467, 28.419915], [-28.513167, 28.422088], [-28.51208, 28.423172], [-28.515287, 28.421755], [-28.51244, 28.425783], [-28.52, 28.42], [-28.513869, 28.421053], [-28.514858, 28.421832], [-28.5146995307, 28.4218833223], [-28.502804, 28.420405], [-28.513967, 28.420641], [-28.515093, 28.422368], [-28.514286, 28.421767], [-28.512316, 28.426489], [-28.5154239627, 28.4212868661], [-28.514113, 28.421357], [-28.515761, 28.421043], [-28.517902, 28.41853], [-28.515624, 28.420205], [-28.514515, 28.422193], [-28.515232, 28.421378], [-28.515079, 28.421486], [-28.508034, 28.422067], [-28.502488, 28.419692], [-28.515855, 28.421087], [-28.518069, 28.429625], [-29.544627, 31.215048], [-29.542355, 31.21678], [-29.544627, 31.215048], [-29.512678, 31.229232], [-29.544142, 31.214229], [-29.539411, 31.218248], [-29.453243, 31.28431], [-29.529624, 31.20093], [-29.526519, 31.203178], [-29.53198, 31.221275], [-29.529458, 31.219215], [-29.524344, 31.20014], [-29.727522, 31.087655], [-29.786917, 31.043477], [-29.723837, 31.087786], [-29.7275555556, 31.0845611111], [-29.860734, 31.030416], [-29.8666055556, 31.0480638889], [-29.777156, 31.043852], [-29.839257, 31.020208], [-29.846551, 31.034826], [-29.7260472222, 31.0663611111], [-29.7251611111, 31.0674166667], [-29.7258666667, 31.0665277778], [-29.725925, 31.0662833333], [-29.7260416667, 31.0662388889], [-29.7260388889, 31.0668194444], [-29.725985, 31.065796], [-29.7260388889, 31.0668194444], [-29.76231, 31.060417], [-29.86002, 30.998575], [-29.871834, 30.991421], [-29.7278388889, 31.0846388889], [-29.786734, 30.772179], [-29.852842, 31.028748], [-29.795684, 30.840591], [-29.752772, 31.057799], [-29.671319, 31.116909], [-29.671552, 31.117132], [-29.66656, 31.121377], [-29.7271416667, 31.0850666667], [-30.887861, 30.347672], [-29.836699, 31.013755], [-29.82021, 31.023657], [-29.831584, 31.020656], [-29.811795, 31.018791], [-29.839925, 31.0102444444], [-29.854313, 31.038763], [-29.842733, 31.035231], [-29.865591, 31.043908], [-29.725718, 31.086758], [-29.723679, 31.085523], [-29.725755, 31.086736], [-29.725718, 31.086758], [-29.7258861111, 31.0840277778], [-29.7258444444, 31.084025], [-29.846825, 30.9940666667], [-29.8358333333, 31.0351611111], [-29.727597, 31.087159], [-29.727597, 31.087159], [-29.727597, 31.087159], [-29.727597, 31.087159], [-29.60515, 31.161703], [-29.727193, 31.085544], [-29.7273583333, 31.0846444444], [-29.73, 31.09], [-29.722634, 31.070051], [-29.7265083333, 31.0859], [-29.723837, 31.083648], [-29.73, 31.09], [-29.73, 31.09], [-29.726875, 31.08795], [-29.727989, 31.084883], [-29.777095, 31.044447], [-29.8671833333, 31.0463666667], [-29.827929, 30.930267], [-29.8303666667, 31.0131388889], [-29.831175, 31.0143638889], [-29.833087, 31.016433], [-29.8331916667, 31.0166388889], [-26.188513, 28.124045], [-26.1795, 28.1366666667], [-26.128056, 28.150271], [-26.1848049345, 28.0189125985], [-26.207091, 28.031863], [-26.1756163473, 28.0074203387], [-26.136187, 27.975389], [-26.124015, 28.019517], [-26.1463333333, 28.0095], [-26.14658, 28.011059], [-26.1461666667, 28.0101666667], [-26.151556, 28.054317], [-26.177599, 28.008509], [-26.174425, 28.013522], [-26.1491666667, 28.0776666667], [-26.157787, 28.076049], [-26.1465, 28.0635], [-26.1378333333, 28.018], [-26.138396, 28.017548], [-26.1393333333, 28.0173333333], [-26.137391, 28.018022], [-26.137691, 28.017669], [-26.1401666667, 28.0175], [-26.144825, 28.028888], [-26.1451666667, 28.028], [-26.114309, 28.022555], [-26.145576, 28.040527], [-26.1438333333, 28.0423333333], [-26.1438333333, 28.042], [-26.1438333333, 28.0425], [-26.1448333333, 28.043], [-26.145, 28.0426666667], [-26.2395, 28.054], [-26.016676, 28.107204], [-26.016612, 28.107897], [-25.772304, 28.230606], [-25.7725142406, 28.2307474315], [-25.772216, 28.229949], [-25.771335, 28.235482], [-25.772125, 28.2337033333], [-25.7707483333, 28.2360466667], [-25.772125, 28.2337033333], [-25.771714, 28.234635], [-25.771714, 28.234635], [-25.772125, 28.2337033333], [-25.8561336743, 28.1839437893], [-25.868535, 28.236047], [-25.8560361111, 28.1874527778], [-25.769827, 28.234592], [-25.840404, 28.174376], [-25.845631, 28.178158], [-25.841733, 28.18887], [-25.766006, 28.315504], [-25.889283, 28.256406], [-25.774869, 28.343483], [-25.785988, 28.354217], [-25.78475, 28.3076133333], [-25.798167, 28.331763], [-25.7985029397, 28.332470879], [-25.80283, 28.287114], [-25.727303, 28.215629], [-25.7697333333, 28.2564333333], [-25.7716199343, 28.2148979232], [-25.744185, 28.245554], [-25.753, 28.241], [-25.875855, 28.198039], [-25.88575, 28.2047833333], [-25.8614222222, 28.2168472222], [-25.861375, 28.2507944444], [-25.861375, 28.2507944444], [-25.790712, 28.355769], [-25.768189, 28.290463], [-25.765752, 28.298357], [-25.765718, 28.278763], [-25.765718, 28.278763], [-25.780358, 28.270627], [-25.786086, 28.283885], [-25.786178, 28.284285], [-25.786096, 28.283907], [-25.786106, 28.283928], [-25.783539, 28.275316], [-25.782687, 28.276191], [-25.783539, 28.275316], [-25.782735, 28.275005], [-25.818677, 28.294741], [-25.769953, 28.226341], [-25.817934, 28.303699], [-25.818262, 28.303868], [-25.818774, 28.30476], [-25.885569, 28.204726], [-25.778374, 28.257217], [-25.777898, 28.256922], [-25.7662721115, 28.3259006833], [-25.788154, 28.282148], [-25.788064, 28.282648], [25.7882, 28.2822], [-25.7879905687, 28.2816978788], [-25.722361, 28.227968], [-25.7218533441, 28.227042295], [-25.7939933333, 28.2815916667], [-25.77595, 28.255638], [-25.775823, 28.255682], [-25.7754727702, 28.2555877045], [-25.782334, 28.25418], [-25.78629, 28.224853], [-25.7779815986, 28.2562624326], [-25.7774266667, 28.2461583333], [-25.7792519147, 28.2588279973], [-25.777421, 28.246582], [-25.7744166667, 28.2407316667], [-25.7913683333, 28.253925], [-25.7913683333, 28.253925], [-25.761238, 27.999097], [-25.822989, 28.313873], [-25.822805, 28.31241], [-26.093798, 27.984653], [-26.1315, 27.977], [-26.140597, 27.992669], [-26.137064, 27.994601], [-26.14026, 27.991791], [-26.137404, 27.994221], [-26.062945, 27.969748], [-26.105001, 27.925597], [-26.0519822877, 28.0230287835], [-26.052744, 28.023143], [-26.074876, 28.027725], [-26.016061, 27.998544], [-26.0405, 27.9931666667], [-26.131109, 28.032839], [-26.131342, 28.034918], [-26.0215857805, 28.0136180086], [-26.030603, 28.011297], [-26.061924, 28.026133], [-26.1251666667, 28.0335], [-26.1314454231, 28.0490465462], [-26.1351666667, 28.0488333333], [-26.134934635, 28.0483381078], [-26.023563, 28.017678], [-26.1315, 28.0685], [-26.1315, 28.0685], [-26.1318333333, 28.0686666667], [-26.13233, 28.068062], [-26.1338333333, 28.0681666667], [-26.132701, 28.067946], [-26.1063333333, 28.054], [-26.0818333333, 28.0573333333], [-26.08274, 28.060678], [-26.1076666667, 28.0543333333], [-26.1075, 28.0546666667], [-26.1076666667, 28.0543333333], [-26.1073333333, 28.0548333333], [-26.1076666667, 28.0543333333], [-26.0218, 28.013848], [-26.021111, 28.014375], [-26.058636, 28.046829], [-26.1034027277, 28.0595363304], [-26.109729, 28.052924], [-26.1095, 28.0523333333], [-26.1061666667, 28.0548333333], [-26.1298333333, 28.0498333333], [6.9025653843, 79.8689123243], [6.8960838, 79.8578301], [6.8863408595, 79.8566784337], [6.890341, 79.858794], [6.9147470594, 79.8593432084], [6.9130388889, 79.8704527778], [6.90578932, 79.8585673794], [6.9152439855, 79.8719549552], [6.9114037098, 79.8676684498], [6.9132916667, 79.8684916667], [6.9163638889, 79.8682944444], [6.9115644569, 79.8701826856], [6.911487571, 79.8682612181], [6.9127861111, 79.8737416667], [6.911421003, 79.8665948957], [6.9085362716, 79.8581046984], [6.908305945, 79.8649952933], [6.9125293582, 79.8647274077], [6.9178361111, 79.8487694444], [6.9182888889, 79.8488527778], [6.9185555556, 79.8491972222], [6.9181861111, 79.8491055556], [6.9177527778, 79.848975], [6.9182888889, 79.8488527778], [6.929219, 79.8495], [6.9172583333, 79.8478388889], [6.8502830434, 79.8708897829], [6.8621277778, 79.8597944444], [6.8614833333, 79.8597944444], [6.9340445808, 79.8433716595], [6.9325472222, 79.843575], [6.9345138889, 79.843675], [6.9317194444, 79.8429861111], [6.891304, 79.868], [6.8909055556, 79.8656388889], [6.8871277338, 79.8722245172], [6.8907388889, 79.865425], [6.8968694444, 79.8599611111], [6.892074, 79.862209], [6.8922527778, 79.8671027778], [6.8930192639, 79.866271019], [6.9019602699, 79.8528351635], [6.914513, 79.870047], [6.9205194444, 79.8471222222], [6.8986166667, 79.8546], [6.9088521384, 79.8502967879], [6.9126997718, 79.8530121893], [6.9034138889, 79.8520277778], [6.8960505441, 79.8544927686], [6.9047055556, 79.8520972222], [6.9128, 79.8552777778], [6.910202, 79.853485], [6.904392, 79.852248], [6.897419, 79.855091], [6.8966350294, 79.853804782], [6.9056722222, 79.8576138889], [6.910538311, 79.850073494], [6.90515, 79.8538194444], [6.9068138889, 79.8533638889], [6.9045805556, 79.8529277778], [6.9052555556, 79.8501138889], [6.833725, 79.8616861111], [6.8380833333, 79.863175], [6.8418384013, 79.8669791222], [6.839, 79.86306], [6.9329611111, 79.8433444444], [6.9333, 79.843575], [6.8824091312, 79.8557990044], [6.9051666667, 79.8630222222], [6.9068148106, 79.9029411748], [6.9184475318, 79.8563153297], [6.9239332839, 79.8507480696], [6.9227166667, 79.8469694444], [6.9330166667, 79.8417888889], [6.9329583333, 79.8418055556], [6.9171348293, 79.8591135442], [6.8712611798, 79.8584932834], [6.8783851674, 79.8582012579], [6.8743132367, 79.8578438535], [6.863824, 79.863071], [39.912703, 32.809021], [39.9132055556, 32.8092472222], [39.9202611111, 32.829625], [39.9216027778, 32.8289722222], [39.923, 32.8258333333], [39.9203333333, 32.8266666667], [39.9315, 32.8265], [39.9248333333, 32.825], [39.9059722222, 32.8212138889], [39.9106972222, 32.8203], [39.9094861111, 32.81795], [39.889738, 32.816211], [39.904624, 32.816332], [39.928061, 32.816985], [39.894325, 32.813096], [39.9120416667, 32.8207138889], [39.9326666667, 32.8238333333], [39.914525, 32.809091], [39.8834416667, 32.7593083333], [39.8848722222, 32.8461888889], [39.9166666667, 32.8188333333], [39.917678, 32.817083], [39.8941666667, 32.8735], [39.8978722222, 32.8656833333], [39.8982388889, 32.8698], [39.8940245868, 32.8720416759], [39.897529, 32.871567], [39.8996666667, 32.8648333333], [39.901125, 32.691487], [39.9045, 32.8621666667], [39.9068333333, 32.8611666667], [39.902, 32.8621666667], [39.9005, 32.8625], [39.8976277778, 32.8637888889], [39.9069555556, 32.8612333333], [39.9066666667, 32.86], [39.9072722222, 32.8601444444], [39.9025, 32.8601666667], [39.9076222222, 32.8586222222], [39.908957, 32.776255], [39.9051666667, 32.8683333333], [39.9066361111, 32.8666333333], [39.9065694444, 32.8666083333], [39.9173555556, 32.8571972222], [39.918447, 32.856189], [39.918698533, 32.8559859011], [39.9186277778, 32.8550444444], [39.914954, 32.855767], [39.9195, 32.8506666667], [39.918558, 32.857584], [39.9191444444, 32.8598666667], [39.9171, 32.8576388889], [39.9166861111, 32.8579166667], [39.9462777778, 32.7633777778], [39.9225361111, 32.8427416667], [39.9115361111, 32.8128055556], [39.8744138889, 32.8629333333], [39.879984, 32.687154], [39.798823, 32.805264], [39.909177, 32.790336], [39.9092611111, 32.7552944444], [39.9086611111, 32.7552611111], [39.9378138889, 32.8590083333], [39.8762388889, 32.8602166667], [39.8716972222, 32.682175], [39.8833833333, 32.6842833333], [39.8724361111, 32.6881861111], [39.8718333333, 32.6891416667], [39.8947944444, 32.7047416667], [39.904393, 32.80981], [39.896521, 32.810608], [39.904267, 32.809198], [39.898716, 32.811738], [39.899671, 32.800067], [39.897411, 32.810009], [39.904709, 32.809146], [39.8941472222, 32.8265944444], [39.8983583333, 32.7053916667], [39.8915638889, 32.701775], [39.9497209624, 32.8446667462], [41.0078841783, 29.0495882928], [41.0433081178, 29.0020830184], [41.0425042399, 29.0024803206], [41.042240493, 29.0005263314], [41.0424369757, 29.0009393916], [41.042446332, 29.0011918545], [41.0914750646, 29.0668070689], [41.0323167213, 28.9755278081], [41.0328091391, 28.976338841], [41.1035446993, 28.7938483804], [41.0783998622, 29.0449772403], [41.0776295218, 29.0440813825], [41.07558661, 29.0429910645], [41.0784933741, 29.0448649228], [41.0784946378, 29.0451629832], [41.0420733432, 29.0089508146], [41.0433215199, 29.0041003749], [41.0415455919, 29.004217051], [41.0423530218, 29.0094255656], [41.0449140741, 29.0028447658], [40.9213312988, 29.1569970176], [41.0160130073, 28.9676048979], [41.0170696738, 28.9698666707], [41.1049031207, 29.0565657243], [41.0802240773, 29.0333297476], [40.9701762854, 29.0385191515], [41.0245994181, 28.974529691], [41.0261529673, 28.9757625014], [40.987310075, 29.0259382501], [40.9888918361, 29.0226079524], [40.9880526216, 29.0283747017], [40.9873204514, 29.0275623277], [40.9916227523, 29.0335801989], [40.9893440863, 29.0243574232], [40.9895976689, 29.0226709843], [41.0232646315, 28.9735101163], [41.0229795599, 28.977503255], [41.0238256651, 28.9700349793], [41.0258330029, 28.9810957387], [41.0227673363, 28.977272585], [41.0253147332, 28.9792446792], [41.0098968089, 29.0409401804], [41.0579843068, 29.0359452367], [41.055723358, 29.0349736065], [40.9859841503, 29.1095708683], [41.0758679154, 29.0150246769], [40.9836858008, 29.0263573453], [40.9833380422, 29.0235614777], [40.9815772016, 29.0230149776], [40.9847285593, 29.0260455385], [40.9837019991, 29.0284628794], [41.049222476, 28.9959283546], [41.0493291774, 28.9949801937], [41.0512555877, 28.9901505411], [41.0871866142, 29.0568121523], [41.0947603877, 29.0997932106], [40.9593357409, 29.0813034028], [41.0173924634, 28.9645656198], [41.0293864176, 28.9753682166], [41.0314120488, 28.9787819982], [41.036082979, 28.9817290753], [41.0324687212, 28.9766073972], [41.0287128796, 28.9763730392], [41.0361097862, 28.9849440381], [41.0315233316, 28.9761229232], [41.1366998863, 29.0585120022], [41.023674657, 28.9769939706], [41.0475508829, 29.0252931789], [41.0266469489, 28.9781811833], [40.8169010969, 29.2976808921], [40.9980324067, 29.0997546539], [40.9980857989, 29.0997513011], [41.0882926776, 28.8028200343], [41.0849739261, 28.8048675656], [41.0653215529, 29.0173260123], [41.050279621, 29.0526195243], [41.050716785, 29.0526228771], [41.0257409338, 29.0165904164], [41.0255011489, 29.0108075738]];\n",
       "                var cluster = L.markerClusterGroup({});\n",
       "\n",
       "                for (var i = 0; i &lt; data.length; i++) {\n",
       "                    var row = data[i];\n",
       "                    var marker = callback(row);\n",
       "                    marker.addTo(cluster);\n",
       "                }\n",
       "\n",
       "                cluster.addTo(map_b9d1cd50adc2dcb0596a6c4adc36364e);\n",
       "                return cluster;\n",
       "            })();\n",
       "        \n",
       "    \n",
       "            fast_marker_cluster_9a934595ad392d6a5a072c58d934843c.addTo(map_b9d1cd50adc2dcb0596a6c4adc36364e);\n",
       "        \n",
       "&lt;/script&gt;\n",
       "&lt;/html&gt;\" style=\"position:absolute;width:100%;height:100%;left:0;top:0;border:none !important;\" allowfullscreen webkitallowfullscreen mozallowfullscreen></iframe></div></div>"
      ],
      "text/plain": [
       "<folium.folium.Map at 0x20ed62aad50>"
      ]
     },
     "execution_count": 94,
     "metadata": {},
     "output_type": "execute_result"
    }
   ],
   "source": [
    "df_aux = df.loc[:,['longitude','latitude', 'city', 'restaurant_name', 'rating_color']]\n",
    "\n",
    "callback = \"\"\"\\\n",
    "    function (row) {\n",
    "    var icon, marker;\n",
    "    icon = L.AwesomeMarkers.icon({\n",
    "    icon: \"map-marker\", markerColor: 'red'});\n",
    "    marker = L.marker(new L.LatLng(row[0], row[1]));\n",
    "    marker.setIcon(icon);\n",
    "    return marker;\n",
    "};\n",
    "\"\"\"\n",
    "\n",
    "m = folium.Map()\n",
    "\n",
    "FastMarkerCluster(data=list(zip(df_aux['latitude'], df_aux['longitude'])), callback = callback).add_to(m)\n",
    "\n",
    "m\n"
   ]
  },
  {
   "cell_type": "markdown",
   "metadata": {},
   "source": [
    "## 2. Número de restaurantes por país"
   ]
  },
  {
   "cell_type": "code",
   "execution_count": 28,
   "metadata": {},
   "outputs": [
    {
     "data": {
      "application/vnd.plotly.v1+json": {
       "config": {
        "plotlyServerURL": "https://plot.ly"
       },
       "data": [
        {
         "name": "Restaurants_by_country",
         "text": [
          3120,
          1378,
          400,
          346,
          300,
          240,
          239,
          180,
          179,
          159,
          80,
          80,
          80,
          80,
          80
         ],
         "textposition": "outside",
         "type": "bar",
         "x": [
          "India",
          "United States of America",
          "England",
          "South Africa",
          "United Arab Emirates",
          "Brazil",
          "New Zeland",
          "Canada",
          "Australia",
          "Turkey",
          "Indonesia",
          "Philippines",
          "Qatar",
          "Singapure",
          "Sri Lanka"
         ],
         "y": [
          3120,
          1378,
          400,
          346,
          300,
          240,
          239,
          180,
          179,
          159,
          80,
          80,
          80,
          80,
          80
         ]
        }
       ],
       "layout": {
        "autosize": false,
        "barmode": "group",
        "height": 600,
        "template": {
         "data": {
          "bar": [
           {
            "error_x": {
             "color": "#2a3f5f"
            },
            "error_y": {
             "color": "#2a3f5f"
            },
            "marker": {
             "line": {
              "color": "#E5ECF6",
              "width": 0.5
             },
             "pattern": {
              "fillmode": "overlay",
              "size": 10,
              "solidity": 0.2
             }
            },
            "type": "bar"
           }
          ],
          "barpolar": [
           {
            "marker": {
             "line": {
              "color": "#E5ECF6",
              "width": 0.5
             },
             "pattern": {
              "fillmode": "overlay",
              "size": 10,
              "solidity": 0.2
             }
            },
            "type": "barpolar"
           }
          ],
          "carpet": [
           {
            "aaxis": {
             "endlinecolor": "#2a3f5f",
             "gridcolor": "white",
             "linecolor": "white",
             "minorgridcolor": "white",
             "startlinecolor": "#2a3f5f"
            },
            "baxis": {
             "endlinecolor": "#2a3f5f",
             "gridcolor": "white",
             "linecolor": "white",
             "minorgridcolor": "white",
             "startlinecolor": "#2a3f5f"
            },
            "type": "carpet"
           }
          ],
          "choropleth": [
           {
            "colorbar": {
             "outlinewidth": 0,
             "ticks": ""
            },
            "type": "choropleth"
           }
          ],
          "contour": [
           {
            "colorbar": {
             "outlinewidth": 0,
             "ticks": ""
            },
            "colorscale": [
             [
              0,
              "#0d0887"
             ],
             [
              0.1111111111111111,
              "#46039f"
             ],
             [
              0.2222222222222222,
              "#7201a8"
             ],
             [
              0.3333333333333333,
              "#9c179e"
             ],
             [
              0.4444444444444444,
              "#bd3786"
             ],
             [
              0.5555555555555556,
              "#d8576b"
             ],
             [
              0.6666666666666666,
              "#ed7953"
             ],
             [
              0.7777777777777778,
              "#fb9f3a"
             ],
             [
              0.8888888888888888,
              "#fdca26"
             ],
             [
              1,
              "#f0f921"
             ]
            ],
            "type": "contour"
           }
          ],
          "contourcarpet": [
           {
            "colorbar": {
             "outlinewidth": 0,
             "ticks": ""
            },
            "type": "contourcarpet"
           }
          ],
          "heatmap": [
           {
            "colorbar": {
             "outlinewidth": 0,
             "ticks": ""
            },
            "colorscale": [
             [
              0,
              "#0d0887"
             ],
             [
              0.1111111111111111,
              "#46039f"
             ],
             [
              0.2222222222222222,
              "#7201a8"
             ],
             [
              0.3333333333333333,
              "#9c179e"
             ],
             [
              0.4444444444444444,
              "#bd3786"
             ],
             [
              0.5555555555555556,
              "#d8576b"
             ],
             [
              0.6666666666666666,
              "#ed7953"
             ],
             [
              0.7777777777777778,
              "#fb9f3a"
             ],
             [
              0.8888888888888888,
              "#fdca26"
             ],
             [
              1,
              "#f0f921"
             ]
            ],
            "type": "heatmap"
           }
          ],
          "heatmapgl": [
           {
            "colorbar": {
             "outlinewidth": 0,
             "ticks": ""
            },
            "colorscale": [
             [
              0,
              "#0d0887"
             ],
             [
              0.1111111111111111,
              "#46039f"
             ],
             [
              0.2222222222222222,
              "#7201a8"
             ],
             [
              0.3333333333333333,
              "#9c179e"
             ],
             [
              0.4444444444444444,
              "#bd3786"
             ],
             [
              0.5555555555555556,
              "#d8576b"
             ],
             [
              0.6666666666666666,
              "#ed7953"
             ],
             [
              0.7777777777777778,
              "#fb9f3a"
             ],
             [
              0.8888888888888888,
              "#fdca26"
             ],
             [
              1,
              "#f0f921"
             ]
            ],
            "type": "heatmapgl"
           }
          ],
          "histogram": [
           {
            "marker": {
             "pattern": {
              "fillmode": "overlay",
              "size": 10,
              "solidity": 0.2
             }
            },
            "type": "histogram"
           }
          ],
          "histogram2d": [
           {
            "colorbar": {
             "outlinewidth": 0,
             "ticks": ""
            },
            "colorscale": [
             [
              0,
              "#0d0887"
             ],
             [
              0.1111111111111111,
              "#46039f"
             ],
             [
              0.2222222222222222,
              "#7201a8"
             ],
             [
              0.3333333333333333,
              "#9c179e"
             ],
             [
              0.4444444444444444,
              "#bd3786"
             ],
             [
              0.5555555555555556,
              "#d8576b"
             ],
             [
              0.6666666666666666,
              "#ed7953"
             ],
             [
              0.7777777777777778,
              "#fb9f3a"
             ],
             [
              0.8888888888888888,
              "#fdca26"
             ],
             [
              1,
              "#f0f921"
             ]
            ],
            "type": "histogram2d"
           }
          ],
          "histogram2dcontour": [
           {
            "colorbar": {
             "outlinewidth": 0,
             "ticks": ""
            },
            "colorscale": [
             [
              0,
              "#0d0887"
             ],
             [
              0.1111111111111111,
              "#46039f"
             ],
             [
              0.2222222222222222,
              "#7201a8"
             ],
             [
              0.3333333333333333,
              "#9c179e"
             ],
             [
              0.4444444444444444,
              "#bd3786"
             ],
             [
              0.5555555555555556,
              "#d8576b"
             ],
             [
              0.6666666666666666,
              "#ed7953"
             ],
             [
              0.7777777777777778,
              "#fb9f3a"
             ],
             [
              0.8888888888888888,
              "#fdca26"
             ],
             [
              1,
              "#f0f921"
             ]
            ],
            "type": "histogram2dcontour"
           }
          ],
          "mesh3d": [
           {
            "colorbar": {
             "outlinewidth": 0,
             "ticks": ""
            },
            "type": "mesh3d"
           }
          ],
          "parcoords": [
           {
            "line": {
             "colorbar": {
              "outlinewidth": 0,
              "ticks": ""
             }
            },
            "type": "parcoords"
           }
          ],
          "pie": [
           {
            "automargin": true,
            "type": "pie"
           }
          ],
          "scatter": [
           {
            "fillpattern": {
             "fillmode": "overlay",
             "size": 10,
             "solidity": 0.2
            },
            "type": "scatter"
           }
          ],
          "scatter3d": [
           {
            "line": {
             "colorbar": {
              "outlinewidth": 0,
              "ticks": ""
             }
            },
            "marker": {
             "colorbar": {
              "outlinewidth": 0,
              "ticks": ""
             }
            },
            "type": "scatter3d"
           }
          ],
          "scattercarpet": [
           {
            "marker": {
             "colorbar": {
              "outlinewidth": 0,
              "ticks": ""
             }
            },
            "type": "scattercarpet"
           }
          ],
          "scattergeo": [
           {
            "marker": {
             "colorbar": {
              "outlinewidth": 0,
              "ticks": ""
             }
            },
            "type": "scattergeo"
           }
          ],
          "scattergl": [
           {
            "marker": {
             "colorbar": {
              "outlinewidth": 0,
              "ticks": ""
             }
            },
            "type": "scattergl"
           }
          ],
          "scattermapbox": [
           {
            "marker": {
             "colorbar": {
              "outlinewidth": 0,
              "ticks": ""
             }
            },
            "type": "scattermapbox"
           }
          ],
          "scatterpolar": [
           {
            "marker": {
             "colorbar": {
              "outlinewidth": 0,
              "ticks": ""
             }
            },
            "type": "scatterpolar"
           }
          ],
          "scatterpolargl": [
           {
            "marker": {
             "colorbar": {
              "outlinewidth": 0,
              "ticks": ""
             }
            },
            "type": "scatterpolargl"
           }
          ],
          "scatterternary": [
           {
            "marker": {
             "colorbar": {
              "outlinewidth": 0,
              "ticks": ""
             }
            },
            "type": "scatterternary"
           }
          ],
          "surface": [
           {
            "colorbar": {
             "outlinewidth": 0,
             "ticks": ""
            },
            "colorscale": [
             [
              0,
              "#0d0887"
             ],
             [
              0.1111111111111111,
              "#46039f"
             ],
             [
              0.2222222222222222,
              "#7201a8"
             ],
             [
              0.3333333333333333,
              "#9c179e"
             ],
             [
              0.4444444444444444,
              "#bd3786"
             ],
             [
              0.5555555555555556,
              "#d8576b"
             ],
             [
              0.6666666666666666,
              "#ed7953"
             ],
             [
              0.7777777777777778,
              "#fb9f3a"
             ],
             [
              0.8888888888888888,
              "#fdca26"
             ],
             [
              1,
              "#f0f921"
             ]
            ],
            "type": "surface"
           }
          ],
          "table": [
           {
            "cells": {
             "fill": {
              "color": "#EBF0F8"
             },
             "line": {
              "color": "white"
             }
            },
            "header": {
             "fill": {
              "color": "#C8D4E3"
             },
             "line": {
              "color": "white"
             }
            },
            "type": "table"
           }
          ]
         },
         "layout": {
          "annotationdefaults": {
           "arrowcolor": "#2a3f5f",
           "arrowhead": 0,
           "arrowwidth": 1
          },
          "autotypenumbers": "strict",
          "coloraxis": {
           "colorbar": {
            "outlinewidth": 0,
            "ticks": ""
           }
          },
          "colorscale": {
           "diverging": [
            [
             0,
             "#8e0152"
            ],
            [
             0.1,
             "#c51b7d"
            ],
            [
             0.2,
             "#de77ae"
            ],
            [
             0.3,
             "#f1b6da"
            ],
            [
             0.4,
             "#fde0ef"
            ],
            [
             0.5,
             "#f7f7f7"
            ],
            [
             0.6,
             "#e6f5d0"
            ],
            [
             0.7,
             "#b8e186"
            ],
            [
             0.8,
             "#7fbc41"
            ],
            [
             0.9,
             "#4d9221"
            ],
            [
             1,
             "#276419"
            ]
           ],
           "sequential": [
            [
             0,
             "#0d0887"
            ],
            [
             0.1111111111111111,
             "#46039f"
            ],
            [
             0.2222222222222222,
             "#7201a8"
            ],
            [
             0.3333333333333333,
             "#9c179e"
            ],
            [
             0.4444444444444444,
             "#bd3786"
            ],
            [
             0.5555555555555556,
             "#d8576b"
            ],
            [
             0.6666666666666666,
             "#ed7953"
            ],
            [
             0.7777777777777778,
             "#fb9f3a"
            ],
            [
             0.8888888888888888,
             "#fdca26"
            ],
            [
             1,
             "#f0f921"
            ]
           ],
           "sequentialminus": [
            [
             0,
             "#0d0887"
            ],
            [
             0.1111111111111111,
             "#46039f"
            ],
            [
             0.2222222222222222,
             "#7201a8"
            ],
            [
             0.3333333333333333,
             "#9c179e"
            ],
            [
             0.4444444444444444,
             "#bd3786"
            ],
            [
             0.5555555555555556,
             "#d8576b"
            ],
            [
             0.6666666666666666,
             "#ed7953"
            ],
            [
             0.7777777777777778,
             "#fb9f3a"
            ],
            [
             0.8888888888888888,
             "#fdca26"
            ],
            [
             1,
             "#f0f921"
            ]
           ]
          },
          "colorway": [
           "#636efa",
           "#EF553B",
           "#00cc96",
           "#ab63fa",
           "#FFA15A",
           "#19d3f3",
           "#FF6692",
           "#B6E880",
           "#FF97FF",
           "#FECB52"
          ],
          "font": {
           "color": "#2a3f5f"
          },
          "geo": {
           "bgcolor": "white",
           "lakecolor": "white",
           "landcolor": "#E5ECF6",
           "showlakes": true,
           "showland": true,
           "subunitcolor": "white"
          },
          "hoverlabel": {
           "align": "left"
          },
          "hovermode": "closest",
          "mapbox": {
           "style": "light"
          },
          "paper_bgcolor": "white",
          "plot_bgcolor": "#E5ECF6",
          "polar": {
           "angularaxis": {
            "gridcolor": "white",
            "linecolor": "white",
            "ticks": ""
           },
           "bgcolor": "#E5ECF6",
           "radialaxis": {
            "gridcolor": "white",
            "linecolor": "white",
            "ticks": ""
           }
          },
          "scene": {
           "xaxis": {
            "backgroundcolor": "#E5ECF6",
            "gridcolor": "white",
            "gridwidth": 2,
            "linecolor": "white",
            "showbackground": true,
            "ticks": "",
            "zerolinecolor": "white"
           },
           "yaxis": {
            "backgroundcolor": "#E5ECF6",
            "gridcolor": "white",
            "gridwidth": 2,
            "linecolor": "white",
            "showbackground": true,
            "ticks": "",
            "zerolinecolor": "white"
           },
           "zaxis": {
            "backgroundcolor": "#E5ECF6",
            "gridcolor": "white",
            "gridwidth": 2,
            "linecolor": "white",
            "showbackground": true,
            "ticks": "",
            "zerolinecolor": "white"
           }
          },
          "shapedefaults": {
           "line": {
            "color": "#2a3f5f"
           }
          },
          "ternary": {
           "aaxis": {
            "gridcolor": "white",
            "linecolor": "white",
            "ticks": ""
           },
           "baxis": {
            "gridcolor": "white",
            "linecolor": "white",
            "ticks": ""
           },
           "bgcolor": "#E5ECF6",
           "caxis": {
            "gridcolor": "white",
            "linecolor": "white",
            "ticks": ""
           }
          },
          "title": {
           "x": 0.05
          },
          "xaxis": {
           "automargin": true,
           "gridcolor": "white",
           "linecolor": "white",
           "ticks": "",
           "title": {
            "standoff": 15
           },
           "zerolinecolor": "white",
           "zerolinewidth": 2
          },
          "yaxis": {
           "automargin": true,
           "gridcolor": "white",
           "linecolor": "white",
           "ticks": "",
           "title": {
            "standoff": 15
           },
           "zerolinecolor": "white",
           "zerolinewidth": 2
          }
         }
        },
        "width": 1200,
        "xaxis": {
         "title": {
          "text": "Countries"
         }
        },
        "yaxis": {
         "automargin": true,
         "title": {
          "text": "Restaurant count"
         }
        }
       }
      }
     },
     "metadata": {},
     "output_type": "display_data"
    }
   ],
   "source": [
    "df_aux01 = df.loc[:, ['restaurant_id','country']].groupby(['country']).count().sort_values('restaurant_id', ascending=False).reset_index()\n",
    "\n",
    "fig = go.Figure()\n",
    "\n",
    "fig.add_trace(go.Bar(name='Restaurants_by_country', \n",
    "                             x=df_aux01['country'], \n",
    "                             y=df_aux01['restaurant_id']),\n",
    "                             )\n",
    "fig.update_layout(barmode= 'group')\n",
    "fig.update_layout(autosize= False, width= 1200, height= 600)\n",
    "fig.update_yaxes(automargin = True)\n",
    "fig.update_layout(xaxis_title = 'Countries', yaxis_title = 'Restaurant count')\n",
    "fig.update_traces(textposition='outside', selector=dict(type='bar'))\n",
    "fig.update_traces(text= df_aux01['restaurant_id'], selector=dict(type='bar'))\n",
    "fig.show()"
   ]
  },
  {
   "cell_type": "markdown",
   "metadata": {},
   "source": [
    "## 3. Número de cidades por país "
   ]
  },
  {
   "cell_type": "code",
   "execution_count": 48,
   "metadata": {},
   "outputs": [
    {
     "data": {
      "application/vnd.plotly.v1+json": {
       "config": {
        "plotlyServerURL": "https://plot.ly"
       },
       "data": [
        {
         "name": "city_by_country",
         "text": [
          49,
          22,
          12,
          12,
          5,
          4,
          4,
          3,
          3,
          3,
          3,
          2,
          1,
          1,
          1
         ],
         "textposition": "outside",
         "type": "bar",
         "x": [
          "India",
          "United States of America",
          "Philippines",
          "South Africa",
          "England",
          "New Zeland",
          "United Arab Emirates",
          "Australia",
          "Brazil",
          "Canada",
          "Indonesia",
          "Turkey",
          "Qatar",
          "Singapure",
          "Sri Lanka"
         ],
         "y": [
          49,
          22,
          12,
          12,
          5,
          4,
          4,
          3,
          3,
          3,
          3,
          2,
          1,
          1,
          1
         ]
        }
       ],
       "layout": {
        "autosize": false,
        "height": 600,
        "template": {
         "data": {
          "bar": [
           {
            "error_x": {
             "color": "#2a3f5f"
            },
            "error_y": {
             "color": "#2a3f5f"
            },
            "marker": {
             "line": {
              "color": "#E5ECF6",
              "width": 0.5
             },
             "pattern": {
              "fillmode": "overlay",
              "size": 10,
              "solidity": 0.2
             }
            },
            "type": "bar"
           }
          ],
          "barpolar": [
           {
            "marker": {
             "line": {
              "color": "#E5ECF6",
              "width": 0.5
             },
             "pattern": {
              "fillmode": "overlay",
              "size": 10,
              "solidity": 0.2
             }
            },
            "type": "barpolar"
           }
          ],
          "carpet": [
           {
            "aaxis": {
             "endlinecolor": "#2a3f5f",
             "gridcolor": "white",
             "linecolor": "white",
             "minorgridcolor": "white",
             "startlinecolor": "#2a3f5f"
            },
            "baxis": {
             "endlinecolor": "#2a3f5f",
             "gridcolor": "white",
             "linecolor": "white",
             "minorgridcolor": "white",
             "startlinecolor": "#2a3f5f"
            },
            "type": "carpet"
           }
          ],
          "choropleth": [
           {
            "colorbar": {
             "outlinewidth": 0,
             "ticks": ""
            },
            "type": "choropleth"
           }
          ],
          "contour": [
           {
            "colorbar": {
             "outlinewidth": 0,
             "ticks": ""
            },
            "colorscale": [
             [
              0,
              "#0d0887"
             ],
             [
              0.1111111111111111,
              "#46039f"
             ],
             [
              0.2222222222222222,
              "#7201a8"
             ],
             [
              0.3333333333333333,
              "#9c179e"
             ],
             [
              0.4444444444444444,
              "#bd3786"
             ],
             [
              0.5555555555555556,
              "#d8576b"
             ],
             [
              0.6666666666666666,
              "#ed7953"
             ],
             [
              0.7777777777777778,
              "#fb9f3a"
             ],
             [
              0.8888888888888888,
              "#fdca26"
             ],
             [
              1,
              "#f0f921"
             ]
            ],
            "type": "contour"
           }
          ],
          "contourcarpet": [
           {
            "colorbar": {
             "outlinewidth": 0,
             "ticks": ""
            },
            "type": "contourcarpet"
           }
          ],
          "heatmap": [
           {
            "colorbar": {
             "outlinewidth": 0,
             "ticks": ""
            },
            "colorscale": [
             [
              0,
              "#0d0887"
             ],
             [
              0.1111111111111111,
              "#46039f"
             ],
             [
              0.2222222222222222,
              "#7201a8"
             ],
             [
              0.3333333333333333,
              "#9c179e"
             ],
             [
              0.4444444444444444,
              "#bd3786"
             ],
             [
              0.5555555555555556,
              "#d8576b"
             ],
             [
              0.6666666666666666,
              "#ed7953"
             ],
             [
              0.7777777777777778,
              "#fb9f3a"
             ],
             [
              0.8888888888888888,
              "#fdca26"
             ],
             [
              1,
              "#f0f921"
             ]
            ],
            "type": "heatmap"
           }
          ],
          "heatmapgl": [
           {
            "colorbar": {
             "outlinewidth": 0,
             "ticks": ""
            },
            "colorscale": [
             [
              0,
              "#0d0887"
             ],
             [
              0.1111111111111111,
              "#46039f"
             ],
             [
              0.2222222222222222,
              "#7201a8"
             ],
             [
              0.3333333333333333,
              "#9c179e"
             ],
             [
              0.4444444444444444,
              "#bd3786"
             ],
             [
              0.5555555555555556,
              "#d8576b"
             ],
             [
              0.6666666666666666,
              "#ed7953"
             ],
             [
              0.7777777777777778,
              "#fb9f3a"
             ],
             [
              0.8888888888888888,
              "#fdca26"
             ],
             [
              1,
              "#f0f921"
             ]
            ],
            "type": "heatmapgl"
           }
          ],
          "histogram": [
           {
            "marker": {
             "pattern": {
              "fillmode": "overlay",
              "size": 10,
              "solidity": 0.2
             }
            },
            "type": "histogram"
           }
          ],
          "histogram2d": [
           {
            "colorbar": {
             "outlinewidth": 0,
             "ticks": ""
            },
            "colorscale": [
             [
              0,
              "#0d0887"
             ],
             [
              0.1111111111111111,
              "#46039f"
             ],
             [
              0.2222222222222222,
              "#7201a8"
             ],
             [
              0.3333333333333333,
              "#9c179e"
             ],
             [
              0.4444444444444444,
              "#bd3786"
             ],
             [
              0.5555555555555556,
              "#d8576b"
             ],
             [
              0.6666666666666666,
              "#ed7953"
             ],
             [
              0.7777777777777778,
              "#fb9f3a"
             ],
             [
              0.8888888888888888,
              "#fdca26"
             ],
             [
              1,
              "#f0f921"
             ]
            ],
            "type": "histogram2d"
           }
          ],
          "histogram2dcontour": [
           {
            "colorbar": {
             "outlinewidth": 0,
             "ticks": ""
            },
            "colorscale": [
             [
              0,
              "#0d0887"
             ],
             [
              0.1111111111111111,
              "#46039f"
             ],
             [
              0.2222222222222222,
              "#7201a8"
             ],
             [
              0.3333333333333333,
              "#9c179e"
             ],
             [
              0.4444444444444444,
              "#bd3786"
             ],
             [
              0.5555555555555556,
              "#d8576b"
             ],
             [
              0.6666666666666666,
              "#ed7953"
             ],
             [
              0.7777777777777778,
              "#fb9f3a"
             ],
             [
              0.8888888888888888,
              "#fdca26"
             ],
             [
              1,
              "#f0f921"
             ]
            ],
            "type": "histogram2dcontour"
           }
          ],
          "mesh3d": [
           {
            "colorbar": {
             "outlinewidth": 0,
             "ticks": ""
            },
            "type": "mesh3d"
           }
          ],
          "parcoords": [
           {
            "line": {
             "colorbar": {
              "outlinewidth": 0,
              "ticks": ""
             }
            },
            "type": "parcoords"
           }
          ],
          "pie": [
           {
            "automargin": true,
            "type": "pie"
           }
          ],
          "scatter": [
           {
            "fillpattern": {
             "fillmode": "overlay",
             "size": 10,
             "solidity": 0.2
            },
            "type": "scatter"
           }
          ],
          "scatter3d": [
           {
            "line": {
             "colorbar": {
              "outlinewidth": 0,
              "ticks": ""
             }
            },
            "marker": {
             "colorbar": {
              "outlinewidth": 0,
              "ticks": ""
             }
            },
            "type": "scatter3d"
           }
          ],
          "scattercarpet": [
           {
            "marker": {
             "colorbar": {
              "outlinewidth": 0,
              "ticks": ""
             }
            },
            "type": "scattercarpet"
           }
          ],
          "scattergeo": [
           {
            "marker": {
             "colorbar": {
              "outlinewidth": 0,
              "ticks": ""
             }
            },
            "type": "scattergeo"
           }
          ],
          "scattergl": [
           {
            "marker": {
             "colorbar": {
              "outlinewidth": 0,
              "ticks": ""
             }
            },
            "type": "scattergl"
           }
          ],
          "scattermapbox": [
           {
            "marker": {
             "colorbar": {
              "outlinewidth": 0,
              "ticks": ""
             }
            },
            "type": "scattermapbox"
           }
          ],
          "scatterpolar": [
           {
            "marker": {
             "colorbar": {
              "outlinewidth": 0,
              "ticks": ""
             }
            },
            "type": "scatterpolar"
           }
          ],
          "scatterpolargl": [
           {
            "marker": {
             "colorbar": {
              "outlinewidth": 0,
              "ticks": ""
             }
            },
            "type": "scatterpolargl"
           }
          ],
          "scatterternary": [
           {
            "marker": {
             "colorbar": {
              "outlinewidth": 0,
              "ticks": ""
             }
            },
            "type": "scatterternary"
           }
          ],
          "surface": [
           {
            "colorbar": {
             "outlinewidth": 0,
             "ticks": ""
            },
            "colorscale": [
             [
              0,
              "#0d0887"
             ],
             [
              0.1111111111111111,
              "#46039f"
             ],
             [
              0.2222222222222222,
              "#7201a8"
             ],
             [
              0.3333333333333333,
              "#9c179e"
             ],
             [
              0.4444444444444444,
              "#bd3786"
             ],
             [
              0.5555555555555556,
              "#d8576b"
             ],
             [
              0.6666666666666666,
              "#ed7953"
             ],
             [
              0.7777777777777778,
              "#fb9f3a"
             ],
             [
              0.8888888888888888,
              "#fdca26"
             ],
             [
              1,
              "#f0f921"
             ]
            ],
            "type": "surface"
           }
          ],
          "table": [
           {
            "cells": {
             "fill": {
              "color": "#EBF0F8"
             },
             "line": {
              "color": "white"
             }
            },
            "header": {
             "fill": {
              "color": "#C8D4E3"
             },
             "line": {
              "color": "white"
             }
            },
            "type": "table"
           }
          ]
         },
         "layout": {
          "annotationdefaults": {
           "arrowcolor": "#2a3f5f",
           "arrowhead": 0,
           "arrowwidth": 1
          },
          "autotypenumbers": "strict",
          "coloraxis": {
           "colorbar": {
            "outlinewidth": 0,
            "ticks": ""
           }
          },
          "colorscale": {
           "diverging": [
            [
             0,
             "#8e0152"
            ],
            [
             0.1,
             "#c51b7d"
            ],
            [
             0.2,
             "#de77ae"
            ],
            [
             0.3,
             "#f1b6da"
            ],
            [
             0.4,
             "#fde0ef"
            ],
            [
             0.5,
             "#f7f7f7"
            ],
            [
             0.6,
             "#e6f5d0"
            ],
            [
             0.7,
             "#b8e186"
            ],
            [
             0.8,
             "#7fbc41"
            ],
            [
             0.9,
             "#4d9221"
            ],
            [
             1,
             "#276419"
            ]
           ],
           "sequential": [
            [
             0,
             "#0d0887"
            ],
            [
             0.1111111111111111,
             "#46039f"
            ],
            [
             0.2222222222222222,
             "#7201a8"
            ],
            [
             0.3333333333333333,
             "#9c179e"
            ],
            [
             0.4444444444444444,
             "#bd3786"
            ],
            [
             0.5555555555555556,
             "#d8576b"
            ],
            [
             0.6666666666666666,
             "#ed7953"
            ],
            [
             0.7777777777777778,
             "#fb9f3a"
            ],
            [
             0.8888888888888888,
             "#fdca26"
            ],
            [
             1,
             "#f0f921"
            ]
           ],
           "sequentialminus": [
            [
             0,
             "#0d0887"
            ],
            [
             0.1111111111111111,
             "#46039f"
            ],
            [
             0.2222222222222222,
             "#7201a8"
            ],
            [
             0.3333333333333333,
             "#9c179e"
            ],
            [
             0.4444444444444444,
             "#bd3786"
            ],
            [
             0.5555555555555556,
             "#d8576b"
            ],
            [
             0.6666666666666666,
             "#ed7953"
            ],
            [
             0.7777777777777778,
             "#fb9f3a"
            ],
            [
             0.8888888888888888,
             "#fdca26"
            ],
            [
             1,
             "#f0f921"
            ]
           ]
          },
          "colorway": [
           "#636efa",
           "#EF553B",
           "#00cc96",
           "#ab63fa",
           "#FFA15A",
           "#19d3f3",
           "#FF6692",
           "#B6E880",
           "#FF97FF",
           "#FECB52"
          ],
          "font": {
           "color": "#2a3f5f"
          },
          "geo": {
           "bgcolor": "white",
           "lakecolor": "white",
           "landcolor": "#E5ECF6",
           "showlakes": true,
           "showland": true,
           "subunitcolor": "white"
          },
          "hoverlabel": {
           "align": "left"
          },
          "hovermode": "closest",
          "mapbox": {
           "style": "light"
          },
          "paper_bgcolor": "white",
          "plot_bgcolor": "#E5ECF6",
          "polar": {
           "angularaxis": {
            "gridcolor": "white",
            "linecolor": "white",
            "ticks": ""
           },
           "bgcolor": "#E5ECF6",
           "radialaxis": {
            "gridcolor": "white",
            "linecolor": "white",
            "ticks": ""
           }
          },
          "scene": {
           "xaxis": {
            "backgroundcolor": "#E5ECF6",
            "gridcolor": "white",
            "gridwidth": 2,
            "linecolor": "white",
            "showbackground": true,
            "ticks": "",
            "zerolinecolor": "white"
           },
           "yaxis": {
            "backgroundcolor": "#E5ECF6",
            "gridcolor": "white",
            "gridwidth": 2,
            "linecolor": "white",
            "showbackground": true,
            "ticks": "",
            "zerolinecolor": "white"
           },
           "zaxis": {
            "backgroundcolor": "#E5ECF6",
            "gridcolor": "white",
            "gridwidth": 2,
            "linecolor": "white",
            "showbackground": true,
            "ticks": "",
            "zerolinecolor": "white"
           }
          },
          "shapedefaults": {
           "line": {
            "color": "#2a3f5f"
           }
          },
          "ternary": {
           "aaxis": {
            "gridcolor": "white",
            "linecolor": "white",
            "ticks": ""
           },
           "baxis": {
            "gridcolor": "white",
            "linecolor": "white",
            "ticks": ""
           },
           "bgcolor": "#E5ECF6",
           "caxis": {
            "gridcolor": "white",
            "linecolor": "white",
            "ticks": ""
           }
          },
          "title": {
           "x": 0.05
          },
          "xaxis": {
           "automargin": true,
           "gridcolor": "white",
           "linecolor": "white",
           "ticks": "",
           "title": {
            "standoff": 15
           },
           "zerolinecolor": "white",
           "zerolinewidth": 2
          },
          "yaxis": {
           "automargin": true,
           "gridcolor": "white",
           "linecolor": "white",
           "ticks": "",
           "title": {
            "standoff": 15
           },
           "zerolinecolor": "white",
           "zerolinewidth": 2
          }
         }
        },
        "width": 1200,
        "xaxis": {
         "title": {
          "text": "Countries"
         }
        },
        "yaxis": {
         "automargin": true,
         "title": {
          "text": "City count"
         }
        }
       }
      }
     },
     "metadata": {},
     "output_type": "display_data"
    }
   ],
   "source": [
    "grouped = df.loc[:, ['city','country']].groupby('country').nunique().sort_values('city', ascending=False).reset_index()\n",
    "\n",
    "fig = go.Figure()\n",
    "\n",
    "fig.add_trace(go.Bar(name='city_by_country',\n",
    "                     x= grouped['country'],\n",
    "                     y= grouped['city']))\n",
    "\n",
    "fig.update_layout(autosize= False, width=1200, height= 600)\n",
    "fig.update_yaxes(automargin = True)\n",
    "fig.update_layout(xaxis_title= 'Countries', yaxis_title= 'City count')\n",
    "fig.update_traces(textposition= 'outside')\n",
    "fig.update_traces(text= grouped['city'])\n",
    "\n",
    "\n",
    "fig.show()\n"
   ]
  },
  {
   "cell_type": "markdown",
   "metadata": {},
   "source": [
    "## 4. Top 10 países com maiores notas"
   ]
  },
  {
   "cell_type": "code",
   "execution_count": 27,
   "metadata": {},
   "outputs": [
    {
     "data": {
      "application/vnd.plotly.v1+json": {
       "config": {
        "plotlyServerURL": "https://plot.ly"
       },
       "data": [
        {
         "marker": {
          "color": [
           "#636efa",
           "#636efa",
           "#636efa",
           "#636efa",
           "#636efa",
           "#636efa",
           "#636efa",
           "#c7c704",
           "#878901",
           "#4d4f00"
          ]
         },
         "name": "top_best_rating",
         "orientation": "h",
         "text": [
          3.32,
          4.02,
          4.03,
          4.04,
          4.06,
          4.06,
          4.16,
          4.24,
          4.31,
          4.32
         ],
         "textposition": "outside",
         "type": "bar",
         "x": [
          3.32,
          4.02,
          4.03,
          4.04,
          4.06,
          4.06,
          4.16,
          4.24,
          4.31,
          4.32
         ],
         "y": [
          "Brazil",
          "United Arab Emirates",
          "India",
          "England",
          "Sri Lanka",
          "South Africa",
          "New Zeland",
          "Qatar",
          "Turkey",
          "Canada"
         ]
        }
       ],
       "layout": {
        "autosize": false,
        "height": 600,
        "template": {
         "data": {
          "bar": [
           {
            "error_x": {
             "color": "#2a3f5f"
            },
            "error_y": {
             "color": "#2a3f5f"
            },
            "marker": {
             "line": {
              "color": "#E5ECF6",
              "width": 0.5
             },
             "pattern": {
              "fillmode": "overlay",
              "size": 10,
              "solidity": 0.2
             }
            },
            "type": "bar"
           }
          ],
          "barpolar": [
           {
            "marker": {
             "line": {
              "color": "#E5ECF6",
              "width": 0.5
             },
             "pattern": {
              "fillmode": "overlay",
              "size": 10,
              "solidity": 0.2
             }
            },
            "type": "barpolar"
           }
          ],
          "carpet": [
           {
            "aaxis": {
             "endlinecolor": "#2a3f5f",
             "gridcolor": "white",
             "linecolor": "white",
             "minorgridcolor": "white",
             "startlinecolor": "#2a3f5f"
            },
            "baxis": {
             "endlinecolor": "#2a3f5f",
             "gridcolor": "white",
             "linecolor": "white",
             "minorgridcolor": "white",
             "startlinecolor": "#2a3f5f"
            },
            "type": "carpet"
           }
          ],
          "choropleth": [
           {
            "colorbar": {
             "outlinewidth": 0,
             "ticks": ""
            },
            "type": "choropleth"
           }
          ],
          "contour": [
           {
            "colorbar": {
             "outlinewidth": 0,
             "ticks": ""
            },
            "colorscale": [
             [
              0,
              "#0d0887"
             ],
             [
              0.1111111111111111,
              "#46039f"
             ],
             [
              0.2222222222222222,
              "#7201a8"
             ],
             [
              0.3333333333333333,
              "#9c179e"
             ],
             [
              0.4444444444444444,
              "#bd3786"
             ],
             [
              0.5555555555555556,
              "#d8576b"
             ],
             [
              0.6666666666666666,
              "#ed7953"
             ],
             [
              0.7777777777777778,
              "#fb9f3a"
             ],
             [
              0.8888888888888888,
              "#fdca26"
             ],
             [
              1,
              "#f0f921"
             ]
            ],
            "type": "contour"
           }
          ],
          "contourcarpet": [
           {
            "colorbar": {
             "outlinewidth": 0,
             "ticks": ""
            },
            "type": "contourcarpet"
           }
          ],
          "heatmap": [
           {
            "colorbar": {
             "outlinewidth": 0,
             "ticks": ""
            },
            "colorscale": [
             [
              0,
              "#0d0887"
             ],
             [
              0.1111111111111111,
              "#46039f"
             ],
             [
              0.2222222222222222,
              "#7201a8"
             ],
             [
              0.3333333333333333,
              "#9c179e"
             ],
             [
              0.4444444444444444,
              "#bd3786"
             ],
             [
              0.5555555555555556,
              "#d8576b"
             ],
             [
              0.6666666666666666,
              "#ed7953"
             ],
             [
              0.7777777777777778,
              "#fb9f3a"
             ],
             [
              0.8888888888888888,
              "#fdca26"
             ],
             [
              1,
              "#f0f921"
             ]
            ],
            "type": "heatmap"
           }
          ],
          "heatmapgl": [
           {
            "colorbar": {
             "outlinewidth": 0,
             "ticks": ""
            },
            "colorscale": [
             [
              0,
              "#0d0887"
             ],
             [
              0.1111111111111111,
              "#46039f"
             ],
             [
              0.2222222222222222,
              "#7201a8"
             ],
             [
              0.3333333333333333,
              "#9c179e"
             ],
             [
              0.4444444444444444,
              "#bd3786"
             ],
             [
              0.5555555555555556,
              "#d8576b"
             ],
             [
              0.6666666666666666,
              "#ed7953"
             ],
             [
              0.7777777777777778,
              "#fb9f3a"
             ],
             [
              0.8888888888888888,
              "#fdca26"
             ],
             [
              1,
              "#f0f921"
             ]
            ],
            "type": "heatmapgl"
           }
          ],
          "histogram": [
           {
            "marker": {
             "pattern": {
              "fillmode": "overlay",
              "size": 10,
              "solidity": 0.2
             }
            },
            "type": "histogram"
           }
          ],
          "histogram2d": [
           {
            "colorbar": {
             "outlinewidth": 0,
             "ticks": ""
            },
            "colorscale": [
             [
              0,
              "#0d0887"
             ],
             [
              0.1111111111111111,
              "#46039f"
             ],
             [
              0.2222222222222222,
              "#7201a8"
             ],
             [
              0.3333333333333333,
              "#9c179e"
             ],
             [
              0.4444444444444444,
              "#bd3786"
             ],
             [
              0.5555555555555556,
              "#d8576b"
             ],
             [
              0.6666666666666666,
              "#ed7953"
             ],
             [
              0.7777777777777778,
              "#fb9f3a"
             ],
             [
              0.8888888888888888,
              "#fdca26"
             ],
             [
              1,
              "#f0f921"
             ]
            ],
            "type": "histogram2d"
           }
          ],
          "histogram2dcontour": [
           {
            "colorbar": {
             "outlinewidth": 0,
             "ticks": ""
            },
            "colorscale": [
             [
              0,
              "#0d0887"
             ],
             [
              0.1111111111111111,
              "#46039f"
             ],
             [
              0.2222222222222222,
              "#7201a8"
             ],
             [
              0.3333333333333333,
              "#9c179e"
             ],
             [
              0.4444444444444444,
              "#bd3786"
             ],
             [
              0.5555555555555556,
              "#d8576b"
             ],
             [
              0.6666666666666666,
              "#ed7953"
             ],
             [
              0.7777777777777778,
              "#fb9f3a"
             ],
             [
              0.8888888888888888,
              "#fdca26"
             ],
             [
              1,
              "#f0f921"
             ]
            ],
            "type": "histogram2dcontour"
           }
          ],
          "mesh3d": [
           {
            "colorbar": {
             "outlinewidth": 0,
             "ticks": ""
            },
            "type": "mesh3d"
           }
          ],
          "parcoords": [
           {
            "line": {
             "colorbar": {
              "outlinewidth": 0,
              "ticks": ""
             }
            },
            "type": "parcoords"
           }
          ],
          "pie": [
           {
            "automargin": true,
            "type": "pie"
           }
          ],
          "scatter": [
           {
            "fillpattern": {
             "fillmode": "overlay",
             "size": 10,
             "solidity": 0.2
            },
            "type": "scatter"
           }
          ],
          "scatter3d": [
           {
            "line": {
             "colorbar": {
              "outlinewidth": 0,
              "ticks": ""
             }
            },
            "marker": {
             "colorbar": {
              "outlinewidth": 0,
              "ticks": ""
             }
            },
            "type": "scatter3d"
           }
          ],
          "scattercarpet": [
           {
            "marker": {
             "colorbar": {
              "outlinewidth": 0,
              "ticks": ""
             }
            },
            "type": "scattercarpet"
           }
          ],
          "scattergeo": [
           {
            "marker": {
             "colorbar": {
              "outlinewidth": 0,
              "ticks": ""
             }
            },
            "type": "scattergeo"
           }
          ],
          "scattergl": [
           {
            "marker": {
             "colorbar": {
              "outlinewidth": 0,
              "ticks": ""
             }
            },
            "type": "scattergl"
           }
          ],
          "scattermapbox": [
           {
            "marker": {
             "colorbar": {
              "outlinewidth": 0,
              "ticks": ""
             }
            },
            "type": "scattermapbox"
           }
          ],
          "scatterpolar": [
           {
            "marker": {
             "colorbar": {
              "outlinewidth": 0,
              "ticks": ""
             }
            },
            "type": "scatterpolar"
           }
          ],
          "scatterpolargl": [
           {
            "marker": {
             "colorbar": {
              "outlinewidth": 0,
              "ticks": ""
             }
            },
            "type": "scatterpolargl"
           }
          ],
          "scatterternary": [
           {
            "marker": {
             "colorbar": {
              "outlinewidth": 0,
              "ticks": ""
             }
            },
            "type": "scatterternary"
           }
          ],
          "surface": [
           {
            "colorbar": {
             "outlinewidth": 0,
             "ticks": ""
            },
            "colorscale": [
             [
              0,
              "#0d0887"
             ],
             [
              0.1111111111111111,
              "#46039f"
             ],
             [
              0.2222222222222222,
              "#7201a8"
             ],
             [
              0.3333333333333333,
              "#9c179e"
             ],
             [
              0.4444444444444444,
              "#bd3786"
             ],
             [
              0.5555555555555556,
              "#d8576b"
             ],
             [
              0.6666666666666666,
              "#ed7953"
             ],
             [
              0.7777777777777778,
              "#fb9f3a"
             ],
             [
              0.8888888888888888,
              "#fdca26"
             ],
             [
              1,
              "#f0f921"
             ]
            ],
            "type": "surface"
           }
          ],
          "table": [
           {
            "cells": {
             "fill": {
              "color": "#EBF0F8"
             },
             "line": {
              "color": "white"
             }
            },
            "header": {
             "fill": {
              "color": "#C8D4E3"
             },
             "line": {
              "color": "white"
             }
            },
            "type": "table"
           }
          ]
         },
         "layout": {
          "annotationdefaults": {
           "arrowcolor": "#2a3f5f",
           "arrowhead": 0,
           "arrowwidth": 1
          },
          "autotypenumbers": "strict",
          "coloraxis": {
           "colorbar": {
            "outlinewidth": 0,
            "ticks": ""
           }
          },
          "colorscale": {
           "diverging": [
            [
             0,
             "#8e0152"
            ],
            [
             0.1,
             "#c51b7d"
            ],
            [
             0.2,
             "#de77ae"
            ],
            [
             0.3,
             "#f1b6da"
            ],
            [
             0.4,
             "#fde0ef"
            ],
            [
             0.5,
             "#f7f7f7"
            ],
            [
             0.6,
             "#e6f5d0"
            ],
            [
             0.7,
             "#b8e186"
            ],
            [
             0.8,
             "#7fbc41"
            ],
            [
             0.9,
             "#4d9221"
            ],
            [
             1,
             "#276419"
            ]
           ],
           "sequential": [
            [
             0,
             "#0d0887"
            ],
            [
             0.1111111111111111,
             "#46039f"
            ],
            [
             0.2222222222222222,
             "#7201a8"
            ],
            [
             0.3333333333333333,
             "#9c179e"
            ],
            [
             0.4444444444444444,
             "#bd3786"
            ],
            [
             0.5555555555555556,
             "#d8576b"
            ],
            [
             0.6666666666666666,
             "#ed7953"
            ],
            [
             0.7777777777777778,
             "#fb9f3a"
            ],
            [
             0.8888888888888888,
             "#fdca26"
            ],
            [
             1,
             "#f0f921"
            ]
           ],
           "sequentialminus": [
            [
             0,
             "#0d0887"
            ],
            [
             0.1111111111111111,
             "#46039f"
            ],
            [
             0.2222222222222222,
             "#7201a8"
            ],
            [
             0.3333333333333333,
             "#9c179e"
            ],
            [
             0.4444444444444444,
             "#bd3786"
            ],
            [
             0.5555555555555556,
             "#d8576b"
            ],
            [
             0.6666666666666666,
             "#ed7953"
            ],
            [
             0.7777777777777778,
             "#fb9f3a"
            ],
            [
             0.8888888888888888,
             "#fdca26"
            ],
            [
             1,
             "#f0f921"
            ]
           ]
          },
          "colorway": [
           "#636efa",
           "#EF553B",
           "#00cc96",
           "#ab63fa",
           "#FFA15A",
           "#19d3f3",
           "#FF6692",
           "#B6E880",
           "#FF97FF",
           "#FECB52"
          ],
          "font": {
           "color": "#2a3f5f"
          },
          "geo": {
           "bgcolor": "white",
           "lakecolor": "white",
           "landcolor": "#E5ECF6",
           "showlakes": true,
           "showland": true,
           "subunitcolor": "white"
          },
          "hoverlabel": {
           "align": "left"
          },
          "hovermode": "closest",
          "mapbox": {
           "style": "light"
          },
          "paper_bgcolor": "white",
          "plot_bgcolor": "#E5ECF6",
          "polar": {
           "angularaxis": {
            "gridcolor": "white",
            "linecolor": "white",
            "ticks": ""
           },
           "bgcolor": "#E5ECF6",
           "radialaxis": {
            "gridcolor": "white",
            "linecolor": "white",
            "ticks": ""
           }
          },
          "scene": {
           "xaxis": {
            "backgroundcolor": "#E5ECF6",
            "gridcolor": "white",
            "gridwidth": 2,
            "linecolor": "white",
            "showbackground": true,
            "ticks": "",
            "zerolinecolor": "white"
           },
           "yaxis": {
            "backgroundcolor": "#E5ECF6",
            "gridcolor": "white",
            "gridwidth": 2,
            "linecolor": "white",
            "showbackground": true,
            "ticks": "",
            "zerolinecolor": "white"
           },
           "zaxis": {
            "backgroundcolor": "#E5ECF6",
            "gridcolor": "white",
            "gridwidth": 2,
            "linecolor": "white",
            "showbackground": true,
            "ticks": "",
            "zerolinecolor": "white"
           }
          },
          "shapedefaults": {
           "line": {
            "color": "#2a3f5f"
           }
          },
          "ternary": {
           "aaxis": {
            "gridcolor": "white",
            "linecolor": "white",
            "ticks": ""
           },
           "baxis": {
            "gridcolor": "white",
            "linecolor": "white",
            "ticks": ""
           },
           "bgcolor": "#E5ECF6",
           "caxis": {
            "gridcolor": "white",
            "linecolor": "white",
            "ticks": ""
           }
          },
          "title": {
           "x": 0.05
          },
          "xaxis": {
           "automargin": true,
           "gridcolor": "white",
           "linecolor": "white",
           "ticks": "",
           "title": {
            "standoff": 15
           },
           "zerolinecolor": "white",
           "zerolinewidth": 2
          },
          "yaxis": {
           "automargin": true,
           "gridcolor": "white",
           "linecolor": "white",
           "ticks": "",
           "title": {
            "standoff": 15
           },
           "zerolinecolor": "white",
           "zerolinewidth": 2
          }
         }
        },
        "width": 1200,
        "xaxis": {
         "title": {
          "text": "Countries"
         }
        },
        "yaxis": {
         "automargin": true,
         "title": {
          "text": "Avg. Ratings"
         }
        }
       }
      }
     },
     "metadata": {},
     "output_type": "display_data"
    }
   ],
   "source": [
    "avg_rating = np.round(df.loc[:,['aggregate_rating', 'country']].groupby('country').mean().sort_values('aggregate_rating', ascending=True).reset_index(), 2).head(10)\n",
    "avg_votes = df.loc[:,['votes', 'country']].groupby('country').mean().sort_values('votes', ascending=False).reset_index()\n",
    "\n",
    "colors1 = ['#636efa'] * 7 + ['#c7c704', '#878901', '#4d4f00'] \n",
    "\n",
    "fig = go.Figure()\n",
    "\n",
    "fig.add_trace(go.Bar(name='top_best_rating', \n",
    "                     x= avg_rating['aggregate_rating'], \n",
    "                     y= avg_rating['country'],\n",
    "                     orientation= 'h',\n",
    "                     marker_color = colors1))\n",
    "\n",
    "fig.update_layout(autosize = False, width= 1200, height= 600)\n",
    "fig.update_yaxes(automargin= True)\n",
    "fig.update_layout(xaxis_title= 'Countries', yaxis_title= 'Avg. Ratings')\n",
    "fig.update_traces(text= avg_rating['aggregate_rating'])\n",
    "fig.update_traces(textposition = 'outside')\n",
    "\n",
    "fig.show()\n"
   ]
  },
  {
   "cell_type": "markdown",
   "metadata": {},
   "source": [
    "## 5. Top 10 países com mais avaliações"
   ]
  },
  {
   "cell_type": "code",
   "execution_count": 28,
   "metadata": {},
   "outputs": [
    {
     "data": {
      "application/vnd.plotly.v1+json": {
       "config": {
        "plotlyServerURL": "https://plot.ly"
       },
       "data": [
        {
         "marker": {
          "color": [
           "#636efa",
           "#636efa",
           "#636efa",
           "#636efa",
           "#636efa",
           "#636efa",
           "#636efa",
           "#c7c704",
           "#878901",
           "#4d4f00"
          ]
         },
         "name": "top_votes",
         "orientation": "h",
         "text": [
          12.4,
          22.78,
          99.89,
          151.66,
          219.8,
          236.82,
          376.32,
          379.84,
          583.43,
          591.88
         ],
         "textposition": "outside",
         "type": "bar",
         "x": [
          12.4,
          22.78,
          99.89,
          151.66,
          219.8,
          236.82,
          376.32,
          379.84,
          583.43,
          591.88
         ],
         "y": [
          "Brazil",
          "Singapure",
          "England",
          "Sri Lanka",
          "New Zeland",
          "South Africa",
          "Qatar",
          "United States of America",
          "Canada",
          "United Arab Emirates"
         ]
        }
       ],
       "layout": {
        "autosize": false,
        "height": 600,
        "template": {
         "data": {
          "bar": [
           {
            "error_x": {
             "color": "#2a3f5f"
            },
            "error_y": {
             "color": "#2a3f5f"
            },
            "marker": {
             "line": {
              "color": "#E5ECF6",
              "width": 0.5
             },
             "pattern": {
              "fillmode": "overlay",
              "size": 10,
              "solidity": 0.2
             }
            },
            "type": "bar"
           }
          ],
          "barpolar": [
           {
            "marker": {
             "line": {
              "color": "#E5ECF6",
              "width": 0.5
             },
             "pattern": {
              "fillmode": "overlay",
              "size": 10,
              "solidity": 0.2
             }
            },
            "type": "barpolar"
           }
          ],
          "carpet": [
           {
            "aaxis": {
             "endlinecolor": "#2a3f5f",
             "gridcolor": "white",
             "linecolor": "white",
             "minorgridcolor": "white",
             "startlinecolor": "#2a3f5f"
            },
            "baxis": {
             "endlinecolor": "#2a3f5f",
             "gridcolor": "white",
             "linecolor": "white",
             "minorgridcolor": "white",
             "startlinecolor": "#2a3f5f"
            },
            "type": "carpet"
           }
          ],
          "choropleth": [
           {
            "colorbar": {
             "outlinewidth": 0,
             "ticks": ""
            },
            "type": "choropleth"
           }
          ],
          "contour": [
           {
            "colorbar": {
             "outlinewidth": 0,
             "ticks": ""
            },
            "colorscale": [
             [
              0,
              "#0d0887"
             ],
             [
              0.1111111111111111,
              "#46039f"
             ],
             [
              0.2222222222222222,
              "#7201a8"
             ],
             [
              0.3333333333333333,
              "#9c179e"
             ],
             [
              0.4444444444444444,
              "#bd3786"
             ],
             [
              0.5555555555555556,
              "#d8576b"
             ],
             [
              0.6666666666666666,
              "#ed7953"
             ],
             [
              0.7777777777777778,
              "#fb9f3a"
             ],
             [
              0.8888888888888888,
              "#fdca26"
             ],
             [
              1,
              "#f0f921"
             ]
            ],
            "type": "contour"
           }
          ],
          "contourcarpet": [
           {
            "colorbar": {
             "outlinewidth": 0,
             "ticks": ""
            },
            "type": "contourcarpet"
           }
          ],
          "heatmap": [
           {
            "colorbar": {
             "outlinewidth": 0,
             "ticks": ""
            },
            "colorscale": [
             [
              0,
              "#0d0887"
             ],
             [
              0.1111111111111111,
              "#46039f"
             ],
             [
              0.2222222222222222,
              "#7201a8"
             ],
             [
              0.3333333333333333,
              "#9c179e"
             ],
             [
              0.4444444444444444,
              "#bd3786"
             ],
             [
              0.5555555555555556,
              "#d8576b"
             ],
             [
              0.6666666666666666,
              "#ed7953"
             ],
             [
              0.7777777777777778,
              "#fb9f3a"
             ],
             [
              0.8888888888888888,
              "#fdca26"
             ],
             [
              1,
              "#f0f921"
             ]
            ],
            "type": "heatmap"
           }
          ],
          "heatmapgl": [
           {
            "colorbar": {
             "outlinewidth": 0,
             "ticks": ""
            },
            "colorscale": [
             [
              0,
              "#0d0887"
             ],
             [
              0.1111111111111111,
              "#46039f"
             ],
             [
              0.2222222222222222,
              "#7201a8"
             ],
             [
              0.3333333333333333,
              "#9c179e"
             ],
             [
              0.4444444444444444,
              "#bd3786"
             ],
             [
              0.5555555555555556,
              "#d8576b"
             ],
             [
              0.6666666666666666,
              "#ed7953"
             ],
             [
              0.7777777777777778,
              "#fb9f3a"
             ],
             [
              0.8888888888888888,
              "#fdca26"
             ],
             [
              1,
              "#f0f921"
             ]
            ],
            "type": "heatmapgl"
           }
          ],
          "histogram": [
           {
            "marker": {
             "pattern": {
              "fillmode": "overlay",
              "size": 10,
              "solidity": 0.2
             }
            },
            "type": "histogram"
           }
          ],
          "histogram2d": [
           {
            "colorbar": {
             "outlinewidth": 0,
             "ticks": ""
            },
            "colorscale": [
             [
              0,
              "#0d0887"
             ],
             [
              0.1111111111111111,
              "#46039f"
             ],
             [
              0.2222222222222222,
              "#7201a8"
             ],
             [
              0.3333333333333333,
              "#9c179e"
             ],
             [
              0.4444444444444444,
              "#bd3786"
             ],
             [
              0.5555555555555556,
              "#d8576b"
             ],
             [
              0.6666666666666666,
              "#ed7953"
             ],
             [
              0.7777777777777778,
              "#fb9f3a"
             ],
             [
              0.8888888888888888,
              "#fdca26"
             ],
             [
              1,
              "#f0f921"
             ]
            ],
            "type": "histogram2d"
           }
          ],
          "histogram2dcontour": [
           {
            "colorbar": {
             "outlinewidth": 0,
             "ticks": ""
            },
            "colorscale": [
             [
              0,
              "#0d0887"
             ],
             [
              0.1111111111111111,
              "#46039f"
             ],
             [
              0.2222222222222222,
              "#7201a8"
             ],
             [
              0.3333333333333333,
              "#9c179e"
             ],
             [
              0.4444444444444444,
              "#bd3786"
             ],
             [
              0.5555555555555556,
              "#d8576b"
             ],
             [
              0.6666666666666666,
              "#ed7953"
             ],
             [
              0.7777777777777778,
              "#fb9f3a"
             ],
             [
              0.8888888888888888,
              "#fdca26"
             ],
             [
              1,
              "#f0f921"
             ]
            ],
            "type": "histogram2dcontour"
           }
          ],
          "mesh3d": [
           {
            "colorbar": {
             "outlinewidth": 0,
             "ticks": ""
            },
            "type": "mesh3d"
           }
          ],
          "parcoords": [
           {
            "line": {
             "colorbar": {
              "outlinewidth": 0,
              "ticks": ""
             }
            },
            "type": "parcoords"
           }
          ],
          "pie": [
           {
            "automargin": true,
            "type": "pie"
           }
          ],
          "scatter": [
           {
            "fillpattern": {
             "fillmode": "overlay",
             "size": 10,
             "solidity": 0.2
            },
            "type": "scatter"
           }
          ],
          "scatter3d": [
           {
            "line": {
             "colorbar": {
              "outlinewidth": 0,
              "ticks": ""
             }
            },
            "marker": {
             "colorbar": {
              "outlinewidth": 0,
              "ticks": ""
             }
            },
            "type": "scatter3d"
           }
          ],
          "scattercarpet": [
           {
            "marker": {
             "colorbar": {
              "outlinewidth": 0,
              "ticks": ""
             }
            },
            "type": "scattercarpet"
           }
          ],
          "scattergeo": [
           {
            "marker": {
             "colorbar": {
              "outlinewidth": 0,
              "ticks": ""
             }
            },
            "type": "scattergeo"
           }
          ],
          "scattergl": [
           {
            "marker": {
             "colorbar": {
              "outlinewidth": 0,
              "ticks": ""
             }
            },
            "type": "scattergl"
           }
          ],
          "scattermapbox": [
           {
            "marker": {
             "colorbar": {
              "outlinewidth": 0,
              "ticks": ""
             }
            },
            "type": "scattermapbox"
           }
          ],
          "scatterpolar": [
           {
            "marker": {
             "colorbar": {
              "outlinewidth": 0,
              "ticks": ""
             }
            },
            "type": "scatterpolar"
           }
          ],
          "scatterpolargl": [
           {
            "marker": {
             "colorbar": {
              "outlinewidth": 0,
              "ticks": ""
             }
            },
            "type": "scatterpolargl"
           }
          ],
          "scatterternary": [
           {
            "marker": {
             "colorbar": {
              "outlinewidth": 0,
              "ticks": ""
             }
            },
            "type": "scatterternary"
           }
          ],
          "surface": [
           {
            "colorbar": {
             "outlinewidth": 0,
             "ticks": ""
            },
            "colorscale": [
             [
              0,
              "#0d0887"
             ],
             [
              0.1111111111111111,
              "#46039f"
             ],
             [
              0.2222222222222222,
              "#7201a8"
             ],
             [
              0.3333333333333333,
              "#9c179e"
             ],
             [
              0.4444444444444444,
              "#bd3786"
             ],
             [
              0.5555555555555556,
              "#d8576b"
             ],
             [
              0.6666666666666666,
              "#ed7953"
             ],
             [
              0.7777777777777778,
              "#fb9f3a"
             ],
             [
              0.8888888888888888,
              "#fdca26"
             ],
             [
              1,
              "#f0f921"
             ]
            ],
            "type": "surface"
           }
          ],
          "table": [
           {
            "cells": {
             "fill": {
              "color": "#EBF0F8"
             },
             "line": {
              "color": "white"
             }
            },
            "header": {
             "fill": {
              "color": "#C8D4E3"
             },
             "line": {
              "color": "white"
             }
            },
            "type": "table"
           }
          ]
         },
         "layout": {
          "annotationdefaults": {
           "arrowcolor": "#2a3f5f",
           "arrowhead": 0,
           "arrowwidth": 1
          },
          "autotypenumbers": "strict",
          "coloraxis": {
           "colorbar": {
            "outlinewidth": 0,
            "ticks": ""
           }
          },
          "colorscale": {
           "diverging": [
            [
             0,
             "#8e0152"
            ],
            [
             0.1,
             "#c51b7d"
            ],
            [
             0.2,
             "#de77ae"
            ],
            [
             0.3,
             "#f1b6da"
            ],
            [
             0.4,
             "#fde0ef"
            ],
            [
             0.5,
             "#f7f7f7"
            ],
            [
             0.6,
             "#e6f5d0"
            ],
            [
             0.7,
             "#b8e186"
            ],
            [
             0.8,
             "#7fbc41"
            ],
            [
             0.9,
             "#4d9221"
            ],
            [
             1,
             "#276419"
            ]
           ],
           "sequential": [
            [
             0,
             "#0d0887"
            ],
            [
             0.1111111111111111,
             "#46039f"
            ],
            [
             0.2222222222222222,
             "#7201a8"
            ],
            [
             0.3333333333333333,
             "#9c179e"
            ],
            [
             0.4444444444444444,
             "#bd3786"
            ],
            [
             0.5555555555555556,
             "#d8576b"
            ],
            [
             0.6666666666666666,
             "#ed7953"
            ],
            [
             0.7777777777777778,
             "#fb9f3a"
            ],
            [
             0.8888888888888888,
             "#fdca26"
            ],
            [
             1,
             "#f0f921"
            ]
           ],
           "sequentialminus": [
            [
             0,
             "#0d0887"
            ],
            [
             0.1111111111111111,
             "#46039f"
            ],
            [
             0.2222222222222222,
             "#7201a8"
            ],
            [
             0.3333333333333333,
             "#9c179e"
            ],
            [
             0.4444444444444444,
             "#bd3786"
            ],
            [
             0.5555555555555556,
             "#d8576b"
            ],
            [
             0.6666666666666666,
             "#ed7953"
            ],
            [
             0.7777777777777778,
             "#fb9f3a"
            ],
            [
             0.8888888888888888,
             "#fdca26"
            ],
            [
             1,
             "#f0f921"
            ]
           ]
          },
          "colorway": [
           "#636efa",
           "#EF553B",
           "#00cc96",
           "#ab63fa",
           "#FFA15A",
           "#19d3f3",
           "#FF6692",
           "#B6E880",
           "#FF97FF",
           "#FECB52"
          ],
          "font": {
           "color": "#2a3f5f"
          },
          "geo": {
           "bgcolor": "white",
           "lakecolor": "white",
           "landcolor": "#E5ECF6",
           "showlakes": true,
           "showland": true,
           "subunitcolor": "white"
          },
          "hoverlabel": {
           "align": "left"
          },
          "hovermode": "closest",
          "mapbox": {
           "style": "light"
          },
          "paper_bgcolor": "white",
          "plot_bgcolor": "#E5ECF6",
          "polar": {
           "angularaxis": {
            "gridcolor": "white",
            "linecolor": "white",
            "ticks": ""
           },
           "bgcolor": "#E5ECF6",
           "radialaxis": {
            "gridcolor": "white",
            "linecolor": "white",
            "ticks": ""
           }
          },
          "scene": {
           "xaxis": {
            "backgroundcolor": "#E5ECF6",
            "gridcolor": "white",
            "gridwidth": 2,
            "linecolor": "white",
            "showbackground": true,
            "ticks": "",
            "zerolinecolor": "white"
           },
           "yaxis": {
            "backgroundcolor": "#E5ECF6",
            "gridcolor": "white",
            "gridwidth": 2,
            "linecolor": "white",
            "showbackground": true,
            "ticks": "",
            "zerolinecolor": "white"
           },
           "zaxis": {
            "backgroundcolor": "#E5ECF6",
            "gridcolor": "white",
            "gridwidth": 2,
            "linecolor": "white",
            "showbackground": true,
            "ticks": "",
            "zerolinecolor": "white"
           }
          },
          "shapedefaults": {
           "line": {
            "color": "#2a3f5f"
           }
          },
          "ternary": {
           "aaxis": {
            "gridcolor": "white",
            "linecolor": "white",
            "ticks": ""
           },
           "baxis": {
            "gridcolor": "white",
            "linecolor": "white",
            "ticks": ""
           },
           "bgcolor": "#E5ECF6",
           "caxis": {
            "gridcolor": "white",
            "linecolor": "white",
            "ticks": ""
           }
          },
          "title": {
           "x": 0.05
          },
          "xaxis": {
           "automargin": true,
           "gridcolor": "white",
           "linecolor": "white",
           "ticks": "",
           "title": {
            "standoff": 15
           },
           "zerolinecolor": "white",
           "zerolinewidth": 2
          },
          "yaxis": {
           "automargin": true,
           "gridcolor": "white",
           "linecolor": "white",
           "ticks": "",
           "title": {
            "standoff": 15
           },
           "zerolinecolor": "white",
           "zerolinewidth": 2
          }
         }
        },
        "width": 1200,
        "xaxis": {
         "title": {
          "text": "Avg. Votes"
         }
        },
        "yaxis": {
         "automargin": true,
         "title": {
          "text": "Countries"
         }
        }
       }
      }
     },
     "metadata": {},
     "output_type": "display_data"
    }
   ],
   "source": [
    "avg_votes = np.round(df.loc[:,['votes', 'country']].groupby('country').mean().sort_values('votes', ascending=True).reset_index(), 2).head(10)\n",
    "\n",
    "colors2 = ['#636efa'] * 7 + ['#c7c704', '#878901', '#4d4f00'] \n",
    "\n",
    "fig = go.Figure()\n",
    "\n",
    "fig.add_trace(go.Bar(name='top_votes',\n",
    "                     x= avg_votes['votes'],\n",
    "                     y= avg_votes['country'],\n",
    "                     orientation= 'h',\n",
    "                     marker_color = colors2))\n",
    "\n",
    "fig.update_layout(autosize= False, width= 1200, height= 600)\n",
    "fig.update_yaxes(automargin = True)\n",
    "fig.update_layout(xaxis_title = 'Avg. Votes', yaxis_title= 'Countries')\n",
    "fig.update_traces(text= avg_votes['votes'])\n",
    "fig.update_traces(textposition = 'outside')\n",
    "\n",
    "fig.show()\n",
    "\n",
    "\n"
   ]
  },
  {
   "cell_type": "markdown",
   "metadata": {},
   "source": [
    "## 6. média de preço do prato para dois em dólar por país"
   ]
  },
  {
   "cell_type": "code",
   "execution_count": 29,
   "metadata": {},
   "outputs": [
    {
     "data": {
      "application/vnd.plotly.v1+json": {
       "config": {
        "plotlyServerURL": "https://plot.ly"
       },
       "data": [
        {
         "name": "avg_price_by_country",
         "text": [
          141.44,
          90.2,
          71.2,
          55.02,
          54.79,
          47.8,
          41.86,
          41.86,
          36.42,
          23.87,
          19.03,
          18.73,
          8.85,
          8.32,
          3.72
         ],
         "textposition": "outside",
         "type": "bar",
         "x": [
          "Singapure",
          "Philippines",
          "Australia",
          "United States of America",
          "England",
          "Qatar",
          "Canada",
          "United Arab Emirates",
          "New Zeland",
          "Brazil",
          "Indonesia",
          "South Africa",
          "Sri Lanka",
          "India",
          "Turkey"
         ],
         "y": [
          141.44,
          90.2,
          71.2,
          55.02,
          54.79,
          47.8,
          41.86,
          41.86,
          36.42,
          23.87,
          19.03,
          18.73,
          8.85,
          8.32,
          3.72
         ]
        }
       ],
       "layout": {
        "autosize": false,
        "height": 600,
        "template": {
         "data": {
          "bar": [
           {
            "error_x": {
             "color": "#2a3f5f"
            },
            "error_y": {
             "color": "#2a3f5f"
            },
            "marker": {
             "line": {
              "color": "#E5ECF6",
              "width": 0.5
             },
             "pattern": {
              "fillmode": "overlay",
              "size": 10,
              "solidity": 0.2
             }
            },
            "type": "bar"
           }
          ],
          "barpolar": [
           {
            "marker": {
             "line": {
              "color": "#E5ECF6",
              "width": 0.5
             },
             "pattern": {
              "fillmode": "overlay",
              "size": 10,
              "solidity": 0.2
             }
            },
            "type": "barpolar"
           }
          ],
          "carpet": [
           {
            "aaxis": {
             "endlinecolor": "#2a3f5f",
             "gridcolor": "white",
             "linecolor": "white",
             "minorgridcolor": "white",
             "startlinecolor": "#2a3f5f"
            },
            "baxis": {
             "endlinecolor": "#2a3f5f",
             "gridcolor": "white",
             "linecolor": "white",
             "minorgridcolor": "white",
             "startlinecolor": "#2a3f5f"
            },
            "type": "carpet"
           }
          ],
          "choropleth": [
           {
            "colorbar": {
             "outlinewidth": 0,
             "ticks": ""
            },
            "type": "choropleth"
           }
          ],
          "contour": [
           {
            "colorbar": {
             "outlinewidth": 0,
             "ticks": ""
            },
            "colorscale": [
             [
              0,
              "#0d0887"
             ],
             [
              0.1111111111111111,
              "#46039f"
             ],
             [
              0.2222222222222222,
              "#7201a8"
             ],
             [
              0.3333333333333333,
              "#9c179e"
             ],
             [
              0.4444444444444444,
              "#bd3786"
             ],
             [
              0.5555555555555556,
              "#d8576b"
             ],
             [
              0.6666666666666666,
              "#ed7953"
             ],
             [
              0.7777777777777778,
              "#fb9f3a"
             ],
             [
              0.8888888888888888,
              "#fdca26"
             ],
             [
              1,
              "#f0f921"
             ]
            ],
            "type": "contour"
           }
          ],
          "contourcarpet": [
           {
            "colorbar": {
             "outlinewidth": 0,
             "ticks": ""
            },
            "type": "contourcarpet"
           }
          ],
          "heatmap": [
           {
            "colorbar": {
             "outlinewidth": 0,
             "ticks": ""
            },
            "colorscale": [
             [
              0,
              "#0d0887"
             ],
             [
              0.1111111111111111,
              "#46039f"
             ],
             [
              0.2222222222222222,
              "#7201a8"
             ],
             [
              0.3333333333333333,
              "#9c179e"
             ],
             [
              0.4444444444444444,
              "#bd3786"
             ],
             [
              0.5555555555555556,
              "#d8576b"
             ],
             [
              0.6666666666666666,
              "#ed7953"
             ],
             [
              0.7777777777777778,
              "#fb9f3a"
             ],
             [
              0.8888888888888888,
              "#fdca26"
             ],
             [
              1,
              "#f0f921"
             ]
            ],
            "type": "heatmap"
           }
          ],
          "heatmapgl": [
           {
            "colorbar": {
             "outlinewidth": 0,
             "ticks": ""
            },
            "colorscale": [
             [
              0,
              "#0d0887"
             ],
             [
              0.1111111111111111,
              "#46039f"
             ],
             [
              0.2222222222222222,
              "#7201a8"
             ],
             [
              0.3333333333333333,
              "#9c179e"
             ],
             [
              0.4444444444444444,
              "#bd3786"
             ],
             [
              0.5555555555555556,
              "#d8576b"
             ],
             [
              0.6666666666666666,
              "#ed7953"
             ],
             [
              0.7777777777777778,
              "#fb9f3a"
             ],
             [
              0.8888888888888888,
              "#fdca26"
             ],
             [
              1,
              "#f0f921"
             ]
            ],
            "type": "heatmapgl"
           }
          ],
          "histogram": [
           {
            "marker": {
             "pattern": {
              "fillmode": "overlay",
              "size": 10,
              "solidity": 0.2
             }
            },
            "type": "histogram"
           }
          ],
          "histogram2d": [
           {
            "colorbar": {
             "outlinewidth": 0,
             "ticks": ""
            },
            "colorscale": [
             [
              0,
              "#0d0887"
             ],
             [
              0.1111111111111111,
              "#46039f"
             ],
             [
              0.2222222222222222,
              "#7201a8"
             ],
             [
              0.3333333333333333,
              "#9c179e"
             ],
             [
              0.4444444444444444,
              "#bd3786"
             ],
             [
              0.5555555555555556,
              "#d8576b"
             ],
             [
              0.6666666666666666,
              "#ed7953"
             ],
             [
              0.7777777777777778,
              "#fb9f3a"
             ],
             [
              0.8888888888888888,
              "#fdca26"
             ],
             [
              1,
              "#f0f921"
             ]
            ],
            "type": "histogram2d"
           }
          ],
          "histogram2dcontour": [
           {
            "colorbar": {
             "outlinewidth": 0,
             "ticks": ""
            },
            "colorscale": [
             [
              0,
              "#0d0887"
             ],
             [
              0.1111111111111111,
              "#46039f"
             ],
             [
              0.2222222222222222,
              "#7201a8"
             ],
             [
              0.3333333333333333,
              "#9c179e"
             ],
             [
              0.4444444444444444,
              "#bd3786"
             ],
             [
              0.5555555555555556,
              "#d8576b"
             ],
             [
              0.6666666666666666,
              "#ed7953"
             ],
             [
              0.7777777777777778,
              "#fb9f3a"
             ],
             [
              0.8888888888888888,
              "#fdca26"
             ],
             [
              1,
              "#f0f921"
             ]
            ],
            "type": "histogram2dcontour"
           }
          ],
          "mesh3d": [
           {
            "colorbar": {
             "outlinewidth": 0,
             "ticks": ""
            },
            "type": "mesh3d"
           }
          ],
          "parcoords": [
           {
            "line": {
             "colorbar": {
              "outlinewidth": 0,
              "ticks": ""
             }
            },
            "type": "parcoords"
           }
          ],
          "pie": [
           {
            "automargin": true,
            "type": "pie"
           }
          ],
          "scatter": [
           {
            "fillpattern": {
             "fillmode": "overlay",
             "size": 10,
             "solidity": 0.2
            },
            "type": "scatter"
           }
          ],
          "scatter3d": [
           {
            "line": {
             "colorbar": {
              "outlinewidth": 0,
              "ticks": ""
             }
            },
            "marker": {
             "colorbar": {
              "outlinewidth": 0,
              "ticks": ""
             }
            },
            "type": "scatter3d"
           }
          ],
          "scattercarpet": [
           {
            "marker": {
             "colorbar": {
              "outlinewidth": 0,
              "ticks": ""
             }
            },
            "type": "scattercarpet"
           }
          ],
          "scattergeo": [
           {
            "marker": {
             "colorbar": {
              "outlinewidth": 0,
              "ticks": ""
             }
            },
            "type": "scattergeo"
           }
          ],
          "scattergl": [
           {
            "marker": {
             "colorbar": {
              "outlinewidth": 0,
              "ticks": ""
             }
            },
            "type": "scattergl"
           }
          ],
          "scattermapbox": [
           {
            "marker": {
             "colorbar": {
              "outlinewidth": 0,
              "ticks": ""
             }
            },
            "type": "scattermapbox"
           }
          ],
          "scatterpolar": [
           {
            "marker": {
             "colorbar": {
              "outlinewidth": 0,
              "ticks": ""
             }
            },
            "type": "scatterpolar"
           }
          ],
          "scatterpolargl": [
           {
            "marker": {
             "colorbar": {
              "outlinewidth": 0,
              "ticks": ""
             }
            },
            "type": "scatterpolargl"
           }
          ],
          "scatterternary": [
           {
            "marker": {
             "colorbar": {
              "outlinewidth": 0,
              "ticks": ""
             }
            },
            "type": "scatterternary"
           }
          ],
          "surface": [
           {
            "colorbar": {
             "outlinewidth": 0,
             "ticks": ""
            },
            "colorscale": [
             [
              0,
              "#0d0887"
             ],
             [
              0.1111111111111111,
              "#46039f"
             ],
             [
              0.2222222222222222,
              "#7201a8"
             ],
             [
              0.3333333333333333,
              "#9c179e"
             ],
             [
              0.4444444444444444,
              "#bd3786"
             ],
             [
              0.5555555555555556,
              "#d8576b"
             ],
             [
              0.6666666666666666,
              "#ed7953"
             ],
             [
              0.7777777777777778,
              "#fb9f3a"
             ],
             [
              0.8888888888888888,
              "#fdca26"
             ],
             [
              1,
              "#f0f921"
             ]
            ],
            "type": "surface"
           }
          ],
          "table": [
           {
            "cells": {
             "fill": {
              "color": "#EBF0F8"
             },
             "line": {
              "color": "white"
             }
            },
            "header": {
             "fill": {
              "color": "#C8D4E3"
             },
             "line": {
              "color": "white"
             }
            },
            "type": "table"
           }
          ]
         },
         "layout": {
          "annotationdefaults": {
           "arrowcolor": "#2a3f5f",
           "arrowhead": 0,
           "arrowwidth": 1
          },
          "autotypenumbers": "strict",
          "coloraxis": {
           "colorbar": {
            "outlinewidth": 0,
            "ticks": ""
           }
          },
          "colorscale": {
           "diverging": [
            [
             0,
             "#8e0152"
            ],
            [
             0.1,
             "#c51b7d"
            ],
            [
             0.2,
             "#de77ae"
            ],
            [
             0.3,
             "#f1b6da"
            ],
            [
             0.4,
             "#fde0ef"
            ],
            [
             0.5,
             "#f7f7f7"
            ],
            [
             0.6,
             "#e6f5d0"
            ],
            [
             0.7,
             "#b8e186"
            ],
            [
             0.8,
             "#7fbc41"
            ],
            [
             0.9,
             "#4d9221"
            ],
            [
             1,
             "#276419"
            ]
           ],
           "sequential": [
            [
             0,
             "#0d0887"
            ],
            [
             0.1111111111111111,
             "#46039f"
            ],
            [
             0.2222222222222222,
             "#7201a8"
            ],
            [
             0.3333333333333333,
             "#9c179e"
            ],
            [
             0.4444444444444444,
             "#bd3786"
            ],
            [
             0.5555555555555556,
             "#d8576b"
            ],
            [
             0.6666666666666666,
             "#ed7953"
            ],
            [
             0.7777777777777778,
             "#fb9f3a"
            ],
            [
             0.8888888888888888,
             "#fdca26"
            ],
            [
             1,
             "#f0f921"
            ]
           ],
           "sequentialminus": [
            [
             0,
             "#0d0887"
            ],
            [
             0.1111111111111111,
             "#46039f"
            ],
            [
             0.2222222222222222,
             "#7201a8"
            ],
            [
             0.3333333333333333,
             "#9c179e"
            ],
            [
             0.4444444444444444,
             "#bd3786"
            ],
            [
             0.5555555555555556,
             "#d8576b"
            ],
            [
             0.6666666666666666,
             "#ed7953"
            ],
            [
             0.7777777777777778,
             "#fb9f3a"
            ],
            [
             0.8888888888888888,
             "#fdca26"
            ],
            [
             1,
             "#f0f921"
            ]
           ]
          },
          "colorway": [
           "#636efa",
           "#EF553B",
           "#00cc96",
           "#ab63fa",
           "#FFA15A",
           "#19d3f3",
           "#FF6692",
           "#B6E880",
           "#FF97FF",
           "#FECB52"
          ],
          "font": {
           "color": "#2a3f5f"
          },
          "geo": {
           "bgcolor": "white",
           "lakecolor": "white",
           "landcolor": "#E5ECF6",
           "showlakes": true,
           "showland": true,
           "subunitcolor": "white"
          },
          "hoverlabel": {
           "align": "left"
          },
          "hovermode": "closest",
          "mapbox": {
           "style": "light"
          },
          "paper_bgcolor": "white",
          "plot_bgcolor": "#E5ECF6",
          "polar": {
           "angularaxis": {
            "gridcolor": "white",
            "linecolor": "white",
            "ticks": ""
           },
           "bgcolor": "#E5ECF6",
           "radialaxis": {
            "gridcolor": "white",
            "linecolor": "white",
            "ticks": ""
           }
          },
          "scene": {
           "xaxis": {
            "backgroundcolor": "#E5ECF6",
            "gridcolor": "white",
            "gridwidth": 2,
            "linecolor": "white",
            "showbackground": true,
            "ticks": "",
            "zerolinecolor": "white"
           },
           "yaxis": {
            "backgroundcolor": "#E5ECF6",
            "gridcolor": "white",
            "gridwidth": 2,
            "linecolor": "white",
            "showbackground": true,
            "ticks": "",
            "zerolinecolor": "white"
           },
           "zaxis": {
            "backgroundcolor": "#E5ECF6",
            "gridcolor": "white",
            "gridwidth": 2,
            "linecolor": "white",
            "showbackground": true,
            "ticks": "",
            "zerolinecolor": "white"
           }
          },
          "shapedefaults": {
           "line": {
            "color": "#2a3f5f"
           }
          },
          "ternary": {
           "aaxis": {
            "gridcolor": "white",
            "linecolor": "white",
            "ticks": ""
           },
           "baxis": {
            "gridcolor": "white",
            "linecolor": "white",
            "ticks": ""
           },
           "bgcolor": "#E5ECF6",
           "caxis": {
            "gridcolor": "white",
            "linecolor": "white",
            "ticks": ""
           }
          },
          "title": {
           "x": 0.05
          },
          "xaxis": {
           "automargin": true,
           "gridcolor": "white",
           "linecolor": "white",
           "ticks": "",
           "title": {
            "standoff": 15
           },
           "zerolinecolor": "white",
           "zerolinewidth": 2
          },
          "yaxis": {
           "automargin": true,
           "gridcolor": "white",
           "linecolor": "white",
           "ticks": "",
           "title": {
            "standoff": 15
           },
           "zerolinecolor": "white",
           "zerolinewidth": 2
          }
         }
        },
        "width": 1200,
        "xaxis": {
         "title": {
          "text": "Countries"
         }
        },
        "yaxis": {
         "automargin": true,
         "title": {
          "text": "Avg. cost for two (USD)"
         }
        }
       }
      }
     },
     "metadata": {},
     "output_type": "display_data"
    }
   ],
   "source": [
    "grouped = np.round(df.loc[:, ['currency_in_usd','country']].groupby('country').mean('currency_in_usd').sort_values('currency_in_usd', ascending=False).reset_index(), 2)\n",
    "\n",
    "fig = go.Figure()\n",
    "\n",
    "fig.add_trace(go.Bar(name='avg_price_by_country', \n",
    "                     x= grouped['country'], \n",
    "                     y= grouped['currency_in_usd']))\n",
    "\n",
    "fig.update_layout(autosize = False, width= 1200, height= 600)\n",
    "fig.update_yaxes(automargin = True)\n",
    "fig.update_layout(xaxis_title= 'Countries', yaxis_title= 'Avg. cost for two (USD)')\n",
    "fig.update_traces(text= grouped['currency_in_usd'])\n",
    "fig.update_traces(textposition= 'outside')\n",
    "\n",
    "\n"
   ]
  },
  {
   "cell_type": "markdown",
   "metadata": {},
   "source": [
    "## 7. Top 10 cidades com mais restaurantes registrados"
   ]
  },
  {
   "cell_type": "code",
   "execution_count": null,
   "metadata": {},
   "outputs": [
    {
     "data": {
      "application/vnd.plotly.v1+json": {
       "config": {
        "plotlyServerURL": "https://plot.ly"
       },
       "data": [
        {
         "alignmentgroup": "True",
         "hovertemplate": "country=India<br>city=%{x}<br>restaurant_id=%{y}<extra></extra>",
         "legendgroup": "India",
         "marker": {
          "color": "#636efa",
          "pattern": {
           "shape": ""
          }
         },
         "name": "India",
         "offsetgroup": "India",
         "orientation": "v",
         "showlegend": true,
         "textposition": "auto",
         "texttemplate": "%{y}",
         "type": "bar",
         "x": [
          "Nagpur",
          "Surat",
          "Kanpur",
          "Kochi",
          "Kolkata",
          "Lucknow",
          "Ludhiana",
          "Mangalore",
          "Mysore"
         ],
         "xaxis": "x",
         "y": [
          80,
          80,
          80,
          80,
          80,
          80,
          80,
          80,
          80
         ],
         "yaxis": "y"
        },
        {
         "alignmentgroup": "True",
         "hovertemplate": "country=South Africa<br>city=%{x}<br>restaurant_id=%{y}<extra></extra>",
         "legendgroup": "South Africa",
         "marker": {
          "color": "#EF553B",
          "pattern": {
           "shape": ""
          }
         },
         "name": "South Africa",
         "offsetgroup": "South Africa",
         "orientation": "v",
         "showlegend": true,
         "textposition": "auto",
         "texttemplate": "%{y}",
         "type": "bar",
         "x": [
          "Pretoria"
         ],
         "xaxis": "x",
         "y": [
          80
         ],
         "yaxis": "y"
        }
       ],
       "layout": {
        "barmode": "relative",
        "legend": {
         "title": {
          "text": "country"
         },
         "tracegroupgap": 0
        },
        "margin": {
         "t": 60
        },
        "template": {
         "data": {
          "bar": [
           {
            "error_x": {
             "color": "#2a3f5f"
            },
            "error_y": {
             "color": "#2a3f5f"
            },
            "marker": {
             "line": {
              "color": "#E5ECF6",
              "width": 0.5
             },
             "pattern": {
              "fillmode": "overlay",
              "size": 10,
              "solidity": 0.2
             }
            },
            "type": "bar"
           }
          ],
          "barpolar": [
           {
            "marker": {
             "line": {
              "color": "#E5ECF6",
              "width": 0.5
             },
             "pattern": {
              "fillmode": "overlay",
              "size": 10,
              "solidity": 0.2
             }
            },
            "type": "barpolar"
           }
          ],
          "carpet": [
           {
            "aaxis": {
             "endlinecolor": "#2a3f5f",
             "gridcolor": "white",
             "linecolor": "white",
             "minorgridcolor": "white",
             "startlinecolor": "#2a3f5f"
            },
            "baxis": {
             "endlinecolor": "#2a3f5f",
             "gridcolor": "white",
             "linecolor": "white",
             "minorgridcolor": "white",
             "startlinecolor": "#2a3f5f"
            },
            "type": "carpet"
           }
          ],
          "choropleth": [
           {
            "colorbar": {
             "outlinewidth": 0,
             "ticks": ""
            },
            "type": "choropleth"
           }
          ],
          "contour": [
           {
            "colorbar": {
             "outlinewidth": 0,
             "ticks": ""
            },
            "colorscale": [
             [
              0,
              "#0d0887"
             ],
             [
              0.1111111111111111,
              "#46039f"
             ],
             [
              0.2222222222222222,
              "#7201a8"
             ],
             [
              0.3333333333333333,
              "#9c179e"
             ],
             [
              0.4444444444444444,
              "#bd3786"
             ],
             [
              0.5555555555555556,
              "#d8576b"
             ],
             [
              0.6666666666666666,
              "#ed7953"
             ],
             [
              0.7777777777777778,
              "#fb9f3a"
             ],
             [
              0.8888888888888888,
              "#fdca26"
             ],
             [
              1,
              "#f0f921"
             ]
            ],
            "type": "contour"
           }
          ],
          "contourcarpet": [
           {
            "colorbar": {
             "outlinewidth": 0,
             "ticks": ""
            },
            "type": "contourcarpet"
           }
          ],
          "heatmap": [
           {
            "colorbar": {
             "outlinewidth": 0,
             "ticks": ""
            },
            "colorscale": [
             [
              0,
              "#0d0887"
             ],
             [
              0.1111111111111111,
              "#46039f"
             ],
             [
              0.2222222222222222,
              "#7201a8"
             ],
             [
              0.3333333333333333,
              "#9c179e"
             ],
             [
              0.4444444444444444,
              "#bd3786"
             ],
             [
              0.5555555555555556,
              "#d8576b"
             ],
             [
              0.6666666666666666,
              "#ed7953"
             ],
             [
              0.7777777777777778,
              "#fb9f3a"
             ],
             [
              0.8888888888888888,
              "#fdca26"
             ],
             [
              1,
              "#f0f921"
             ]
            ],
            "type": "heatmap"
           }
          ],
          "heatmapgl": [
           {
            "colorbar": {
             "outlinewidth": 0,
             "ticks": ""
            },
            "colorscale": [
             [
              0,
              "#0d0887"
             ],
             [
              0.1111111111111111,
              "#46039f"
             ],
             [
              0.2222222222222222,
              "#7201a8"
             ],
             [
              0.3333333333333333,
              "#9c179e"
             ],
             [
              0.4444444444444444,
              "#bd3786"
             ],
             [
              0.5555555555555556,
              "#d8576b"
             ],
             [
              0.6666666666666666,
              "#ed7953"
             ],
             [
              0.7777777777777778,
              "#fb9f3a"
             ],
             [
              0.8888888888888888,
              "#fdca26"
             ],
             [
              1,
              "#f0f921"
             ]
            ],
            "type": "heatmapgl"
           }
          ],
          "histogram": [
           {
            "marker": {
             "pattern": {
              "fillmode": "overlay",
              "size": 10,
              "solidity": 0.2
             }
            },
            "type": "histogram"
           }
          ],
          "histogram2d": [
           {
            "colorbar": {
             "outlinewidth": 0,
             "ticks": ""
            },
            "colorscale": [
             [
              0,
              "#0d0887"
             ],
             [
              0.1111111111111111,
              "#46039f"
             ],
             [
              0.2222222222222222,
              "#7201a8"
             ],
             [
              0.3333333333333333,
              "#9c179e"
             ],
             [
              0.4444444444444444,
              "#bd3786"
             ],
             [
              0.5555555555555556,
              "#d8576b"
             ],
             [
              0.6666666666666666,
              "#ed7953"
             ],
             [
              0.7777777777777778,
              "#fb9f3a"
             ],
             [
              0.8888888888888888,
              "#fdca26"
             ],
             [
              1,
              "#f0f921"
             ]
            ],
            "type": "histogram2d"
           }
          ],
          "histogram2dcontour": [
           {
            "colorbar": {
             "outlinewidth": 0,
             "ticks": ""
            },
            "colorscale": [
             [
              0,
              "#0d0887"
             ],
             [
              0.1111111111111111,
              "#46039f"
             ],
             [
              0.2222222222222222,
              "#7201a8"
             ],
             [
              0.3333333333333333,
              "#9c179e"
             ],
             [
              0.4444444444444444,
              "#bd3786"
             ],
             [
              0.5555555555555556,
              "#d8576b"
             ],
             [
              0.6666666666666666,
              "#ed7953"
             ],
             [
              0.7777777777777778,
              "#fb9f3a"
             ],
             [
              0.8888888888888888,
              "#fdca26"
             ],
             [
              1,
              "#f0f921"
             ]
            ],
            "type": "histogram2dcontour"
           }
          ],
          "mesh3d": [
           {
            "colorbar": {
             "outlinewidth": 0,
             "ticks": ""
            },
            "type": "mesh3d"
           }
          ],
          "parcoords": [
           {
            "line": {
             "colorbar": {
              "outlinewidth": 0,
              "ticks": ""
             }
            },
            "type": "parcoords"
           }
          ],
          "pie": [
           {
            "automargin": true,
            "type": "pie"
           }
          ],
          "scatter": [
           {
            "fillpattern": {
             "fillmode": "overlay",
             "size": 10,
             "solidity": 0.2
            },
            "type": "scatter"
           }
          ],
          "scatter3d": [
           {
            "line": {
             "colorbar": {
              "outlinewidth": 0,
              "ticks": ""
             }
            },
            "marker": {
             "colorbar": {
              "outlinewidth": 0,
              "ticks": ""
             }
            },
            "type": "scatter3d"
           }
          ],
          "scattercarpet": [
           {
            "marker": {
             "colorbar": {
              "outlinewidth": 0,
              "ticks": ""
             }
            },
            "type": "scattercarpet"
           }
          ],
          "scattergeo": [
           {
            "marker": {
             "colorbar": {
              "outlinewidth": 0,
              "ticks": ""
             }
            },
            "type": "scattergeo"
           }
          ],
          "scattergl": [
           {
            "marker": {
             "colorbar": {
              "outlinewidth": 0,
              "ticks": ""
             }
            },
            "type": "scattergl"
           }
          ],
          "scattermapbox": [
           {
            "marker": {
             "colorbar": {
              "outlinewidth": 0,
              "ticks": ""
             }
            },
            "type": "scattermapbox"
           }
          ],
          "scatterpolar": [
           {
            "marker": {
             "colorbar": {
              "outlinewidth": 0,
              "ticks": ""
             }
            },
            "type": "scatterpolar"
           }
          ],
          "scatterpolargl": [
           {
            "marker": {
             "colorbar": {
              "outlinewidth": 0,
              "ticks": ""
             }
            },
            "type": "scatterpolargl"
           }
          ],
          "scatterternary": [
           {
            "marker": {
             "colorbar": {
              "outlinewidth": 0,
              "ticks": ""
             }
            },
            "type": "scatterternary"
           }
          ],
          "surface": [
           {
            "colorbar": {
             "outlinewidth": 0,
             "ticks": ""
            },
            "colorscale": [
             [
              0,
              "#0d0887"
             ],
             [
              0.1111111111111111,
              "#46039f"
             ],
             [
              0.2222222222222222,
              "#7201a8"
             ],
             [
              0.3333333333333333,
              "#9c179e"
             ],
             [
              0.4444444444444444,
              "#bd3786"
             ],
             [
              0.5555555555555556,
              "#d8576b"
             ],
             [
              0.6666666666666666,
              "#ed7953"
             ],
             [
              0.7777777777777778,
              "#fb9f3a"
             ],
             [
              0.8888888888888888,
              "#fdca26"
             ],
             [
              1,
              "#f0f921"
             ]
            ],
            "type": "surface"
           }
          ],
          "table": [
           {
            "cells": {
             "fill": {
              "color": "#EBF0F8"
             },
             "line": {
              "color": "white"
             }
            },
            "header": {
             "fill": {
              "color": "#C8D4E3"
             },
             "line": {
              "color": "white"
             }
            },
            "type": "table"
           }
          ]
         },
         "layout": {
          "annotationdefaults": {
           "arrowcolor": "#2a3f5f",
           "arrowhead": 0,
           "arrowwidth": 1
          },
          "autotypenumbers": "strict",
          "coloraxis": {
           "colorbar": {
            "outlinewidth": 0,
            "ticks": ""
           }
          },
          "colorscale": {
           "diverging": [
            [
             0,
             "#8e0152"
            ],
            [
             0.1,
             "#c51b7d"
            ],
            [
             0.2,
             "#de77ae"
            ],
            [
             0.3,
             "#f1b6da"
            ],
            [
             0.4,
             "#fde0ef"
            ],
            [
             0.5,
             "#f7f7f7"
            ],
            [
             0.6,
             "#e6f5d0"
            ],
            [
             0.7,
             "#b8e186"
            ],
            [
             0.8,
             "#7fbc41"
            ],
            [
             0.9,
             "#4d9221"
            ],
            [
             1,
             "#276419"
            ]
           ],
           "sequential": [
            [
             0,
             "#0d0887"
            ],
            [
             0.1111111111111111,
             "#46039f"
            ],
            [
             0.2222222222222222,
             "#7201a8"
            ],
            [
             0.3333333333333333,
             "#9c179e"
            ],
            [
             0.4444444444444444,
             "#bd3786"
            ],
            [
             0.5555555555555556,
             "#d8576b"
            ],
            [
             0.6666666666666666,
             "#ed7953"
            ],
            [
             0.7777777777777778,
             "#fb9f3a"
            ],
            [
             0.8888888888888888,
             "#fdca26"
            ],
            [
             1,
             "#f0f921"
            ]
           ],
           "sequentialminus": [
            [
             0,
             "#0d0887"
            ],
            [
             0.1111111111111111,
             "#46039f"
            ],
            [
             0.2222222222222222,
             "#7201a8"
            ],
            [
             0.3333333333333333,
             "#9c179e"
            ],
            [
             0.4444444444444444,
             "#bd3786"
            ],
            [
             0.5555555555555556,
             "#d8576b"
            ],
            [
             0.6666666666666666,
             "#ed7953"
            ],
            [
             0.7777777777777778,
             "#fb9f3a"
            ],
            [
             0.8888888888888888,
             "#fdca26"
            ],
            [
             1,
             "#f0f921"
            ]
           ]
          },
          "colorway": [
           "#636efa",
           "#EF553B",
           "#00cc96",
           "#ab63fa",
           "#FFA15A",
           "#19d3f3",
           "#FF6692",
           "#B6E880",
           "#FF97FF",
           "#FECB52"
          ],
          "font": {
           "color": "#2a3f5f"
          },
          "geo": {
           "bgcolor": "white",
           "lakecolor": "white",
           "landcolor": "#E5ECF6",
           "showlakes": true,
           "showland": true,
           "subunitcolor": "white"
          },
          "hoverlabel": {
           "align": "left"
          },
          "hovermode": "closest",
          "mapbox": {
           "style": "light"
          },
          "paper_bgcolor": "white",
          "plot_bgcolor": "#E5ECF6",
          "polar": {
           "angularaxis": {
            "gridcolor": "white",
            "linecolor": "white",
            "ticks": ""
           },
           "bgcolor": "#E5ECF6",
           "radialaxis": {
            "gridcolor": "white",
            "linecolor": "white",
            "ticks": ""
           }
          },
          "scene": {
           "xaxis": {
            "backgroundcolor": "#E5ECF6",
            "gridcolor": "white",
            "gridwidth": 2,
            "linecolor": "white",
            "showbackground": true,
            "ticks": "",
            "zerolinecolor": "white"
           },
           "yaxis": {
            "backgroundcolor": "#E5ECF6",
            "gridcolor": "white",
            "gridwidth": 2,
            "linecolor": "white",
            "showbackground": true,
            "ticks": "",
            "zerolinecolor": "white"
           },
           "zaxis": {
            "backgroundcolor": "#E5ECF6",
            "gridcolor": "white",
            "gridwidth": 2,
            "linecolor": "white",
            "showbackground": true,
            "ticks": "",
            "zerolinecolor": "white"
           }
          },
          "shapedefaults": {
           "line": {
            "color": "#2a3f5f"
           }
          },
          "ternary": {
           "aaxis": {
            "gridcolor": "white",
            "linecolor": "white",
            "ticks": ""
           },
           "baxis": {
            "gridcolor": "white",
            "linecolor": "white",
            "ticks": ""
           },
           "bgcolor": "#E5ECF6",
           "caxis": {
            "gridcolor": "white",
            "linecolor": "white",
            "ticks": ""
           }
          },
          "title": {
           "x": 0.05
          },
          "xaxis": {
           "automargin": true,
           "gridcolor": "white",
           "linecolor": "white",
           "ticks": "",
           "title": {
            "standoff": 15
           },
           "zerolinecolor": "white",
           "zerolinewidth": 2
          },
          "yaxis": {
           "automargin": true,
           "gridcolor": "white",
           "linecolor": "white",
           "ticks": "",
           "title": {
            "standoff": 15
           },
           "zerolinecolor": "white",
           "zerolinewidth": 2
          }
         }
        },
        "xaxis": {
         "anchor": "y",
         "categoryorder": "total descending",
         "domain": [
          0,
          1
         ],
         "title": {
          "text": "Cities"
         }
        },
        "yaxis": {
         "anchor": "x",
         "domain": [
          0,
          1
         ],
         "title": {
          "text": "Restaurant count"
         }
        }
       }
      }
     },
     "metadata": {},
     "output_type": "display_data"
    }
   ],
   "source": [
    "grouped = df.loc[:, ['restaurant_id','city', 'country']].groupby(['country','city']).count().sort_values('restaurant_id', ascending=False).reset_index().head(10)\n",
    "\n",
    "fig = px.bar(grouped, x= 'city', y= 'restaurant_id', color= 'country', text_auto= True)\n",
    "fig.update_layout(xaxis_title= 'Cities', yaxis_title= 'Restaurant count')\n",
    "fig.update_layout(xaxis={'categoryorder':'total descending'})\n"
   ]
  },
  {
   "cell_type": "markdown",
   "metadata": {},
   "source": [
    "## 8. Top 10 cidades com nota > 4"
   ]
  },
  {
   "cell_type": "code",
   "execution_count": 143,
   "metadata": {},
   "outputs": [
    {
     "data": {
      "application/vnd.plotly.v1+json": {
       "config": {
        "plotlyServerURL": "https://plot.ly"
       },
       "data": [
        {
         "alignmentgroup": "True",
         "hovertemplate": "country=India<br>city=%{x}<br>restaurant_id=%{y}<extra></extra>",
         "legendgroup": "India",
         "marker": {
          "color": "#636efa",
          "pattern": {
           "shape": ""
          }
         },
         "name": "India",
         "offsetgroup": "India",
         "orientation": "v",
         "showlegend": true,
         "textposition": "inside",
         "texttemplate": "%{y}",
         "type": "bar",
         "x": [
          "Bangalore",
          "Chennai",
          "Kolkata",
          "Pune",
          "Mumbai"
         ],
         "xaxis": "x",
         "y": [
          79,
          72,
          70,
          69,
          69
         ],
         "yaxis": "y"
        },
        {
         "alignmentgroup": "True",
         "hovertemplate": "country=England<br>city=%{x}<br>restaurant_id=%{y}<extra></extra>",
         "legendgroup": "England",
         "marker": {
          "color": "#EF553B",
          "pattern": {
           "shape": ""
          }
         },
         "name": "England",
         "offsetgroup": "England",
         "orientation": "v",
         "showlegend": true,
         "textposition": "inside",
         "texttemplate": "%{y}",
         "type": "bar",
         "x": [
          "London"
         ],
         "xaxis": "x",
         "y": [
          78
         ],
         "yaxis": "y"
        },
        {
         "alignmentgroup": "True",
         "hovertemplate": "country=United States of America<br>city=%{x}<br>restaurant_id=%{y}<extra></extra>",
         "legendgroup": "United States of America",
         "marker": {
          "color": "#00cc96",
          "pattern": {
           "shape": ""
          }
         },
         "name": "United States of America",
         "offsetgroup": "United States of America",
         "orientation": "v",
         "showlegend": true,
         "textposition": "inside",
         "texttemplate": "%{y}",
         "type": "bar",
         "x": [
          "Houston"
         ],
         "xaxis": "x",
         "y": [
          75
         ],
         "yaxis": "y"
        },
        {
         "alignmentgroup": "True",
         "hovertemplate": "country=Indonesia<br>city=%{x}<br>restaurant_id=%{y}<extra></extra>",
         "legendgroup": "Indonesia",
         "marker": {
          "color": "#ab63fa",
          "pattern": {
           "shape": ""
          }
         },
         "name": "Indonesia",
         "offsetgroup": "Indonesia",
         "orientation": "v",
         "showlegend": true,
         "textposition": "inside",
         "texttemplate": "%{y}",
         "type": "bar",
         "x": [
          "Jakarta"
         ],
         "xaxis": "x",
         "y": [
          74
         ],
         "yaxis": "y"
        },
        {
         "alignmentgroup": "True",
         "hovertemplate": "country=New Zeland<br>city=%{x}<br>restaurant_id=%{y}<extra></extra>",
         "legendgroup": "New Zeland",
         "marker": {
          "color": "#FFA15A",
          "pattern": {
           "shape": ""
          }
         },
         "name": "New Zeland",
         "offsetgroup": "New Zeland",
         "orientation": "v",
         "showlegend": true,
         "textposition": "inside",
         "texttemplate": "%{y}",
         "type": "bar",
         "x": [
          "Auckland"
         ],
         "xaxis": "x",
         "y": [
          72
         ],
         "yaxis": "y"
        },
        {
         "alignmentgroup": "True",
         "hovertemplate": "country=Turkey<br>city=%{x}<br>restaurant_id=%{y}<extra></extra>",
         "legendgroup": "Turkey",
         "marker": {
          "color": "#19d3f3",
          "pattern": {
           "shape": ""
          }
         },
         "name": "Turkey",
         "offsetgroup": "Turkey",
         "orientation": "v",
         "showlegend": true,
         "textposition": "inside",
         "texttemplate": "%{y}",
         "type": "bar",
         "x": [
          "İstanbul"
         ],
         "xaxis": "x",
         "y": [
          69
         ],
         "yaxis": "y"
        }
       ],
       "layout": {
        "barmode": "relative",
        "legend": {
         "title": {
          "text": "country"
         },
         "tracegroupgap": 0
        },
        "margin": {
         "t": 60
        },
        "template": {
         "data": {
          "bar": [
           {
            "error_x": {
             "color": "#2a3f5f"
            },
            "error_y": {
             "color": "#2a3f5f"
            },
            "marker": {
             "line": {
              "color": "#E5ECF6",
              "width": 0.5
             },
             "pattern": {
              "fillmode": "overlay",
              "size": 10,
              "solidity": 0.2
             }
            },
            "type": "bar"
           }
          ],
          "barpolar": [
           {
            "marker": {
             "line": {
              "color": "#E5ECF6",
              "width": 0.5
             },
             "pattern": {
              "fillmode": "overlay",
              "size": 10,
              "solidity": 0.2
             }
            },
            "type": "barpolar"
           }
          ],
          "carpet": [
           {
            "aaxis": {
             "endlinecolor": "#2a3f5f",
             "gridcolor": "white",
             "linecolor": "white",
             "minorgridcolor": "white",
             "startlinecolor": "#2a3f5f"
            },
            "baxis": {
             "endlinecolor": "#2a3f5f",
             "gridcolor": "white",
             "linecolor": "white",
             "minorgridcolor": "white",
             "startlinecolor": "#2a3f5f"
            },
            "type": "carpet"
           }
          ],
          "choropleth": [
           {
            "colorbar": {
             "outlinewidth": 0,
             "ticks": ""
            },
            "type": "choropleth"
           }
          ],
          "contour": [
           {
            "colorbar": {
             "outlinewidth": 0,
             "ticks": ""
            },
            "colorscale": [
             [
              0,
              "#0d0887"
             ],
             [
              0.1111111111111111,
              "#46039f"
             ],
             [
              0.2222222222222222,
              "#7201a8"
             ],
             [
              0.3333333333333333,
              "#9c179e"
             ],
             [
              0.4444444444444444,
              "#bd3786"
             ],
             [
              0.5555555555555556,
              "#d8576b"
             ],
             [
              0.6666666666666666,
              "#ed7953"
             ],
             [
              0.7777777777777778,
              "#fb9f3a"
             ],
             [
              0.8888888888888888,
              "#fdca26"
             ],
             [
              1,
              "#f0f921"
             ]
            ],
            "type": "contour"
           }
          ],
          "contourcarpet": [
           {
            "colorbar": {
             "outlinewidth": 0,
             "ticks": ""
            },
            "type": "contourcarpet"
           }
          ],
          "heatmap": [
           {
            "colorbar": {
             "outlinewidth": 0,
             "ticks": ""
            },
            "colorscale": [
             [
              0,
              "#0d0887"
             ],
             [
              0.1111111111111111,
              "#46039f"
             ],
             [
              0.2222222222222222,
              "#7201a8"
             ],
             [
              0.3333333333333333,
              "#9c179e"
             ],
             [
              0.4444444444444444,
              "#bd3786"
             ],
             [
              0.5555555555555556,
              "#d8576b"
             ],
             [
              0.6666666666666666,
              "#ed7953"
             ],
             [
              0.7777777777777778,
              "#fb9f3a"
             ],
             [
              0.8888888888888888,
              "#fdca26"
             ],
             [
              1,
              "#f0f921"
             ]
            ],
            "type": "heatmap"
           }
          ],
          "heatmapgl": [
           {
            "colorbar": {
             "outlinewidth": 0,
             "ticks": ""
            },
            "colorscale": [
             [
              0,
              "#0d0887"
             ],
             [
              0.1111111111111111,
              "#46039f"
             ],
             [
              0.2222222222222222,
              "#7201a8"
             ],
             [
              0.3333333333333333,
              "#9c179e"
             ],
             [
              0.4444444444444444,
              "#bd3786"
             ],
             [
              0.5555555555555556,
              "#d8576b"
             ],
             [
              0.6666666666666666,
              "#ed7953"
             ],
             [
              0.7777777777777778,
              "#fb9f3a"
             ],
             [
              0.8888888888888888,
              "#fdca26"
             ],
             [
              1,
              "#f0f921"
             ]
            ],
            "type": "heatmapgl"
           }
          ],
          "histogram": [
           {
            "marker": {
             "pattern": {
              "fillmode": "overlay",
              "size": 10,
              "solidity": 0.2
             }
            },
            "type": "histogram"
           }
          ],
          "histogram2d": [
           {
            "colorbar": {
             "outlinewidth": 0,
             "ticks": ""
            },
            "colorscale": [
             [
              0,
              "#0d0887"
             ],
             [
              0.1111111111111111,
              "#46039f"
             ],
             [
              0.2222222222222222,
              "#7201a8"
             ],
             [
              0.3333333333333333,
              "#9c179e"
             ],
             [
              0.4444444444444444,
              "#bd3786"
             ],
             [
              0.5555555555555556,
              "#d8576b"
             ],
             [
              0.6666666666666666,
              "#ed7953"
             ],
             [
              0.7777777777777778,
              "#fb9f3a"
             ],
             [
              0.8888888888888888,
              "#fdca26"
             ],
             [
              1,
              "#f0f921"
             ]
            ],
            "type": "histogram2d"
           }
          ],
          "histogram2dcontour": [
           {
            "colorbar": {
             "outlinewidth": 0,
             "ticks": ""
            },
            "colorscale": [
             [
              0,
              "#0d0887"
             ],
             [
              0.1111111111111111,
              "#46039f"
             ],
             [
              0.2222222222222222,
              "#7201a8"
             ],
             [
              0.3333333333333333,
              "#9c179e"
             ],
             [
              0.4444444444444444,
              "#bd3786"
             ],
             [
              0.5555555555555556,
              "#d8576b"
             ],
             [
              0.6666666666666666,
              "#ed7953"
             ],
             [
              0.7777777777777778,
              "#fb9f3a"
             ],
             [
              0.8888888888888888,
              "#fdca26"
             ],
             [
              1,
              "#f0f921"
             ]
            ],
            "type": "histogram2dcontour"
           }
          ],
          "mesh3d": [
           {
            "colorbar": {
             "outlinewidth": 0,
             "ticks": ""
            },
            "type": "mesh3d"
           }
          ],
          "parcoords": [
           {
            "line": {
             "colorbar": {
              "outlinewidth": 0,
              "ticks": ""
             }
            },
            "type": "parcoords"
           }
          ],
          "pie": [
           {
            "automargin": true,
            "type": "pie"
           }
          ],
          "scatter": [
           {
            "fillpattern": {
             "fillmode": "overlay",
             "size": 10,
             "solidity": 0.2
            },
            "type": "scatter"
           }
          ],
          "scatter3d": [
           {
            "line": {
             "colorbar": {
              "outlinewidth": 0,
              "ticks": ""
             }
            },
            "marker": {
             "colorbar": {
              "outlinewidth": 0,
              "ticks": ""
             }
            },
            "type": "scatter3d"
           }
          ],
          "scattercarpet": [
           {
            "marker": {
             "colorbar": {
              "outlinewidth": 0,
              "ticks": ""
             }
            },
            "type": "scattercarpet"
           }
          ],
          "scattergeo": [
           {
            "marker": {
             "colorbar": {
              "outlinewidth": 0,
              "ticks": ""
             }
            },
            "type": "scattergeo"
           }
          ],
          "scattergl": [
           {
            "marker": {
             "colorbar": {
              "outlinewidth": 0,
              "ticks": ""
             }
            },
            "type": "scattergl"
           }
          ],
          "scattermapbox": [
           {
            "marker": {
             "colorbar": {
              "outlinewidth": 0,
              "ticks": ""
             }
            },
            "type": "scattermapbox"
           }
          ],
          "scatterpolar": [
           {
            "marker": {
             "colorbar": {
              "outlinewidth": 0,
              "ticks": ""
             }
            },
            "type": "scatterpolar"
           }
          ],
          "scatterpolargl": [
           {
            "marker": {
             "colorbar": {
              "outlinewidth": 0,
              "ticks": ""
             }
            },
            "type": "scatterpolargl"
           }
          ],
          "scatterternary": [
           {
            "marker": {
             "colorbar": {
              "outlinewidth": 0,
              "ticks": ""
             }
            },
            "type": "scatterternary"
           }
          ],
          "surface": [
           {
            "colorbar": {
             "outlinewidth": 0,
             "ticks": ""
            },
            "colorscale": [
             [
              0,
              "#0d0887"
             ],
             [
              0.1111111111111111,
              "#46039f"
             ],
             [
              0.2222222222222222,
              "#7201a8"
             ],
             [
              0.3333333333333333,
              "#9c179e"
             ],
             [
              0.4444444444444444,
              "#bd3786"
             ],
             [
              0.5555555555555556,
              "#d8576b"
             ],
             [
              0.6666666666666666,
              "#ed7953"
             ],
             [
              0.7777777777777778,
              "#fb9f3a"
             ],
             [
              0.8888888888888888,
              "#fdca26"
             ],
             [
              1,
              "#f0f921"
             ]
            ],
            "type": "surface"
           }
          ],
          "table": [
           {
            "cells": {
             "fill": {
              "color": "#EBF0F8"
             },
             "line": {
              "color": "white"
             }
            },
            "header": {
             "fill": {
              "color": "#C8D4E3"
             },
             "line": {
              "color": "white"
             }
            },
            "type": "table"
           }
          ]
         },
         "layout": {
          "annotationdefaults": {
           "arrowcolor": "#2a3f5f",
           "arrowhead": 0,
           "arrowwidth": 1
          },
          "autotypenumbers": "strict",
          "coloraxis": {
           "colorbar": {
            "outlinewidth": 0,
            "ticks": ""
           }
          },
          "colorscale": {
           "diverging": [
            [
             0,
             "#8e0152"
            ],
            [
             0.1,
             "#c51b7d"
            ],
            [
             0.2,
             "#de77ae"
            ],
            [
             0.3,
             "#f1b6da"
            ],
            [
             0.4,
             "#fde0ef"
            ],
            [
             0.5,
             "#f7f7f7"
            ],
            [
             0.6,
             "#e6f5d0"
            ],
            [
             0.7,
             "#b8e186"
            ],
            [
             0.8,
             "#7fbc41"
            ],
            [
             0.9,
             "#4d9221"
            ],
            [
             1,
             "#276419"
            ]
           ],
           "sequential": [
            [
             0,
             "#0d0887"
            ],
            [
             0.1111111111111111,
             "#46039f"
            ],
            [
             0.2222222222222222,
             "#7201a8"
            ],
            [
             0.3333333333333333,
             "#9c179e"
            ],
            [
             0.4444444444444444,
             "#bd3786"
            ],
            [
             0.5555555555555556,
             "#d8576b"
            ],
            [
             0.6666666666666666,
             "#ed7953"
            ],
            [
             0.7777777777777778,
             "#fb9f3a"
            ],
            [
             0.8888888888888888,
             "#fdca26"
            ],
            [
             1,
             "#f0f921"
            ]
           ],
           "sequentialminus": [
            [
             0,
             "#0d0887"
            ],
            [
             0.1111111111111111,
             "#46039f"
            ],
            [
             0.2222222222222222,
             "#7201a8"
            ],
            [
             0.3333333333333333,
             "#9c179e"
            ],
            [
             0.4444444444444444,
             "#bd3786"
            ],
            [
             0.5555555555555556,
             "#d8576b"
            ],
            [
             0.6666666666666666,
             "#ed7953"
            ],
            [
             0.7777777777777778,
             "#fb9f3a"
            ],
            [
             0.8888888888888888,
             "#fdca26"
            ],
            [
             1,
             "#f0f921"
            ]
           ]
          },
          "colorway": [
           "#636efa",
           "#EF553B",
           "#00cc96",
           "#ab63fa",
           "#FFA15A",
           "#19d3f3",
           "#FF6692",
           "#B6E880",
           "#FF97FF",
           "#FECB52"
          ],
          "font": {
           "color": "#2a3f5f"
          },
          "geo": {
           "bgcolor": "white",
           "lakecolor": "white",
           "landcolor": "#E5ECF6",
           "showlakes": true,
           "showland": true,
           "subunitcolor": "white"
          },
          "hoverlabel": {
           "align": "left"
          },
          "hovermode": "closest",
          "mapbox": {
           "style": "light"
          },
          "paper_bgcolor": "white",
          "plot_bgcolor": "#E5ECF6",
          "polar": {
           "angularaxis": {
            "gridcolor": "white",
            "linecolor": "white",
            "ticks": ""
           },
           "bgcolor": "#E5ECF6",
           "radialaxis": {
            "gridcolor": "white",
            "linecolor": "white",
            "ticks": ""
           }
          },
          "scene": {
           "xaxis": {
            "backgroundcolor": "#E5ECF6",
            "gridcolor": "white",
            "gridwidth": 2,
            "linecolor": "white",
            "showbackground": true,
            "ticks": "",
            "zerolinecolor": "white"
           },
           "yaxis": {
            "backgroundcolor": "#E5ECF6",
            "gridcolor": "white",
            "gridwidth": 2,
            "linecolor": "white",
            "showbackground": true,
            "ticks": "",
            "zerolinecolor": "white"
           },
           "zaxis": {
            "backgroundcolor": "#E5ECF6",
            "gridcolor": "white",
            "gridwidth": 2,
            "linecolor": "white",
            "showbackground": true,
            "ticks": "",
            "zerolinecolor": "white"
           }
          },
          "shapedefaults": {
           "line": {
            "color": "#2a3f5f"
           }
          },
          "ternary": {
           "aaxis": {
            "gridcolor": "white",
            "linecolor": "white",
            "ticks": ""
           },
           "baxis": {
            "gridcolor": "white",
            "linecolor": "white",
            "ticks": ""
           },
           "bgcolor": "#E5ECF6",
           "caxis": {
            "gridcolor": "white",
            "linecolor": "white",
            "ticks": ""
           }
          },
          "title": {
           "x": 0.05
          },
          "xaxis": {
           "automargin": true,
           "gridcolor": "white",
           "linecolor": "white",
           "ticks": "",
           "title": {
            "standoff": 15
           },
           "zerolinecolor": "white",
           "zerolinewidth": 2
          },
          "yaxis": {
           "automargin": true,
           "gridcolor": "white",
           "linecolor": "white",
           "ticks": "",
           "title": {
            "standoff": 15
           },
           "zerolinecolor": "white",
           "zerolinewidth": 2
          }
         }
        },
        "xaxis": {
         "anchor": "y",
         "categoryorder": "total descending",
         "domain": [
          0,
          1
         ],
         "title": {
          "text": "Cities"
         }
        },
        "yaxis": {
         "anchor": "x",
         "domain": [
          0,
          1
         ],
         "title": {
          "text": "Restaurant count"
         }
        }
       }
      }
     },
     "metadata": {},
     "output_type": "display_data"
    }
   ],
   "source": [
    "city_rating_above = df.loc[df['aggregate_rating'] > 4.0 , ['city', 'restaurant_id', 'country']].groupby(['city', 'country']).count().sort_values('restaurant_id', ascending=False).reset_index().head(10)\n",
    "\n",
    "fig = px.bar(city_rating_above, x= 'city', y= 'restaurant_id', color= 'country', text_auto=True)\n",
    "fig.update_traces(textposition= 'inside')\n",
    "fig.update_layout(xaxis={'categoryorder':'total descending'})\n",
    "fig.update_layout(xaxis_title= 'Cities', yaxis_title= 'Restaurant count')\n",
    "\n",
    "\n",
    "fig.show()"
   ]
  },
  {
   "cell_type": "markdown",
   "metadata": {},
   "source": [
    "## 9. Top 10 cidades com nota > 2.5"
   ]
  },
  {
   "cell_type": "code",
   "execution_count": 59,
   "metadata": {},
   "outputs": [
    {
     "data": {
      "application/vnd.plotly.v1+json": {
       "config": {
        "plotlyServerURL": "https://plot.ly"
       },
       "data": [
        {
         "alignmentgroup": "True",
         "hovertemplate": "country=India<br>city=%{x}<br>restaurant_id=%{y}<extra></extra>",
         "legendgroup": "India",
         "marker": {
          "color": "#636efa",
          "pattern": {
           "shape": ""
          }
         },
         "name": "India",
         "offsetgroup": "India",
         "orientation": "v",
         "showlegend": true,
         "textposition": "outside",
         "texttemplate": "%{y}",
         "type": "bar",
         "x": [
          "Gangtok",
          "Ooty",
          "Shimla"
         ],
         "xaxis": "x",
         "y": [
          40,
          19,
          4
         ],
         "yaxis": "y"
        },
        {
         "alignmentgroup": "True",
         "hovertemplate": "country=Brazil<br>city=%{x}<br>restaurant_id=%{y}<extra></extra>",
         "legendgroup": "Brazil",
         "marker": {
          "color": "#EF553B",
          "pattern": {
           "shape": ""
          }
         },
         "name": "Brazil",
         "offsetgroup": "Brazil",
         "orientation": "v",
         "showlegend": true,
         "textposition": "outside",
         "texttemplate": "%{y}",
         "type": "bar",
         "x": [
          "São Paulo",
          "Brasília",
          "Rio de Janeiro"
         ],
         "xaxis": "x",
         "y": [
          16,
          15,
          12
         ],
         "yaxis": "y"
        },
        {
         "alignmentgroup": "True",
         "hovertemplate": "country=England<br>city=%{x}<br>restaurant_id=%{y}<extra></extra>",
         "legendgroup": "England",
         "marker": {
          "color": "#00cc96",
          "pattern": {
           "shape": ""
          }
         },
         "name": "England",
         "offsetgroup": "England",
         "orientation": "v",
         "showlegend": true,
         "textposition": "outside",
         "texttemplate": "%{y}",
         "type": "bar",
         "x": [
          "Manchester",
          "Edinburgh"
         ],
         "xaxis": "x",
         "y": [
          7,
          2
         ],
         "yaxis": "y"
        },
        {
         "alignmentgroup": "True",
         "hovertemplate": "country=South Africa<br>city=%{x}<br>restaurant_id=%{y}<extra></extra>",
         "legendgroup": "South Africa",
         "marker": {
          "color": "#ab63fa",
          "pattern": {
           "shape": ""
          }
         },
         "name": "South Africa",
         "offsetgroup": "South Africa",
         "orientation": "v",
         "showlegend": true,
         "textposition": "outside",
         "texttemplate": "%{y}",
         "type": "bar",
         "x": [
          "Clarens"
         ],
         "xaxis": "x",
         "y": [
          4
         ],
         "yaxis": "y"
        },
        {
         "alignmentgroup": "True",
         "hovertemplate": "country=New Zeland<br>city=%{x}<br>restaurant_id=%{y}<extra></extra>",
         "legendgroup": "New Zeland",
         "marker": {
          "color": "#FFA15A",
          "pattern": {
           "shape": ""
          }
         },
         "name": "New Zeland",
         "offsetgroup": "New Zeland",
         "orientation": "v",
         "showlegend": true,
         "textposition": "outside",
         "texttemplate": "%{y}",
         "type": "bar",
         "x": [
          "Hamilton"
         ],
         "xaxis": "x",
         "y": [
          2
         ],
         "yaxis": "y"
        }
       ],
       "layout": {
        "barmode": "relative",
        "legend": {
         "title": {
          "text": "country"
         },
         "tracegroupgap": 0
        },
        "margin": {
         "t": 60
        },
        "template": {
         "data": {
          "bar": [
           {
            "error_x": {
             "color": "#2a3f5f"
            },
            "error_y": {
             "color": "#2a3f5f"
            },
            "marker": {
             "line": {
              "color": "#E5ECF6",
              "width": 0.5
             },
             "pattern": {
              "fillmode": "overlay",
              "size": 10,
              "solidity": 0.2
             }
            },
            "type": "bar"
           }
          ],
          "barpolar": [
           {
            "marker": {
             "line": {
              "color": "#E5ECF6",
              "width": 0.5
             },
             "pattern": {
              "fillmode": "overlay",
              "size": 10,
              "solidity": 0.2
             }
            },
            "type": "barpolar"
           }
          ],
          "carpet": [
           {
            "aaxis": {
             "endlinecolor": "#2a3f5f",
             "gridcolor": "white",
             "linecolor": "white",
             "minorgridcolor": "white",
             "startlinecolor": "#2a3f5f"
            },
            "baxis": {
             "endlinecolor": "#2a3f5f",
             "gridcolor": "white",
             "linecolor": "white",
             "minorgridcolor": "white",
             "startlinecolor": "#2a3f5f"
            },
            "type": "carpet"
           }
          ],
          "choropleth": [
           {
            "colorbar": {
             "outlinewidth": 0,
             "ticks": ""
            },
            "type": "choropleth"
           }
          ],
          "contour": [
           {
            "colorbar": {
             "outlinewidth": 0,
             "ticks": ""
            },
            "colorscale": [
             [
              0,
              "#0d0887"
             ],
             [
              0.1111111111111111,
              "#46039f"
             ],
             [
              0.2222222222222222,
              "#7201a8"
             ],
             [
              0.3333333333333333,
              "#9c179e"
             ],
             [
              0.4444444444444444,
              "#bd3786"
             ],
             [
              0.5555555555555556,
              "#d8576b"
             ],
             [
              0.6666666666666666,
              "#ed7953"
             ],
             [
              0.7777777777777778,
              "#fb9f3a"
             ],
             [
              0.8888888888888888,
              "#fdca26"
             ],
             [
              1,
              "#f0f921"
             ]
            ],
            "type": "contour"
           }
          ],
          "contourcarpet": [
           {
            "colorbar": {
             "outlinewidth": 0,
             "ticks": ""
            },
            "type": "contourcarpet"
           }
          ],
          "heatmap": [
           {
            "colorbar": {
             "outlinewidth": 0,
             "ticks": ""
            },
            "colorscale": [
             [
              0,
              "#0d0887"
             ],
             [
              0.1111111111111111,
              "#46039f"
             ],
             [
              0.2222222222222222,
              "#7201a8"
             ],
             [
              0.3333333333333333,
              "#9c179e"
             ],
             [
              0.4444444444444444,
              "#bd3786"
             ],
             [
              0.5555555555555556,
              "#d8576b"
             ],
             [
              0.6666666666666666,
              "#ed7953"
             ],
             [
              0.7777777777777778,
              "#fb9f3a"
             ],
             [
              0.8888888888888888,
              "#fdca26"
             ],
             [
              1,
              "#f0f921"
             ]
            ],
            "type": "heatmap"
           }
          ],
          "heatmapgl": [
           {
            "colorbar": {
             "outlinewidth": 0,
             "ticks": ""
            },
            "colorscale": [
             [
              0,
              "#0d0887"
             ],
             [
              0.1111111111111111,
              "#46039f"
             ],
             [
              0.2222222222222222,
              "#7201a8"
             ],
             [
              0.3333333333333333,
              "#9c179e"
             ],
             [
              0.4444444444444444,
              "#bd3786"
             ],
             [
              0.5555555555555556,
              "#d8576b"
             ],
             [
              0.6666666666666666,
              "#ed7953"
             ],
             [
              0.7777777777777778,
              "#fb9f3a"
             ],
             [
              0.8888888888888888,
              "#fdca26"
             ],
             [
              1,
              "#f0f921"
             ]
            ],
            "type": "heatmapgl"
           }
          ],
          "histogram": [
           {
            "marker": {
             "pattern": {
              "fillmode": "overlay",
              "size": 10,
              "solidity": 0.2
             }
            },
            "type": "histogram"
           }
          ],
          "histogram2d": [
           {
            "colorbar": {
             "outlinewidth": 0,
             "ticks": ""
            },
            "colorscale": [
             [
              0,
              "#0d0887"
             ],
             [
              0.1111111111111111,
              "#46039f"
             ],
             [
              0.2222222222222222,
              "#7201a8"
             ],
             [
              0.3333333333333333,
              "#9c179e"
             ],
             [
              0.4444444444444444,
              "#bd3786"
             ],
             [
              0.5555555555555556,
              "#d8576b"
             ],
             [
              0.6666666666666666,
              "#ed7953"
             ],
             [
              0.7777777777777778,
              "#fb9f3a"
             ],
             [
              0.8888888888888888,
              "#fdca26"
             ],
             [
              1,
              "#f0f921"
             ]
            ],
            "type": "histogram2d"
           }
          ],
          "histogram2dcontour": [
           {
            "colorbar": {
             "outlinewidth": 0,
             "ticks": ""
            },
            "colorscale": [
             [
              0,
              "#0d0887"
             ],
             [
              0.1111111111111111,
              "#46039f"
             ],
             [
              0.2222222222222222,
              "#7201a8"
             ],
             [
              0.3333333333333333,
              "#9c179e"
             ],
             [
              0.4444444444444444,
              "#bd3786"
             ],
             [
              0.5555555555555556,
              "#d8576b"
             ],
             [
              0.6666666666666666,
              "#ed7953"
             ],
             [
              0.7777777777777778,
              "#fb9f3a"
             ],
             [
              0.8888888888888888,
              "#fdca26"
             ],
             [
              1,
              "#f0f921"
             ]
            ],
            "type": "histogram2dcontour"
           }
          ],
          "mesh3d": [
           {
            "colorbar": {
             "outlinewidth": 0,
             "ticks": ""
            },
            "type": "mesh3d"
           }
          ],
          "parcoords": [
           {
            "line": {
             "colorbar": {
              "outlinewidth": 0,
              "ticks": ""
             }
            },
            "type": "parcoords"
           }
          ],
          "pie": [
           {
            "automargin": true,
            "type": "pie"
           }
          ],
          "scatter": [
           {
            "fillpattern": {
             "fillmode": "overlay",
             "size": 10,
             "solidity": 0.2
            },
            "type": "scatter"
           }
          ],
          "scatter3d": [
           {
            "line": {
             "colorbar": {
              "outlinewidth": 0,
              "ticks": ""
             }
            },
            "marker": {
             "colorbar": {
              "outlinewidth": 0,
              "ticks": ""
             }
            },
            "type": "scatter3d"
           }
          ],
          "scattercarpet": [
           {
            "marker": {
             "colorbar": {
              "outlinewidth": 0,
              "ticks": ""
             }
            },
            "type": "scattercarpet"
           }
          ],
          "scattergeo": [
           {
            "marker": {
             "colorbar": {
              "outlinewidth": 0,
              "ticks": ""
             }
            },
            "type": "scattergeo"
           }
          ],
          "scattergl": [
           {
            "marker": {
             "colorbar": {
              "outlinewidth": 0,
              "ticks": ""
             }
            },
            "type": "scattergl"
           }
          ],
          "scattermapbox": [
           {
            "marker": {
             "colorbar": {
              "outlinewidth": 0,
              "ticks": ""
             }
            },
            "type": "scattermapbox"
           }
          ],
          "scatterpolar": [
           {
            "marker": {
             "colorbar": {
              "outlinewidth": 0,
              "ticks": ""
             }
            },
            "type": "scatterpolar"
           }
          ],
          "scatterpolargl": [
           {
            "marker": {
             "colorbar": {
              "outlinewidth": 0,
              "ticks": ""
             }
            },
            "type": "scatterpolargl"
           }
          ],
          "scatterternary": [
           {
            "marker": {
             "colorbar": {
              "outlinewidth": 0,
              "ticks": ""
             }
            },
            "type": "scatterternary"
           }
          ],
          "surface": [
           {
            "colorbar": {
             "outlinewidth": 0,
             "ticks": ""
            },
            "colorscale": [
             [
              0,
              "#0d0887"
             ],
             [
              0.1111111111111111,
              "#46039f"
             ],
             [
              0.2222222222222222,
              "#7201a8"
             ],
             [
              0.3333333333333333,
              "#9c179e"
             ],
             [
              0.4444444444444444,
              "#bd3786"
             ],
             [
              0.5555555555555556,
              "#d8576b"
             ],
             [
              0.6666666666666666,
              "#ed7953"
             ],
             [
              0.7777777777777778,
              "#fb9f3a"
             ],
             [
              0.8888888888888888,
              "#fdca26"
             ],
             [
              1,
              "#f0f921"
             ]
            ],
            "type": "surface"
           }
          ],
          "table": [
           {
            "cells": {
             "fill": {
              "color": "#EBF0F8"
             },
             "line": {
              "color": "white"
             }
            },
            "header": {
             "fill": {
              "color": "#C8D4E3"
             },
             "line": {
              "color": "white"
             }
            },
            "type": "table"
           }
          ]
         },
         "layout": {
          "annotationdefaults": {
           "arrowcolor": "#2a3f5f",
           "arrowhead": 0,
           "arrowwidth": 1
          },
          "autotypenumbers": "strict",
          "coloraxis": {
           "colorbar": {
            "outlinewidth": 0,
            "ticks": ""
           }
          },
          "colorscale": {
           "diverging": [
            [
             0,
             "#8e0152"
            ],
            [
             0.1,
             "#c51b7d"
            ],
            [
             0.2,
             "#de77ae"
            ],
            [
             0.3,
             "#f1b6da"
            ],
            [
             0.4,
             "#fde0ef"
            ],
            [
             0.5,
             "#f7f7f7"
            ],
            [
             0.6,
             "#e6f5d0"
            ],
            [
             0.7,
             "#b8e186"
            ],
            [
             0.8,
             "#7fbc41"
            ],
            [
             0.9,
             "#4d9221"
            ],
            [
             1,
             "#276419"
            ]
           ],
           "sequential": [
            [
             0,
             "#0d0887"
            ],
            [
             0.1111111111111111,
             "#46039f"
            ],
            [
             0.2222222222222222,
             "#7201a8"
            ],
            [
             0.3333333333333333,
             "#9c179e"
            ],
            [
             0.4444444444444444,
             "#bd3786"
            ],
            [
             0.5555555555555556,
             "#d8576b"
            ],
            [
             0.6666666666666666,
             "#ed7953"
            ],
            [
             0.7777777777777778,
             "#fb9f3a"
            ],
            [
             0.8888888888888888,
             "#fdca26"
            ],
            [
             1,
             "#f0f921"
            ]
           ],
           "sequentialminus": [
            [
             0,
             "#0d0887"
            ],
            [
             0.1111111111111111,
             "#46039f"
            ],
            [
             0.2222222222222222,
             "#7201a8"
            ],
            [
             0.3333333333333333,
             "#9c179e"
            ],
            [
             0.4444444444444444,
             "#bd3786"
            ],
            [
             0.5555555555555556,
             "#d8576b"
            ],
            [
             0.6666666666666666,
             "#ed7953"
            ],
            [
             0.7777777777777778,
             "#fb9f3a"
            ],
            [
             0.8888888888888888,
             "#fdca26"
            ],
            [
             1,
             "#f0f921"
            ]
           ]
          },
          "colorway": [
           "#636efa",
           "#EF553B",
           "#00cc96",
           "#ab63fa",
           "#FFA15A",
           "#19d3f3",
           "#FF6692",
           "#B6E880",
           "#FF97FF",
           "#FECB52"
          ],
          "font": {
           "color": "#2a3f5f"
          },
          "geo": {
           "bgcolor": "white",
           "lakecolor": "white",
           "landcolor": "#E5ECF6",
           "showlakes": true,
           "showland": true,
           "subunitcolor": "white"
          },
          "hoverlabel": {
           "align": "left"
          },
          "hovermode": "closest",
          "mapbox": {
           "style": "light"
          },
          "paper_bgcolor": "white",
          "plot_bgcolor": "#E5ECF6",
          "polar": {
           "angularaxis": {
            "gridcolor": "white",
            "linecolor": "white",
            "ticks": ""
           },
           "bgcolor": "#E5ECF6",
           "radialaxis": {
            "gridcolor": "white",
            "linecolor": "white",
            "ticks": ""
           }
          },
          "scene": {
           "xaxis": {
            "backgroundcolor": "#E5ECF6",
            "gridcolor": "white",
            "gridwidth": 2,
            "linecolor": "white",
            "showbackground": true,
            "ticks": "",
            "zerolinecolor": "white"
           },
           "yaxis": {
            "backgroundcolor": "#E5ECF6",
            "gridcolor": "white",
            "gridwidth": 2,
            "linecolor": "white",
            "showbackground": true,
            "ticks": "",
            "zerolinecolor": "white"
           },
           "zaxis": {
            "backgroundcolor": "#E5ECF6",
            "gridcolor": "white",
            "gridwidth": 2,
            "linecolor": "white",
            "showbackground": true,
            "ticks": "",
            "zerolinecolor": "white"
           }
          },
          "shapedefaults": {
           "line": {
            "color": "#2a3f5f"
           }
          },
          "ternary": {
           "aaxis": {
            "gridcolor": "white",
            "linecolor": "white",
            "ticks": ""
           },
           "baxis": {
            "gridcolor": "white",
            "linecolor": "white",
            "ticks": ""
           },
           "bgcolor": "#E5ECF6",
           "caxis": {
            "gridcolor": "white",
            "linecolor": "white",
            "ticks": ""
           }
          },
          "title": {
           "x": 0.05
          },
          "xaxis": {
           "automargin": true,
           "gridcolor": "white",
           "linecolor": "white",
           "ticks": "",
           "title": {
            "standoff": 15
           },
           "zerolinecolor": "white",
           "zerolinewidth": 2
          },
          "yaxis": {
           "automargin": true,
           "gridcolor": "white",
           "linecolor": "white",
           "ticks": "",
           "title": {
            "standoff": 15
           },
           "zerolinecolor": "white",
           "zerolinewidth": 2
          }
         }
        },
        "xaxis": {
         "anchor": "y",
         "categoryorder": "total descending",
         "domain": [
          0,
          1
         ],
         "title": {
          "text": "Cities"
         }
        },
        "yaxis": {
         "anchor": "x",
         "domain": [
          0,
          1
         ],
         "title": {
          "text": "Restaurant count"
         }
        }
       }
      }
     },
     "metadata": {},
     "output_type": "display_data"
    }
   ],
   "source": [
    "city_rating_below = df.loc[df['aggregate_rating'] < 2.5 , ['city', 'restaurant_id', 'country']].groupby(['city', 'country']).count().sort_values('restaurant_id', ascending=False).reset_index().head(10)\n",
    "\n",
    "fig = px.bar(city_rating_below, x= 'city', y= 'restaurant_id', color= 'country', text_auto=True)\n",
    "fig.update_traces(textposition= 'outside')\n",
    "fig.update_layout(xaxis={'categoryorder':'total descending'})\n",
    "fig.update_layout(xaxis_title= 'Cities', yaxis_title= 'Restaurant count')\n",
    "\n",
    "\n",
    "fig.show()\n"
   ]
  },
  {
   "cell_type": "markdown",
   "metadata": {},
   "source": [
    "## 10. Tipos distintos de culinária por país"
   ]
  },
  {
   "cell_type": "code",
   "execution_count": 60,
   "metadata": {},
   "outputs": [
    {
     "data": {
      "text/html": [
       "<div>\n",
       "<style scoped>\n",
       "    .dataframe tbody tr th:only-of-type {\n",
       "        vertical-align: middle;\n",
       "    }\n",
       "\n",
       "    .dataframe tbody tr th {\n",
       "        vertical-align: top;\n",
       "    }\n",
       "\n",
       "    .dataframe thead th {\n",
       "        text-align: right;\n",
       "    }\n",
       "</style>\n",
       "<table border=\"1\" class=\"dataframe\">\n",
       "  <thead>\n",
       "    <tr style=\"text-align: right;\">\n",
       "      <th></th>\n",
       "      <th>restaurant_id</th>\n",
       "      <th>restaurant_name</th>\n",
       "      <th>country</th>\n",
       "      <th>city</th>\n",
       "      <th>address</th>\n",
       "      <th>locality</th>\n",
       "      <th>locality_verbose</th>\n",
       "      <th>longitude</th>\n",
       "      <th>latitude</th>\n",
       "      <th>cuisines</th>\n",
       "      <th>average_cost_for_two</th>\n",
       "      <th>currency_codes</th>\n",
       "      <th>currency_in_usd</th>\n",
       "      <th>has_table_booking</th>\n",
       "      <th>has_online_delivery</th>\n",
       "      <th>is_delivering_now</th>\n",
       "      <th>price_range</th>\n",
       "      <th>aggregate_rating</th>\n",
       "      <th>rating_color</th>\n",
       "      <th>rating_text</th>\n",
       "      <th>votes</th>\n",
       "    </tr>\n",
       "  </thead>\n",
       "  <tbody>\n",
       "    <tr>\n",
       "      <th>0</th>\n",
       "      <td>6310675</td>\n",
       "      <td>Mama Lou's Italian Kitchen</td>\n",
       "      <td>Philippines</td>\n",
       "      <td>Las Piñas City</td>\n",
       "      <td>Block 1, Lot 36, Tropical Avenue Corner Tropic...</td>\n",
       "      <td>BF International</td>\n",
       "      <td>BF International, Las Piñas City</td>\n",
       "      <td>121.009787</td>\n",
       "      <td>14.447615</td>\n",
       "      <td>Italian</td>\n",
       "      <td>1100</td>\n",
       "      <td>BWP</td>\n",
       "      <td>80.910004</td>\n",
       "      <td>Yes</td>\n",
       "      <td>No</td>\n",
       "      <td>No</td>\n",
       "      <td>expensive</td>\n",
       "      <td>4.6</td>\n",
       "      <td>darkgreen</td>\n",
       "      <td>Excellent</td>\n",
       "      <td>619</td>\n",
       "    </tr>\n",
       "    <tr>\n",
       "      <th>2</th>\n",
       "      <td>6314542</td>\n",
       "      <td>Blackbird</td>\n",
       "      <td>Philippines</td>\n",
       "      <td>Makati City</td>\n",
       "      <td>Nielson Tower, Ayala Triangle Gardens, Salcedo...</td>\n",
       "      <td>Ayala Triangle Gardens, Salcedo Village, Makat...</td>\n",
       "      <td>Ayala Triangle Gardens, Salcedo Village, Makat...</td>\n",
       "      <td>121.024562</td>\n",
       "      <td>14.556042</td>\n",
       "      <td>European</td>\n",
       "      <td>3100</td>\n",
       "      <td>BWP</td>\n",
       "      <td>228.019101</td>\n",
       "      <td>No</td>\n",
       "      <td>No</td>\n",
       "      <td>No</td>\n",
       "      <td>gourmet</td>\n",
       "      <td>4.7</td>\n",
       "      <td>darkgreen</td>\n",
       "      <td>Excellent</td>\n",
       "      <td>469</td>\n",
       "    </tr>\n",
       "  </tbody>\n",
       "</table>\n",
       "</div>"
      ],
      "text/plain": [
       "   restaurant_id             restaurant_name      country            city  \\\n",
       "0        6310675  Mama Lou's Italian Kitchen  Philippines  Las Piñas City   \n",
       "2        6314542                   Blackbird  Philippines     Makati City   \n",
       "\n",
       "                                             address  \\\n",
       "0  Block 1, Lot 36, Tropical Avenue Corner Tropic...   \n",
       "2  Nielson Tower, Ayala Triangle Gardens, Salcedo...   \n",
       "\n",
       "                                            locality  \\\n",
       "0                                   BF International   \n",
       "2  Ayala Triangle Gardens, Salcedo Village, Makat...   \n",
       "\n",
       "                                    locality_verbose   longitude   latitude  \\\n",
       "0                   BF International, Las Piñas City  121.009787  14.447615   \n",
       "2  Ayala Triangle Gardens, Salcedo Village, Makat...  121.024562  14.556042   \n",
       "\n",
       "   cuisines  average_cost_for_two currency_codes  currency_in_usd  \\\n",
       "0   Italian                  1100            BWP        80.910004   \n",
       "2  European                  3100            BWP       228.019101   \n",
       "\n",
       "  has_table_booking has_online_delivery is_delivering_now price_range  \\\n",
       "0               Yes                  No                No   expensive   \n",
       "2                No                  No                No     gourmet   \n",
       "\n",
       "   aggregate_rating rating_color rating_text  votes  \n",
       "0               4.6    darkgreen   Excellent    619  \n",
       "2               4.7    darkgreen   Excellent    469  "
      ]
     },
     "execution_count": 60,
     "metadata": {},
     "output_type": "execute_result"
    }
   ],
   "source": [
    "df.head(2)"
   ]
  },
  {
   "cell_type": "code",
   "execution_count": 67,
   "metadata": {},
   "outputs": [
    {
     "data": {
      "application/vnd.plotly.v1+json": {
       "config": {
        "plotlyServerURL": "https://plot.ly"
       },
       "data": [
        {
         "marker": {
          "color": [
           "#636efa",
           "#636efa",
           "#636efa",
           "#636efa",
           "#636efa",
           "#636efa",
           "#636efa",
           "#636efa",
           "#636efa",
           "#636efa",
           "#636efa",
           "#636efa",
           "#c7c704",
           "#878901",
           "#4d4f00"
          ]
         },
         "name": "cuisines_by_country",
         "orientation": "h",
         "text": [
          14,
          21,
          21,
          26,
          28,
          31,
          37,
          42,
          42,
          43,
          43,
          46,
          52,
          75,
          78
         ],
         "textposition": "outside",
         "type": "bar",
         "x": [
          14,
          21,
          21,
          26,
          28,
          31,
          37,
          42,
          42,
          43,
          43,
          46,
          52,
          75,
          78
         ],
         "y": [
          "Philippines",
          "Indonesia",
          "Singapure",
          "Sri Lanka",
          "Turkey",
          "Qatar",
          "New Zeland",
          "Canada",
          "South Africa",
          "Australia",
          "Brazil",
          "United Arab Emirates",
          "England",
          "United States of America",
          "India"
         ]
        }
       ],
       "layout": {
        "autosize": false,
        "height": 600,
        "template": {
         "data": {
          "bar": [
           {
            "error_x": {
             "color": "#2a3f5f"
            },
            "error_y": {
             "color": "#2a3f5f"
            },
            "marker": {
             "line": {
              "color": "#E5ECF6",
              "width": 0.5
             },
             "pattern": {
              "fillmode": "overlay",
              "size": 10,
              "solidity": 0.2
             }
            },
            "type": "bar"
           }
          ],
          "barpolar": [
           {
            "marker": {
             "line": {
              "color": "#E5ECF6",
              "width": 0.5
             },
             "pattern": {
              "fillmode": "overlay",
              "size": 10,
              "solidity": 0.2
             }
            },
            "type": "barpolar"
           }
          ],
          "carpet": [
           {
            "aaxis": {
             "endlinecolor": "#2a3f5f",
             "gridcolor": "white",
             "linecolor": "white",
             "minorgridcolor": "white",
             "startlinecolor": "#2a3f5f"
            },
            "baxis": {
             "endlinecolor": "#2a3f5f",
             "gridcolor": "white",
             "linecolor": "white",
             "minorgridcolor": "white",
             "startlinecolor": "#2a3f5f"
            },
            "type": "carpet"
           }
          ],
          "choropleth": [
           {
            "colorbar": {
             "outlinewidth": 0,
             "ticks": ""
            },
            "type": "choropleth"
           }
          ],
          "contour": [
           {
            "colorbar": {
             "outlinewidth": 0,
             "ticks": ""
            },
            "colorscale": [
             [
              0,
              "#0d0887"
             ],
             [
              0.1111111111111111,
              "#46039f"
             ],
             [
              0.2222222222222222,
              "#7201a8"
             ],
             [
              0.3333333333333333,
              "#9c179e"
             ],
             [
              0.4444444444444444,
              "#bd3786"
             ],
             [
              0.5555555555555556,
              "#d8576b"
             ],
             [
              0.6666666666666666,
              "#ed7953"
             ],
             [
              0.7777777777777778,
              "#fb9f3a"
             ],
             [
              0.8888888888888888,
              "#fdca26"
             ],
             [
              1,
              "#f0f921"
             ]
            ],
            "type": "contour"
           }
          ],
          "contourcarpet": [
           {
            "colorbar": {
             "outlinewidth": 0,
             "ticks": ""
            },
            "type": "contourcarpet"
           }
          ],
          "heatmap": [
           {
            "colorbar": {
             "outlinewidth": 0,
             "ticks": ""
            },
            "colorscale": [
             [
              0,
              "#0d0887"
             ],
             [
              0.1111111111111111,
              "#46039f"
             ],
             [
              0.2222222222222222,
              "#7201a8"
             ],
             [
              0.3333333333333333,
              "#9c179e"
             ],
             [
              0.4444444444444444,
              "#bd3786"
             ],
             [
              0.5555555555555556,
              "#d8576b"
             ],
             [
              0.6666666666666666,
              "#ed7953"
             ],
             [
              0.7777777777777778,
              "#fb9f3a"
             ],
             [
              0.8888888888888888,
              "#fdca26"
             ],
             [
              1,
              "#f0f921"
             ]
            ],
            "type": "heatmap"
           }
          ],
          "heatmapgl": [
           {
            "colorbar": {
             "outlinewidth": 0,
             "ticks": ""
            },
            "colorscale": [
             [
              0,
              "#0d0887"
             ],
             [
              0.1111111111111111,
              "#46039f"
             ],
             [
              0.2222222222222222,
              "#7201a8"
             ],
             [
              0.3333333333333333,
              "#9c179e"
             ],
             [
              0.4444444444444444,
              "#bd3786"
             ],
             [
              0.5555555555555556,
              "#d8576b"
             ],
             [
              0.6666666666666666,
              "#ed7953"
             ],
             [
              0.7777777777777778,
              "#fb9f3a"
             ],
             [
              0.8888888888888888,
              "#fdca26"
             ],
             [
              1,
              "#f0f921"
             ]
            ],
            "type": "heatmapgl"
           }
          ],
          "histogram": [
           {
            "marker": {
             "pattern": {
              "fillmode": "overlay",
              "size": 10,
              "solidity": 0.2
             }
            },
            "type": "histogram"
           }
          ],
          "histogram2d": [
           {
            "colorbar": {
             "outlinewidth": 0,
             "ticks": ""
            },
            "colorscale": [
             [
              0,
              "#0d0887"
             ],
             [
              0.1111111111111111,
              "#46039f"
             ],
             [
              0.2222222222222222,
              "#7201a8"
             ],
             [
              0.3333333333333333,
              "#9c179e"
             ],
             [
              0.4444444444444444,
              "#bd3786"
             ],
             [
              0.5555555555555556,
              "#d8576b"
             ],
             [
              0.6666666666666666,
              "#ed7953"
             ],
             [
              0.7777777777777778,
              "#fb9f3a"
             ],
             [
              0.8888888888888888,
              "#fdca26"
             ],
             [
              1,
              "#f0f921"
             ]
            ],
            "type": "histogram2d"
           }
          ],
          "histogram2dcontour": [
           {
            "colorbar": {
             "outlinewidth": 0,
             "ticks": ""
            },
            "colorscale": [
             [
              0,
              "#0d0887"
             ],
             [
              0.1111111111111111,
              "#46039f"
             ],
             [
              0.2222222222222222,
              "#7201a8"
             ],
             [
              0.3333333333333333,
              "#9c179e"
             ],
             [
              0.4444444444444444,
              "#bd3786"
             ],
             [
              0.5555555555555556,
              "#d8576b"
             ],
             [
              0.6666666666666666,
              "#ed7953"
             ],
             [
              0.7777777777777778,
              "#fb9f3a"
             ],
             [
              0.8888888888888888,
              "#fdca26"
             ],
             [
              1,
              "#f0f921"
             ]
            ],
            "type": "histogram2dcontour"
           }
          ],
          "mesh3d": [
           {
            "colorbar": {
             "outlinewidth": 0,
             "ticks": ""
            },
            "type": "mesh3d"
           }
          ],
          "parcoords": [
           {
            "line": {
             "colorbar": {
              "outlinewidth": 0,
              "ticks": ""
             }
            },
            "type": "parcoords"
           }
          ],
          "pie": [
           {
            "automargin": true,
            "type": "pie"
           }
          ],
          "scatter": [
           {
            "fillpattern": {
             "fillmode": "overlay",
             "size": 10,
             "solidity": 0.2
            },
            "type": "scatter"
           }
          ],
          "scatter3d": [
           {
            "line": {
             "colorbar": {
              "outlinewidth": 0,
              "ticks": ""
             }
            },
            "marker": {
             "colorbar": {
              "outlinewidth": 0,
              "ticks": ""
             }
            },
            "type": "scatter3d"
           }
          ],
          "scattercarpet": [
           {
            "marker": {
             "colorbar": {
              "outlinewidth": 0,
              "ticks": ""
             }
            },
            "type": "scattercarpet"
           }
          ],
          "scattergeo": [
           {
            "marker": {
             "colorbar": {
              "outlinewidth": 0,
              "ticks": ""
             }
            },
            "type": "scattergeo"
           }
          ],
          "scattergl": [
           {
            "marker": {
             "colorbar": {
              "outlinewidth": 0,
              "ticks": ""
             }
            },
            "type": "scattergl"
           }
          ],
          "scattermapbox": [
           {
            "marker": {
             "colorbar": {
              "outlinewidth": 0,
              "ticks": ""
             }
            },
            "type": "scattermapbox"
           }
          ],
          "scatterpolar": [
           {
            "marker": {
             "colorbar": {
              "outlinewidth": 0,
              "ticks": ""
             }
            },
            "type": "scatterpolar"
           }
          ],
          "scatterpolargl": [
           {
            "marker": {
             "colorbar": {
              "outlinewidth": 0,
              "ticks": ""
             }
            },
            "type": "scatterpolargl"
           }
          ],
          "scatterternary": [
           {
            "marker": {
             "colorbar": {
              "outlinewidth": 0,
              "ticks": ""
             }
            },
            "type": "scatterternary"
           }
          ],
          "surface": [
           {
            "colorbar": {
             "outlinewidth": 0,
             "ticks": ""
            },
            "colorscale": [
             [
              0,
              "#0d0887"
             ],
             [
              0.1111111111111111,
              "#46039f"
             ],
             [
              0.2222222222222222,
              "#7201a8"
             ],
             [
              0.3333333333333333,
              "#9c179e"
             ],
             [
              0.4444444444444444,
              "#bd3786"
             ],
             [
              0.5555555555555556,
              "#d8576b"
             ],
             [
              0.6666666666666666,
              "#ed7953"
             ],
             [
              0.7777777777777778,
              "#fb9f3a"
             ],
             [
              0.8888888888888888,
              "#fdca26"
             ],
             [
              1,
              "#f0f921"
             ]
            ],
            "type": "surface"
           }
          ],
          "table": [
           {
            "cells": {
             "fill": {
              "color": "#EBF0F8"
             },
             "line": {
              "color": "white"
             }
            },
            "header": {
             "fill": {
              "color": "#C8D4E3"
             },
             "line": {
              "color": "white"
             }
            },
            "type": "table"
           }
          ]
         },
         "layout": {
          "annotationdefaults": {
           "arrowcolor": "#2a3f5f",
           "arrowhead": 0,
           "arrowwidth": 1
          },
          "autotypenumbers": "strict",
          "coloraxis": {
           "colorbar": {
            "outlinewidth": 0,
            "ticks": ""
           }
          },
          "colorscale": {
           "diverging": [
            [
             0,
             "#8e0152"
            ],
            [
             0.1,
             "#c51b7d"
            ],
            [
             0.2,
             "#de77ae"
            ],
            [
             0.3,
             "#f1b6da"
            ],
            [
             0.4,
             "#fde0ef"
            ],
            [
             0.5,
             "#f7f7f7"
            ],
            [
             0.6,
             "#e6f5d0"
            ],
            [
             0.7,
             "#b8e186"
            ],
            [
             0.8,
             "#7fbc41"
            ],
            [
             0.9,
             "#4d9221"
            ],
            [
             1,
             "#276419"
            ]
           ],
           "sequential": [
            [
             0,
             "#0d0887"
            ],
            [
             0.1111111111111111,
             "#46039f"
            ],
            [
             0.2222222222222222,
             "#7201a8"
            ],
            [
             0.3333333333333333,
             "#9c179e"
            ],
            [
             0.4444444444444444,
             "#bd3786"
            ],
            [
             0.5555555555555556,
             "#d8576b"
            ],
            [
             0.6666666666666666,
             "#ed7953"
            ],
            [
             0.7777777777777778,
             "#fb9f3a"
            ],
            [
             0.8888888888888888,
             "#fdca26"
            ],
            [
             1,
             "#f0f921"
            ]
           ],
           "sequentialminus": [
            [
             0,
             "#0d0887"
            ],
            [
             0.1111111111111111,
             "#46039f"
            ],
            [
             0.2222222222222222,
             "#7201a8"
            ],
            [
             0.3333333333333333,
             "#9c179e"
            ],
            [
             0.4444444444444444,
             "#bd3786"
            ],
            [
             0.5555555555555556,
             "#d8576b"
            ],
            [
             0.6666666666666666,
             "#ed7953"
            ],
            [
             0.7777777777777778,
             "#fb9f3a"
            ],
            [
             0.8888888888888888,
             "#fdca26"
            ],
            [
             1,
             "#f0f921"
            ]
           ]
          },
          "colorway": [
           "#636efa",
           "#EF553B",
           "#00cc96",
           "#ab63fa",
           "#FFA15A",
           "#19d3f3",
           "#FF6692",
           "#B6E880",
           "#FF97FF",
           "#FECB52"
          ],
          "font": {
           "color": "#2a3f5f"
          },
          "geo": {
           "bgcolor": "white",
           "lakecolor": "white",
           "landcolor": "#E5ECF6",
           "showlakes": true,
           "showland": true,
           "subunitcolor": "white"
          },
          "hoverlabel": {
           "align": "left"
          },
          "hovermode": "closest",
          "mapbox": {
           "style": "light"
          },
          "paper_bgcolor": "white",
          "plot_bgcolor": "#E5ECF6",
          "polar": {
           "angularaxis": {
            "gridcolor": "white",
            "linecolor": "white",
            "ticks": ""
           },
           "bgcolor": "#E5ECF6",
           "radialaxis": {
            "gridcolor": "white",
            "linecolor": "white",
            "ticks": ""
           }
          },
          "scene": {
           "xaxis": {
            "backgroundcolor": "#E5ECF6",
            "gridcolor": "white",
            "gridwidth": 2,
            "linecolor": "white",
            "showbackground": true,
            "ticks": "",
            "zerolinecolor": "white"
           },
           "yaxis": {
            "backgroundcolor": "#E5ECF6",
            "gridcolor": "white",
            "gridwidth": 2,
            "linecolor": "white",
            "showbackground": true,
            "ticks": "",
            "zerolinecolor": "white"
           },
           "zaxis": {
            "backgroundcolor": "#E5ECF6",
            "gridcolor": "white",
            "gridwidth": 2,
            "linecolor": "white",
            "showbackground": true,
            "ticks": "",
            "zerolinecolor": "white"
           }
          },
          "shapedefaults": {
           "line": {
            "color": "#2a3f5f"
           }
          },
          "ternary": {
           "aaxis": {
            "gridcolor": "white",
            "linecolor": "white",
            "ticks": ""
           },
           "baxis": {
            "gridcolor": "white",
            "linecolor": "white",
            "ticks": ""
           },
           "bgcolor": "#E5ECF6",
           "caxis": {
            "gridcolor": "white",
            "linecolor": "white",
            "ticks": ""
           }
          },
          "title": {
           "x": 0.05
          },
          "xaxis": {
           "automargin": true,
           "gridcolor": "white",
           "linecolor": "white",
           "ticks": "",
           "title": {
            "standoff": 15
           },
           "zerolinecolor": "white",
           "zerolinewidth": 2
          },
          "yaxis": {
           "automargin": true,
           "gridcolor": "white",
           "linecolor": "white",
           "ticks": "",
           "title": {
            "standoff": 15
           },
           "zerolinecolor": "white",
           "zerolinewidth": 2
          }
         }
        },
        "width": 1200,
        "xaxis": {
         "title": {
          "text": "Distinct cuisines count"
         }
        },
        "yaxis": {
         "automargin": true,
         "title": {
          "text": "Countries"
         }
        }
       }
      }
     },
     "metadata": {},
     "output_type": "display_data"
    }
   ],
   "source": [
    "grouped = df.loc[:,['cuisines','country']].groupby('country').nunique().sort_values('cuisines', ascending=True).reset_index()\n",
    "\n",
    "colors2 = ['#636efa'] * 12 + ['#c7c704', '#878901', '#4d4f00'] \n",
    "\n",
    "fig = go.Figure()\n",
    "\n",
    "fig.add_trace(go.Bar(name='cuisines_by_country',\n",
    "                     x= grouped['cuisines'],\n",
    "                     y= grouped['country'],\n",
    "                     orientation= 'h',\n",
    "                     marker_color = colors2))\n",
    "\n",
    "fig.update_layout(autosize= False, width= 1200, height= 600)\n",
    "fig.update_yaxes(automargin = True)\n",
    "fig.update_layout(xaxis_title = 'Distinct cuisines count', yaxis_title= 'Countries')\n",
    "fig.update_traces(text= grouped['cuisines'])\n",
    "fig.update_traces(textposition = 'outside')\n",
    "\n",
    "fig.show()"
   ]
  },
  {
   "cell_type": "markdown",
   "metadata": {},
   "source": [
    "## 11. Top 10 cidades com mais tipos diferentes de culinária"
   ]
  },
  {
   "cell_type": "code",
   "execution_count": 69,
   "metadata": {},
   "outputs": [
    {
     "data": {
      "application/vnd.plotly.v1+json": {
       "config": {
        "plotlyServerURL": "https://plot.ly"
       },
       "data": [
        {
         "alignmentgroup": "True",
         "hovertemplate": "country=England<br>city=%{x}<br>cuisines=%{y}<extra></extra>",
         "legendgroup": "England",
         "marker": {
          "color": "#636efa",
          "pattern": {
           "shape": ""
          }
         },
         "name": "England",
         "offsetgroup": "England",
         "orientation": "v",
         "showlegend": true,
         "textposition": "outside",
         "texttemplate": "%{y}",
         "type": "bar",
         "x": [
          "Birmingham",
          "Manchester"
         ],
         "xaxis": "x",
         "y": [
          32,
          30
         ],
         "yaxis": "y"
        },
        {
         "alignmentgroup": "True",
         "hovertemplate": "country=Qatar<br>city=%{x}<br>cuisines=%{y}<extra></extra>",
         "legendgroup": "Qatar",
         "marker": {
          "color": "#EF553B",
          "pattern": {
           "shape": ""
          }
         },
         "name": "Qatar",
         "offsetgroup": "Qatar",
         "orientation": "v",
         "showlegend": true,
         "textposition": "outside",
         "texttemplate": "%{y}",
         "type": "bar",
         "x": [
          "Doha"
         ],
         "xaxis": "x",
         "y": [
          31
         ],
         "yaxis": "y"
        },
        {
         "alignmentgroup": "True",
         "hovertemplate": "country=Canada<br>city=%{x}<br>cuisines=%{y}<extra></extra>",
         "legendgroup": "Canada",
         "marker": {
          "color": "#00cc96",
          "pattern": {
           "shape": ""
          }
         },
         "name": "Canada",
         "offsetgroup": "Canada",
         "orientation": "v",
         "showlegend": true,
         "textposition": "outside",
         "texttemplate": "%{y}",
         "type": "bar",
         "x": [
          "Montreal",
          "Calgary"
         ],
         "xaxis": "x",
         "y": [
          30,
          28
         ],
         "yaxis": "y"
        },
        {
         "alignmentgroup": "True",
         "hovertemplate": "country=Brazil<br>city=%{x}<br>cuisines=%{y}<extra></extra>",
         "legendgroup": "Brazil",
         "marker": {
          "color": "#ab63fa",
          "pattern": {
           "shape": ""
          }
         },
         "name": "Brazil",
         "offsetgroup": "Brazil",
         "orientation": "v",
         "showlegend": true,
         "textposition": "outside",
         "texttemplate": "%{y}",
         "type": "bar",
         "x": [
          "São Paulo"
         ],
         "xaxis": "x",
         "y": [
          30
         ],
         "yaxis": "y"
        },
        {
         "alignmentgroup": "True",
         "hovertemplate": "country=United States of America<br>city=%{x}<br>cuisines=%{y}<extra></extra>",
         "legendgroup": "United States of America",
         "marker": {
          "color": "#FFA15A",
          "pattern": {
           "shape": ""
          }
         },
         "name": "United States of America",
         "offsetgroup": "United States of America",
         "orientation": "v",
         "showlegend": true,
         "textposition": "outside",
         "texttemplate": "%{y}",
         "type": "bar",
         "x": [
          "Houston",
          "Philadelphia",
          "Portland"
         ],
         "xaxis": "x",
         "y": [
          30,
          29,
          28
         ],
         "yaxis": "y"
        },
        {
         "alignmentgroup": "True",
         "hovertemplate": "country=Australia<br>city=%{x}<br>cuisines=%{y}<extra></extra>",
         "legendgroup": "Australia",
         "marker": {
          "color": "#19d3f3",
          "pattern": {
           "shape": ""
          }
         },
         "name": "Australia",
         "offsetgroup": "Australia",
         "orientation": "v",
         "showlegend": true,
         "textposition": "outside",
         "texttemplate": "%{y}",
         "type": "bar",
         "x": [
          "Perth"
         ],
         "xaxis": "x",
         "y": [
          29
         ],
         "yaxis": "y"
        }
       ],
       "layout": {
        "barmode": "relative",
        "legend": {
         "title": {
          "text": "country"
         },
         "tracegroupgap": 0
        },
        "margin": {
         "t": 60
        },
        "template": {
         "data": {
          "bar": [
           {
            "error_x": {
             "color": "#2a3f5f"
            },
            "error_y": {
             "color": "#2a3f5f"
            },
            "marker": {
             "line": {
              "color": "#E5ECF6",
              "width": 0.5
             },
             "pattern": {
              "fillmode": "overlay",
              "size": 10,
              "solidity": 0.2
             }
            },
            "type": "bar"
           }
          ],
          "barpolar": [
           {
            "marker": {
             "line": {
              "color": "#E5ECF6",
              "width": 0.5
             },
             "pattern": {
              "fillmode": "overlay",
              "size": 10,
              "solidity": 0.2
             }
            },
            "type": "barpolar"
           }
          ],
          "carpet": [
           {
            "aaxis": {
             "endlinecolor": "#2a3f5f",
             "gridcolor": "white",
             "linecolor": "white",
             "minorgridcolor": "white",
             "startlinecolor": "#2a3f5f"
            },
            "baxis": {
             "endlinecolor": "#2a3f5f",
             "gridcolor": "white",
             "linecolor": "white",
             "minorgridcolor": "white",
             "startlinecolor": "#2a3f5f"
            },
            "type": "carpet"
           }
          ],
          "choropleth": [
           {
            "colorbar": {
             "outlinewidth": 0,
             "ticks": ""
            },
            "type": "choropleth"
           }
          ],
          "contour": [
           {
            "colorbar": {
             "outlinewidth": 0,
             "ticks": ""
            },
            "colorscale": [
             [
              0,
              "#0d0887"
             ],
             [
              0.1111111111111111,
              "#46039f"
             ],
             [
              0.2222222222222222,
              "#7201a8"
             ],
             [
              0.3333333333333333,
              "#9c179e"
             ],
             [
              0.4444444444444444,
              "#bd3786"
             ],
             [
              0.5555555555555556,
              "#d8576b"
             ],
             [
              0.6666666666666666,
              "#ed7953"
             ],
             [
              0.7777777777777778,
              "#fb9f3a"
             ],
             [
              0.8888888888888888,
              "#fdca26"
             ],
             [
              1,
              "#f0f921"
             ]
            ],
            "type": "contour"
           }
          ],
          "contourcarpet": [
           {
            "colorbar": {
             "outlinewidth": 0,
             "ticks": ""
            },
            "type": "contourcarpet"
           }
          ],
          "heatmap": [
           {
            "colorbar": {
             "outlinewidth": 0,
             "ticks": ""
            },
            "colorscale": [
             [
              0,
              "#0d0887"
             ],
             [
              0.1111111111111111,
              "#46039f"
             ],
             [
              0.2222222222222222,
              "#7201a8"
             ],
             [
              0.3333333333333333,
              "#9c179e"
             ],
             [
              0.4444444444444444,
              "#bd3786"
             ],
             [
              0.5555555555555556,
              "#d8576b"
             ],
             [
              0.6666666666666666,
              "#ed7953"
             ],
             [
              0.7777777777777778,
              "#fb9f3a"
             ],
             [
              0.8888888888888888,
              "#fdca26"
             ],
             [
              1,
              "#f0f921"
             ]
            ],
            "type": "heatmap"
           }
          ],
          "heatmapgl": [
           {
            "colorbar": {
             "outlinewidth": 0,
             "ticks": ""
            },
            "colorscale": [
             [
              0,
              "#0d0887"
             ],
             [
              0.1111111111111111,
              "#46039f"
             ],
             [
              0.2222222222222222,
              "#7201a8"
             ],
             [
              0.3333333333333333,
              "#9c179e"
             ],
             [
              0.4444444444444444,
              "#bd3786"
             ],
             [
              0.5555555555555556,
              "#d8576b"
             ],
             [
              0.6666666666666666,
              "#ed7953"
             ],
             [
              0.7777777777777778,
              "#fb9f3a"
             ],
             [
              0.8888888888888888,
              "#fdca26"
             ],
             [
              1,
              "#f0f921"
             ]
            ],
            "type": "heatmapgl"
           }
          ],
          "histogram": [
           {
            "marker": {
             "pattern": {
              "fillmode": "overlay",
              "size": 10,
              "solidity": 0.2
             }
            },
            "type": "histogram"
           }
          ],
          "histogram2d": [
           {
            "colorbar": {
             "outlinewidth": 0,
             "ticks": ""
            },
            "colorscale": [
             [
              0,
              "#0d0887"
             ],
             [
              0.1111111111111111,
              "#46039f"
             ],
             [
              0.2222222222222222,
              "#7201a8"
             ],
             [
              0.3333333333333333,
              "#9c179e"
             ],
             [
              0.4444444444444444,
              "#bd3786"
             ],
             [
              0.5555555555555556,
              "#d8576b"
             ],
             [
              0.6666666666666666,
              "#ed7953"
             ],
             [
              0.7777777777777778,
              "#fb9f3a"
             ],
             [
              0.8888888888888888,
              "#fdca26"
             ],
             [
              1,
              "#f0f921"
             ]
            ],
            "type": "histogram2d"
           }
          ],
          "histogram2dcontour": [
           {
            "colorbar": {
             "outlinewidth": 0,
             "ticks": ""
            },
            "colorscale": [
             [
              0,
              "#0d0887"
             ],
             [
              0.1111111111111111,
              "#46039f"
             ],
             [
              0.2222222222222222,
              "#7201a8"
             ],
             [
              0.3333333333333333,
              "#9c179e"
             ],
             [
              0.4444444444444444,
              "#bd3786"
             ],
             [
              0.5555555555555556,
              "#d8576b"
             ],
             [
              0.6666666666666666,
              "#ed7953"
             ],
             [
              0.7777777777777778,
              "#fb9f3a"
             ],
             [
              0.8888888888888888,
              "#fdca26"
             ],
             [
              1,
              "#f0f921"
             ]
            ],
            "type": "histogram2dcontour"
           }
          ],
          "mesh3d": [
           {
            "colorbar": {
             "outlinewidth": 0,
             "ticks": ""
            },
            "type": "mesh3d"
           }
          ],
          "parcoords": [
           {
            "line": {
             "colorbar": {
              "outlinewidth": 0,
              "ticks": ""
             }
            },
            "type": "parcoords"
           }
          ],
          "pie": [
           {
            "automargin": true,
            "type": "pie"
           }
          ],
          "scatter": [
           {
            "fillpattern": {
             "fillmode": "overlay",
             "size": 10,
             "solidity": 0.2
            },
            "type": "scatter"
           }
          ],
          "scatter3d": [
           {
            "line": {
             "colorbar": {
              "outlinewidth": 0,
              "ticks": ""
             }
            },
            "marker": {
             "colorbar": {
              "outlinewidth": 0,
              "ticks": ""
             }
            },
            "type": "scatter3d"
           }
          ],
          "scattercarpet": [
           {
            "marker": {
             "colorbar": {
              "outlinewidth": 0,
              "ticks": ""
             }
            },
            "type": "scattercarpet"
           }
          ],
          "scattergeo": [
           {
            "marker": {
             "colorbar": {
              "outlinewidth": 0,
              "ticks": ""
             }
            },
            "type": "scattergeo"
           }
          ],
          "scattergl": [
           {
            "marker": {
             "colorbar": {
              "outlinewidth": 0,
              "ticks": ""
             }
            },
            "type": "scattergl"
           }
          ],
          "scattermapbox": [
           {
            "marker": {
             "colorbar": {
              "outlinewidth": 0,
              "ticks": ""
             }
            },
            "type": "scattermapbox"
           }
          ],
          "scatterpolar": [
           {
            "marker": {
             "colorbar": {
              "outlinewidth": 0,
              "ticks": ""
             }
            },
            "type": "scatterpolar"
           }
          ],
          "scatterpolargl": [
           {
            "marker": {
             "colorbar": {
              "outlinewidth": 0,
              "ticks": ""
             }
            },
            "type": "scatterpolargl"
           }
          ],
          "scatterternary": [
           {
            "marker": {
             "colorbar": {
              "outlinewidth": 0,
              "ticks": ""
             }
            },
            "type": "scatterternary"
           }
          ],
          "surface": [
           {
            "colorbar": {
             "outlinewidth": 0,
             "ticks": ""
            },
            "colorscale": [
             [
              0,
              "#0d0887"
             ],
             [
              0.1111111111111111,
              "#46039f"
             ],
             [
              0.2222222222222222,
              "#7201a8"
             ],
             [
              0.3333333333333333,
              "#9c179e"
             ],
             [
              0.4444444444444444,
              "#bd3786"
             ],
             [
              0.5555555555555556,
              "#d8576b"
             ],
             [
              0.6666666666666666,
              "#ed7953"
             ],
             [
              0.7777777777777778,
              "#fb9f3a"
             ],
             [
              0.8888888888888888,
              "#fdca26"
             ],
             [
              1,
              "#f0f921"
             ]
            ],
            "type": "surface"
           }
          ],
          "table": [
           {
            "cells": {
             "fill": {
              "color": "#EBF0F8"
             },
             "line": {
              "color": "white"
             }
            },
            "header": {
             "fill": {
              "color": "#C8D4E3"
             },
             "line": {
              "color": "white"
             }
            },
            "type": "table"
           }
          ]
         },
         "layout": {
          "annotationdefaults": {
           "arrowcolor": "#2a3f5f",
           "arrowhead": 0,
           "arrowwidth": 1
          },
          "autotypenumbers": "strict",
          "coloraxis": {
           "colorbar": {
            "outlinewidth": 0,
            "ticks": ""
           }
          },
          "colorscale": {
           "diverging": [
            [
             0,
             "#8e0152"
            ],
            [
             0.1,
             "#c51b7d"
            ],
            [
             0.2,
             "#de77ae"
            ],
            [
             0.3,
             "#f1b6da"
            ],
            [
             0.4,
             "#fde0ef"
            ],
            [
             0.5,
             "#f7f7f7"
            ],
            [
             0.6,
             "#e6f5d0"
            ],
            [
             0.7,
             "#b8e186"
            ],
            [
             0.8,
             "#7fbc41"
            ],
            [
             0.9,
             "#4d9221"
            ],
            [
             1,
             "#276419"
            ]
           ],
           "sequential": [
            [
             0,
             "#0d0887"
            ],
            [
             0.1111111111111111,
             "#46039f"
            ],
            [
             0.2222222222222222,
             "#7201a8"
            ],
            [
             0.3333333333333333,
             "#9c179e"
            ],
            [
             0.4444444444444444,
             "#bd3786"
            ],
            [
             0.5555555555555556,
             "#d8576b"
            ],
            [
             0.6666666666666666,
             "#ed7953"
            ],
            [
             0.7777777777777778,
             "#fb9f3a"
            ],
            [
             0.8888888888888888,
             "#fdca26"
            ],
            [
             1,
             "#f0f921"
            ]
           ],
           "sequentialminus": [
            [
             0,
             "#0d0887"
            ],
            [
             0.1111111111111111,
             "#46039f"
            ],
            [
             0.2222222222222222,
             "#7201a8"
            ],
            [
             0.3333333333333333,
             "#9c179e"
            ],
            [
             0.4444444444444444,
             "#bd3786"
            ],
            [
             0.5555555555555556,
             "#d8576b"
            ],
            [
             0.6666666666666666,
             "#ed7953"
            ],
            [
             0.7777777777777778,
             "#fb9f3a"
            ],
            [
             0.8888888888888888,
             "#fdca26"
            ],
            [
             1,
             "#f0f921"
            ]
           ]
          },
          "colorway": [
           "#636efa",
           "#EF553B",
           "#00cc96",
           "#ab63fa",
           "#FFA15A",
           "#19d3f3",
           "#FF6692",
           "#B6E880",
           "#FF97FF",
           "#FECB52"
          ],
          "font": {
           "color": "#2a3f5f"
          },
          "geo": {
           "bgcolor": "white",
           "lakecolor": "white",
           "landcolor": "#E5ECF6",
           "showlakes": true,
           "showland": true,
           "subunitcolor": "white"
          },
          "hoverlabel": {
           "align": "left"
          },
          "hovermode": "closest",
          "mapbox": {
           "style": "light"
          },
          "paper_bgcolor": "white",
          "plot_bgcolor": "#E5ECF6",
          "polar": {
           "angularaxis": {
            "gridcolor": "white",
            "linecolor": "white",
            "ticks": ""
           },
           "bgcolor": "#E5ECF6",
           "radialaxis": {
            "gridcolor": "white",
            "linecolor": "white",
            "ticks": ""
           }
          },
          "scene": {
           "xaxis": {
            "backgroundcolor": "#E5ECF6",
            "gridcolor": "white",
            "gridwidth": 2,
            "linecolor": "white",
            "showbackground": true,
            "ticks": "",
            "zerolinecolor": "white"
           },
           "yaxis": {
            "backgroundcolor": "#E5ECF6",
            "gridcolor": "white",
            "gridwidth": 2,
            "linecolor": "white",
            "showbackground": true,
            "ticks": "",
            "zerolinecolor": "white"
           },
           "zaxis": {
            "backgroundcolor": "#E5ECF6",
            "gridcolor": "white",
            "gridwidth": 2,
            "linecolor": "white",
            "showbackground": true,
            "ticks": "",
            "zerolinecolor": "white"
           }
          },
          "shapedefaults": {
           "line": {
            "color": "#2a3f5f"
           }
          },
          "ternary": {
           "aaxis": {
            "gridcolor": "white",
            "linecolor": "white",
            "ticks": ""
           },
           "baxis": {
            "gridcolor": "white",
            "linecolor": "white",
            "ticks": ""
           },
           "bgcolor": "#E5ECF6",
           "caxis": {
            "gridcolor": "white",
            "linecolor": "white",
            "ticks": ""
           }
          },
          "title": {
           "x": 0.05
          },
          "xaxis": {
           "automargin": true,
           "gridcolor": "white",
           "linecolor": "white",
           "ticks": "",
           "title": {
            "standoff": 15
           },
           "zerolinecolor": "white",
           "zerolinewidth": 2
          },
          "yaxis": {
           "automargin": true,
           "gridcolor": "white",
           "linecolor": "white",
           "ticks": "",
           "title": {
            "standoff": 15
           },
           "zerolinecolor": "white",
           "zerolinewidth": 2
          }
         }
        },
        "xaxis": {
         "anchor": "y",
         "categoryorder": "total descending",
         "domain": [
          0,
          1
         ],
         "title": {
          "text": "Cities"
         }
        },
        "yaxis": {
         "anchor": "x",
         "domain": [
          0,
          1
         ],
         "title": {
          "text": "Restaurant count"
         }
        }
       }
      }
     },
     "metadata": {},
     "output_type": "display_data"
    }
   ],
   "source": [
    "grouped = df.loc[:,['cuisines','city', 'country']].groupby(['city','country']).nunique().sort_values('cuisines', ascending=False).reset_index().head(10)\n",
    "\n",
    "fig = px.bar(grouped, x= 'city', y= 'cuisines', color= 'country', text_auto=True)\n",
    "fig.update_traces(textposition= 'outside')\n",
    "fig.update_layout(xaxis={'categoryorder':'total descending'})\n",
    "fig.update_layout(xaxis_title= 'Cities', yaxis_title= 'Restaurant count')\n"
   ]
  },
  {
   "cell_type": "markdown",
   "metadata": {},
   "source": [
    "## 12. Top 10 melhores restaurantes"
   ]
  },
  {
   "cell_type": "code",
   "execution_count": 92,
   "metadata": {},
   "outputs": [
    {
     "data": {
      "text/html": [
       "<div>\n",
       "<style scoped>\n",
       "    .dataframe tbody tr th:only-of-type {\n",
       "        vertical-align: middle;\n",
       "    }\n",
       "\n",
       "    .dataframe tbody tr th {\n",
       "        vertical-align: top;\n",
       "    }\n",
       "\n",
       "    .dataframe thead th {\n",
       "        text-align: right;\n",
       "    }\n",
       "</style>\n",
       "<table border=\"1\" class=\"dataframe\">\n",
       "  <thead>\n",
       "    <tr style=\"text-align: right;\">\n",
       "      <th></th>\n",
       "      <th>Restaurant name</th>\n",
       "      <th>Avg. rating</th>\n",
       "      <th>Avg. votes</th>\n",
       "    </tr>\n",
       "  </thead>\n",
       "  <tbody>\n",
       "    <tr>\n",
       "      <th>0</th>\n",
       "      <td>Spice Kraft</td>\n",
       "      <td>4.9</td>\n",
       "      <td>4935.0</td>\n",
       "    </tr>\n",
       "    <tr>\n",
       "      <th>1</th>\n",
       "      <td>Café Du Monde</td>\n",
       "      <td>4.9</td>\n",
       "      <td>4036.0</td>\n",
       "    </tr>\n",
       "    <tr>\n",
       "      <th>2</th>\n",
       "      <td>Coal Barbecues</td>\n",
       "      <td>4.9</td>\n",
       "      <td>3646.5</td>\n",
       "    </tr>\n",
       "    <tr>\n",
       "      <th>3</th>\n",
       "      <td>Indian Grill Room</td>\n",
       "      <td>4.9</td>\n",
       "      <td>3062.0</td>\n",
       "    </tr>\n",
       "    <tr>\n",
       "      <th>4</th>\n",
       "      <td>Tapri Central</td>\n",
       "      <td>4.9</td>\n",
       "      <td>2862.0</td>\n",
       "    </tr>\n",
       "    <tr>\n",
       "      <th>...</th>\n",
       "      <td>...</td>\n",
       "      <td>...</td>\n",
       "      <td>...</td>\n",
       "    </tr>\n",
       "    <tr>\n",
       "      <th>5908</th>\n",
       "      <td>Le Bistrot du Cuisinier</td>\n",
       "      <td>0.0</td>\n",
       "      <td>0.0</td>\n",
       "    </tr>\n",
       "    <tr>\n",
       "      <th>5909</th>\n",
       "      <td>Tempero das Gerais</td>\n",
       "      <td>0.0</td>\n",
       "      <td>0.0</td>\n",
       "    </tr>\n",
       "    <tr>\n",
       "      <th>5910</th>\n",
       "      <td>The Pasta Factory</td>\n",
       "      <td>0.0</td>\n",
       "      <td>0.0</td>\n",
       "    </tr>\n",
       "    <tr>\n",
       "      <th>5911</th>\n",
       "      <td>Veeno</td>\n",
       "      <td>0.0</td>\n",
       "      <td>0.0</td>\n",
       "    </tr>\n",
       "    <tr>\n",
       "      <th>5912</th>\n",
       "      <td>Vinheria Santa Clara</td>\n",
       "      <td>0.0</td>\n",
       "      <td>0.0</td>\n",
       "    </tr>\n",
       "  </tbody>\n",
       "</table>\n",
       "<p>5913 rows × 3 columns</p>\n",
       "</div>"
      ],
      "text/plain": [
       "              Restaurant name  Avg. rating  Avg. votes\n",
       "0                 Spice Kraft          4.9      4935.0\n",
       "1               Café Du Monde          4.9      4036.0\n",
       "2              Coal Barbecues          4.9      3646.5\n",
       "3           Indian Grill Room          4.9      3062.0\n",
       "4               Tapri Central          4.9      2862.0\n",
       "...                       ...          ...         ...\n",
       "5908  Le Bistrot du Cuisinier          0.0         0.0\n",
       "5909       Tempero das Gerais          0.0         0.0\n",
       "5910        The Pasta Factory          0.0         0.0\n",
       "5911                    Veeno          0.0         0.0\n",
       "5912     Vinheria Santa Clara          0.0         0.0\n",
       "\n",
       "[5913 rows x 3 columns]"
      ]
     },
     "execution_count": 92,
     "metadata": {},
     "output_type": "execute_result"
    }
   ],
   "source": [
    "grouped = df.loc[:,['restaurant_name', 'aggregate_rating', 'votes']].groupby(['restaurant_name']).mean().sort_values(['aggregate_rating','votes'], ascending=False).reset_index()\n",
    "grouped.columns = ['Restaurant name','Avg. rating','Avg. votes']\n",
    "grouped"
   ]
  },
  {
   "cell_type": "markdown",
   "metadata": {},
   "source": [
    "## 13. Top 10 culinárias populares"
   ]
  },
  {
   "cell_type": "code",
   "execution_count": 106,
   "metadata": {},
   "outputs": [
    {
     "data": {
      "text/html": [
       "<div>\n",
       "<style scoped>\n",
       "    .dataframe tbody tr th:only-of-type {\n",
       "        vertical-align: middle;\n",
       "    }\n",
       "\n",
       "    .dataframe tbody tr th {\n",
       "        vertical-align: top;\n",
       "    }\n",
       "\n",
       "    .dataframe thead th {\n",
       "        text-align: right;\n",
       "    }\n",
       "</style>\n",
       "<table border=\"1\" class=\"dataframe\">\n",
       "  <thead>\n",
       "    <tr style=\"text-align: right;\">\n",
       "      <th></th>\n",
       "      <th>Cuisines</th>\n",
       "      <th>Avg. rating</th>\n",
       "    </tr>\n",
       "  </thead>\n",
       "  <tbody>\n",
       "    <tr>\n",
       "      <th>792</th>\n",
       "      <td>Burger</td>\n",
       "      <td>4.9</td>\n",
       "    </tr>\n",
       "    <tr>\n",
       "      <th>4940</th>\n",
       "      <td>North Indian</td>\n",
       "      <td>4.9</td>\n",
       "    </tr>\n",
       "    <tr>\n",
       "      <th>1697</th>\n",
       "      <td>Italian</td>\n",
       "      <td>4.9</td>\n",
       "    </tr>\n",
       "    <tr>\n",
       "      <th>825</th>\n",
       "      <td>Mexican</td>\n",
       "      <td>4.9</td>\n",
       "    </tr>\n",
       "    <tr>\n",
       "      <th>822</th>\n",
       "      <td>American</td>\n",
       "      <td>4.9</td>\n",
       "    </tr>\n",
       "    <tr>\n",
       "      <th>...</th>\n",
       "      <td>...</td>\n",
       "      <td>...</td>\n",
       "    </tr>\n",
       "    <tr>\n",
       "      <th>6751</th>\n",
       "      <td>American</td>\n",
       "      <td>0.0</td>\n",
       "    </tr>\n",
       "    <tr>\n",
       "      <th>151</th>\n",
       "      <td>Brazilian</td>\n",
       "      <td>0.0</td>\n",
       "    </tr>\n",
       "    <tr>\n",
       "      <th>6749</th>\n",
       "      <td>Indian</td>\n",
       "      <td>0.0</td>\n",
       "    </tr>\n",
       "    <tr>\n",
       "      <th>6748</th>\n",
       "      <td>Italian</td>\n",
       "      <td>0.0</td>\n",
       "    </tr>\n",
       "    <tr>\n",
       "      <th>127</th>\n",
       "      <td>Sushi</td>\n",
       "      <td>0.0</td>\n",
       "    </tr>\n",
       "  </tbody>\n",
       "</table>\n",
       "<p>6941 rows × 2 columns</p>\n",
       "</div>"
      ],
      "text/plain": [
       "          Cuisines  Avg. rating\n",
       "792         Burger          4.9\n",
       "4940  North Indian          4.9\n",
       "1697       Italian          4.9\n",
       "825        Mexican          4.9\n",
       "822       American          4.9\n",
       "...            ...          ...\n",
       "6751      American          0.0\n",
       "151      Brazilian          0.0\n",
       "6749        Indian          0.0\n",
       "6748       Italian          0.0\n",
       "127          Sushi          0.0\n",
       "\n",
       "[6941 rows x 2 columns]"
      ]
     },
     "execution_count": 106,
     "metadata": {},
     "output_type": "execute_result"
    }
   ],
   "source": [
    "grouped = df.loc[:, ['cuisines', 'aggregate_rating']].sort_values('aggregate_rating', ascending=False)\n",
    "grouped.columns = ['Cuisines','Avg. rating']\n",
    "grouped\n",
    "\n"
   ]
  },
  {
   "cell_type": "markdown",
   "metadata": {},
   "source": [
    "## 14. Gráfico de pizza, porcentagem de delivery, online delivery e booking"
   ]
  },
  {
   "cell_type": "markdown",
   "metadata": {},
   "source": [
    "* booking"
   ]
  },
  {
   "cell_type": "code",
   "execution_count": 29,
   "metadata": {},
   "outputs": [
    {
     "data": {
      "application/vnd.plotly.v1+json": {
       "config": {
        "plotlyServerURL": "https://plot.ly"
       },
       "data": [
        {
         "labels": [
          "No",
          "Yes"
         ],
         "pull": [
          0,
          0.1,
          0
         ],
         "type": "pie",
         "values": [
          93.96340584930125,
          6.036594150698747
         ]
        }
       ],
       "layout": {
        "template": {
         "data": {
          "bar": [
           {
            "error_x": {
             "color": "#2a3f5f"
            },
            "error_y": {
             "color": "#2a3f5f"
            },
            "marker": {
             "line": {
              "color": "#E5ECF6",
              "width": 0.5
             },
             "pattern": {
              "fillmode": "overlay",
              "size": 10,
              "solidity": 0.2
             }
            },
            "type": "bar"
           }
          ],
          "barpolar": [
           {
            "marker": {
             "line": {
              "color": "#E5ECF6",
              "width": 0.5
             },
             "pattern": {
              "fillmode": "overlay",
              "size": 10,
              "solidity": 0.2
             }
            },
            "type": "barpolar"
           }
          ],
          "carpet": [
           {
            "aaxis": {
             "endlinecolor": "#2a3f5f",
             "gridcolor": "white",
             "linecolor": "white",
             "minorgridcolor": "white",
             "startlinecolor": "#2a3f5f"
            },
            "baxis": {
             "endlinecolor": "#2a3f5f",
             "gridcolor": "white",
             "linecolor": "white",
             "minorgridcolor": "white",
             "startlinecolor": "#2a3f5f"
            },
            "type": "carpet"
           }
          ],
          "choropleth": [
           {
            "colorbar": {
             "outlinewidth": 0,
             "ticks": ""
            },
            "type": "choropleth"
           }
          ],
          "contour": [
           {
            "colorbar": {
             "outlinewidth": 0,
             "ticks": ""
            },
            "colorscale": [
             [
              0,
              "#0d0887"
             ],
             [
              0.1111111111111111,
              "#46039f"
             ],
             [
              0.2222222222222222,
              "#7201a8"
             ],
             [
              0.3333333333333333,
              "#9c179e"
             ],
             [
              0.4444444444444444,
              "#bd3786"
             ],
             [
              0.5555555555555556,
              "#d8576b"
             ],
             [
              0.6666666666666666,
              "#ed7953"
             ],
             [
              0.7777777777777778,
              "#fb9f3a"
             ],
             [
              0.8888888888888888,
              "#fdca26"
             ],
             [
              1,
              "#f0f921"
             ]
            ],
            "type": "contour"
           }
          ],
          "contourcarpet": [
           {
            "colorbar": {
             "outlinewidth": 0,
             "ticks": ""
            },
            "type": "contourcarpet"
           }
          ],
          "heatmap": [
           {
            "colorbar": {
             "outlinewidth": 0,
             "ticks": ""
            },
            "colorscale": [
             [
              0,
              "#0d0887"
             ],
             [
              0.1111111111111111,
              "#46039f"
             ],
             [
              0.2222222222222222,
              "#7201a8"
             ],
             [
              0.3333333333333333,
              "#9c179e"
             ],
             [
              0.4444444444444444,
              "#bd3786"
             ],
             [
              0.5555555555555556,
              "#d8576b"
             ],
             [
              0.6666666666666666,
              "#ed7953"
             ],
             [
              0.7777777777777778,
              "#fb9f3a"
             ],
             [
              0.8888888888888888,
              "#fdca26"
             ],
             [
              1,
              "#f0f921"
             ]
            ],
            "type": "heatmap"
           }
          ],
          "heatmapgl": [
           {
            "colorbar": {
             "outlinewidth": 0,
             "ticks": ""
            },
            "colorscale": [
             [
              0,
              "#0d0887"
             ],
             [
              0.1111111111111111,
              "#46039f"
             ],
             [
              0.2222222222222222,
              "#7201a8"
             ],
             [
              0.3333333333333333,
              "#9c179e"
             ],
             [
              0.4444444444444444,
              "#bd3786"
             ],
             [
              0.5555555555555556,
              "#d8576b"
             ],
             [
              0.6666666666666666,
              "#ed7953"
             ],
             [
              0.7777777777777778,
              "#fb9f3a"
             ],
             [
              0.8888888888888888,
              "#fdca26"
             ],
             [
              1,
              "#f0f921"
             ]
            ],
            "type": "heatmapgl"
           }
          ],
          "histogram": [
           {
            "marker": {
             "pattern": {
              "fillmode": "overlay",
              "size": 10,
              "solidity": 0.2
             }
            },
            "type": "histogram"
           }
          ],
          "histogram2d": [
           {
            "colorbar": {
             "outlinewidth": 0,
             "ticks": ""
            },
            "colorscale": [
             [
              0,
              "#0d0887"
             ],
             [
              0.1111111111111111,
              "#46039f"
             ],
             [
              0.2222222222222222,
              "#7201a8"
             ],
             [
              0.3333333333333333,
              "#9c179e"
             ],
             [
              0.4444444444444444,
              "#bd3786"
             ],
             [
              0.5555555555555556,
              "#d8576b"
             ],
             [
              0.6666666666666666,
              "#ed7953"
             ],
             [
              0.7777777777777778,
              "#fb9f3a"
             ],
             [
              0.8888888888888888,
              "#fdca26"
             ],
             [
              1,
              "#f0f921"
             ]
            ],
            "type": "histogram2d"
           }
          ],
          "histogram2dcontour": [
           {
            "colorbar": {
             "outlinewidth": 0,
             "ticks": ""
            },
            "colorscale": [
             [
              0,
              "#0d0887"
             ],
             [
              0.1111111111111111,
              "#46039f"
             ],
             [
              0.2222222222222222,
              "#7201a8"
             ],
             [
              0.3333333333333333,
              "#9c179e"
             ],
             [
              0.4444444444444444,
              "#bd3786"
             ],
             [
              0.5555555555555556,
              "#d8576b"
             ],
             [
              0.6666666666666666,
              "#ed7953"
             ],
             [
              0.7777777777777778,
              "#fb9f3a"
             ],
             [
              0.8888888888888888,
              "#fdca26"
             ],
             [
              1,
              "#f0f921"
             ]
            ],
            "type": "histogram2dcontour"
           }
          ],
          "mesh3d": [
           {
            "colorbar": {
             "outlinewidth": 0,
             "ticks": ""
            },
            "type": "mesh3d"
           }
          ],
          "parcoords": [
           {
            "line": {
             "colorbar": {
              "outlinewidth": 0,
              "ticks": ""
             }
            },
            "type": "parcoords"
           }
          ],
          "pie": [
           {
            "automargin": true,
            "type": "pie"
           }
          ],
          "scatter": [
           {
            "fillpattern": {
             "fillmode": "overlay",
             "size": 10,
             "solidity": 0.2
            },
            "type": "scatter"
           }
          ],
          "scatter3d": [
           {
            "line": {
             "colorbar": {
              "outlinewidth": 0,
              "ticks": ""
             }
            },
            "marker": {
             "colorbar": {
              "outlinewidth": 0,
              "ticks": ""
             }
            },
            "type": "scatter3d"
           }
          ],
          "scattercarpet": [
           {
            "marker": {
             "colorbar": {
              "outlinewidth": 0,
              "ticks": ""
             }
            },
            "type": "scattercarpet"
           }
          ],
          "scattergeo": [
           {
            "marker": {
             "colorbar": {
              "outlinewidth": 0,
              "ticks": ""
             }
            },
            "type": "scattergeo"
           }
          ],
          "scattergl": [
           {
            "marker": {
             "colorbar": {
              "outlinewidth": 0,
              "ticks": ""
             }
            },
            "type": "scattergl"
           }
          ],
          "scattermapbox": [
           {
            "marker": {
             "colorbar": {
              "outlinewidth": 0,
              "ticks": ""
             }
            },
            "type": "scattermapbox"
           }
          ],
          "scatterpolar": [
           {
            "marker": {
             "colorbar": {
              "outlinewidth": 0,
              "ticks": ""
             }
            },
            "type": "scatterpolar"
           }
          ],
          "scatterpolargl": [
           {
            "marker": {
             "colorbar": {
              "outlinewidth": 0,
              "ticks": ""
             }
            },
            "type": "scatterpolargl"
           }
          ],
          "scatterternary": [
           {
            "marker": {
             "colorbar": {
              "outlinewidth": 0,
              "ticks": ""
             }
            },
            "type": "scatterternary"
           }
          ],
          "surface": [
           {
            "colorbar": {
             "outlinewidth": 0,
             "ticks": ""
            },
            "colorscale": [
             [
              0,
              "#0d0887"
             ],
             [
              0.1111111111111111,
              "#46039f"
             ],
             [
              0.2222222222222222,
              "#7201a8"
             ],
             [
              0.3333333333333333,
              "#9c179e"
             ],
             [
              0.4444444444444444,
              "#bd3786"
             ],
             [
              0.5555555555555556,
              "#d8576b"
             ],
             [
              0.6666666666666666,
              "#ed7953"
             ],
             [
              0.7777777777777778,
              "#fb9f3a"
             ],
             [
              0.8888888888888888,
              "#fdca26"
             ],
             [
              1,
              "#f0f921"
             ]
            ],
            "type": "surface"
           }
          ],
          "table": [
           {
            "cells": {
             "fill": {
              "color": "#EBF0F8"
             },
             "line": {
              "color": "white"
             }
            },
            "header": {
             "fill": {
              "color": "#C8D4E3"
             },
             "line": {
              "color": "white"
             }
            },
            "type": "table"
           }
          ]
         },
         "layout": {
          "annotationdefaults": {
           "arrowcolor": "#2a3f5f",
           "arrowhead": 0,
           "arrowwidth": 1
          },
          "autotypenumbers": "strict",
          "coloraxis": {
           "colorbar": {
            "outlinewidth": 0,
            "ticks": ""
           }
          },
          "colorscale": {
           "diverging": [
            [
             0,
             "#8e0152"
            ],
            [
             0.1,
             "#c51b7d"
            ],
            [
             0.2,
             "#de77ae"
            ],
            [
             0.3,
             "#f1b6da"
            ],
            [
             0.4,
             "#fde0ef"
            ],
            [
             0.5,
             "#f7f7f7"
            ],
            [
             0.6,
             "#e6f5d0"
            ],
            [
             0.7,
             "#b8e186"
            ],
            [
             0.8,
             "#7fbc41"
            ],
            [
             0.9,
             "#4d9221"
            ],
            [
             1,
             "#276419"
            ]
           ],
           "sequential": [
            [
             0,
             "#0d0887"
            ],
            [
             0.1111111111111111,
             "#46039f"
            ],
            [
             0.2222222222222222,
             "#7201a8"
            ],
            [
             0.3333333333333333,
             "#9c179e"
            ],
            [
             0.4444444444444444,
             "#bd3786"
            ],
            [
             0.5555555555555556,
             "#d8576b"
            ],
            [
             0.6666666666666666,
             "#ed7953"
            ],
            [
             0.7777777777777778,
             "#fb9f3a"
            ],
            [
             0.8888888888888888,
             "#fdca26"
            ],
            [
             1,
             "#f0f921"
            ]
           ],
           "sequentialminus": [
            [
             0,
             "#0d0887"
            ],
            [
             0.1111111111111111,
             "#46039f"
            ],
            [
             0.2222222222222222,
             "#7201a8"
            ],
            [
             0.3333333333333333,
             "#9c179e"
            ],
            [
             0.4444444444444444,
             "#bd3786"
            ],
            [
             0.5555555555555556,
             "#d8576b"
            ],
            [
             0.6666666666666666,
             "#ed7953"
            ],
            [
             0.7777777777777778,
             "#fb9f3a"
            ],
            [
             0.8888888888888888,
             "#fdca26"
            ],
            [
             1,
             "#f0f921"
            ]
           ]
          },
          "colorway": [
           "#636efa",
           "#EF553B",
           "#00cc96",
           "#ab63fa",
           "#FFA15A",
           "#19d3f3",
           "#FF6692",
           "#B6E880",
           "#FF97FF",
           "#FECB52"
          ],
          "font": {
           "color": "#2a3f5f"
          },
          "geo": {
           "bgcolor": "white",
           "lakecolor": "white",
           "landcolor": "#E5ECF6",
           "showlakes": true,
           "showland": true,
           "subunitcolor": "white"
          },
          "hoverlabel": {
           "align": "left"
          },
          "hovermode": "closest",
          "mapbox": {
           "style": "light"
          },
          "paper_bgcolor": "white",
          "plot_bgcolor": "#E5ECF6",
          "polar": {
           "angularaxis": {
            "gridcolor": "white",
            "linecolor": "white",
            "ticks": ""
           },
           "bgcolor": "#E5ECF6",
           "radialaxis": {
            "gridcolor": "white",
            "linecolor": "white",
            "ticks": ""
           }
          },
          "scene": {
           "xaxis": {
            "backgroundcolor": "#E5ECF6",
            "gridcolor": "white",
            "gridwidth": 2,
            "linecolor": "white",
            "showbackground": true,
            "ticks": "",
            "zerolinecolor": "white"
           },
           "yaxis": {
            "backgroundcolor": "#E5ECF6",
            "gridcolor": "white",
            "gridwidth": 2,
            "linecolor": "white",
            "showbackground": true,
            "ticks": "",
            "zerolinecolor": "white"
           },
           "zaxis": {
            "backgroundcolor": "#E5ECF6",
            "gridcolor": "white",
            "gridwidth": 2,
            "linecolor": "white",
            "showbackground": true,
            "ticks": "",
            "zerolinecolor": "white"
           }
          },
          "shapedefaults": {
           "line": {
            "color": "#2a3f5f"
           }
          },
          "ternary": {
           "aaxis": {
            "gridcolor": "white",
            "linecolor": "white",
            "ticks": ""
           },
           "baxis": {
            "gridcolor": "white",
            "linecolor": "white",
            "ticks": ""
           },
           "bgcolor": "#E5ECF6",
           "caxis": {
            "gridcolor": "white",
            "linecolor": "white",
            "ticks": ""
           }
          },
          "title": {
           "x": 0.05
          },
          "xaxis": {
           "automargin": true,
           "gridcolor": "white",
           "linecolor": "white",
           "ticks": "",
           "title": {
            "standoff": 15
           },
           "zerolinecolor": "white",
           "zerolinewidth": 2
          },
          "yaxis": {
           "automargin": true,
           "gridcolor": "white",
           "linecolor": "white",
           "ticks": "",
           "title": {
            "standoff": 15
           },
           "zerolinecolor": "white",
           "zerolinewidth": 2
          }
         }
        }
       }
      }
     },
     "metadata": {},
     "output_type": "display_data"
    }
   ],
   "source": [
    "df_aux = df.loc[:, ['has_table_booking', 'restaurant_id']].groupby('has_table_booking').count().reset_index()\n",
    "\n",
    "df_aux['booking_percent'] = (df_aux['restaurant_id'] / df_aux['restaurant_id'].sum()) * 100\n",
    "\n",
    "fig = go.Figure(data=[go.Pie(labels= df_aux['has_table_booking'], values= df_aux['booking_percent'], pull= [0, 0.1, 0])])\n",
    "fig\n",
    "\n",
    "\n"
   ]
  },
  {
   "cell_type": "markdown",
   "metadata": {},
   "source": [
    "* online delivery"
   ]
  },
  {
   "cell_type": "code",
   "execution_count": 41,
   "metadata": {},
   "outputs": [
    {
     "data": {
      "application/vnd.plotly.v1+json": {
       "config": {
        "plotlyServerURL": "https://plot.ly"
       },
       "data": [
        {
         "labels": [
          "No",
          "Yes"
         ],
         "pull": [
          0,
          0.06,
          0
         ],
         "type": "pie",
         "values": [
          65.01944964702493,
          34.98055035297508
         ]
        }
       ],
       "layout": {
        "template": {
         "data": {
          "bar": [
           {
            "error_x": {
             "color": "#2a3f5f"
            },
            "error_y": {
             "color": "#2a3f5f"
            },
            "marker": {
             "line": {
              "color": "#E5ECF6",
              "width": 0.5
             },
             "pattern": {
              "fillmode": "overlay",
              "size": 10,
              "solidity": 0.2
             }
            },
            "type": "bar"
           }
          ],
          "barpolar": [
           {
            "marker": {
             "line": {
              "color": "#E5ECF6",
              "width": 0.5
             },
             "pattern": {
              "fillmode": "overlay",
              "size": 10,
              "solidity": 0.2
             }
            },
            "type": "barpolar"
           }
          ],
          "carpet": [
           {
            "aaxis": {
             "endlinecolor": "#2a3f5f",
             "gridcolor": "white",
             "linecolor": "white",
             "minorgridcolor": "white",
             "startlinecolor": "#2a3f5f"
            },
            "baxis": {
             "endlinecolor": "#2a3f5f",
             "gridcolor": "white",
             "linecolor": "white",
             "minorgridcolor": "white",
             "startlinecolor": "#2a3f5f"
            },
            "type": "carpet"
           }
          ],
          "choropleth": [
           {
            "colorbar": {
             "outlinewidth": 0,
             "ticks": ""
            },
            "type": "choropleth"
           }
          ],
          "contour": [
           {
            "colorbar": {
             "outlinewidth": 0,
             "ticks": ""
            },
            "colorscale": [
             [
              0,
              "#0d0887"
             ],
             [
              0.1111111111111111,
              "#46039f"
             ],
             [
              0.2222222222222222,
              "#7201a8"
             ],
             [
              0.3333333333333333,
              "#9c179e"
             ],
             [
              0.4444444444444444,
              "#bd3786"
             ],
             [
              0.5555555555555556,
              "#d8576b"
             ],
             [
              0.6666666666666666,
              "#ed7953"
             ],
             [
              0.7777777777777778,
              "#fb9f3a"
             ],
             [
              0.8888888888888888,
              "#fdca26"
             ],
             [
              1,
              "#f0f921"
             ]
            ],
            "type": "contour"
           }
          ],
          "contourcarpet": [
           {
            "colorbar": {
             "outlinewidth": 0,
             "ticks": ""
            },
            "type": "contourcarpet"
           }
          ],
          "heatmap": [
           {
            "colorbar": {
             "outlinewidth": 0,
             "ticks": ""
            },
            "colorscale": [
             [
              0,
              "#0d0887"
             ],
             [
              0.1111111111111111,
              "#46039f"
             ],
             [
              0.2222222222222222,
              "#7201a8"
             ],
             [
              0.3333333333333333,
              "#9c179e"
             ],
             [
              0.4444444444444444,
              "#bd3786"
             ],
             [
              0.5555555555555556,
              "#d8576b"
             ],
             [
              0.6666666666666666,
              "#ed7953"
             ],
             [
              0.7777777777777778,
              "#fb9f3a"
             ],
             [
              0.8888888888888888,
              "#fdca26"
             ],
             [
              1,
              "#f0f921"
             ]
            ],
            "type": "heatmap"
           }
          ],
          "heatmapgl": [
           {
            "colorbar": {
             "outlinewidth": 0,
             "ticks": ""
            },
            "colorscale": [
             [
              0,
              "#0d0887"
             ],
             [
              0.1111111111111111,
              "#46039f"
             ],
             [
              0.2222222222222222,
              "#7201a8"
             ],
             [
              0.3333333333333333,
              "#9c179e"
             ],
             [
              0.4444444444444444,
              "#bd3786"
             ],
             [
              0.5555555555555556,
              "#d8576b"
             ],
             [
              0.6666666666666666,
              "#ed7953"
             ],
             [
              0.7777777777777778,
              "#fb9f3a"
             ],
             [
              0.8888888888888888,
              "#fdca26"
             ],
             [
              1,
              "#f0f921"
             ]
            ],
            "type": "heatmapgl"
           }
          ],
          "histogram": [
           {
            "marker": {
             "pattern": {
              "fillmode": "overlay",
              "size": 10,
              "solidity": 0.2
             }
            },
            "type": "histogram"
           }
          ],
          "histogram2d": [
           {
            "colorbar": {
             "outlinewidth": 0,
             "ticks": ""
            },
            "colorscale": [
             [
              0,
              "#0d0887"
             ],
             [
              0.1111111111111111,
              "#46039f"
             ],
             [
              0.2222222222222222,
              "#7201a8"
             ],
             [
              0.3333333333333333,
              "#9c179e"
             ],
             [
              0.4444444444444444,
              "#bd3786"
             ],
             [
              0.5555555555555556,
              "#d8576b"
             ],
             [
              0.6666666666666666,
              "#ed7953"
             ],
             [
              0.7777777777777778,
              "#fb9f3a"
             ],
             [
              0.8888888888888888,
              "#fdca26"
             ],
             [
              1,
              "#f0f921"
             ]
            ],
            "type": "histogram2d"
           }
          ],
          "histogram2dcontour": [
           {
            "colorbar": {
             "outlinewidth": 0,
             "ticks": ""
            },
            "colorscale": [
             [
              0,
              "#0d0887"
             ],
             [
              0.1111111111111111,
              "#46039f"
             ],
             [
              0.2222222222222222,
              "#7201a8"
             ],
             [
              0.3333333333333333,
              "#9c179e"
             ],
             [
              0.4444444444444444,
              "#bd3786"
             ],
             [
              0.5555555555555556,
              "#d8576b"
             ],
             [
              0.6666666666666666,
              "#ed7953"
             ],
             [
              0.7777777777777778,
              "#fb9f3a"
             ],
             [
              0.8888888888888888,
              "#fdca26"
             ],
             [
              1,
              "#f0f921"
             ]
            ],
            "type": "histogram2dcontour"
           }
          ],
          "mesh3d": [
           {
            "colorbar": {
             "outlinewidth": 0,
             "ticks": ""
            },
            "type": "mesh3d"
           }
          ],
          "parcoords": [
           {
            "line": {
             "colorbar": {
              "outlinewidth": 0,
              "ticks": ""
             }
            },
            "type": "parcoords"
           }
          ],
          "pie": [
           {
            "automargin": true,
            "type": "pie"
           }
          ],
          "scatter": [
           {
            "fillpattern": {
             "fillmode": "overlay",
             "size": 10,
             "solidity": 0.2
            },
            "type": "scatter"
           }
          ],
          "scatter3d": [
           {
            "line": {
             "colorbar": {
              "outlinewidth": 0,
              "ticks": ""
             }
            },
            "marker": {
             "colorbar": {
              "outlinewidth": 0,
              "ticks": ""
             }
            },
            "type": "scatter3d"
           }
          ],
          "scattercarpet": [
           {
            "marker": {
             "colorbar": {
              "outlinewidth": 0,
              "ticks": ""
             }
            },
            "type": "scattercarpet"
           }
          ],
          "scattergeo": [
           {
            "marker": {
             "colorbar": {
              "outlinewidth": 0,
              "ticks": ""
             }
            },
            "type": "scattergeo"
           }
          ],
          "scattergl": [
           {
            "marker": {
             "colorbar": {
              "outlinewidth": 0,
              "ticks": ""
             }
            },
            "type": "scattergl"
           }
          ],
          "scattermapbox": [
           {
            "marker": {
             "colorbar": {
              "outlinewidth": 0,
              "ticks": ""
             }
            },
            "type": "scattermapbox"
           }
          ],
          "scatterpolar": [
           {
            "marker": {
             "colorbar": {
              "outlinewidth": 0,
              "ticks": ""
             }
            },
            "type": "scatterpolar"
           }
          ],
          "scatterpolargl": [
           {
            "marker": {
             "colorbar": {
              "outlinewidth": 0,
              "ticks": ""
             }
            },
            "type": "scatterpolargl"
           }
          ],
          "scatterternary": [
           {
            "marker": {
             "colorbar": {
              "outlinewidth": 0,
              "ticks": ""
             }
            },
            "type": "scatterternary"
           }
          ],
          "surface": [
           {
            "colorbar": {
             "outlinewidth": 0,
             "ticks": ""
            },
            "colorscale": [
             [
              0,
              "#0d0887"
             ],
             [
              0.1111111111111111,
              "#46039f"
             ],
             [
              0.2222222222222222,
              "#7201a8"
             ],
             [
              0.3333333333333333,
              "#9c179e"
             ],
             [
              0.4444444444444444,
              "#bd3786"
             ],
             [
              0.5555555555555556,
              "#d8576b"
             ],
             [
              0.6666666666666666,
              "#ed7953"
             ],
             [
              0.7777777777777778,
              "#fb9f3a"
             ],
             [
              0.8888888888888888,
              "#fdca26"
             ],
             [
              1,
              "#f0f921"
             ]
            ],
            "type": "surface"
           }
          ],
          "table": [
           {
            "cells": {
             "fill": {
              "color": "#EBF0F8"
             },
             "line": {
              "color": "white"
             }
            },
            "header": {
             "fill": {
              "color": "#C8D4E3"
             },
             "line": {
              "color": "white"
             }
            },
            "type": "table"
           }
          ]
         },
         "layout": {
          "annotationdefaults": {
           "arrowcolor": "#2a3f5f",
           "arrowhead": 0,
           "arrowwidth": 1
          },
          "autotypenumbers": "strict",
          "coloraxis": {
           "colorbar": {
            "outlinewidth": 0,
            "ticks": ""
           }
          },
          "colorscale": {
           "diverging": [
            [
             0,
             "#8e0152"
            ],
            [
             0.1,
             "#c51b7d"
            ],
            [
             0.2,
             "#de77ae"
            ],
            [
             0.3,
             "#f1b6da"
            ],
            [
             0.4,
             "#fde0ef"
            ],
            [
             0.5,
             "#f7f7f7"
            ],
            [
             0.6,
             "#e6f5d0"
            ],
            [
             0.7,
             "#b8e186"
            ],
            [
             0.8,
             "#7fbc41"
            ],
            [
             0.9,
             "#4d9221"
            ],
            [
             1,
             "#276419"
            ]
           ],
           "sequential": [
            [
             0,
             "#0d0887"
            ],
            [
             0.1111111111111111,
             "#46039f"
            ],
            [
             0.2222222222222222,
             "#7201a8"
            ],
            [
             0.3333333333333333,
             "#9c179e"
            ],
            [
             0.4444444444444444,
             "#bd3786"
            ],
            [
             0.5555555555555556,
             "#d8576b"
            ],
            [
             0.6666666666666666,
             "#ed7953"
            ],
            [
             0.7777777777777778,
             "#fb9f3a"
            ],
            [
             0.8888888888888888,
             "#fdca26"
            ],
            [
             1,
             "#f0f921"
            ]
           ],
           "sequentialminus": [
            [
             0,
             "#0d0887"
            ],
            [
             0.1111111111111111,
             "#46039f"
            ],
            [
             0.2222222222222222,
             "#7201a8"
            ],
            [
             0.3333333333333333,
             "#9c179e"
            ],
            [
             0.4444444444444444,
             "#bd3786"
            ],
            [
             0.5555555555555556,
             "#d8576b"
            ],
            [
             0.6666666666666666,
             "#ed7953"
            ],
            [
             0.7777777777777778,
             "#fb9f3a"
            ],
            [
             0.8888888888888888,
             "#fdca26"
            ],
            [
             1,
             "#f0f921"
            ]
           ]
          },
          "colorway": [
           "#636efa",
           "#EF553B",
           "#00cc96",
           "#ab63fa",
           "#FFA15A",
           "#19d3f3",
           "#FF6692",
           "#B6E880",
           "#FF97FF",
           "#FECB52"
          ],
          "font": {
           "color": "#2a3f5f"
          },
          "geo": {
           "bgcolor": "white",
           "lakecolor": "white",
           "landcolor": "#E5ECF6",
           "showlakes": true,
           "showland": true,
           "subunitcolor": "white"
          },
          "hoverlabel": {
           "align": "left"
          },
          "hovermode": "closest",
          "mapbox": {
           "style": "light"
          },
          "paper_bgcolor": "white",
          "plot_bgcolor": "#E5ECF6",
          "polar": {
           "angularaxis": {
            "gridcolor": "white",
            "linecolor": "white",
            "ticks": ""
           },
           "bgcolor": "#E5ECF6",
           "radialaxis": {
            "gridcolor": "white",
            "linecolor": "white",
            "ticks": ""
           }
          },
          "scene": {
           "xaxis": {
            "backgroundcolor": "#E5ECF6",
            "gridcolor": "white",
            "gridwidth": 2,
            "linecolor": "white",
            "showbackground": true,
            "ticks": "",
            "zerolinecolor": "white"
           },
           "yaxis": {
            "backgroundcolor": "#E5ECF6",
            "gridcolor": "white",
            "gridwidth": 2,
            "linecolor": "white",
            "showbackground": true,
            "ticks": "",
            "zerolinecolor": "white"
           },
           "zaxis": {
            "backgroundcolor": "#E5ECF6",
            "gridcolor": "white",
            "gridwidth": 2,
            "linecolor": "white",
            "showbackground": true,
            "ticks": "",
            "zerolinecolor": "white"
           }
          },
          "shapedefaults": {
           "line": {
            "color": "#2a3f5f"
           }
          },
          "ternary": {
           "aaxis": {
            "gridcolor": "white",
            "linecolor": "white",
            "ticks": ""
           },
           "baxis": {
            "gridcolor": "white",
            "linecolor": "white",
            "ticks": ""
           },
           "bgcolor": "#E5ECF6",
           "caxis": {
            "gridcolor": "white",
            "linecolor": "white",
            "ticks": ""
           }
          },
          "title": {
           "x": 0.05
          },
          "xaxis": {
           "automargin": true,
           "gridcolor": "white",
           "linecolor": "white",
           "ticks": "",
           "title": {
            "standoff": 15
           },
           "zerolinecolor": "white",
           "zerolinewidth": 2
          },
          "yaxis": {
           "automargin": true,
           "gridcolor": "white",
           "linecolor": "white",
           "ticks": "",
           "title": {
            "standoff": 15
           },
           "zerolinecolor": "white",
           "zerolinewidth": 2
          }
         }
        }
       }
      }
     },
     "metadata": {},
     "output_type": "display_data"
    }
   ],
   "source": [
    "df_aux = df.loc[:, ['has_online_delivery', 'restaurant_id']].groupby('has_online_delivery').count().reset_index()\n",
    "\n",
    "df_aux['booking_percent'] = (df_aux['restaurant_id'] / df_aux['restaurant_id'].sum()) * 100\n",
    "\n",
    "fig = go.Figure(data=[go.Pie(labels= df_aux['has_online_delivery'], values= df_aux['booking_percent'], pull= [0, 0.06, 0])])\n",
    "fig"
   ]
  },
  {
   "cell_type": "markdown",
   "metadata": {},
   "source": [
    "* delivery"
   ]
  },
  {
   "cell_type": "code",
   "execution_count": 36,
   "metadata": {},
   "outputs": [
    {
     "data": {
      "application/vnd.plotly.v1+json": {
       "config": {
        "plotlyServerURL": "https://plot.ly"
       },
       "data": [
        {
         "labels": [
          "No",
          "Yes"
         ],
         "pull": [
          0,
          0.1,
          0
         ],
         "type": "pie",
         "values": [
          82.53853911540125,
          17.46146088459876
         ]
        }
       ],
       "layout": {
        "template": {
         "data": {
          "bar": [
           {
            "error_x": {
             "color": "#2a3f5f"
            },
            "error_y": {
             "color": "#2a3f5f"
            },
            "marker": {
             "line": {
              "color": "#E5ECF6",
              "width": 0.5
             },
             "pattern": {
              "fillmode": "overlay",
              "size": 10,
              "solidity": 0.2
             }
            },
            "type": "bar"
           }
          ],
          "barpolar": [
           {
            "marker": {
             "line": {
              "color": "#E5ECF6",
              "width": 0.5
             },
             "pattern": {
              "fillmode": "overlay",
              "size": 10,
              "solidity": 0.2
             }
            },
            "type": "barpolar"
           }
          ],
          "carpet": [
           {
            "aaxis": {
             "endlinecolor": "#2a3f5f",
             "gridcolor": "white",
             "linecolor": "white",
             "minorgridcolor": "white",
             "startlinecolor": "#2a3f5f"
            },
            "baxis": {
             "endlinecolor": "#2a3f5f",
             "gridcolor": "white",
             "linecolor": "white",
             "minorgridcolor": "white",
             "startlinecolor": "#2a3f5f"
            },
            "type": "carpet"
           }
          ],
          "choropleth": [
           {
            "colorbar": {
             "outlinewidth": 0,
             "ticks": ""
            },
            "type": "choropleth"
           }
          ],
          "contour": [
           {
            "colorbar": {
             "outlinewidth": 0,
             "ticks": ""
            },
            "colorscale": [
             [
              0,
              "#0d0887"
             ],
             [
              0.1111111111111111,
              "#46039f"
             ],
             [
              0.2222222222222222,
              "#7201a8"
             ],
             [
              0.3333333333333333,
              "#9c179e"
             ],
             [
              0.4444444444444444,
              "#bd3786"
             ],
             [
              0.5555555555555556,
              "#d8576b"
             ],
             [
              0.6666666666666666,
              "#ed7953"
             ],
             [
              0.7777777777777778,
              "#fb9f3a"
             ],
             [
              0.8888888888888888,
              "#fdca26"
             ],
             [
              1,
              "#f0f921"
             ]
            ],
            "type": "contour"
           }
          ],
          "contourcarpet": [
           {
            "colorbar": {
             "outlinewidth": 0,
             "ticks": ""
            },
            "type": "contourcarpet"
           }
          ],
          "heatmap": [
           {
            "colorbar": {
             "outlinewidth": 0,
             "ticks": ""
            },
            "colorscale": [
             [
              0,
              "#0d0887"
             ],
             [
              0.1111111111111111,
              "#46039f"
             ],
             [
              0.2222222222222222,
              "#7201a8"
             ],
             [
              0.3333333333333333,
              "#9c179e"
             ],
             [
              0.4444444444444444,
              "#bd3786"
             ],
             [
              0.5555555555555556,
              "#d8576b"
             ],
             [
              0.6666666666666666,
              "#ed7953"
             ],
             [
              0.7777777777777778,
              "#fb9f3a"
             ],
             [
              0.8888888888888888,
              "#fdca26"
             ],
             [
              1,
              "#f0f921"
             ]
            ],
            "type": "heatmap"
           }
          ],
          "heatmapgl": [
           {
            "colorbar": {
             "outlinewidth": 0,
             "ticks": ""
            },
            "colorscale": [
             [
              0,
              "#0d0887"
             ],
             [
              0.1111111111111111,
              "#46039f"
             ],
             [
              0.2222222222222222,
              "#7201a8"
             ],
             [
              0.3333333333333333,
              "#9c179e"
             ],
             [
              0.4444444444444444,
              "#bd3786"
             ],
             [
              0.5555555555555556,
              "#d8576b"
             ],
             [
              0.6666666666666666,
              "#ed7953"
             ],
             [
              0.7777777777777778,
              "#fb9f3a"
             ],
             [
              0.8888888888888888,
              "#fdca26"
             ],
             [
              1,
              "#f0f921"
             ]
            ],
            "type": "heatmapgl"
           }
          ],
          "histogram": [
           {
            "marker": {
             "pattern": {
              "fillmode": "overlay",
              "size": 10,
              "solidity": 0.2
             }
            },
            "type": "histogram"
           }
          ],
          "histogram2d": [
           {
            "colorbar": {
             "outlinewidth": 0,
             "ticks": ""
            },
            "colorscale": [
             [
              0,
              "#0d0887"
             ],
             [
              0.1111111111111111,
              "#46039f"
             ],
             [
              0.2222222222222222,
              "#7201a8"
             ],
             [
              0.3333333333333333,
              "#9c179e"
             ],
             [
              0.4444444444444444,
              "#bd3786"
             ],
             [
              0.5555555555555556,
              "#d8576b"
             ],
             [
              0.6666666666666666,
              "#ed7953"
             ],
             [
              0.7777777777777778,
              "#fb9f3a"
             ],
             [
              0.8888888888888888,
              "#fdca26"
             ],
             [
              1,
              "#f0f921"
             ]
            ],
            "type": "histogram2d"
           }
          ],
          "histogram2dcontour": [
           {
            "colorbar": {
             "outlinewidth": 0,
             "ticks": ""
            },
            "colorscale": [
             [
              0,
              "#0d0887"
             ],
             [
              0.1111111111111111,
              "#46039f"
             ],
             [
              0.2222222222222222,
              "#7201a8"
             ],
             [
              0.3333333333333333,
              "#9c179e"
             ],
             [
              0.4444444444444444,
              "#bd3786"
             ],
             [
              0.5555555555555556,
              "#d8576b"
             ],
             [
              0.6666666666666666,
              "#ed7953"
             ],
             [
              0.7777777777777778,
              "#fb9f3a"
             ],
             [
              0.8888888888888888,
              "#fdca26"
             ],
             [
              1,
              "#f0f921"
             ]
            ],
            "type": "histogram2dcontour"
           }
          ],
          "mesh3d": [
           {
            "colorbar": {
             "outlinewidth": 0,
             "ticks": ""
            },
            "type": "mesh3d"
           }
          ],
          "parcoords": [
           {
            "line": {
             "colorbar": {
              "outlinewidth": 0,
              "ticks": ""
             }
            },
            "type": "parcoords"
           }
          ],
          "pie": [
           {
            "automargin": true,
            "type": "pie"
           }
          ],
          "scatter": [
           {
            "fillpattern": {
             "fillmode": "overlay",
             "size": 10,
             "solidity": 0.2
            },
            "type": "scatter"
           }
          ],
          "scatter3d": [
           {
            "line": {
             "colorbar": {
              "outlinewidth": 0,
              "ticks": ""
             }
            },
            "marker": {
             "colorbar": {
              "outlinewidth": 0,
              "ticks": ""
             }
            },
            "type": "scatter3d"
           }
          ],
          "scattercarpet": [
           {
            "marker": {
             "colorbar": {
              "outlinewidth": 0,
              "ticks": ""
             }
            },
            "type": "scattercarpet"
           }
          ],
          "scattergeo": [
           {
            "marker": {
             "colorbar": {
              "outlinewidth": 0,
              "ticks": ""
             }
            },
            "type": "scattergeo"
           }
          ],
          "scattergl": [
           {
            "marker": {
             "colorbar": {
              "outlinewidth": 0,
              "ticks": ""
             }
            },
            "type": "scattergl"
           }
          ],
          "scattermapbox": [
           {
            "marker": {
             "colorbar": {
              "outlinewidth": 0,
              "ticks": ""
             }
            },
            "type": "scattermapbox"
           }
          ],
          "scatterpolar": [
           {
            "marker": {
             "colorbar": {
              "outlinewidth": 0,
              "ticks": ""
             }
            },
            "type": "scatterpolar"
           }
          ],
          "scatterpolargl": [
           {
            "marker": {
             "colorbar": {
              "outlinewidth": 0,
              "ticks": ""
             }
            },
            "type": "scatterpolargl"
           }
          ],
          "scatterternary": [
           {
            "marker": {
             "colorbar": {
              "outlinewidth": 0,
              "ticks": ""
             }
            },
            "type": "scatterternary"
           }
          ],
          "surface": [
           {
            "colorbar": {
             "outlinewidth": 0,
             "ticks": ""
            },
            "colorscale": [
             [
              0,
              "#0d0887"
             ],
             [
              0.1111111111111111,
              "#46039f"
             ],
             [
              0.2222222222222222,
              "#7201a8"
             ],
             [
              0.3333333333333333,
              "#9c179e"
             ],
             [
              0.4444444444444444,
              "#bd3786"
             ],
             [
              0.5555555555555556,
              "#d8576b"
             ],
             [
              0.6666666666666666,
              "#ed7953"
             ],
             [
              0.7777777777777778,
              "#fb9f3a"
             ],
             [
              0.8888888888888888,
              "#fdca26"
             ],
             [
              1,
              "#f0f921"
             ]
            ],
            "type": "surface"
           }
          ],
          "table": [
           {
            "cells": {
             "fill": {
              "color": "#EBF0F8"
             },
             "line": {
              "color": "white"
             }
            },
            "header": {
             "fill": {
              "color": "#C8D4E3"
             },
             "line": {
              "color": "white"
             }
            },
            "type": "table"
           }
          ]
         },
         "layout": {
          "annotationdefaults": {
           "arrowcolor": "#2a3f5f",
           "arrowhead": 0,
           "arrowwidth": 1
          },
          "autotypenumbers": "strict",
          "coloraxis": {
           "colorbar": {
            "outlinewidth": 0,
            "ticks": ""
           }
          },
          "colorscale": {
           "diverging": [
            [
             0,
             "#8e0152"
            ],
            [
             0.1,
             "#c51b7d"
            ],
            [
             0.2,
             "#de77ae"
            ],
            [
             0.3,
             "#f1b6da"
            ],
            [
             0.4,
             "#fde0ef"
            ],
            [
             0.5,
             "#f7f7f7"
            ],
            [
             0.6,
             "#e6f5d0"
            ],
            [
             0.7,
             "#b8e186"
            ],
            [
             0.8,
             "#7fbc41"
            ],
            [
             0.9,
             "#4d9221"
            ],
            [
             1,
             "#276419"
            ]
           ],
           "sequential": [
            [
             0,
             "#0d0887"
            ],
            [
             0.1111111111111111,
             "#46039f"
            ],
            [
             0.2222222222222222,
             "#7201a8"
            ],
            [
             0.3333333333333333,
             "#9c179e"
            ],
            [
             0.4444444444444444,
             "#bd3786"
            ],
            [
             0.5555555555555556,
             "#d8576b"
            ],
            [
             0.6666666666666666,
             "#ed7953"
            ],
            [
             0.7777777777777778,
             "#fb9f3a"
            ],
            [
             0.8888888888888888,
             "#fdca26"
            ],
            [
             1,
             "#f0f921"
            ]
           ],
           "sequentialminus": [
            [
             0,
             "#0d0887"
            ],
            [
             0.1111111111111111,
             "#46039f"
            ],
            [
             0.2222222222222222,
             "#7201a8"
            ],
            [
             0.3333333333333333,
             "#9c179e"
            ],
            [
             0.4444444444444444,
             "#bd3786"
            ],
            [
             0.5555555555555556,
             "#d8576b"
            ],
            [
             0.6666666666666666,
             "#ed7953"
            ],
            [
             0.7777777777777778,
             "#fb9f3a"
            ],
            [
             0.8888888888888888,
             "#fdca26"
            ],
            [
             1,
             "#f0f921"
            ]
           ]
          },
          "colorway": [
           "#636efa",
           "#EF553B",
           "#00cc96",
           "#ab63fa",
           "#FFA15A",
           "#19d3f3",
           "#FF6692",
           "#B6E880",
           "#FF97FF",
           "#FECB52"
          ],
          "font": {
           "color": "#2a3f5f"
          },
          "geo": {
           "bgcolor": "white",
           "lakecolor": "white",
           "landcolor": "#E5ECF6",
           "showlakes": true,
           "showland": true,
           "subunitcolor": "white"
          },
          "hoverlabel": {
           "align": "left"
          },
          "hovermode": "closest",
          "mapbox": {
           "style": "light"
          },
          "paper_bgcolor": "white",
          "plot_bgcolor": "#E5ECF6",
          "polar": {
           "angularaxis": {
            "gridcolor": "white",
            "linecolor": "white",
            "ticks": ""
           },
           "bgcolor": "#E5ECF6",
           "radialaxis": {
            "gridcolor": "white",
            "linecolor": "white",
            "ticks": ""
           }
          },
          "scene": {
           "xaxis": {
            "backgroundcolor": "#E5ECF6",
            "gridcolor": "white",
            "gridwidth": 2,
            "linecolor": "white",
            "showbackground": true,
            "ticks": "",
            "zerolinecolor": "white"
           },
           "yaxis": {
            "backgroundcolor": "#E5ECF6",
            "gridcolor": "white",
            "gridwidth": 2,
            "linecolor": "white",
            "showbackground": true,
            "ticks": "",
            "zerolinecolor": "white"
           },
           "zaxis": {
            "backgroundcolor": "#E5ECF6",
            "gridcolor": "white",
            "gridwidth": 2,
            "linecolor": "white",
            "showbackground": true,
            "ticks": "",
            "zerolinecolor": "white"
           }
          },
          "shapedefaults": {
           "line": {
            "color": "#2a3f5f"
           }
          },
          "ternary": {
           "aaxis": {
            "gridcolor": "white",
            "linecolor": "white",
            "ticks": ""
           },
           "baxis": {
            "gridcolor": "white",
            "linecolor": "white",
            "ticks": ""
           },
           "bgcolor": "#E5ECF6",
           "caxis": {
            "gridcolor": "white",
            "linecolor": "white",
            "ticks": ""
           }
          },
          "title": {
           "x": 0.05
          },
          "xaxis": {
           "automargin": true,
           "gridcolor": "white",
           "linecolor": "white",
           "ticks": "",
           "title": {
            "standoff": 15
           },
           "zerolinecolor": "white",
           "zerolinewidth": 2
          },
          "yaxis": {
           "automargin": true,
           "gridcolor": "white",
           "linecolor": "white",
           "ticks": "",
           "title": {
            "standoff": 15
           },
           "zerolinecolor": "white",
           "zerolinewidth": 2
          }
         }
        }
       }
      }
     },
     "metadata": {},
     "output_type": "display_data"
    }
   ],
   "source": [
    "df_aux = df.loc[:, ['is_delivering_now', 'restaurant_id']].groupby('is_delivering_now').count().reset_index()\n",
    "\n",
    "df_aux['booking_percent'] = (df_aux['restaurant_id'] / df_aux['restaurant_id'].sum()) * 100\n",
    "\n",
    "fig = go.Figure(data=[go.Pie(labels= df_aux['is_delivering_now'], values= df_aux['booking_percent'], pull= [0, 0.1, 0])])\n",
    "fig"
   ]
  },
  {
   "cell_type": "code",
   "execution_count": null,
   "metadata": {},
   "outputs": [],
   "source": []
  }
 ],
 "metadata": {
  "kernelspec": {
   "display_name": "env311",
   "language": "python",
   "name": "python3"
  },
  "language_info": {
   "codemirror_mode": {
    "name": "ipython",
    "version": 3
   },
   "file_extension": ".py",
   "mimetype": "text/x-python",
   "name": "python",
   "nbconvert_exporter": "python",
   "pygments_lexer": "ipython3",
   "version": "3.11.10"
  }
 },
 "nbformat": 4,
 "nbformat_minor": 2
}
